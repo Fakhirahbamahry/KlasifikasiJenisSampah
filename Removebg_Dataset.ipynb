{
 "cells": [
  {
   "cell_type": "code",
   "execution_count": 10,
   "id": "29889e2e",
   "metadata": {},
   "outputs": [],
   "source": [
    "from rembg.bg import remove\n",
    "from PIL import Image\n",
    "\n",
    "input_path = 'IMG_3688.jpg'\n",
    "output_path = '1.png'\n",
    "\n",
    "input = Image.open(input_path)\n",
    "output = remove(input)\n",
    "output.save(output_path)"
   ]
  },
  {
   "cell_type": "code",
   "execution_count": 11,
   "id": "d46700c1",
   "metadata": {},
   "outputs": [],
   "source": [
    "from rembg.bg import remove\n",
    "from PIL import Image\n",
    "\n",
    "input_path = 'IMG_3689.jpg'\n",
    "output_path = '2.png'\n",
    "\n",
    "input = Image.open(input_path)\n",
    "output = remove(input)\n",
    "output.save(output_path)"
   ]
  },
  {
   "cell_type": "code",
   "execution_count": 12,
   "id": "090c072c",
   "metadata": {},
   "outputs": [],
   "source": [
    "from rembg.bg import remove\n",
    "from PIL import Image\n",
    "\n",
    "input_path = 'IMG_3690.jpg'\n",
    "output_path = '3.png'\n",
    "\n",
    "input = Image.open(input_path)\n",
    "output = remove(input)\n",
    "output.save(output_path)"
   ]
  },
  {
   "cell_type": "code",
   "execution_count": 13,
   "id": "acffa998",
   "metadata": {},
   "outputs": [],
   "source": [
    "from rembg.bg import remove\n",
    "from PIL import Image\n",
    "\n",
    "input_path = 'IMG_3691.jpg'\n",
    "output_path = '4.png'\n",
    "\n",
    "input = Image.open(input_path)\n",
    "output = remove(input)\n",
    "output.save(output_path)"
   ]
  },
  {
   "cell_type": "code",
   "execution_count": 14,
   "id": "929dc32d",
   "metadata": {},
   "outputs": [],
   "source": [
    "from rembg.bg import remove\n",
    "from PIL import Image\n",
    "\n",
    "input_path = 'IMG_3692.jpg'\n",
    "output_path = '5.png'\n",
    "\n",
    "input = Image.open(input_path)\n",
    "output = remove(input)\n",
    "output.save(output_path)"
   ]
  },
  {
   "cell_type": "code",
   "execution_count": 15,
   "id": "894bfff8",
   "metadata": {},
   "outputs": [],
   "source": [
    "from rembg.bg import remove\n",
    "from PIL import Image\n",
    "\n",
    "input_path = 'IMG_3693.jpg'\n",
    "output_path = '6.png'\n",
    "\n",
    "input = Image.open(input_path)\n",
    "output = remove(input)\n",
    "output.save(output_path)"
   ]
  },
  {
   "cell_type": "code",
   "execution_count": 16,
   "id": "c0c831ad",
   "metadata": {},
   "outputs": [],
   "source": [
    "from rembg.bg import remove\n",
    "from PIL import Image\n",
    "\n",
    "input_path = 'IMG_3694.jpg'\n",
    "output_path = '7.png'\n",
    "\n",
    "input = Image.open(input_path)\n",
    "output = remove(input)\n",
    "output.save(output_path)"
   ]
  },
  {
   "cell_type": "code",
   "execution_count": 17,
   "id": "e166a289",
   "metadata": {},
   "outputs": [],
   "source": [
    "from rembg.bg import remove\n",
    "from PIL import Image\n",
    "\n",
    "input_path = 'IMG_3695.jpg'\n",
    "output_path = '8.png'\n",
    "\n",
    "input = Image.open(input_path)\n",
    "output = remove(input)\n",
    "output.save(output_path)"
   ]
  },
  {
   "cell_type": "code",
   "execution_count": 18,
   "id": "879b6fb4",
   "metadata": {},
   "outputs": [],
   "source": [
    "from rembg.bg import remove\n",
    "from PIL import Image\n",
    "\n",
    "input_path = 'IMG_3696.jpg'\n",
    "output_path = '9.png'\n",
    "\n",
    "input = Image.open(input_path)\n",
    "output = remove(input)\n",
    "output.save(output_path)"
   ]
  },
  {
   "cell_type": "code",
   "execution_count": 19,
   "id": "d11a1f57",
   "metadata": {},
   "outputs": [],
   "source": [
    "from rembg.bg import remove\n",
    "from PIL import Image\n",
    "\n",
    "input_path = 'IMG_3697.jpg'\n",
    "output_path = '10.png'\n",
    "\n",
    "input = Image.open(input_path)\n",
    "output = remove(input)\n",
    "output.save(output_path)"
   ]
  },
  {
   "cell_type": "code",
   "execution_count": 20,
   "id": "95dbd845",
   "metadata": {},
   "outputs": [],
   "source": [
    "from rembg.bg import remove\n",
    "from PIL import Image\n",
    "\n",
    "input_path = 'IMG_3698.jpg'\n",
    "output_path = '11.png'\n",
    "\n",
    "input = Image.open(input_path)\n",
    "output = remove(input)\n",
    "output.save(output_path)"
   ]
  },
  {
   "cell_type": "code",
   "execution_count": 21,
   "id": "b3220ec4",
   "metadata": {},
   "outputs": [],
   "source": [
    "from rembg.bg import remove\n",
    "from PIL import Image\n",
    "\n",
    "input_path = 'IMG_3699.jpg'\n",
    "output_path = '12.png'\n",
    "\n",
    "input = Image.open(input_path)\n",
    "output = remove(input)\n",
    "output.save(output_path)"
   ]
  },
  {
   "cell_type": "code",
   "execution_count": 22,
   "id": "dea2a1e9",
   "metadata": {},
   "outputs": [],
   "source": [
    "from rembg.bg import remove\n",
    "from PIL import Image\n",
    "\n",
    "input_path = 'IMG_3700.jpg'\n",
    "output_path = '13.png'\n",
    "\n",
    "input = Image.open(input_path)\n",
    "output = remove(input)\n",
    "output.save(output_path)"
   ]
  },
  {
   "cell_type": "code",
   "execution_count": 23,
   "id": "e2164080",
   "metadata": {},
   "outputs": [],
   "source": [
    "from rembg.bg import remove\n",
    "from PIL import Image\n",
    "\n",
    "input_path = 'IMG_3701.jpg'\n",
    "output_path = '14.png'\n",
    "\n",
    "input = Image.open(input_path)\n",
    "output = remove(input)\n",
    "output.save(output_path)"
   ]
  },
  {
   "cell_type": "code",
   "execution_count": 24,
   "id": "388d2385",
   "metadata": {},
   "outputs": [],
   "source": [
    "from rembg.bg import remove\n",
    "from PIL import Image\n",
    "\n",
    "input_path = 'IMG_3702.jpg'\n",
    "output_path = '15.png'\n",
    "\n",
    "input = Image.open(input_path)\n",
    "output = remove(input)\n",
    "output.save(output_path)"
   ]
  },
  {
   "cell_type": "code",
   "execution_count": 25,
   "id": "53752f82",
   "metadata": {},
   "outputs": [],
   "source": [
    "from rembg.bg import remove\n",
    "from PIL import Image\n",
    "\n",
    "input_path = 'IMG_3703.jpg'\n",
    "output_path = '16.png'\n",
    "\n",
    "input = Image.open(input_path)\n",
    "output = remove(input)\n",
    "output.save(output_path)"
   ]
  },
  {
   "cell_type": "code",
   "execution_count": 26,
   "id": "b3826db1",
   "metadata": {},
   "outputs": [],
   "source": [
    "from rembg.bg import remove\n",
    "from PIL import Image\n",
    "\n",
    "input_path = 'IMG_3704.jpg'\n",
    "output_path = '17.png'\n",
    "\n",
    "input = Image.open(input_path)\n",
    "output = remove(input)\n",
    "output.save(output_path)"
   ]
  },
  {
   "cell_type": "code",
   "execution_count": 27,
   "id": "50b621b2",
   "metadata": {},
   "outputs": [],
   "source": [
    "from rembg.bg import remove\n",
    "from PIL import Image\n",
    "\n",
    "input_path = 'IMG_3705.jpg'\n",
    "output_path = '18.png'\n",
    "\n",
    "input = Image.open(input_path)\n",
    "output = remove(input)\n",
    "output.save(output_path)"
   ]
  },
  {
   "cell_type": "code",
   "execution_count": 28,
   "id": "81123927",
   "metadata": {},
   "outputs": [],
   "source": [
    "from rembg.bg import remove\n",
    "from PIL import Image\n",
    "\n",
    "input_path = 'IMG_3706.jpg'\n",
    "output_path = '19.png'\n",
    "\n",
    "input = Image.open(input_path)\n",
    "output = remove(input)\n",
    "output.save(output_path)"
   ]
  },
  {
   "cell_type": "code",
   "execution_count": 29,
   "id": "1b8aee98",
   "metadata": {},
   "outputs": [],
   "source": [
    "from rembg.bg import remove\n",
    "from PIL import Image\n",
    "\n",
    "input_path = 'IMG_3707.jpg'\n",
    "output_path = '20.png'\n",
    "\n",
    "input = Image.open(input_path)\n",
    "output = remove(input)\n",
    "output.save(output_path)"
   ]
  },
  {
   "cell_type": "code",
   "execution_count": 30,
   "id": "8e4aab8c",
   "metadata": {},
   "outputs": [],
   "source": [
    "from rembg.bg import remove\n",
    "from PIL import Image\n",
    "\n",
    "input_path = 'IMG_3708.jpg'\n",
    "output_path = '21.png'\n",
    "\n",
    "input = Image.open(input_path)\n",
    "output = remove(input)\n",
    "output.save(output_path)"
   ]
  },
  {
   "cell_type": "code",
   "execution_count": 31,
   "id": "f491375d",
   "metadata": {},
   "outputs": [],
   "source": [
    "from rembg.bg import remove\n",
    "from PIL import Image\n",
    "\n",
    "input_path = 'IMG_3709.jpg'\n",
    "output_path = '22.png'\n",
    "\n",
    "input = Image.open(input_path)\n",
    "output = remove(input)\n",
    "output.save(output_path)"
   ]
  },
  {
   "cell_type": "code",
   "execution_count": 32,
   "id": "ec6ec6e5",
   "metadata": {},
   "outputs": [],
   "source": [
    "from rembg.bg import remove\n",
    "from PIL import Image\n",
    "\n",
    "input_path = 'IMG_3710.jpg'\n",
    "output_path = '23.png'\n",
    "\n",
    "input = Image.open(input_path)\n",
    "output = remove(input)\n",
    "output.save(output_path)"
   ]
  },
  {
   "cell_type": "code",
   "execution_count": 33,
   "id": "088bacd6",
   "metadata": {},
   "outputs": [],
   "source": [
    "from rembg.bg import remove\n",
    "from PIL import Image\n",
    "\n",
    "input_path = 'IMG_3711.jpg'\n",
    "output_path = '24.png'\n",
    "\n",
    "input = Image.open(input_path)\n",
    "output = remove(input)\n",
    "output.save(output_path)"
   ]
  },
  {
   "cell_type": "code",
   "execution_count": 34,
   "id": "4c428f50",
   "metadata": {},
   "outputs": [],
   "source": [
    "from rembg.bg import remove\n",
    "from PIL import Image\n",
    "\n",
    "input_path = 'IMG_3712.jpg'\n",
    "output_path = '25.png'\n",
    "\n",
    "input = Image.open(input_path)\n",
    "output = remove(input)\n",
    "output.save(output_path)"
   ]
  },
  {
   "cell_type": "code",
   "execution_count": 35,
   "id": "06de5594",
   "metadata": {},
   "outputs": [],
   "source": [
    "from rembg.bg import remove\n",
    "from PIL import Image\n",
    "\n",
    "input_path = 'IMG_3713.jpg'\n",
    "output_path = '26.png'\n",
    "\n",
    "input = Image.open(input_path)\n",
    "output = remove(input)\n",
    "output.save(output_path)"
   ]
  },
  {
   "cell_type": "code",
   "execution_count": 36,
   "id": "060080d5",
   "metadata": {},
   "outputs": [],
   "source": [
    "from rembg.bg import remove\n",
    "from PIL import Image\n",
    "\n",
    "input_path = 'IMG_3714.jpg'\n",
    "output_path = '27.png'\n",
    "\n",
    "input = Image.open(input_path)\n",
    "output = remove(input)\n",
    "output.save(output_path)"
   ]
  },
  {
   "cell_type": "code",
   "execution_count": 37,
   "id": "e66cebd5",
   "metadata": {},
   "outputs": [],
   "source": [
    "from rembg.bg import remove\n",
    "from PIL import Image\n",
    "\n",
    "input_path = 'IMG_3715.jpg'\n",
    "output_path = '28.png'\n",
    "\n",
    "input = Image.open(input_path)\n",
    "output = remove(input)\n",
    "output.save(output_path)"
   ]
  },
  {
   "cell_type": "code",
   "execution_count": 38,
   "id": "65c1737f",
   "metadata": {},
   "outputs": [],
   "source": [
    "from rembg.bg import remove\n",
    "from PIL import Image\n",
    "\n",
    "input_path = 'IMG_3716.jpg'\n",
    "output_path = '29.png'\n",
    "\n",
    "input = Image.open(input_path)\n",
    "output = remove(input)\n",
    "output.save(output_path)"
   ]
  },
  {
   "cell_type": "code",
   "execution_count": 39,
   "id": "68c4e7e4",
   "metadata": {},
   "outputs": [],
   "source": [
    "from rembg.bg import remove\n",
    "from PIL import Image\n",
    "\n",
    "input_path = 'IMG_3717.jpg'\n",
    "output_path = '30.png'\n",
    "\n",
    "input = Image.open(input_path)\n",
    "output = remove(input)\n",
    "output.save(output_path)"
   ]
  },
  {
   "cell_type": "code",
   "execution_count": 40,
   "id": "f7d79cea",
   "metadata": {},
   "outputs": [],
   "source": [
    "from rembg.bg import remove\n",
    "from PIL import Image\n",
    "\n",
    "input_path = 'IMG_3718.jpg'\n",
    "output_path = '31.png'\n",
    "\n",
    "input = Image.open(input_path)\n",
    "output = remove(input)\n",
    "output.save(output_path)"
   ]
  },
  {
   "cell_type": "code",
   "execution_count": 45,
   "id": "1faaa14d",
   "metadata": {},
   "outputs": [],
   "source": [
    "from rembg.bg import remove\n",
    "from PIL import Image\n",
    "\n",
    "input_path = 'IMG_3719.jpg'\n",
    "output_path = '32.png'\n",
    "\n",
    "input = Image.open(input_path)\n",
    "output = remove(input)\n",
    "output.save(output_path)"
   ]
  },
  {
   "cell_type": "code",
   "execution_count": 46,
   "id": "904cb738",
   "metadata": {},
   "outputs": [],
   "source": [
    "from rembg.bg import remove\n",
    "from PIL import Image\n",
    "\n",
    "input_path = 'IMG_3720.jpg'\n",
    "output_path = '33.png'\n",
    "\n",
    "input = Image.open(input_path)\n",
    "output = remove(input)\n",
    "output.save(output_path)"
   ]
  },
  {
   "cell_type": "code",
   "execution_count": 47,
   "id": "230de6b1",
   "metadata": {},
   "outputs": [],
   "source": [
    "from rembg.bg import remove\n",
    "from PIL import Image\n",
    "\n",
    "input_path = 'IMG_3721.jpg'\n",
    "output_path = '34.png'\n",
    "\n",
    "input = Image.open(input_path)\n",
    "output = remove(input)\n",
    "output.save(output_path)"
   ]
  },
  {
   "cell_type": "code",
   "execution_count": 48,
   "id": "a9fb6a6d",
   "metadata": {},
   "outputs": [],
   "source": [
    "from rembg.bg import remove\n",
    "from PIL import Image\n",
    "\n",
    "input_path = 'IMG_3722.jpg'\n",
    "output_path = '35.png'\n",
    "\n",
    "input = Image.open(input_path)\n",
    "output = remove(input)\n",
    "output.save(output_path)"
   ]
  },
  {
   "cell_type": "code",
   "execution_count": 49,
   "id": "e50532d5",
   "metadata": {},
   "outputs": [],
   "source": [
    "from rembg.bg import remove\n",
    "from PIL import Image\n",
    "\n",
    "input_path = 'IMG_3723.jpg'\n",
    "output_path = '36.png'\n",
    "\n",
    "input = Image.open(input_path)\n",
    "output = remove(input)\n",
    "output.save(output_path)"
   ]
  },
  {
   "cell_type": "code",
   "execution_count": 50,
   "id": "785b0175",
   "metadata": {},
   "outputs": [],
   "source": [
    "from rembg.bg import remove\n",
    "from PIL import Image\n",
    "\n",
    "input_path = 'IMG_3724.jpg'\n",
    "output_path = '37.png'\n",
    "\n",
    "input = Image.open(input_path)\n",
    "output = remove(input)\n",
    "output.save(output_path)"
   ]
  },
  {
   "cell_type": "code",
   "execution_count": 51,
   "id": "bdccf80c",
   "metadata": {},
   "outputs": [],
   "source": [
    "from rembg.bg import remove\n",
    "from PIL import Image\n",
    "\n",
    "input_path = 'IMG_3725.jpg'\n",
    "output_path = '38.png'\n",
    "\n",
    "input = Image.open(input_path)\n",
    "output = remove(input)\n",
    "output.save(output_path)"
   ]
  },
  {
   "cell_type": "code",
   "execution_count": 52,
   "id": "165c4688",
   "metadata": {},
   "outputs": [],
   "source": [
    "from rembg.bg import remove\n",
    "from PIL import Image\n",
    "\n",
    "input_path = 'IMG_3726.jpg'\n",
    "output_path = '39.png'\n",
    "\n",
    "input = Image.open(input_path)\n",
    "output = remove(input)\n",
    "output.save(output_path)"
   ]
  },
  {
   "cell_type": "code",
   "execution_count": 53,
   "id": "1a4b1078",
   "metadata": {},
   "outputs": [],
   "source": [
    "from rembg.bg import remove\n",
    "from PIL import Image\n",
    "\n",
    "input_path = 'IMG_3727.jpg'\n",
    "output_path = '40.png'\n",
    "\n",
    "input = Image.open(input_path)\n",
    "output = remove(input)\n",
    "output.save(output_path)"
   ]
  },
  {
   "cell_type": "code",
   "execution_count": 54,
   "id": "cbb3daaa",
   "metadata": {},
   "outputs": [],
   "source": [
    "from rembg.bg import remove\n",
    "from PIL import Image\n",
    "\n",
    "input_path = 'IMG_3728.jpg'\n",
    "output_path = '41.png'\n",
    "\n",
    "input = Image.open(input_path)\n",
    "output = remove(input)\n",
    "output.save(output_path)"
   ]
  },
  {
   "cell_type": "code",
   "execution_count": 55,
   "id": "6082ea34",
   "metadata": {},
   "outputs": [],
   "source": [
    "from rembg.bg import remove\n",
    "from PIL import Image\n",
    "\n",
    "input_path = 'IMG_3729.jpg'\n",
    "output_path = '42.png'\n",
    "\n",
    "input = Image.open(input_path)\n",
    "output = remove(input)\n",
    "output.save(output_path)"
   ]
  },
  {
   "cell_type": "code",
   "execution_count": 56,
   "id": "aea2e9e9",
   "metadata": {},
   "outputs": [],
   "source": [
    "from rembg.bg import remove\n",
    "from PIL import Image\n",
    "\n",
    "input_path = 'IMG_3730.jpg'\n",
    "output_path = '43.png'\n",
    "\n",
    "input = Image.open(input_path)\n",
    "output = remove(input)\n",
    "output.save(output_path)"
   ]
  },
  {
   "cell_type": "code",
   "execution_count": 57,
   "id": "416759f4",
   "metadata": {},
   "outputs": [],
   "source": [
    "from rembg.bg import remove\n",
    "from PIL import Image\n",
    "\n",
    "input_path = 'IMG_3731.jpg'\n",
    "output_path = '44.png'\n",
    "\n",
    "input = Image.open(input_path)\n",
    "output = remove(input)\n",
    "output.save(output_path)"
   ]
  },
  {
   "cell_type": "code",
   "execution_count": 58,
   "id": "e08940c0",
   "metadata": {},
   "outputs": [],
   "source": [
    "from rembg.bg import remove\n",
    "from PIL import Image\n",
    "\n",
    "input_path = 'IMG_3732.jpg'\n",
    "output_path = '45.png'\n",
    "\n",
    "input = Image.open(input_path)\n",
    "output = remove(input)\n",
    "output.save(output_path)"
   ]
  },
  {
   "cell_type": "code",
   "execution_count": 59,
   "id": "9a350cad",
   "metadata": {},
   "outputs": [],
   "source": [
    "from rembg.bg import remove\n",
    "from PIL import Image\n",
    "\n",
    "input_path = 'IMG_3733.jpg'\n",
    "output_path = '46.png'\n",
    "\n",
    "input = Image.open(input_path)\n",
    "output = remove(input)\n",
    "output.save(output_path)"
   ]
  },
  {
   "cell_type": "code",
   "execution_count": 60,
   "id": "6904cad9",
   "metadata": {},
   "outputs": [],
   "source": [
    "from rembg.bg import remove\n",
    "from PIL import Image\n",
    "\n",
    "input_path = 'IMG_3734.jpg'\n",
    "output_path = '47.png'\n",
    "\n",
    "input = Image.open(input_path)\n",
    "output = remove(input)\n",
    "output.save(output_path)"
   ]
  },
  {
   "cell_type": "code",
   "execution_count": 61,
   "id": "696849cd",
   "metadata": {},
   "outputs": [],
   "source": [
    "from rembg.bg import remove\n",
    "from PIL import Image\n",
    "\n",
    "input_path = 'IMG_3735.jpg'\n",
    "output_path = '48.png'\n",
    "\n",
    "input = Image.open(input_path)\n",
    "output = remove(input)\n",
    "output.save(output_path)"
   ]
  },
  {
   "cell_type": "code",
   "execution_count": 62,
   "id": "b0e81e48",
   "metadata": {},
   "outputs": [],
   "source": [
    "from rembg.bg import remove\n",
    "from PIL import Image\n",
    "\n",
    "input_path = 'IMG_3736.jpg'\n",
    "output_path = '49.png'\n",
    "\n",
    "input = Image.open(input_path)\n",
    "output = remove(input)\n",
    "output.save(output_path)"
   ]
  },
  {
   "cell_type": "code",
   "execution_count": 63,
   "id": "f92177e0",
   "metadata": {},
   "outputs": [],
   "source": [
    "from rembg.bg import remove\n",
    "from PIL import Image\n",
    "\n",
    "input_path = 'IMG_3737.jpg'\n",
    "output_path = '50.png'\n",
    "\n",
    "input = Image.open(input_path)\n",
    "output = remove(input)\n",
    "output.save(output_path)"
   ]
  },
  {
   "cell_type": "code",
   "execution_count": 64,
   "id": "ec911785",
   "metadata": {},
   "outputs": [],
   "source": [
    "from rembg.bg import remove\n",
    "from PIL import Image\n",
    "\n",
    "input_path = 'IMG_3738.jpg'\n",
    "output_path = '51.png'\n",
    "\n",
    "input = Image.open(input_path)\n",
    "output = remove(input)\n",
    "output.save(output_path)"
   ]
  },
  {
   "cell_type": "code",
   "execution_count": 65,
   "id": "ff886d59",
   "metadata": {},
   "outputs": [],
   "source": [
    "from rembg.bg import remove\n",
    "from PIL import Image\n",
    "\n",
    "input_path = 'IMG_3739.jpg'\n",
    "output_path = '52.png'\n",
    "\n",
    "input = Image.open(input_path)\n",
    "output = remove(input)\n",
    "output.save(output_path)"
   ]
  },
  {
   "cell_type": "code",
   "execution_count": 66,
   "id": "668f50f7",
   "metadata": {},
   "outputs": [],
   "source": [
    "from rembg.bg import remove\n",
    "from PIL import Image\n",
    "\n",
    "input_path = 'IMG_3740.jpg'\n",
    "output_path = '53.png'\n",
    "\n",
    "input = Image.open(input_path)\n",
    "output = remove(input)\n",
    "output.save(output_path)"
   ]
  },
  {
   "cell_type": "code",
   "execution_count": 72,
   "id": "3bd49b82",
   "metadata": {},
   "outputs": [],
   "source": [
    "from rembg.bg import remove\n",
    "from PIL import Image\n",
    "\n",
    "input_path = 'IMG_3741.jpg'\n",
    "output_path = '54.png'\n",
    "\n",
    "input = Image.open(input_path)\n",
    "output = remove(input)\n",
    "output.save(output_path)"
   ]
  },
  {
   "cell_type": "code",
   "execution_count": 73,
   "id": "ca6599f0",
   "metadata": {},
   "outputs": [],
   "source": [
    "from rembg.bg import remove\n",
    "from PIL import Image\n",
    "\n",
    "input_path = 'IMG_3742.jpg'\n",
    "output_path = '55.png'\n",
    "\n",
    "input = Image.open(input_path)\n",
    "output = remove(input)\n",
    "output.save(output_path)"
   ]
  },
  {
   "cell_type": "code",
   "execution_count": 74,
   "id": "b4ba282f",
   "metadata": {},
   "outputs": [],
   "source": [
    "from rembg.bg import remove\n",
    "from PIL import Image\n",
    "\n",
    "input_path = 'IMG_3743.jpg'\n",
    "output_path = '56.png'\n",
    "\n",
    "input = Image.open(input_path)\n",
    "output = remove(input)\n",
    "output.save(output_path)"
   ]
  },
  {
   "cell_type": "code",
   "execution_count": 75,
   "id": "223f374e",
   "metadata": {},
   "outputs": [],
   "source": [
    "from rembg.bg import remove\n",
    "from PIL import Image\n",
    "\n",
    "input_path = 'IMG_3744.jpg'\n",
    "output_path = '57.png'\n",
    "\n",
    "input = Image.open(input_path)\n",
    "output = remove(input)\n",
    "output.save(output_path)"
   ]
  },
  {
   "cell_type": "code",
   "execution_count": 76,
   "id": "ee445171",
   "metadata": {},
   "outputs": [],
   "source": [
    "from rembg.bg import remove\n",
    "from PIL import Image\n",
    "\n",
    "input_path = 'IMG_3745.jpg'\n",
    "output_path = '58.png'\n",
    "\n",
    "input = Image.open(input_path)\n",
    "output = remove(input)\n",
    "output.save(output_path)"
   ]
  },
  {
   "cell_type": "code",
   "execution_count": 77,
   "id": "63c5aa8b",
   "metadata": {},
   "outputs": [],
   "source": [
    "from rembg.bg import remove\n",
    "from PIL import Image\n",
    "\n",
    "input_path = 'IMG_3746.jpg'\n",
    "output_path = '59.png'\n",
    "\n",
    "input = Image.open(input_path)\n",
    "output = remove(input)\n",
    "output.save(output_path)"
   ]
  },
  {
   "cell_type": "code",
   "execution_count": 78,
   "id": "4e40c984",
   "metadata": {},
   "outputs": [],
   "source": [
    "from rembg.bg import remove\n",
    "from PIL import Image\n",
    "\n",
    "input_path = 'IMG_3747.jpg'\n",
    "output_path = '60.png'\n",
    "\n",
    "input = Image.open(input_path)\n",
    "output = remove(input)\n",
    "output.save(output_path)"
   ]
  },
  {
   "cell_type": "code",
   "execution_count": 79,
   "id": "a079adc4",
   "metadata": {},
   "outputs": [],
   "source": [
    "from rembg.bg import remove\n",
    "from PIL import Image\n",
    "\n",
    "input_path = 'IMG_3748.jpg'\n",
    "output_path = '61.png'\n",
    "\n",
    "input = Image.open(input_path)\n",
    "output = remove(input)\n",
    "output.save(output_path)"
   ]
  },
  {
   "cell_type": "code",
   "execution_count": 80,
   "id": "a9f8df02",
   "metadata": {},
   "outputs": [],
   "source": [
    "from rembg.bg import remove\n",
    "from PIL import Image\n",
    "\n",
    "input_path = 'IMG_3749.jpg'\n",
    "output_path = '62.png'\n",
    "\n",
    "input = Image.open(input_path)\n",
    "output = remove(input)\n",
    "output.save(output_path)"
   ]
  },
  {
   "cell_type": "code",
   "execution_count": 81,
   "id": "b2a8cad0",
   "metadata": {},
   "outputs": [],
   "source": [
    "from rembg.bg import remove\n",
    "from PIL import Image\n",
    "\n",
    "input_path = 'IMG_3750.jpg'\n",
    "output_path = '63.png'\n",
    "\n",
    "input = Image.open(input_path)\n",
    "output = remove(input)\n",
    "output.save(output_path)"
   ]
  },
  {
   "cell_type": "code",
   "execution_count": 84,
   "id": "aafeae4b",
   "metadata": {},
   "outputs": [],
   "source": [
    "from rembg.bg import remove\n",
    "from PIL import Image\n",
    "\n",
    "input_path = 'IMG_3751.jpg'\n",
    "output_path = '64.png'\n",
    "\n",
    "input = Image.open(input_path)\n",
    "output = remove(input)\n",
    "output.save(output_path)"
   ]
  },
  {
   "cell_type": "code",
   "execution_count": 85,
   "id": "4055c4a9",
   "metadata": {},
   "outputs": [],
   "source": [
    "from rembg.bg import remove\n",
    "from PIL import Image\n",
    "\n",
    "input_path = 'IMG_3752.jpg'\n",
    "output_path = '65.png'\n",
    "\n",
    "input = Image.open(input_path)\n",
    "output = remove(input)\n",
    "output.save(output_path)"
   ]
  },
  {
   "cell_type": "code",
   "execution_count": 86,
   "id": "c6fdee78",
   "metadata": {},
   "outputs": [],
   "source": [
    "from rembg.bg import remove\n",
    "from PIL import Image\n",
    "\n",
    "input_path = 'IMG_3753.jpg'\n",
    "output_path = '66.png'\n",
    "\n",
    "input = Image.open(input_path)\n",
    "output = remove(input)\n",
    "output.save(output_path)"
   ]
  },
  {
   "cell_type": "code",
   "execution_count": 87,
   "id": "fa1acd13",
   "metadata": {},
   "outputs": [],
   "source": [
    "from rembg.bg import remove\n",
    "from PIL import Image\n",
    "\n",
    "input_path = 'IMG_3754.jpg'\n",
    "output_path = '67.png'\n",
    "\n",
    "input = Image.open(input_path)\n",
    "output = remove(input)\n",
    "output.save(output_path)"
   ]
  },
  {
   "cell_type": "code",
   "execution_count": 88,
   "id": "47918148",
   "metadata": {},
   "outputs": [],
   "source": [
    "from rembg.bg import remove\n",
    "from PIL import Image\n",
    "\n",
    "input_path = 'IMG_3755.jpg'\n",
    "output_path = '68.png'\n",
    "\n",
    "input = Image.open(input_path)\n",
    "output = remove(input)\n",
    "output.save(output_path)"
   ]
  },
  {
   "cell_type": "code",
   "execution_count": 89,
   "id": "fde91444",
   "metadata": {},
   "outputs": [],
   "source": [
    "from rembg.bg import remove\n",
    "from PIL import Image\n",
    "\n",
    "input_path = 'IMG_3756.jpg'\n",
    "output_path = '69.png'\n",
    "\n",
    "input = Image.open(input_path)\n",
    "output = remove(input)\n",
    "output.save(output_path)"
   ]
  },
  {
   "cell_type": "code",
   "execution_count": 90,
   "id": "992802e1",
   "metadata": {},
   "outputs": [],
   "source": [
    "from rembg.bg import remove\n",
    "from PIL import Image\n",
    "\n",
    "input_path = 'IMG_3757.jpg'\n",
    "output_path = '70.png'\n",
    "\n",
    "input = Image.open(input_path)\n",
    "output = remove(input)\n",
    "output.save(output_path)"
   ]
  },
  {
   "cell_type": "code",
   "execution_count": 91,
   "id": "0e1443a7",
   "metadata": {},
   "outputs": [],
   "source": [
    "from rembg.bg import remove\n",
    "from PIL import Image\n",
    "\n",
    "input_path = 'IMG_3758.jpg'\n",
    "output_path = '71.png'\n",
    "\n",
    "input = Image.open(input_path)\n",
    "output = remove(input)\n",
    "output.save(output_path)"
   ]
  },
  {
   "cell_type": "code",
   "execution_count": 92,
   "id": "83d022eb",
   "metadata": {},
   "outputs": [],
   "source": [
    "from rembg.bg import remove\n",
    "from PIL import Image\n",
    "\n",
    "input_path = 'IMG_3759.jpg'\n",
    "output_path = '72.png'\n",
    "\n",
    "input = Image.open(input_path)\n",
    "output = remove(input)\n",
    "output.save(output_path)"
   ]
  },
  {
   "cell_type": "code",
   "execution_count": 93,
   "id": "b28615ad",
   "metadata": {},
   "outputs": [],
   "source": [
    "from rembg.bg import remove\n",
    "from PIL import Image\n",
    "\n",
    "input_path = 'IMG_3760.jpg'\n",
    "output_path = '73.png'\n",
    "\n",
    "input = Image.open(input_path)\n",
    "output = remove(input)\n",
    "output.save(output_path)"
   ]
  },
  {
   "cell_type": "code",
   "execution_count": 94,
   "id": "dbb238e0",
   "metadata": {},
   "outputs": [],
   "source": [
    "from rembg.bg import remove\n",
    "from PIL import Image\n",
    "\n",
    "input_path = 'IMG_3761.jpg'\n",
    "output_path = '74.png'\n",
    "\n",
    "input = Image.open(input_path)\n",
    "output = remove(input)\n",
    "output.save(output_path)"
   ]
  },
  {
   "cell_type": "code",
   "execution_count": 95,
   "id": "59506803",
   "metadata": {},
   "outputs": [],
   "source": [
    "from rembg.bg import remove\n",
    "from PIL import Image\n",
    "\n",
    "input_path = 'IMG_3762.jpg'\n",
    "output_path = '75.png'\n",
    "\n",
    "input = Image.open(input_path)\n",
    "output = remove(input)\n",
    "output.save(output_path)"
   ]
  },
  {
   "cell_type": "code",
   "execution_count": 96,
   "id": "a5f5c9a7",
   "metadata": {},
   "outputs": [],
   "source": [
    "from rembg.bg import remove\n",
    "from PIL import Image\n",
    "\n",
    "input_path = 'IMG_3763.jpg'\n",
    "output_path = '76.png'\n",
    "\n",
    "input = Image.open(input_path)\n",
    "output = remove(input)\n",
    "output.save(output_path)"
   ]
  },
  {
   "cell_type": "code",
   "execution_count": 97,
   "id": "fd293dd5",
   "metadata": {},
   "outputs": [],
   "source": [
    "from rembg.bg import remove\n",
    "from PIL import Image\n",
    "\n",
    "input_path = 'IMG_3764.jpg'\n",
    "output_path = '77.png'\n",
    "\n",
    "input = Image.open(input_path)\n",
    "output = remove(input)\n",
    "output.save(output_path)"
   ]
  },
  {
   "cell_type": "code",
   "execution_count": 98,
   "id": "1dc23b4a",
   "metadata": {},
   "outputs": [],
   "source": [
    "from rembg.bg import remove\n",
    "from PIL import Image\n",
    "\n",
    "input_path = 'IMG_3765.jpg'\n",
    "output_path = '78.png'\n",
    "\n",
    "input = Image.open(input_path)\n",
    "output = remove(input)\n",
    "output.save(output_path)"
   ]
  },
  {
   "cell_type": "code",
   "execution_count": 99,
   "id": "5fa865da",
   "metadata": {},
   "outputs": [],
   "source": [
    "from rembg.bg import remove\n",
    "from PIL import Image\n",
    "\n",
    "input_path = 'IMG_3766.jpg'\n",
    "output_path = '79.png'\n",
    "\n",
    "input = Image.open(input_path)\n",
    "output = remove(input)\n",
    "output.save(output_path)"
   ]
  },
  {
   "cell_type": "code",
   "execution_count": 100,
   "id": "0b66dee6",
   "metadata": {},
   "outputs": [],
   "source": [
    "from rembg.bg import remove\n",
    "from PIL import Image\n",
    "\n",
    "input_path = 'IMG_3767.jpg'\n",
    "output_path = '80.png'\n",
    "\n",
    "input = Image.open(input_path)\n",
    "output = remove(input)\n",
    "output.save(output_path)"
   ]
  },
  {
   "cell_type": "code",
   "execution_count": 101,
   "id": "0f18be0f",
   "metadata": {},
   "outputs": [],
   "source": [
    "from rembg.bg import remove\n",
    "from PIL import Image\n",
    "\n",
    "input_path = 'IMG_3768.jpg'\n",
    "output_path = '81.png'\n",
    "\n",
    "input = Image.open(input_path)\n",
    "output = remove(input)\n",
    "output.save(output_path)"
   ]
  },
  {
   "cell_type": "code",
   "execution_count": 102,
   "id": "cba747df",
   "metadata": {},
   "outputs": [],
   "source": [
    "from rembg.bg import remove\n",
    "from PIL import Image\n",
    "\n",
    "input_path = 'IMG_3769.jpg'\n",
    "output_path = '82.png'\n",
    "\n",
    "input = Image.open(input_path)\n",
    "output = remove(input)\n",
    "output.save(output_path)"
   ]
  },
  {
   "cell_type": "code",
   "execution_count": 103,
   "id": "5774e7f8",
   "metadata": {},
   "outputs": [],
   "source": [
    "from rembg.bg import remove\n",
    "from PIL import Image\n",
    "\n",
    "input_path = 'IMG_3770.jpg'\n",
    "output_path = '83.png'\n",
    "\n",
    "input = Image.open(input_path)\n",
    "output = remove(input)\n",
    "output.save(output_path)"
   ]
  },
  {
   "cell_type": "code",
   "execution_count": 106,
   "id": "79cc5083",
   "metadata": {},
   "outputs": [],
   "source": [
    "from rembg.bg import remove\n",
    "from PIL import Image\n",
    "\n",
    "input_path = 'IMG_3771.jpg'\n",
    "output_path = '84.png'\n",
    "\n",
    "input = Image.open(input_path)\n",
    "output = remove(input)\n",
    "output.save(output_path)"
   ]
  },
  {
   "cell_type": "code",
   "execution_count": 107,
   "id": "3b5d03b8",
   "metadata": {},
   "outputs": [],
   "source": [
    "from rembg.bg import remove\n",
    "from PIL import Image\n",
    "\n",
    "input_path = 'IMG_3772.jpg'\n",
    "output_path = '85.png'\n",
    "\n",
    "input = Image.open(input_path)\n",
    "output = remove(input)\n",
    "output.save(output_path)"
   ]
  },
  {
   "cell_type": "code",
   "execution_count": 108,
   "id": "828ceba1",
   "metadata": {},
   "outputs": [],
   "source": [
    "from rembg.bg import remove\n",
    "from PIL import Image\n",
    "\n",
    "input_path = 'IMG_3773.jpg'\n",
    "output_path = '86.png'\n",
    "\n",
    "input = Image.open(input_path)\n",
    "output = remove(input)\n",
    "output.save(output_path)"
   ]
  },
  {
   "cell_type": "code",
   "execution_count": 109,
   "id": "a10a279f",
   "metadata": {},
   "outputs": [],
   "source": [
    "from rembg.bg import remove\n",
    "from PIL import Image\n",
    "\n",
    "input_path = 'IMG_3774.jpg'\n",
    "output_path = '87.png'\n",
    "\n",
    "input = Image.open(input_path)\n",
    "output = remove(input)\n",
    "output.save(output_path)"
   ]
  },
  {
   "cell_type": "code",
   "execution_count": 110,
   "id": "5f4b73f3",
   "metadata": {},
   "outputs": [],
   "source": [
    "from rembg.bg import remove\n",
    "from PIL import Image\n",
    "\n",
    "input_path = 'IMG_3775.jpg'\n",
    "output_path = '88.png'\n",
    "\n",
    "input = Image.open(input_path)\n",
    "output = remove(input)\n",
    "output.save(output_path)"
   ]
  },
  {
   "cell_type": "code",
   "execution_count": 111,
   "id": "64397bb3",
   "metadata": {},
   "outputs": [],
   "source": [
    "from rembg.bg import remove\n",
    "from PIL import Image\n",
    "\n",
    "input_path = 'IMG_3776.jpg'\n",
    "output_path = '89.png'\n",
    "\n",
    "input = Image.open(input_path)\n",
    "output = remove(input)\n",
    "output.save(output_path)"
   ]
  },
  {
   "cell_type": "code",
   "execution_count": 112,
   "id": "f8f0d391",
   "metadata": {},
   "outputs": [],
   "source": [
    "from rembg.bg import remove\n",
    "from PIL import Image\n",
    "\n",
    "input_path = 'IMG_3777.jpg'\n",
    "output_path = '90.png'\n",
    "\n",
    "input = Image.open(input_path)\n",
    "output = remove(input)\n",
    "output.save(output_path)"
   ]
  },
  {
   "cell_type": "code",
   "execution_count": 113,
   "id": "f83e8179",
   "metadata": {},
   "outputs": [],
   "source": [
    "from rembg.bg import remove\n",
    "from PIL import Image\n",
    "\n",
    "input_path = 'IMG_3778.jpg'\n",
    "output_path = '91.png'\n",
    "\n",
    "input = Image.open(input_path)\n",
    "output = remove(input)\n",
    "output.save(output_path)"
   ]
  },
  {
   "cell_type": "code",
   "execution_count": 114,
   "id": "3566f989",
   "metadata": {},
   "outputs": [],
   "source": [
    "from rembg.bg import remove\n",
    "from PIL import Image\n",
    "\n",
    "input_path = 'IMG_3779.jpg'\n",
    "output_path = '92.png'\n",
    "\n",
    "input = Image.open(input_path)\n",
    "output = remove(input)\n",
    "output.save(output_path)"
   ]
  },
  {
   "cell_type": "code",
   "execution_count": 115,
   "id": "6f68c6b0",
   "metadata": {},
   "outputs": [],
   "source": [
    "from rembg.bg import remove\n",
    "from PIL import Image\n",
    "\n",
    "input_path = 'IMG_3780.jpg'\n",
    "output_path = '93.png'\n",
    "\n",
    "input = Image.open(input_path)\n",
    "output = remove(input)\n",
    "output.save(output_path)"
   ]
  },
  {
   "cell_type": "code",
   "execution_count": 116,
   "id": "e6f830ae",
   "metadata": {},
   "outputs": [],
   "source": [
    "from rembg.bg import remove\n",
    "from PIL import Image\n",
    "\n",
    "input_path = 'IMG_3781.jpg'\n",
    "output_path = '94.png'\n",
    "\n",
    "input = Image.open(input_path)\n",
    "output = remove(input)\n",
    "output.save(output_path)"
   ]
  },
  {
   "cell_type": "code",
   "execution_count": 117,
   "id": "56c6ba58",
   "metadata": {},
   "outputs": [],
   "source": [
    "from rembg.bg import remove\n",
    "from PIL import Image\n",
    "\n",
    "input_path = 'IMG_3782.jpg'\n",
    "output_path = '95.png'\n",
    "\n",
    "input = Image.open(input_path)\n",
    "output = remove(input)\n",
    "output.save(output_path)"
   ]
  },
  {
   "cell_type": "code",
   "execution_count": 118,
   "id": "956dae1c",
   "metadata": {},
   "outputs": [],
   "source": [
    "from rembg.bg import remove\n",
    "from PIL import Image\n",
    "\n",
    "input_path = 'IMG_3783.jpg'\n",
    "output_path = '96.png'\n",
    "\n",
    "input = Image.open(input_path)\n",
    "output = remove(input)\n",
    "output.save(output_path)"
   ]
  },
  {
   "cell_type": "code",
   "execution_count": 119,
   "id": "0b63687e",
   "metadata": {},
   "outputs": [],
   "source": [
    "from rembg.bg import remove\n",
    "from PIL import Image\n",
    "\n",
    "input_path = 'IMG_3784.jpg'\n",
    "output_path = '97.png'\n",
    "\n",
    "input = Image.open(input_path)\n",
    "output = remove(input)\n",
    "output.save(output_path)"
   ]
  },
  {
   "cell_type": "code",
   "execution_count": 120,
   "id": "375bbdcc",
   "metadata": {},
   "outputs": [],
   "source": [
    "from rembg.bg import remove\n",
    "from PIL import Image\n",
    "\n",
    "input_path = 'IMG_3785.jpg'\n",
    "output_path = '98.png'\n",
    "\n",
    "input = Image.open(input_path)\n",
    "output = remove(input)\n",
    "output.save(output_path)"
   ]
  },
  {
   "cell_type": "code",
   "execution_count": 121,
   "id": "63734fb0",
   "metadata": {},
   "outputs": [],
   "source": [
    "from rembg.bg import remove\n",
    "from PIL import Image\n",
    "\n",
    "input_path = 'IMG_3786.jpg'\n",
    "output_path = '99.png'\n",
    "\n",
    "input = Image.open(input_path)\n",
    "output = remove(input)\n",
    "output.save(output_path)"
   ]
  },
  {
   "cell_type": "code",
   "execution_count": 122,
   "id": "05e830cb",
   "metadata": {},
   "outputs": [],
   "source": [
    "from rembg.bg import remove\n",
    "from PIL import Image\n",
    "\n",
    "input_path = 'IMG_3787.jpg'\n",
    "output_path = '100.png'\n",
    "\n",
    "input = Image.open(input_path)\n",
    "output = remove(input)\n",
    "output.save(output_path)"
   ]
  },
  {
   "cell_type": "code",
   "execution_count": 123,
   "id": "56332b6c",
   "metadata": {},
   "outputs": [],
   "source": [
    "from rembg.bg import remove\n",
    "from PIL import Image\n",
    "\n",
    "input_path = 'IMG_3788.jpg'\n",
    "output_path = '101.png'\n",
    "\n",
    "input = Image.open(input_path)\n",
    "output = remove(input)\n",
    "output.save(output_path)"
   ]
  },
  {
   "cell_type": "code",
   "execution_count": 124,
   "id": "0d6fd9b0",
   "metadata": {},
   "outputs": [],
   "source": [
    "from rembg.bg import remove\n",
    "from PIL import Image\n",
    "\n",
    "input_path = 'IMG_3789.jpg'\n",
    "output_path = '102.png'\n",
    "\n",
    "input = Image.open(input_path)\n",
    "output = remove(input)\n",
    "output.save(output_path)"
   ]
  },
  {
   "cell_type": "code",
   "execution_count": 125,
   "id": "fcdc8de4",
   "metadata": {},
   "outputs": [],
   "source": [
    "from rembg.bg import remove\n",
    "from PIL import Image\n",
    "\n",
    "input_path = 'IMG_3790.jpg'\n",
    "output_path = '103.png'\n",
    "\n",
    "input = Image.open(input_path)\n",
    "output = remove(input)\n",
    "output.save(output_path)"
   ]
  },
  {
   "cell_type": "code",
   "execution_count": 126,
   "id": "fc5b7fb6",
   "metadata": {},
   "outputs": [],
   "source": [
    "from rembg.bg import remove\n",
    "from PIL import Image\n",
    "\n",
    "input_path = 'IMG_3791.jpg'\n",
    "output_path = '104.png'\n",
    "\n",
    "input = Image.open(input_path)\n",
    "output = remove(input)\n",
    "output.save(output_path)"
   ]
  },
  {
   "cell_type": "code",
   "execution_count": 129,
   "id": "ed3b5c6f",
   "metadata": {},
   "outputs": [],
   "source": [
    "from rembg.bg import remove\n",
    "from PIL import Image\n",
    "\n",
    "input_path = 'IMG_3793.jpg'\n",
    "output_path = '106.png'\n",
    "\n",
    "input = Image.open(input_path)\n",
    "output = remove(input)\n",
    "output.save(output_path)"
   ]
  },
  {
   "cell_type": "code",
   "execution_count": 130,
   "id": "29ad84a1",
   "metadata": {},
   "outputs": [],
   "source": [
    "from rembg.bg import remove\n",
    "from PIL import Image\n",
    "\n",
    "input_path = 'IMG_3794.jpg'\n",
    "output_path = '107.png'\n",
    "\n",
    "input = Image.open(input_path)\n",
    "output = remove(input)\n",
    "output.save(output_path)"
   ]
  },
  {
   "cell_type": "code",
   "execution_count": 131,
   "id": "004175a8",
   "metadata": {},
   "outputs": [],
   "source": [
    "from rembg.bg import remove\n",
    "from PIL import Image\n",
    "\n",
    "input_path = 'IMG_3795.jpg'\n",
    "output_path = '108.png'\n",
    "\n",
    "input = Image.open(input_path)\n",
    "output = remove(input)\n",
    "output.save(output_path)"
   ]
  },
  {
   "cell_type": "code",
   "execution_count": 132,
   "id": "b6f7d20d",
   "metadata": {},
   "outputs": [],
   "source": [
    "from rembg.bg import remove\n",
    "from PIL import Image\n",
    "\n",
    "input_path = 'IMG_3796.jpg'\n",
    "output_path = '109.png'\n",
    "\n",
    "input = Image.open(input_path)\n",
    "output = remove(input)\n",
    "output.save(output_path)"
   ]
  },
  {
   "cell_type": "code",
   "execution_count": 133,
   "id": "fa173f6e",
   "metadata": {},
   "outputs": [],
   "source": [
    "from rembg.bg import remove\n",
    "from PIL import Image\n",
    "\n",
    "input_path = 'IMG_3797.jpg'\n",
    "output_path = '110.png'\n",
    "\n",
    "input = Image.open(input_path)\n",
    "output = remove(input)\n",
    "output.save(output_path)"
   ]
  },
  {
   "cell_type": "code",
   "execution_count": 134,
   "id": "6c4747e5",
   "metadata": {},
   "outputs": [],
   "source": [
    "from rembg.bg import remove\n",
    "from PIL import Image\n",
    "\n",
    "input_path = 'IMG_3798.jpg'\n",
    "output_path = '111.png'\n",
    "\n",
    "input = Image.open(input_path)\n",
    "output = remove(input)\n",
    "output.save(output_path)"
   ]
  },
  {
   "cell_type": "code",
   "execution_count": 135,
   "id": "73d83d33",
   "metadata": {},
   "outputs": [],
   "source": [
    "from rembg.bg import remove\n",
    "from PIL import Image\n",
    "\n",
    "input_path = 'IMG_3799.jpg'\n",
    "output_path = '112.png'\n",
    "\n",
    "input = Image.open(input_path)\n",
    "output = remove(input)\n",
    "output.save(output_path)"
   ]
  },
  {
   "cell_type": "code",
   "execution_count": 137,
   "id": "ee004ad6",
   "metadata": {},
   "outputs": [],
   "source": [
    "from rembg.bg import remove\n",
    "from PIL import Image\n",
    "\n",
    "input_path = 'IMG_3800.jpg'\n",
    "output_path = '113.png'\n",
    "\n",
    "input = Image.open(input_path)\n",
    "output = remove(input)\n",
    "output.save(output_path)"
   ]
  },
  {
   "cell_type": "code",
   "execution_count": 136,
   "id": "f438adfa",
   "metadata": {},
   "outputs": [],
   "source": [
    "from rembg.bg import remove\n",
    "from PIL import Image\n",
    "\n",
    "input_path = 'IMG_3801.jpg'\n",
    "output_path = '114.png'\n",
    "\n",
    "input = Image.open(input_path)\n",
    "output = remove(input)\n",
    "output.save(output_path)"
   ]
  },
  {
   "cell_type": "code",
   "execution_count": 128,
   "id": "9965ba81",
   "metadata": {},
   "outputs": [],
   "source": [
    "from rembg.bg import remove\n",
    "from PIL import Image\n",
    "\n",
    "input_path = 'IMG_3802.jpg'\n",
    "output_path = '115.png'\n",
    "\n",
    "input = Image.open(input_path)\n",
    "output = remove(input)\n",
    "output.save(output_path)"
   ]
  },
  {
   "cell_type": "code",
   "execution_count": 138,
   "id": "da57d645",
   "metadata": {},
   "outputs": [],
   "source": [
    "from rembg.bg import remove\n",
    "from PIL import Image\n",
    "\n",
    "input_path = 'IMG_3803.jpg'\n",
    "output_path = '116.png'\n",
    "\n",
    "input = Image.open(input_path)\n",
    "output = remove(input)\n",
    "output.save(output_path)"
   ]
  },
  {
   "cell_type": "code",
   "execution_count": 139,
   "id": "8fea05b4",
   "metadata": {},
   "outputs": [],
   "source": [
    "from rembg.bg import remove\n",
    "from PIL import Image\n",
    "\n",
    "input_path = 'IMG_3804.jpg'\n",
    "output_path = '117.png'\n",
    "\n",
    "input = Image.open(input_path)\n",
    "output = remove(input)\n",
    "output.save(output_path)"
   ]
  },
  {
   "cell_type": "code",
   "execution_count": 140,
   "id": "34bffcc5",
   "metadata": {},
   "outputs": [],
   "source": [
    "from rembg.bg import remove\n",
    "from PIL import Image\n",
    "\n",
    "input_path = 'IMG_3805.jpg'\n",
    "output_path = '118.png'\n",
    "\n",
    "input = Image.open(input_path)\n",
    "output = remove(input)\n",
    "output.save(output_path)"
   ]
  },
  {
   "cell_type": "code",
   "execution_count": 141,
   "id": "14e46be9",
   "metadata": {},
   "outputs": [],
   "source": [
    "from rembg.bg import remove\n",
    "from PIL import Image\n",
    "\n",
    "input_path = 'IMG_3806.jpg'\n",
    "output_path = '119.png'\n",
    "\n",
    "input = Image.open(input_path)\n",
    "output = remove(input)\n",
    "output.save(output_path)"
   ]
  },
  {
   "cell_type": "code",
   "execution_count": 142,
   "id": "9973ee59",
   "metadata": {},
   "outputs": [],
   "source": [
    "from rembg.bg import remove\n",
    "from PIL import Image\n",
    "\n",
    "input_path = 'IMG_3807.jpg'\n",
    "output_path = '120.png'\n",
    "\n",
    "input = Image.open(input_path)\n",
    "output = remove(input)\n",
    "output.save(output_path)"
   ]
  },
  {
   "cell_type": "code",
   "execution_count": 143,
   "id": "68359c4b",
   "metadata": {},
   "outputs": [],
   "source": [
    "from rembg.bg import remove\n",
    "from PIL import Image\n",
    "\n",
    "input_path = 'IMG_3808.jpg'\n",
    "output_path = '121.png'\n",
    "\n",
    "input = Image.open(input_path)\n",
    "output = remove(input)\n",
    "output.save(output_path)"
   ]
  },
  {
   "cell_type": "code",
   "execution_count": 144,
   "id": "213467cb",
   "metadata": {},
   "outputs": [],
   "source": [
    "from rembg.bg import remove\n",
    "from PIL import Image\n",
    "\n",
    "input_path = 'IMG_3809.jpg'\n",
    "output_path = '122.png'\n",
    "\n",
    "input = Image.open(input_path)\n",
    "output = remove(input)\n",
    "output.save(output_path)"
   ]
  },
  {
   "cell_type": "code",
   "execution_count": 145,
   "id": "2fa983f5",
   "metadata": {},
   "outputs": [],
   "source": [
    "from rembg.bg import remove\n",
    "from PIL import Image\n",
    "\n",
    "input_path = 'IMG_3810.jpg'\n",
    "output_path = '123.png'\n",
    "\n",
    "input = Image.open(input_path)\n",
    "output = remove(input)\n",
    "output.save(output_path)"
   ]
  },
  {
   "cell_type": "code",
   "execution_count": 146,
   "id": "9fda1648",
   "metadata": {},
   "outputs": [],
   "source": [
    "from rembg.bg import remove\n",
    "from PIL import Image\n",
    "\n",
    "input_path = 'IMG_3811.jpg'\n",
    "output_path = '124.png'\n",
    "\n",
    "input = Image.open(input_path)\n",
    "output = remove(input)\n",
    "output.save(output_path)"
   ]
  },
  {
   "cell_type": "code",
   "execution_count": 428,
   "id": "bf5d35f1",
   "metadata": {},
   "outputs": [],
   "source": [
    "from rembg.bg import remove\n",
    "from PIL import Image\n",
    "\n",
    "input_path = 'IMG_3817.jpg'\n",
    "output_path = '130.png'\n",
    "\n",
    "input = Image.open(input_path)\n",
    "output = remove(input)\n",
    "output.save(output_path)"
   ]
  },
  {
   "cell_type": "code",
   "execution_count": 429,
   "id": "755ca439",
   "metadata": {},
   "outputs": [],
   "source": [
    "from rembg.bg import remove\n",
    "from PIL import Image\n",
    "\n",
    "input_path = 'IMG_3818.jpg'\n",
    "output_path = '131.png'\n",
    "\n",
    "input = Image.open(input_path)\n",
    "output = remove(input)\n",
    "output.save(output_path)"
   ]
  },
  {
   "cell_type": "code",
   "execution_count": 148,
   "id": "42921aca",
   "metadata": {},
   "outputs": [],
   "source": [
    "from rembg.bg import remove\n",
    "from PIL import Image\n",
    "\n",
    "input_path = 'IMG_3819.jpg'\n",
    "output_path = '132.png'\n",
    "\n",
    "input = Image.open(input_path)\n",
    "output = remove(input)\n",
    "output.save(output_path)"
   ]
  },
  {
   "cell_type": "code",
   "execution_count": 149,
   "id": "e7beb8cd",
   "metadata": {},
   "outputs": [],
   "source": [
    "from rembg.bg import remove\n",
    "from PIL import Image\n",
    "\n",
    "input_path = 'IMG_3820.jpg'\n",
    "output_path = '133.png'\n",
    "\n",
    "input = Image.open(input_path)\n",
    "output = remove(input)\n",
    "output.save(output_path)"
   ]
  },
  {
   "cell_type": "code",
   "execution_count": 150,
   "id": "7045de83",
   "metadata": {},
   "outputs": [],
   "source": [
    "from rembg.bg import remove\n",
    "from PIL import Image\n",
    "\n",
    "input_path = 'IMG_3821.jpg'\n",
    "output_path = '134.png'\n",
    "\n",
    "input = Image.open(input_path)\n",
    "output = remove(input)\n",
    "output.save(output_path)"
   ]
  },
  {
   "cell_type": "code",
   "execution_count": 151,
   "id": "206c8932",
   "metadata": {},
   "outputs": [],
   "source": [
    "from rembg.bg import remove\n",
    "from PIL import Image\n",
    "\n",
    "input_path = 'IMG_3822.jpg'\n",
    "output_path = '135.png'\n",
    "\n",
    "input = Image.open(input_path)\n",
    "output = remove(input)\n",
    "output.save(output_path)"
   ]
  },
  {
   "cell_type": "code",
   "execution_count": 152,
   "id": "9bba81ee",
   "metadata": {},
   "outputs": [],
   "source": [
    "from rembg.bg import remove\n",
    "from PIL import Image\n",
    "\n",
    "input_path = 'IMG_3823.jpg'\n",
    "output_path = '136.png'\n",
    "\n",
    "input = Image.open(input_path)\n",
    "output = remove(input)\n",
    "output.save(output_path)"
   ]
  },
  {
   "cell_type": "code",
   "execution_count": 153,
   "id": "5171b1f4",
   "metadata": {},
   "outputs": [],
   "source": [
    "from rembg.bg import remove\n",
    "from PIL import Image\n",
    "\n",
    "input_path = 'IMG_3824.jpg'\n",
    "output_path = '137.png'\n",
    "\n",
    "input = Image.open(input_path)\n",
    "output = remove(input)\n",
    "output.save(output_path)"
   ]
  },
  {
   "cell_type": "code",
   "execution_count": 154,
   "id": "e20e4e95",
   "metadata": {},
   "outputs": [],
   "source": [
    "from rembg.bg import remove\n",
    "from PIL import Image\n",
    "\n",
    "input_path = 'IMG_3825.jpg'\n",
    "output_path = '138.png'\n",
    "\n",
    "input = Image.open(input_path)\n",
    "output = remove(input)\n",
    "output.save(output_path)"
   ]
  },
  {
   "cell_type": "code",
   "execution_count": 155,
   "id": "821f9aa1",
   "metadata": {},
   "outputs": [],
   "source": [
    "from rembg.bg import remove\n",
    "from PIL import Image\n",
    "\n",
    "input_path = 'IMG_3826.jpg'\n",
    "output_path = '139.png'\n",
    "\n",
    "input = Image.open(input_path)\n",
    "output = remove(input)\n",
    "output.save(output_path)"
   ]
  },
  {
   "cell_type": "code",
   "execution_count": 156,
   "id": "0a2d085d",
   "metadata": {},
   "outputs": [],
   "source": [
    "from rembg.bg import remove\n",
    "from PIL import Image\n",
    "\n",
    "input_path = 'IMG_3827.jpg'\n",
    "output_path = '140.png'\n",
    "\n",
    "input = Image.open(input_path)\n",
    "output = remove(input)\n",
    "output.save(output_path)"
   ]
  },
  {
   "cell_type": "code",
   "execution_count": 157,
   "id": "89b5814c",
   "metadata": {},
   "outputs": [],
   "source": [
    "from rembg.bg import remove\n",
    "from PIL import Image\n",
    "\n",
    "input_path = 'IMG_3828.jpg'\n",
    "output_path = '141.png'\n",
    "\n",
    "input = Image.open(input_path)\n",
    "output = remove(input)\n",
    "output.save(output_path)"
   ]
  },
  {
   "cell_type": "code",
   "execution_count": 158,
   "id": "592886eb",
   "metadata": {},
   "outputs": [],
   "source": [
    "from rembg.bg import remove\n",
    "from PIL import Image\n",
    "\n",
    "input_path = 'IMG_3829.jpg'\n",
    "output_path = '142.png'\n",
    "\n",
    "input = Image.open(input_path)\n",
    "output = remove(input)\n",
    "output.save(output_path)"
   ]
  },
  {
   "cell_type": "code",
   "execution_count": 159,
   "id": "11d5cdcd",
   "metadata": {},
   "outputs": [],
   "source": [
    "from rembg.bg import remove\n",
    "from PIL import Image\n",
    "\n",
    "input_path = 'IMG_3830.jpg'\n",
    "output_path = '143.png'\n",
    "\n",
    "input = Image.open(input_path)\n",
    "output = remove(input)\n",
    "output.save(output_path)"
   ]
  },
  {
   "cell_type": "code",
   "execution_count": 160,
   "id": "a96cf5dc",
   "metadata": {},
   "outputs": [],
   "source": [
    "from rembg.bg import remove\n",
    "from PIL import Image\n",
    "\n",
    "input_path = 'IMG_3831.jpg'\n",
    "output_path = '144.png'\n",
    "\n",
    "input = Image.open(input_path)\n",
    "output = remove(input)\n",
    "output.save(output_path)"
   ]
  },
  {
   "cell_type": "code",
   "execution_count": 161,
   "id": "415a344c",
   "metadata": {},
   "outputs": [],
   "source": [
    "from rembg.bg import remove\n",
    "from PIL import Image\n",
    "\n",
    "input_path = 'IMG_3832.jpg'\n",
    "output_path = '145.png'\n",
    "\n",
    "input = Image.open(input_path)\n",
    "output = remove(input)\n",
    "output.save(output_path)"
   ]
  },
  {
   "cell_type": "code",
   "execution_count": 162,
   "id": "cef2f4aa",
   "metadata": {},
   "outputs": [],
   "source": [
    "from rembg.bg import remove\n",
    "from PIL import Image\n",
    "\n",
    "input_path = 'IMG_3833.jpg'\n",
    "output_path = '146.png'\n",
    "\n",
    "input = Image.open(input_path)\n",
    "output = remove(input)\n",
    "output.save(output_path)"
   ]
  },
  {
   "cell_type": "code",
   "execution_count": 163,
   "id": "01b142f5",
   "metadata": {},
   "outputs": [],
   "source": [
    "from rembg.bg import remove\n",
    "from PIL import Image\n",
    "\n",
    "input_path = 'IMG_3834.jpg'\n",
    "output_path = '147.png'\n",
    "\n",
    "input = Image.open(input_path)\n",
    "output = remove(input)\n",
    "output.save(output_path)"
   ]
  },
  {
   "cell_type": "code",
   "execution_count": 164,
   "id": "74477000",
   "metadata": {},
   "outputs": [],
   "source": [
    "from rembg.bg import remove\n",
    "from PIL import Image\n",
    "\n",
    "input_path = 'IMG_3835.jpg'\n",
    "output_path = '148.png'\n",
    "\n",
    "input = Image.open(input_path)\n",
    "output = remove(input)\n",
    "output.save(output_path)"
   ]
  },
  {
   "cell_type": "code",
   "execution_count": 165,
   "id": "bf7c331d",
   "metadata": {},
   "outputs": [],
   "source": [
    "from rembg.bg import remove\n",
    "from PIL import Image\n",
    "\n",
    "input_path = 'IMG_3836.jpg'\n",
    "output_path = '149.png'\n",
    "\n",
    "input = Image.open(input_path)\n",
    "output = remove(input)\n",
    "output.save(output_path)"
   ]
  },
  {
   "cell_type": "code",
   "execution_count": 166,
   "id": "26ddbfaa",
   "metadata": {},
   "outputs": [],
   "source": [
    "from rembg.bg import remove\n",
    "from PIL import Image\n",
    "\n",
    "input_path = 'IMG_3837.jpg'\n",
    "output_path = '150.png'\n",
    "\n",
    "input = Image.open(input_path)\n",
    "output = remove(input)\n",
    "output.save(output_path)"
   ]
  },
  {
   "cell_type": "code",
   "execution_count": 167,
   "id": "fa45ac97",
   "metadata": {},
   "outputs": [],
   "source": [
    "from rembg.bg import remove\n",
    "from PIL import Image\n",
    "\n",
    "input_path = 'IMG_3838.jpg'\n",
    "output_path = '151.png'\n",
    "\n",
    "input = Image.open(input_path)\n",
    "output = remove(input)\n",
    "output.save(output_path)"
   ]
  },
  {
   "cell_type": "code",
   "execution_count": 168,
   "id": "f62858ab",
   "metadata": {},
   "outputs": [],
   "source": [
    "from rembg.bg import remove\n",
    "from PIL import Image\n",
    "\n",
    "input_path = 'IMG_3839.jpg'\n",
    "output_path = '152.png'\n",
    "\n",
    "input = Image.open(input_path)\n",
    "output = remove(input)\n",
    "output.save(output_path)"
   ]
  },
  {
   "cell_type": "code",
   "execution_count": 169,
   "id": "9ba2f5c6",
   "metadata": {},
   "outputs": [],
   "source": [
    "from rembg.bg import remove\n",
    "from PIL import Image\n",
    "\n",
    "input_path = 'IMG_3840.jpg'\n",
    "output_path = '153.png'\n",
    "\n",
    "input = Image.open(input_path)\n",
    "output = remove(input)\n",
    "output.save(output_path)"
   ]
  },
  {
   "cell_type": "code",
   "execution_count": 170,
   "id": "9e61cc32",
   "metadata": {},
   "outputs": [],
   "source": [
    "from rembg.bg import remove\n",
    "from PIL import Image\n",
    "\n",
    "input_path = 'IMG_3841.jpg'\n",
    "output_path = '154.png'\n",
    "\n",
    "input = Image.open(input_path)\n",
    "output = remove(input)\n",
    "output.save(output_path)"
   ]
  },
  {
   "cell_type": "code",
   "execution_count": 171,
   "id": "0cf51585",
   "metadata": {},
   "outputs": [],
   "source": [
    "from rembg.bg import remove\n",
    "from PIL import Image\n",
    "\n",
    "input_path = 'IMG_3842.jpg'\n",
    "output_path = '155.png'\n",
    "\n",
    "input = Image.open(input_path)\n",
    "output = remove(input)\n",
    "output.save(output_path)"
   ]
  },
  {
   "cell_type": "code",
   "execution_count": 172,
   "id": "07864d46",
   "metadata": {},
   "outputs": [],
   "source": [
    "from rembg.bg import remove\n",
    "from PIL import Image\n",
    "\n",
    "input_path = 'IMG_3843.jpg'\n",
    "output_path = '156.png'\n",
    "\n",
    "input = Image.open(input_path)\n",
    "output = remove(input)\n",
    "output.save(output_path)"
   ]
  },
  {
   "cell_type": "code",
   "execution_count": 173,
   "id": "3bd81821",
   "metadata": {},
   "outputs": [],
   "source": [
    "from rembg.bg import remove\n",
    "from PIL import Image\n",
    "\n",
    "input_path = 'IMG_3844.jpg'\n",
    "output_path = '157.png'\n",
    "\n",
    "input = Image.open(input_path)\n",
    "output = remove(input)\n",
    "output.save(output_path)"
   ]
  },
  {
   "cell_type": "code",
   "execution_count": 174,
   "id": "0864b7c8",
   "metadata": {},
   "outputs": [],
   "source": [
    "from rembg.bg import remove\n",
    "from PIL import Image\n",
    "\n",
    "input_path = 'IMG_3845.jpg'\n",
    "output_path = '158.png'\n",
    "\n",
    "input = Image.open(input_path)\n",
    "output = remove(input)\n",
    "output.save(output_path)"
   ]
  },
  {
   "cell_type": "code",
   "execution_count": 175,
   "id": "91142514",
   "metadata": {},
   "outputs": [],
   "source": [
    "from rembg.bg import remove\n",
    "from PIL import Image\n",
    "\n",
    "input_path = 'IMG_3846.jpg'\n",
    "output_path = '159.png'\n",
    "\n",
    "input = Image.open(input_path)\n",
    "output = remove(input)\n",
    "output.save(output_path)"
   ]
  },
  {
   "cell_type": "code",
   "execution_count": 176,
   "id": "e0b70419",
   "metadata": {},
   "outputs": [],
   "source": [
    "from rembg.bg import remove\n",
    "from PIL import Image\n",
    "\n",
    "input_path = 'IMG_3847.jpg'\n",
    "output_path = '160.png'\n",
    "\n",
    "input = Image.open(input_path)\n",
    "output = remove(input)\n",
    "output.save(output_path)"
   ]
  },
  {
   "cell_type": "code",
   "execution_count": 177,
   "id": "e1026540",
   "metadata": {},
   "outputs": [],
   "source": [
    "from rembg.bg import remove\n",
    "from PIL import Image\n",
    "\n",
    "input_path = 'IMG_3848.jpg'\n",
    "output_path = '161.png'\n",
    "\n",
    "input = Image.open(input_path)\n",
    "output = remove(input)\n",
    "output.save(output_path)"
   ]
  },
  {
   "cell_type": "code",
   "execution_count": 178,
   "id": "64f25743",
   "metadata": {},
   "outputs": [],
   "source": [
    "from rembg.bg import remove\n",
    "from PIL import Image\n",
    "\n",
    "input_path = 'IMG_3849.jpg'\n",
    "output_path = '162.png'\n",
    "\n",
    "input = Image.open(input_path)\n",
    "output = remove(input)\n",
    "output.save(output_path)"
   ]
  },
  {
   "cell_type": "code",
   "execution_count": 179,
   "id": "9ab866e9",
   "metadata": {},
   "outputs": [],
   "source": [
    "from rembg.bg import remove\n",
    "from PIL import Image\n",
    "\n",
    "input_path = 'IMG_3850.jpg'\n",
    "output_path = '163.png'\n",
    "\n",
    "input = Image.open(input_path)\n",
    "output = remove(input)\n",
    "output.save(output_path)"
   ]
  },
  {
   "cell_type": "code",
   "execution_count": 180,
   "id": "860886aa",
   "metadata": {},
   "outputs": [],
   "source": [
    "from rembg.bg import remove\n",
    "from PIL import Image\n",
    "\n",
    "input_path = 'IMG_3851.jpg'\n",
    "output_path = '164.png'\n",
    "\n",
    "input = Image.open(input_path)\n",
    "output = remove(input)\n",
    "output.save(output_path)"
   ]
  },
  {
   "cell_type": "code",
   "execution_count": 181,
   "id": "a97a15a9",
   "metadata": {},
   "outputs": [],
   "source": [
    "from rembg.bg import remove\n",
    "from PIL import Image\n",
    "\n",
    "input_path = 'IMG_3852.jpg'\n",
    "output_path = '165.png'\n",
    "\n",
    "input = Image.open(input_path)\n",
    "output = remove(input)\n",
    "output.save(output_path)"
   ]
  },
  {
   "cell_type": "code",
   "execution_count": 182,
   "id": "5eba54d0",
   "metadata": {},
   "outputs": [],
   "source": [
    "from rembg.bg import remove\n",
    "from PIL import Image\n",
    "\n",
    "input_path = 'IMG_3853.jpg'\n",
    "output_path = '166.png'\n",
    "\n",
    "input = Image.open(input_path)\n",
    "output = remove(input)\n",
    "output.save(output_path)"
   ]
  },
  {
   "cell_type": "code",
   "execution_count": 183,
   "id": "80e5bed6",
   "metadata": {},
   "outputs": [],
   "source": [
    "from rembg.bg import remove\n",
    "from PIL import Image\n",
    "\n",
    "input_path = 'IMG_3854.jpg'\n",
    "output_path = '167.png'\n",
    "\n",
    "input = Image.open(input_path)\n",
    "output = remove(input)\n",
    "output.save(output_path)"
   ]
  },
  {
   "cell_type": "code",
   "execution_count": 184,
   "id": "4b8f3723",
   "metadata": {},
   "outputs": [],
   "source": [
    "from rembg.bg import remove\n",
    "from PIL import Image\n",
    "\n",
    "input_path = 'IMG_3855.jpg'\n",
    "output_path = '168.png'\n",
    "\n",
    "input = Image.open(input_path)\n",
    "output = remove(input)\n",
    "output.save(output_path)"
   ]
  },
  {
   "cell_type": "code",
   "execution_count": 185,
   "id": "5335f797",
   "metadata": {},
   "outputs": [],
   "source": [
    "from rembg.bg import remove\n",
    "from PIL import Image\n",
    "\n",
    "input_path = 'IMG_3856.jpg'\n",
    "output_path = '169.png'\n",
    "\n",
    "input = Image.open(input_path)\n",
    "output = remove(input)\n",
    "output.save(output_path)"
   ]
  },
  {
   "cell_type": "code",
   "execution_count": 186,
   "id": "84225aad",
   "metadata": {},
   "outputs": [],
   "source": [
    "from rembg.bg import remove\n",
    "from PIL import Image\n",
    "\n",
    "input_path = 'IMG_3857.jpg'\n",
    "output_path = '170.png'\n",
    "\n",
    "input = Image.open(input_path)\n",
    "output = remove(input)\n",
    "output.save(output_path)"
   ]
  },
  {
   "cell_type": "code",
   "execution_count": 187,
   "id": "5b7ffa60",
   "metadata": {},
   "outputs": [],
   "source": [
    "from rembg.bg import remove\n",
    "from PIL import Image\n",
    "\n",
    "input_path = 'IMG_3858.jpg'\n",
    "output_path = '171.png'\n",
    "\n",
    "input = Image.open(input_path)\n",
    "output = remove(input)\n",
    "output.save(output_path)"
   ]
  },
  {
   "cell_type": "code",
   "execution_count": 188,
   "id": "26814e19",
   "metadata": {},
   "outputs": [],
   "source": [
    "from rembg.bg import remove\n",
    "from PIL import Image\n",
    "\n",
    "input_path = 'IMG_3859.jpg'\n",
    "output_path = '172.png'\n",
    "\n",
    "input = Image.open(input_path)\n",
    "output = remove(input)\n",
    "output.save(output_path)"
   ]
  },
  {
   "cell_type": "code",
   "execution_count": 189,
   "id": "00d7c7d8",
   "metadata": {},
   "outputs": [],
   "source": [
    "from rembg.bg import remove\n",
    "from PIL import Image\n",
    "\n",
    "input_path = 'IMG_3860.jpg'\n",
    "output_path = '173.png'\n",
    "\n",
    "input = Image.open(input_path)\n",
    "output = remove(input)\n",
    "output.save(output_path)"
   ]
  },
  {
   "cell_type": "code",
   "execution_count": 190,
   "id": "cc6ff5cc",
   "metadata": {},
   "outputs": [],
   "source": [
    "from rembg.bg import remove\n",
    "from PIL import Image\n",
    "\n",
    "input_path = 'IMG_3861.jpg'\n",
    "output_path = '174.png'\n",
    "\n",
    "input = Image.open(input_path)\n",
    "output = remove(input)\n",
    "output.save(output_path)"
   ]
  },
  {
   "cell_type": "code",
   "execution_count": 191,
   "id": "d9f15a4e",
   "metadata": {},
   "outputs": [],
   "source": [
    "from rembg.bg import remove\n",
    "from PIL import Image\n",
    "\n",
    "input_path = 'IMG_3862.jpg'\n",
    "output_path = '175.png'\n",
    "\n",
    "input = Image.open(input_path)\n",
    "output = remove(input)\n",
    "output.save(output_path)"
   ]
  },
  {
   "cell_type": "code",
   "execution_count": 192,
   "id": "ad3e7813",
   "metadata": {},
   "outputs": [],
   "source": [
    "from rembg.bg import remove\n",
    "from PIL import Image\n",
    "\n",
    "input_path = 'IMG_3863.jpg'\n",
    "output_path = '176.png'\n",
    "\n",
    "input = Image.open(input_path)\n",
    "output = remove(input)\n",
    "output.save(output_path)"
   ]
  },
  {
   "cell_type": "code",
   "execution_count": 193,
   "id": "73c41fb6",
   "metadata": {},
   "outputs": [],
   "source": [
    "from rembg.bg import remove\n",
    "from PIL import Image\n",
    "\n",
    "input_path = 'IMG_3864.jpg'\n",
    "output_path = '177.png'\n",
    "\n",
    "input = Image.open(input_path)\n",
    "output = remove(input)\n",
    "output.save(output_path)"
   ]
  },
  {
   "cell_type": "code",
   "execution_count": 194,
   "id": "83321801",
   "metadata": {},
   "outputs": [],
   "source": [
    "from rembg.bg import remove\n",
    "from PIL import Image\n",
    "\n",
    "input_path = 'IMG_3865.jpg'\n",
    "output_path = '178.png'\n",
    "\n",
    "input = Image.open(input_path)\n",
    "output = remove(input)\n",
    "output.save(output_path)"
   ]
  },
  {
   "cell_type": "code",
   "execution_count": 195,
   "id": "04ec3a96",
   "metadata": {},
   "outputs": [],
   "source": [
    "from rembg.bg import remove\n",
    "from PIL import Image\n",
    "\n",
    "input_path = 'IMG_3866.jpg'\n",
    "output_path = '179.png'\n",
    "\n",
    "input = Image.open(input_path)\n",
    "output = remove(input)\n",
    "output.save(output_path)"
   ]
  },
  {
   "cell_type": "code",
   "execution_count": 196,
   "id": "ea022857",
   "metadata": {},
   "outputs": [],
   "source": [
    "from rembg.bg import remove\n",
    "from PIL import Image\n",
    "\n",
    "input_path = 'IMG_3867.jpg'\n",
    "output_path = '180.png'\n",
    "\n",
    "input = Image.open(input_path)\n",
    "output = remove(input)\n",
    "output.save(output_path)"
   ]
  },
  {
   "cell_type": "code",
   "execution_count": 197,
   "id": "ca0563ed",
   "metadata": {},
   "outputs": [],
   "source": [
    "from rembg.bg import remove\n",
    "from PIL import Image\n",
    "\n",
    "input_path = 'IMG_3868.jpg'\n",
    "output_path = '181.png'\n",
    "\n",
    "input = Image.open(input_path)\n",
    "output = remove(input)\n",
    "output.save(output_path)"
   ]
  },
  {
   "cell_type": "code",
   "execution_count": 198,
   "id": "938b02fd",
   "metadata": {},
   "outputs": [],
   "source": [
    "from rembg.bg import remove\n",
    "from PIL import Image\n",
    "\n",
    "input_path = 'IMG_3869.jpg'\n",
    "output_path = '182.png'\n",
    "\n",
    "input = Image.open(input_path)\n",
    "output = remove(input)\n",
    "output.save(output_path)"
   ]
  },
  {
   "cell_type": "code",
   "execution_count": 199,
   "id": "2acc37ff",
   "metadata": {},
   "outputs": [],
   "source": [
    "from rembg.bg import remove\n",
    "from PIL import Image\n",
    "\n",
    "input_path = 'IMG_3870.jpg'\n",
    "output_path = '183.png'\n",
    "\n",
    "input = Image.open(input_path)\n",
    "output = remove(input)\n",
    "output.save(output_path)"
   ]
  },
  {
   "cell_type": "code",
   "execution_count": 200,
   "id": "977f0aae",
   "metadata": {},
   "outputs": [],
   "source": [
    "from rembg.bg import remove\n",
    "from PIL import Image\n",
    "\n",
    "input_path = 'IMG_3871.jpg'\n",
    "output_path = '184.png'\n",
    "\n",
    "input = Image.open(input_path)\n",
    "output = remove(input)\n",
    "output.save(output_path)"
   ]
  },
  {
   "cell_type": "code",
   "execution_count": 201,
   "id": "3a5863cc",
   "metadata": {},
   "outputs": [],
   "source": [
    "from rembg.bg import remove\n",
    "from PIL import Image\n",
    "\n",
    "input_path = 'IMG_3872.jpg'\n",
    "output_path = '185.png'\n",
    "\n",
    "input = Image.open(input_path)\n",
    "output = remove(input)\n",
    "output.save(output_path)"
   ]
  },
  {
   "cell_type": "code",
   "execution_count": 202,
   "id": "977e84b5",
   "metadata": {},
   "outputs": [],
   "source": [
    "from rembg.bg import remove\n",
    "from PIL import Image\n",
    "\n",
    "input_path = 'IMG_3873.jpg'\n",
    "output_path = '186.png'\n",
    "\n",
    "input = Image.open(input_path)\n",
    "output = remove(input)\n",
    "output.save(output_path)"
   ]
  },
  {
   "cell_type": "code",
   "execution_count": 203,
   "id": "acbd675d",
   "metadata": {},
   "outputs": [],
   "source": [
    "from rembg.bg import remove\n",
    "from PIL import Image\n",
    "\n",
    "input_path = 'IMG_3874.jpg'\n",
    "output_path = '187.png'\n",
    "\n",
    "input = Image.open(input_path)\n",
    "output = remove(input)\n",
    "output.save(output_path)"
   ]
  },
  {
   "cell_type": "code",
   "execution_count": 204,
   "id": "88006835",
   "metadata": {},
   "outputs": [],
   "source": [
    "from rembg.bg import remove\n",
    "from PIL import Image\n",
    "\n",
    "input_path = 'IMG_3875.jpg'\n",
    "output_path = '188.png'\n",
    "\n",
    "input = Image.open(input_path)\n",
    "output = remove(input)\n",
    "output.save(output_path)"
   ]
  },
  {
   "cell_type": "code",
   "execution_count": 205,
   "id": "21747e6d",
   "metadata": {},
   "outputs": [],
   "source": [
    "from rembg.bg import remove\n",
    "from PIL import Image\n",
    "\n",
    "input_path = 'IMG_3876.jpg'\n",
    "output_path = '189.png'\n",
    "\n",
    "input = Image.open(input_path)\n",
    "output = remove(input)\n",
    "output.save(output_path)"
   ]
  },
  {
   "cell_type": "code",
   "execution_count": 206,
   "id": "90fcd5e2",
   "metadata": {},
   "outputs": [],
   "source": [
    "from rembg.bg import remove\n",
    "from PIL import Image\n",
    "\n",
    "input_path = 'IMG_3877.jpg'\n",
    "output_path = '190.png'\n",
    "\n",
    "input = Image.open(input_path)\n",
    "output = remove(input)\n",
    "output.save(output_path)"
   ]
  },
  {
   "cell_type": "code",
   "execution_count": 207,
   "id": "d277c763",
   "metadata": {},
   "outputs": [],
   "source": [
    "from rembg.bg import remove\n",
    "from PIL import Image\n",
    "\n",
    "input_path = 'IMG_3878.jpg'\n",
    "output_path = '191.png'\n",
    "\n",
    "input = Image.open(input_path)\n",
    "output = remove(input)\n",
    "output.save(output_path)"
   ]
  },
  {
   "cell_type": "code",
   "execution_count": 228,
   "id": "d0ab0135",
   "metadata": {},
   "outputs": [],
   "source": [
    "from rembg.bg import remove\n",
    "from PIL import Image\n",
    "\n",
    "input_path = 'IMG_3879.jpg'\n",
    "output_path = '192.png'\n",
    "\n",
    "input = Image.open(input_path)\n",
    "output = remove(input)\n",
    "output.save(output_path)"
   ]
  },
  {
   "cell_type": "code",
   "execution_count": 229,
   "id": "3fe9f520",
   "metadata": {},
   "outputs": [],
   "source": [
    "from rembg.bg import remove\n",
    "from PIL import Image\n",
    "\n",
    "input_path = 'IMG_3880.jpg'\n",
    "output_path = '193.png'\n",
    "\n",
    "input = Image.open(input_path)\n",
    "output = remove(input)\n",
    "output.save(output_path)"
   ]
  },
  {
   "cell_type": "code",
   "execution_count": 230,
   "id": "3a82fdc0",
   "metadata": {},
   "outputs": [],
   "source": [
    "from rembg.bg import remove\n",
    "from PIL import Image\n",
    "\n",
    "input_path = 'IMG_3881.jpg'\n",
    "output_path = '194.png'\n",
    "\n",
    "input = Image.open(input_path)\n",
    "output = remove(input)\n",
    "output.save(output_path)"
   ]
  },
  {
   "cell_type": "code",
   "execution_count": 231,
   "id": "555dad70",
   "metadata": {},
   "outputs": [],
   "source": [
    "from rembg.bg import remove\n",
    "from PIL import Image\n",
    "\n",
    "input_path = 'IMG_3882.jpg'\n",
    "output_path = '195.png'\n",
    "\n",
    "input = Image.open(input_path)\n",
    "output = remove(input)\n",
    "output.save(output_path)"
   ]
  },
  {
   "cell_type": "code",
   "execution_count": 232,
   "id": "81e32299",
   "metadata": {},
   "outputs": [],
   "source": [
    "from rembg.bg import remove\n",
    "from PIL import Image\n",
    "\n",
    "input_path = 'IMG_3883.jpg'\n",
    "output_path = '196.png'\n",
    "\n",
    "input = Image.open(input_path)\n",
    "output = remove(input)\n",
    "output.save(output_path)"
   ]
  },
  {
   "cell_type": "code",
   "execution_count": 233,
   "id": "6683d602",
   "metadata": {},
   "outputs": [],
   "source": [
    "from rembg.bg import remove\n",
    "from PIL import Image\n",
    "\n",
    "input_path = 'IMG_3884.jpg'\n",
    "output_path = '197.png'\n",
    "\n",
    "input = Image.open(input_path)\n",
    "output = remove(input)\n",
    "output.save(output_path)"
   ]
  },
  {
   "cell_type": "code",
   "execution_count": 234,
   "id": "82023d0d",
   "metadata": {},
   "outputs": [],
   "source": [
    "from rembg.bg import remove\n",
    "from PIL import Image\n",
    "\n",
    "input_path = 'IMG_3885.jpg'\n",
    "output_path = '198.png'\n",
    "\n",
    "input = Image.open(input_path)\n",
    "output = remove(input)\n",
    "output.save(output_path)"
   ]
  },
  {
   "cell_type": "code",
   "execution_count": 235,
   "id": "fefb9fb8",
   "metadata": {},
   "outputs": [],
   "source": [
    "from rembg.bg import remove\n",
    "from PIL import Image\n",
    "\n",
    "input_path = 'IMG_3886.jpg'\n",
    "output_path = '199.png'\n",
    "\n",
    "input = Image.open(input_path)\n",
    "output = remove(input)\n",
    "output.save(output_path)"
   ]
  },
  {
   "cell_type": "code",
   "execution_count": 236,
   "id": "1d411fbf",
   "metadata": {},
   "outputs": [],
   "source": [
    "from rembg.bg import remove\n",
    "from PIL import Image\n",
    "\n",
    "input_path = 'IMG_3887.jpg'\n",
    "output_path = '200.png'\n",
    "\n",
    "input = Image.open(input_path)\n",
    "output = remove(input)\n",
    "output.save(output_path)"
   ]
  },
  {
   "cell_type": "code",
   "execution_count": 237,
   "id": "e44c61ea",
   "metadata": {},
   "outputs": [],
   "source": [
    "from rembg.bg import remove\n",
    "from PIL import Image\n",
    "\n",
    "input_path = 'IMG_3888.jpg'\n",
    "output_path = '201.png'\n",
    "\n",
    "input = Image.open(input_path)\n",
    "output = remove(input)\n",
    "output.save(output_path)"
   ]
  },
  {
   "cell_type": "code",
   "execution_count": 238,
   "id": "f9dfbd0b",
   "metadata": {},
   "outputs": [],
   "source": [
    "from rembg.bg import remove\n",
    "from PIL import Image\n",
    "\n",
    "input_path = 'IMG_3889.jpg'\n",
    "output_path = '202.png'\n",
    "\n",
    "input = Image.open(input_path)\n",
    "output = remove(input)\n",
    "output.save(output_path)"
   ]
  },
  {
   "cell_type": "code",
   "execution_count": 239,
   "id": "5eb82a4e",
   "metadata": {},
   "outputs": [],
   "source": [
    "from rembg.bg import remove\n",
    "from PIL import Image\n",
    "\n",
    "input_path = 'IMG_3890.jpg'\n",
    "output_path = '203.png'\n",
    "\n",
    "input = Image.open(input_path)\n",
    "output = remove(input)\n",
    "output.save(output_path)"
   ]
  },
  {
   "cell_type": "code",
   "execution_count": 240,
   "id": "242c726b",
   "metadata": {},
   "outputs": [],
   "source": [
    "from rembg.bg import remove\n",
    "from PIL import Image\n",
    "\n",
    "input_path = 'IMG_3891.jpg'\n",
    "output_path = '204.png'\n",
    "\n",
    "input = Image.open(input_path)\n",
    "output = remove(input)\n",
    "output.save(output_path)"
   ]
  },
  {
   "cell_type": "code",
   "execution_count": 241,
   "id": "1b5e7046",
   "metadata": {},
   "outputs": [],
   "source": [
    "from rembg.bg import remove\n",
    "from PIL import Image\n",
    "\n",
    "input_path = 'IMG_3892.jpg'\n",
    "output_path = '205.png'\n",
    "\n",
    "input = Image.open(input_path)\n",
    "output = remove(input)\n",
    "output.save(output_path)"
   ]
  },
  {
   "cell_type": "code",
   "execution_count": 209,
   "id": "ac336f89",
   "metadata": {},
   "outputs": [],
   "source": [
    "from rembg.bg import remove\n",
    "from PIL import Image\n",
    "\n",
    "input_path = 'IMG_3893.jpg'\n",
    "output_path = '206.png'\n",
    "\n",
    "input = Image.open(input_path)\n",
    "output = remove(input)\n",
    "output.save(output_path)"
   ]
  },
  {
   "cell_type": "code",
   "execution_count": 210,
   "id": "83e0dcd3",
   "metadata": {},
   "outputs": [],
   "source": [
    "from rembg.bg import remove\n",
    "from PIL import Image\n",
    "\n",
    "input_path = 'IMG_3894.jpg'\n",
    "output_path = '207.png'\n",
    "\n",
    "input = Image.open(input_path)\n",
    "output = remove(input)\n",
    "output.save(output_path)"
   ]
  },
  {
   "cell_type": "code",
   "execution_count": 211,
   "id": "6e80b80e",
   "metadata": {},
   "outputs": [],
   "source": [
    "from rembg.bg import remove\n",
    "from PIL import Image\n",
    "\n",
    "input_path = 'IMG_3895.jpg'\n",
    "output_path = '208.png'\n",
    "\n",
    "input = Image.open(input_path)\n",
    "output = remove(input)\n",
    "output.save(output_path)"
   ]
  },
  {
   "cell_type": "code",
   "execution_count": 212,
   "id": "24c62625",
   "metadata": {},
   "outputs": [],
   "source": [
    "from rembg.bg import remove\n",
    "from PIL import Image\n",
    "\n",
    "input_path = 'IMG_3896.jpg'\n",
    "output_path = '209.png'\n",
    "\n",
    "input = Image.open(input_path)\n",
    "output = remove(input)\n",
    "output.save(output_path)"
   ]
  },
  {
   "cell_type": "code",
   "execution_count": 213,
   "id": "3b09778c",
   "metadata": {},
   "outputs": [],
   "source": [
    "from rembg.bg import remove\n",
    "from PIL import Image\n",
    "\n",
    "input_path = 'IMG_3897.jpg'\n",
    "output_path = '210.png'\n",
    "\n",
    "input = Image.open(input_path)\n",
    "output = remove(input)\n",
    "output.save(output_path)"
   ]
  },
  {
   "cell_type": "code",
   "execution_count": 214,
   "id": "498f5570",
   "metadata": {},
   "outputs": [],
   "source": [
    "from rembg.bg import remove\n",
    "from PIL import Image\n",
    "\n",
    "input_path = 'IMG_3898.jpg'\n",
    "output_path = '211.png'\n",
    "\n",
    "input = Image.open(input_path)\n",
    "output = remove(input)\n",
    "output.save(output_path)"
   ]
  },
  {
   "cell_type": "code",
   "execution_count": 215,
   "id": "491ea78d",
   "metadata": {},
   "outputs": [],
   "source": [
    "from rembg.bg import remove\n",
    "from PIL import Image\n",
    "\n",
    "input_path = 'IMG_3899.jpg'\n",
    "output_path = '212.png'\n",
    "\n",
    "input = Image.open(input_path)\n",
    "output = remove(input)\n",
    "output.save(output_path)"
   ]
  },
  {
   "cell_type": "code",
   "execution_count": 216,
   "id": "d14e63b9",
   "metadata": {},
   "outputs": [],
   "source": [
    "from rembg.bg import remove\n",
    "from PIL import Image\n",
    "\n",
    "input_path = 'IMG_3900.jpg'\n",
    "output_path = '213.png'\n",
    "\n",
    "input = Image.open(input_path)\n",
    "output = remove(input)\n",
    "output.save(output_path)"
   ]
  },
  {
   "cell_type": "code",
   "execution_count": 217,
   "id": "8342a3f1",
   "metadata": {},
   "outputs": [],
   "source": [
    "from rembg.bg import remove\n",
    "from PIL import Image\n",
    "\n",
    "input_path = 'IMG_3901.jpg'\n",
    "output_path = '214.png'\n",
    "\n",
    "input = Image.open(input_path)\n",
    "output = remove(input)\n",
    "output.save(output_path)"
   ]
  },
  {
   "cell_type": "code",
   "execution_count": 218,
   "id": "9d2095ac",
   "metadata": {},
   "outputs": [],
   "source": [
    "from rembg.bg import remove\n",
    "from PIL import Image\n",
    "\n",
    "input_path = 'IMG_3902.jpg'\n",
    "output_path = '215.png'\n",
    "\n",
    "input = Image.open(input_path)\n",
    "output = remove(input)\n",
    "output.save(output_path)"
   ]
  },
  {
   "cell_type": "code",
   "execution_count": 219,
   "id": "dfae117e",
   "metadata": {},
   "outputs": [],
   "source": [
    "from rembg.bg import remove\n",
    "from PIL import Image\n",
    "\n",
    "input_path = 'IMG_3903.jpg'\n",
    "output_path = '216.png'\n",
    "\n",
    "input = Image.open(input_path)\n",
    "output = remove(input)\n",
    "output.save(output_path)"
   ]
  },
  {
   "cell_type": "code",
   "execution_count": 220,
   "id": "1cef804f",
   "metadata": {},
   "outputs": [],
   "source": [
    "from rembg.bg import remove\n",
    "from PIL import Image\n",
    "\n",
    "input_path = 'IMG_3904.jpg'\n",
    "output_path = '217.png'\n",
    "\n",
    "input = Image.open(input_path)\n",
    "output = remove(input)\n",
    "output.save(output_path)"
   ]
  },
  {
   "cell_type": "code",
   "execution_count": 221,
   "id": "51f463e7",
   "metadata": {},
   "outputs": [],
   "source": [
    "from rembg.bg import remove\n",
    "from PIL import Image\n",
    "\n",
    "input_path = 'IMG_3905.jpg'\n",
    "output_path = '218.png'\n",
    "\n",
    "input = Image.open(input_path)\n",
    "output = remove(input)\n",
    "output.save(output_path)"
   ]
  },
  {
   "cell_type": "code",
   "execution_count": 222,
   "id": "b451af80",
   "metadata": {},
   "outputs": [],
   "source": [
    "from rembg.bg import remove\n",
    "from PIL import Image\n",
    "\n",
    "input_path = 'IMG_3906.jpg'\n",
    "output_path = '219.png'\n",
    "\n",
    "input = Image.open(input_path)\n",
    "output = remove(input)\n",
    "output.save(output_path)"
   ]
  },
  {
   "cell_type": "code",
   "execution_count": 223,
   "id": "cb409aa9",
   "metadata": {},
   "outputs": [],
   "source": [
    "from rembg.bg import remove\n",
    "from PIL import Image\n",
    "\n",
    "input_path = 'IMG_3907.jpg'\n",
    "output_path = '220.png'\n",
    "\n",
    "input = Image.open(input_path)\n",
    "output = remove(input)\n",
    "output.save(output_path)"
   ]
  },
  {
   "cell_type": "code",
   "execution_count": 224,
   "id": "936b6eaa",
   "metadata": {},
   "outputs": [],
   "source": [
    "from rembg.bg import remove\n",
    "from PIL import Image\n",
    "\n",
    "input_path = 'IMG_3908.jpg'\n",
    "output_path = '221.png'\n",
    "\n",
    "input = Image.open(input_path)\n",
    "output = remove(input)\n",
    "output.save(output_path)"
   ]
  },
  {
   "cell_type": "code",
   "execution_count": 225,
   "id": "57fdb7bc",
   "metadata": {},
   "outputs": [],
   "source": [
    "from rembg.bg import remove\n",
    "from PIL import Image\n",
    "\n",
    "input_path = 'IMG_3909.jpg'\n",
    "output_path = '222.png'\n",
    "\n",
    "input = Image.open(input_path)\n",
    "output = remove(input)\n",
    "output.save(output_path)"
   ]
  },
  {
   "cell_type": "code",
   "execution_count": 243,
   "id": "d32d3c57",
   "metadata": {},
   "outputs": [],
   "source": [
    "from rembg.bg import remove\n",
    "from PIL import Image\n",
    "\n",
    "input_path = 'IMG_3910.jpg'\n",
    "output_path = '223.png'\n",
    "\n",
    "input = Image.open(input_path)\n",
    "output = remove(input)\n",
    "output.save(output_path)"
   ]
  },
  {
   "cell_type": "code",
   "execution_count": 251,
   "id": "885a55df",
   "metadata": {},
   "outputs": [],
   "source": [
    "from rembg.bg import remove\n",
    "from PIL import Image\n",
    "\n",
    "input_path = 'IMG_3919.jpg'\n",
    "output_path = '224.png'\n",
    "\n",
    "input = Image.open(input_path)\n",
    "output = remove(input)\n",
    "output.save(output_path)"
   ]
  },
  {
   "cell_type": "code",
   "execution_count": 252,
   "id": "d2e5f8c9",
   "metadata": {},
   "outputs": [],
   "source": [
    "from rembg.bg import remove\n",
    "from PIL import Image\n",
    "\n",
    "input_path = 'IMG_3920.jpg'\n",
    "output_path = '225.png'\n",
    "\n",
    "input = Image.open(input_path)\n",
    "output = remove(input)\n",
    "output.save(output_path)"
   ]
  },
  {
   "cell_type": "code",
   "execution_count": 253,
   "id": "0f5b44a1",
   "metadata": {},
   "outputs": [],
   "source": [
    "from rembg.bg import remove\n",
    "from PIL import Image\n",
    "\n",
    "input_path = 'IMG_3921.jpg'\n",
    "output_path = '226.png'\n",
    "\n",
    "input = Image.open(input_path)\n",
    "output = remove(input)\n",
    "output.save(output_path)"
   ]
  },
  {
   "cell_type": "code",
   "execution_count": 254,
   "id": "250e7bc2",
   "metadata": {},
   "outputs": [],
   "source": [
    "from rembg.bg import remove\n",
    "from PIL import Image\n",
    "\n",
    "input_path = 'IMG_3922.jpg'\n",
    "output_path = '227.png'\n",
    "\n",
    "input = Image.open(input_path)\n",
    "output = remove(input)\n",
    "output.save(output_path)"
   ]
  },
  {
   "cell_type": "code",
   "execution_count": 255,
   "id": "b04feef8",
   "metadata": {},
   "outputs": [],
   "source": [
    "from rembg.bg import remove\n",
    "from PIL import Image\n",
    "\n",
    "input_path = 'IMG_3923.jpg'\n",
    "output_path = '228.png'\n",
    "\n",
    "input = Image.open(input_path)\n",
    "output = remove(input)\n",
    "output.save(output_path)"
   ]
  },
  {
   "cell_type": "code",
   "execution_count": 256,
   "id": "e74f6251",
   "metadata": {},
   "outputs": [],
   "source": [
    "from rembg.bg import remove\n",
    "from PIL import Image\n",
    "\n",
    "input_path = 'IMG_3924.jpg'\n",
    "output_path = '229.png'\n",
    "\n",
    "input = Image.open(input_path)\n",
    "output = remove(input)\n",
    "output.save(output_path)"
   ]
  },
  {
   "cell_type": "code",
   "execution_count": 257,
   "id": "1496f616",
   "metadata": {},
   "outputs": [],
   "source": [
    "from rembg.bg import remove\n",
    "from PIL import Image\n",
    "\n",
    "input_path = 'IMG_3925.jpg'\n",
    "output_path = '230.png'\n",
    "\n",
    "input = Image.open(input_path)\n",
    "output = remove(input)\n",
    "output.save(output_path)"
   ]
  },
  {
   "cell_type": "code",
   "execution_count": 258,
   "id": "492bfc87",
   "metadata": {},
   "outputs": [],
   "source": [
    "from rembg.bg import remove\n",
    "from PIL import Image\n",
    "\n",
    "input_path = 'IMG_3926.jpg'\n",
    "output_path = '231.png'\n",
    "\n",
    "input = Image.open(input_path)\n",
    "output = remove(input)\n",
    "output.save(output_path)"
   ]
  },
  {
   "cell_type": "code",
   "execution_count": 259,
   "id": "315169df",
   "metadata": {},
   "outputs": [],
   "source": [
    "from rembg.bg import remove\n",
    "from PIL import Image\n",
    "\n",
    "input_path = 'IMG_3927.jpg'\n",
    "output_path = '232.png'\n",
    "\n",
    "input = Image.open(input_path)\n",
    "output = remove(input)\n",
    "output.save(output_path)"
   ]
  },
  {
   "cell_type": "code",
   "execution_count": 260,
   "id": "d3655c1c",
   "metadata": {},
   "outputs": [],
   "source": [
    "from rembg.bg import remove\n",
    "from PIL import Image\n",
    "\n",
    "input_path = 'IMG_3928.jpg'\n",
    "output_path = '233.png'\n",
    "\n",
    "input = Image.open(input_path)\n",
    "output = remove(input)\n",
    "output.save(output_path)"
   ]
  },
  {
   "cell_type": "code",
   "execution_count": 261,
   "id": "19265e23",
   "metadata": {},
   "outputs": [],
   "source": [
    "from rembg.bg import remove\n",
    "from PIL import Image\n",
    "\n",
    "input_path = 'IMG_3929.jpg'\n",
    "output_path = '234.png'\n",
    "\n",
    "input = Image.open(input_path)\n",
    "output = remove(input)\n",
    "output.save(output_path)"
   ]
  },
  {
   "cell_type": "code",
   "execution_count": 262,
   "id": "b8d0e4ab",
   "metadata": {},
   "outputs": [],
   "source": [
    "from rembg.bg import remove\n",
    "from PIL import Image\n",
    "\n",
    "input_path = 'IMG_3930.jpg'\n",
    "output_path = '235.png'\n",
    "\n",
    "input = Image.open(input_path)\n",
    "output = remove(input)\n",
    "output.save(output_path)"
   ]
  },
  {
   "cell_type": "code",
   "execution_count": 263,
   "id": "ecf7b6f5",
   "metadata": {},
   "outputs": [],
   "source": [
    "from rembg.bg import remove\n",
    "from PIL import Image\n",
    "\n",
    "input_path = 'IMG_3931.jpg'\n",
    "output_path = '236.png'\n",
    "\n",
    "input = Image.open(input_path)\n",
    "output = remove(input)\n",
    "output.save(output_path)"
   ]
  },
  {
   "cell_type": "code",
   "execution_count": 264,
   "id": "f293f4df",
   "metadata": {},
   "outputs": [],
   "source": [
    "from rembg.bg import remove\n",
    "from PIL import Image\n",
    "\n",
    "input_path = 'IMG_3932.jpg'\n",
    "output_path = '237.png'\n",
    "\n",
    "input = Image.open(input_path)\n",
    "output = remove(input)\n",
    "output.save(output_path)"
   ]
  },
  {
   "cell_type": "code",
   "execution_count": 265,
   "id": "afe01986",
   "metadata": {},
   "outputs": [],
   "source": [
    "from rembg.bg import remove\n",
    "from PIL import Image\n",
    "\n",
    "input_path = 'IMG_3933.jpg'\n",
    "output_path = '238.png'\n",
    "\n",
    "input = Image.open(input_path)\n",
    "output = remove(input)\n",
    "output.save(output_path)"
   ]
  },
  {
   "cell_type": "code",
   "execution_count": 266,
   "id": "4758b94c",
   "metadata": {},
   "outputs": [],
   "source": [
    "from rembg.bg import remove\n",
    "from PIL import Image\n",
    "\n",
    "input_path = 'IMG_3934.jpg'\n",
    "output_path = '239.png'\n",
    "\n",
    "input = Image.open(input_path)\n",
    "output = remove(input)\n",
    "output.save(output_path)"
   ]
  },
  {
   "cell_type": "code",
   "execution_count": 267,
   "id": "7ee8fb4a",
   "metadata": {},
   "outputs": [],
   "source": [
    "from rembg.bg import remove\n",
    "from PIL import Image\n",
    "\n",
    "input_path = 'IMG_3935.jpg'\n",
    "output_path = '240.png'\n",
    "\n",
    "input = Image.open(input_path)\n",
    "output = remove(input)\n",
    "output.save(output_path)"
   ]
  },
  {
   "cell_type": "code",
   "execution_count": 268,
   "id": "f70037ac",
   "metadata": {},
   "outputs": [],
   "source": [
    "from rembg.bg import remove\n",
    "from PIL import Image\n",
    "\n",
    "input_path = 'IMG_3936.jpg'\n",
    "output_path = '241.png'\n",
    "\n",
    "input = Image.open(input_path)\n",
    "output = remove(input)\n",
    "output.save(output_path)"
   ]
  },
  {
   "cell_type": "code",
   "execution_count": 269,
   "id": "006137e3",
   "metadata": {},
   "outputs": [],
   "source": [
    "from rembg.bg import remove\n",
    "from PIL import Image\n",
    "\n",
    "input_path = 'IMG_3937.jpg'\n",
    "output_path = '242.png'\n",
    "\n",
    "input = Image.open(input_path)\n",
    "output = remove(input)\n",
    "output.save(output_path)"
   ]
  },
  {
   "cell_type": "code",
   "execution_count": 270,
   "id": "09f12846",
   "metadata": {},
   "outputs": [],
   "source": [
    "from rembg.bg import remove\n",
    "from PIL import Image\n",
    "\n",
    "input_path = 'IMG_3938.jpg'\n",
    "output_path = '243.png'\n",
    "\n",
    "input = Image.open(input_path)\n",
    "output = remove(input)\n",
    "output.save(output_path)"
   ]
  },
  {
   "cell_type": "code",
   "execution_count": 271,
   "id": "2be7b7d9",
   "metadata": {},
   "outputs": [],
   "source": [
    "from rembg.bg import remove\n",
    "from PIL import Image\n",
    "\n",
    "input_path = 'IMG_3939.jpg'\n",
    "output_path = '244.png'\n",
    "\n",
    "input = Image.open(input_path)\n",
    "output = remove(input)\n",
    "output.save(output_path)"
   ]
  },
  {
   "cell_type": "code",
   "execution_count": 272,
   "id": "9d0f42ea",
   "metadata": {},
   "outputs": [],
   "source": [
    "from rembg.bg import remove\n",
    "from PIL import Image\n",
    "\n",
    "input_path = 'IMG_3940.jpg'\n",
    "output_path = '245.png'\n",
    "\n",
    "input = Image.open(input_path)\n",
    "output = remove(input)\n",
    "output.save(output_path)"
   ]
  },
  {
   "cell_type": "code",
   "execution_count": 273,
   "id": "44730e4a",
   "metadata": {},
   "outputs": [],
   "source": [
    "from rembg.bg import remove\n",
    "from PIL import Image\n",
    "\n",
    "input_path = 'IMG_3941.jpg'\n",
    "output_path = '246.png'\n",
    "\n",
    "input = Image.open(input_path)\n",
    "output = remove(input)\n",
    "output.save(output_path)"
   ]
  },
  {
   "cell_type": "code",
   "execution_count": 274,
   "id": "ebfedcc2",
   "metadata": {},
   "outputs": [],
   "source": [
    "from rembg.bg import remove\n",
    "from PIL import Image\n",
    "\n",
    "input_path = 'IMG_3942.jpg'\n",
    "output_path = '247.png'\n",
    "\n",
    "input = Image.open(input_path)\n",
    "output = remove(input)\n",
    "output.save(output_path)"
   ]
  },
  {
   "cell_type": "code",
   "execution_count": 275,
   "id": "3f141f59",
   "metadata": {},
   "outputs": [],
   "source": [
    "from rembg.bg import remove\n",
    "from PIL import Image\n",
    "\n",
    "input_path = 'IMG_3943.jpg'\n",
    "output_path = '248.png'\n",
    "\n",
    "input = Image.open(input_path)\n",
    "output = remove(input)\n",
    "output.save(output_path)"
   ]
  },
  {
   "cell_type": "code",
   "execution_count": 276,
   "id": "ea558546",
   "metadata": {},
   "outputs": [],
   "source": [
    "from rembg.bg import remove\n",
    "from PIL import Image\n",
    "\n",
    "input_path = 'IMG_3944.jpg'\n",
    "output_path = '249.png'\n",
    "\n",
    "input = Image.open(input_path)\n",
    "output = remove(input)\n",
    "output.save(output_path)"
   ]
  },
  {
   "cell_type": "code",
   "execution_count": 277,
   "id": "37b12060",
   "metadata": {},
   "outputs": [],
   "source": [
    "from rembg.bg import remove\n",
    "from PIL import Image\n",
    "\n",
    "input_path = 'IMG_3945.jpg'\n",
    "output_path = '250.png'\n",
    "\n",
    "input = Image.open(input_path)\n",
    "output = remove(input)\n",
    "output.save(output_path)"
   ]
  },
  {
   "cell_type": "code",
   "execution_count": 284,
   "id": "029df45e",
   "metadata": {},
   "outputs": [],
   "source": [
    "from rembg.bg import remove\n",
    "from PIL import Image\n",
    "\n",
    "input_path = 'IMG_3946.jpg'\n",
    "output_path = '251.png'\n",
    "\n",
    "input = Image.open(input_path)\n",
    "output = remove(input)\n",
    "output.save(output_path)"
   ]
  },
  {
   "cell_type": "code",
   "execution_count": 279,
   "id": "b132ee94",
   "metadata": {},
   "outputs": [],
   "source": [
    "from rembg.bg import remove\n",
    "from PIL import Image\n",
    "\n",
    "input_path = 'IMG_3947.jpg'\n",
    "output_path = '252.png'\n",
    "\n",
    "input = Image.open(input_path)\n",
    "output = remove(input)\n",
    "output.save(output_path)"
   ]
  },
  {
   "cell_type": "code",
   "execution_count": 280,
   "id": "74a01d1a",
   "metadata": {},
   "outputs": [],
   "source": [
    "from rembg.bg import remove\n",
    "from PIL import Image\n",
    "\n",
    "input_path = 'IMG_3948.jpg'\n",
    "output_path = '253.png'\n",
    "\n",
    "input = Image.open(input_path)\n",
    "output = remove(input)\n",
    "output.save(output_path)"
   ]
  },
  {
   "cell_type": "code",
   "execution_count": 281,
   "id": "00a5388e",
   "metadata": {},
   "outputs": [],
   "source": [
    "from rembg.bg import remove\n",
    "from PIL import Image\n",
    "\n",
    "input_path = 'IMG_3949.jpg'\n",
    "output_path = '254.png'\n",
    "\n",
    "input = Image.open(input_path)\n",
    "output = remove(input)\n",
    "output.save(output_path)"
   ]
  },
  {
   "cell_type": "code",
   "execution_count": 283,
   "id": "e63c68cf",
   "metadata": {},
   "outputs": [],
   "source": [
    "from rembg.bg import remove\n",
    "from PIL import Image\n",
    "\n",
    "input_path = 'IMG_3950.jpg'\n",
    "output_path = '255.png'\n",
    "\n",
    "input = Image.open(input_path)\n",
    "output = remove(input)\n",
    "output.save(output_path)"
   ]
  },
  {
   "cell_type": "code",
   "execution_count": 285,
   "id": "2d36ac9f",
   "metadata": {},
   "outputs": [],
   "source": [
    "from rembg.bg import remove\n",
    "from PIL import Image\n",
    "\n",
    "input_path = 'IMG_3951.jpg'\n",
    "output_path = '256.png'\n",
    "\n",
    "input = Image.open(input_path)\n",
    "output = remove(input)\n",
    "output.save(output_path)"
   ]
  },
  {
   "cell_type": "code",
   "execution_count": 286,
   "id": "2d7e35f7",
   "metadata": {},
   "outputs": [],
   "source": [
    "from rembg.bg import remove\n",
    "from PIL import Image\n",
    "\n",
    "input_path = 'IMG_3952.jpg'\n",
    "output_path = '257.png'\n",
    "\n",
    "input = Image.open(input_path)\n",
    "output = remove(input)\n",
    "output.save(output_path)"
   ]
  },
  {
   "cell_type": "code",
   "execution_count": 287,
   "id": "fa804afb",
   "metadata": {},
   "outputs": [],
   "source": [
    "from rembg.bg import remove\n",
    "from PIL import Image\n",
    "\n",
    "input_path = 'IMG_3953.jpg'\n",
    "output_path = '258.png'\n",
    "\n",
    "input = Image.open(input_path)\n",
    "output = remove(input)\n",
    "output.save(output_path)"
   ]
  },
  {
   "cell_type": "code",
   "execution_count": 288,
   "id": "1e730b9c",
   "metadata": {},
   "outputs": [],
   "source": [
    "from rembg.bg import remove\n",
    "from PIL import Image\n",
    "\n",
    "input_path = 'IMG_3954.jpg'\n",
    "output_path = '259.png'\n",
    "\n",
    "input = Image.open(input_path)\n",
    "output = remove(input)\n",
    "output.save(output_path)"
   ]
  },
  {
   "cell_type": "code",
   "execution_count": 289,
   "id": "f4fe88e9",
   "metadata": {},
   "outputs": [],
   "source": [
    "from rembg.bg import remove\n",
    "from PIL import Image\n",
    "\n",
    "input_path = 'IMG_3955.jpg'\n",
    "output_path = '260.png'\n",
    "\n",
    "input = Image.open(input_path)\n",
    "output = remove(input)\n",
    "output.save(output_path)"
   ]
  },
  {
   "cell_type": "code",
   "execution_count": 290,
   "id": "43010157",
   "metadata": {},
   "outputs": [],
   "source": [
    "from rembg.bg import remove\n",
    "from PIL import Image\n",
    "\n",
    "input_path = 'IMG_3956.jpg'\n",
    "output_path = '261.png'\n",
    "\n",
    "input = Image.open(input_path)\n",
    "output = remove(input)\n",
    "output.save(output_path)"
   ]
  },
  {
   "cell_type": "code",
   "execution_count": 291,
   "id": "faf3b3f6",
   "metadata": {},
   "outputs": [],
   "source": [
    "from rembg.bg import remove\n",
    "from PIL import Image\n",
    "\n",
    "input_path = 'IMG_3957.jpg'\n",
    "output_path = '262.png'\n",
    "\n",
    "input = Image.open(input_path)\n",
    "output = remove(input)\n",
    "output.save(output_path)"
   ]
  },
  {
   "cell_type": "code",
   "execution_count": 292,
   "id": "42cabf68",
   "metadata": {},
   "outputs": [],
   "source": [
    "from rembg.bg import remove\n",
    "from PIL import Image\n",
    "\n",
    "input_path = 'IMG_3958.jpg'\n",
    "output_path = '263.png'\n",
    "\n",
    "input = Image.open(input_path)\n",
    "output = remove(input)\n",
    "output.save(output_path)"
   ]
  },
  {
   "cell_type": "code",
   "execution_count": 293,
   "id": "79a74a1b",
   "metadata": {},
   "outputs": [],
   "source": [
    "from rembg.bg import remove\n",
    "from PIL import Image\n",
    "\n",
    "input_path = 'IMG_3959.jpg'\n",
    "output_path = '264.png'\n",
    "\n",
    "input = Image.open(input_path)\n",
    "output = remove(input)\n",
    "output.save(output_path)"
   ]
  },
  {
   "cell_type": "code",
   "execution_count": 294,
   "id": "42722064",
   "metadata": {},
   "outputs": [],
   "source": [
    "from rembg.bg import remove\n",
    "from PIL import Image\n",
    "\n",
    "input_path = 'IMG_3960.jpg'\n",
    "output_path = '265.png'\n",
    "\n",
    "input = Image.open(input_path)\n",
    "output = remove(input)\n",
    "output.save(output_path)"
   ]
  },
  {
   "cell_type": "code",
   "execution_count": 295,
   "id": "78a600b6",
   "metadata": {},
   "outputs": [],
   "source": [
    "from rembg.bg import remove\n",
    "from PIL import Image\n",
    "\n",
    "input_path = 'IMG_3961.jpg'\n",
    "output_path = '266.png'\n",
    "\n",
    "input = Image.open(input_path)\n",
    "output = remove(input)\n",
    "output.save(output_path)"
   ]
  },
  {
   "cell_type": "code",
   "execution_count": 296,
   "id": "ea7e5dbf",
   "metadata": {},
   "outputs": [],
   "source": [
    "from rembg.bg import remove\n",
    "from PIL import Image\n",
    "\n",
    "input_path = 'IMG_3962.jpg'\n",
    "output_path = '267.png'\n",
    "\n",
    "input = Image.open(input_path)\n",
    "output = remove(input)\n",
    "output.save(output_path)"
   ]
  },
  {
   "cell_type": "code",
   "execution_count": 297,
   "id": "01d6886f",
   "metadata": {},
   "outputs": [],
   "source": [
    "from rembg.bg import remove\n",
    "from PIL import Image\n",
    "\n",
    "input_path = 'IMG_3963.jpg'\n",
    "output_path = '268.png'\n",
    "\n",
    "input = Image.open(input_path)\n",
    "output = remove(input)\n",
    "output.save(output_path)"
   ]
  },
  {
   "cell_type": "code",
   "execution_count": 298,
   "id": "e837c145",
   "metadata": {},
   "outputs": [],
   "source": [
    "from rembg.bg import remove\n",
    "from PIL import Image\n",
    "\n",
    "input_path = 'IMG_3964.jpg'\n",
    "output_path = '269.png'\n",
    "\n",
    "input = Image.open(input_path)\n",
    "output = remove(input)\n",
    "output.save(output_path)"
   ]
  },
  {
   "cell_type": "code",
   "execution_count": 299,
   "id": "aafba12c",
   "metadata": {},
   "outputs": [],
   "source": [
    "from rembg.bg import remove\n",
    "from PIL import Image\n",
    "\n",
    "input_path = 'IMG_3965.jpg'\n",
    "output_path = '270.png'\n",
    "\n",
    "input = Image.open(input_path)\n",
    "output = remove(input)\n",
    "output.save(output_path)"
   ]
  },
  {
   "cell_type": "code",
   "execution_count": 300,
   "id": "6fc2afbc",
   "metadata": {},
   "outputs": [],
   "source": [
    "from rembg.bg import remove\n",
    "from PIL import Image\n",
    "\n",
    "input_path = 'IMG_3966.jpg'\n",
    "output_path = '271.png'\n",
    "\n",
    "input = Image.open(input_path)\n",
    "output = remove(input)\n",
    "output.save(output_path)"
   ]
  },
  {
   "cell_type": "code",
   "execution_count": 301,
   "id": "eafc50b0",
   "metadata": {},
   "outputs": [],
   "source": [
    "from rembg.bg import remove\n",
    "from PIL import Image\n",
    "\n",
    "input_path = 'IMG_3967.jpg'\n",
    "output_path = '272.png'\n",
    "\n",
    "input = Image.open(input_path)\n",
    "output = remove(input)\n",
    "output.save(output_path)"
   ]
  },
  {
   "cell_type": "code",
   "execution_count": 302,
   "id": "5b7dca4f",
   "metadata": {},
   "outputs": [],
   "source": [
    "from rembg.bg import remove\n",
    "from PIL import Image\n",
    "\n",
    "input_path = 'IMG_3968.jpg'\n",
    "output_path = '273.png'\n",
    "\n",
    "input = Image.open(input_path)\n",
    "output = remove(input)\n",
    "output.save(output_path)"
   ]
  },
  {
   "cell_type": "code",
   "execution_count": 303,
   "id": "55441767",
   "metadata": {},
   "outputs": [],
   "source": [
    "from rembg.bg import remove\n",
    "from PIL import Image\n",
    "\n",
    "input_path = 'IMG_3969.jpg'\n",
    "output_path = '274.png'\n",
    "\n",
    "input = Image.open(input_path)\n",
    "output = remove(input)\n",
    "output.save(output_path)"
   ]
  },
  {
   "cell_type": "code",
   "execution_count": 304,
   "id": "c12ebaa8",
   "metadata": {},
   "outputs": [],
   "source": [
    "from rembg.bg import remove\n",
    "from PIL import Image\n",
    "\n",
    "input_path = 'IMG_3970.jpg'\n",
    "output_path = '275.png'\n",
    "\n",
    "input = Image.open(input_path)\n",
    "output = remove(input)\n",
    "output.save(output_path)"
   ]
  },
  {
   "cell_type": "code",
   "execution_count": 305,
   "id": "ec5b95a8",
   "metadata": {},
   "outputs": [],
   "source": [
    "from rembg.bg import remove\n",
    "from PIL import Image\n",
    "\n",
    "input_path = 'IMG_3971.jpg'\n",
    "output_path = '276.png'\n",
    "\n",
    "input = Image.open(input_path)\n",
    "output = remove(input)\n",
    "output.save(output_path)"
   ]
  },
  {
   "cell_type": "code",
   "execution_count": 306,
   "id": "1b2b0753",
   "metadata": {},
   "outputs": [],
   "source": [
    "from rembg.bg import remove\n",
    "from PIL import Image\n",
    "\n",
    "input_path = 'IMG_3972.jpg'\n",
    "output_path = '277.png'\n",
    "\n",
    "input = Image.open(input_path)\n",
    "output = remove(input)\n",
    "output.save(output_path)"
   ]
  },
  {
   "cell_type": "code",
   "execution_count": 307,
   "id": "02a7649b",
   "metadata": {},
   "outputs": [],
   "source": [
    "from rembg.bg import remove\n",
    "from PIL import Image\n",
    "\n",
    "input_path = 'IMG_3973.jpg'\n",
    "output_path = '278.png'\n",
    "\n",
    "input = Image.open(input_path)\n",
    "output = remove(input)\n",
    "output.save(output_path)"
   ]
  },
  {
   "cell_type": "code",
   "execution_count": 308,
   "id": "403ae74d",
   "metadata": {},
   "outputs": [],
   "source": [
    "from rembg.bg import remove\n",
    "from PIL import Image\n",
    "\n",
    "input_path = 'IMG_3974.jpg'\n",
    "output_path = '279.png'\n",
    "\n",
    "input = Image.open(input_path)\n",
    "output = remove(input)\n",
    "output.save(output_path)"
   ]
  },
  {
   "cell_type": "code",
   "execution_count": 309,
   "id": "19f52f6c",
   "metadata": {},
   "outputs": [],
   "source": [
    "from rembg.bg import remove\n",
    "from PIL import Image\n",
    "\n",
    "input_path = 'IMG_3975.jpg'\n",
    "output_path = '280.png'\n",
    "\n",
    "input = Image.open(input_path)\n",
    "output = remove(input)\n",
    "output.save(output_path)"
   ]
  },
  {
   "cell_type": "code",
   "execution_count": 310,
   "id": "4e80d609",
   "metadata": {},
   "outputs": [],
   "source": [
    "from rembg.bg import remove\n",
    "from PIL import Image\n",
    "\n",
    "input_path = 'IMG_3976.jpg'\n",
    "output_path = '281.png'\n",
    "\n",
    "input = Image.open(input_path)\n",
    "output = remove(input)\n",
    "output.save(output_path)"
   ]
  },
  {
   "cell_type": "code",
   "execution_count": 311,
   "id": "67154545",
   "metadata": {},
   "outputs": [],
   "source": [
    "from rembg.bg import remove\n",
    "from PIL import Image\n",
    "\n",
    "input_path = 'IMG_3977.jpg'\n",
    "output_path = '282.png'\n",
    "\n",
    "input = Image.open(input_path)\n",
    "output = remove(input)\n",
    "output.save(output_path)"
   ]
  },
  {
   "cell_type": "code",
   "execution_count": 312,
   "id": "6c8c798f",
   "metadata": {},
   "outputs": [],
   "source": [
    "from rembg.bg import remove\n",
    "from PIL import Image\n",
    "\n",
    "input_path = 'IMG_3978.jpg'\n",
    "output_path = '283.png'\n",
    "\n",
    "input = Image.open(input_path)\n",
    "output = remove(input)\n",
    "output.save(output_path)"
   ]
  },
  {
   "cell_type": "code",
   "execution_count": 313,
   "id": "d6dae66e",
   "metadata": {},
   "outputs": [],
   "source": [
    "from rembg.bg import remove\n",
    "from PIL import Image\n",
    "\n",
    "input_path = 'IMG_3979.jpg'\n",
    "output_path = '284.png'\n",
    "\n",
    "input = Image.open(input_path)\n",
    "output = remove(input)\n",
    "output.save(output_path)"
   ]
  },
  {
   "cell_type": "code",
   "execution_count": 314,
   "id": "57f53810",
   "metadata": {},
   "outputs": [],
   "source": [
    "from rembg.bg import remove\n",
    "from PIL import Image\n",
    "\n",
    "input_path = 'IMG_3980.jpg'\n",
    "output_path = '285.png'\n",
    "\n",
    "input = Image.open(input_path)\n",
    "output = remove(input)\n",
    "output.save(output_path)"
   ]
  },
  {
   "cell_type": "code",
   "execution_count": 315,
   "id": "20d52705",
   "metadata": {},
   "outputs": [],
   "source": [
    "from rembg.bg import remove\n",
    "from PIL import Image\n",
    "\n",
    "input_path = 'IMG_3981.jpg'\n",
    "output_path = '286.png'\n",
    "\n",
    "input = Image.open(input_path)\n",
    "output = remove(input)\n",
    "output.save(output_path)"
   ]
  },
  {
   "cell_type": "code",
   "execution_count": 316,
   "id": "85157387",
   "metadata": {},
   "outputs": [],
   "source": [
    "from rembg.bg import remove\n",
    "from PIL import Image\n",
    "\n",
    "input_path = 'IMG_3982.jpg'\n",
    "output_path = '287.png'\n",
    "\n",
    "input = Image.open(input_path)\n",
    "output = remove(input)\n",
    "output.save(output_path)"
   ]
  },
  {
   "cell_type": "code",
   "execution_count": 317,
   "id": "e9b9ef98",
   "metadata": {},
   "outputs": [],
   "source": [
    "from rembg.bg import remove\n",
    "from PIL import Image\n",
    "\n",
    "input_path = 'IMG_3983.jpg'\n",
    "output_path = '288.png'\n",
    "\n",
    "input = Image.open(input_path)\n",
    "output = remove(input)\n",
    "output.save(output_path)"
   ]
  },
  {
   "cell_type": "code",
   "execution_count": 318,
   "id": "5ff3a876",
   "metadata": {},
   "outputs": [],
   "source": [
    "from rembg.bg import remove\n",
    "from PIL import Image\n",
    "\n",
    "input_path = 'IMG_3984.jpg'\n",
    "output_path = '289.png'\n",
    "\n",
    "input = Image.open(input_path)\n",
    "output = remove(input)\n",
    "output.save(output_path)"
   ]
  },
  {
   "cell_type": "code",
   "execution_count": 319,
   "id": "f2ea593f",
   "metadata": {},
   "outputs": [],
   "source": [
    "from rembg.bg import remove\n",
    "from PIL import Image\n",
    "\n",
    "input_path = 'IMG_3985.jpg'\n",
    "output_path = '290.png'\n",
    "\n",
    "input = Image.open(input_path)\n",
    "output = remove(input)\n",
    "output.save(output_path)"
   ]
  },
  {
   "cell_type": "code",
   "execution_count": 320,
   "id": "fc4284eb",
   "metadata": {},
   "outputs": [],
   "source": [
    "from rembg.bg import remove\n",
    "from PIL import Image\n",
    "\n",
    "input_path = 'IMG_3986.jpg'\n",
    "output_path = '291.png'\n",
    "\n",
    "input = Image.open(input_path)\n",
    "output = remove(input)\n",
    "output.save(output_path)"
   ]
  },
  {
   "cell_type": "code",
   "execution_count": 321,
   "id": "616a6829",
   "metadata": {},
   "outputs": [],
   "source": [
    "from rembg.bg import remove\n",
    "from PIL import Image\n",
    "\n",
    "input_path = 'IMG_3987.jpg'\n",
    "output_path = '292.png'\n",
    "\n",
    "input = Image.open(input_path)\n",
    "output = remove(input)\n",
    "output.save(output_path)"
   ]
  },
  {
   "cell_type": "code",
   "execution_count": 322,
   "id": "16a218b4",
   "metadata": {},
   "outputs": [],
   "source": [
    "from rembg.bg import remove\n",
    "from PIL import Image\n",
    "\n",
    "input_path = 'IMG_3988.jpg'\n",
    "output_path = '293.png'\n",
    "\n",
    "input = Image.open(input_path)\n",
    "output = remove(input)\n",
    "output.save(output_path)"
   ]
  },
  {
   "cell_type": "code",
   "execution_count": 323,
   "id": "7a8de3aa",
   "metadata": {},
   "outputs": [],
   "source": [
    "from rembg.bg import remove\n",
    "from PIL import Image\n",
    "\n",
    "input_path = 'IMG_3989.jpg'\n",
    "output_path = '294.png'\n",
    "\n",
    "input = Image.open(input_path)\n",
    "output = remove(input)\n",
    "output.save(output_path)"
   ]
  },
  {
   "cell_type": "code",
   "execution_count": 324,
   "id": "0c51414d",
   "metadata": {},
   "outputs": [],
   "source": [
    "from rembg.bg import remove\n",
    "from PIL import Image\n",
    "\n",
    "input_path = 'IMG_3990.jpg'\n",
    "output_path = '295.png'\n",
    "\n",
    "input = Image.open(input_path)\n",
    "output = remove(input)\n",
    "output.save(output_path)"
   ]
  },
  {
   "cell_type": "code",
   "execution_count": 325,
   "id": "31517023",
   "metadata": {},
   "outputs": [],
   "source": [
    "from rembg.bg import remove\n",
    "from PIL import Image\n",
    "\n",
    "input_path = 'IMG_3991.jpg'\n",
    "output_path = '296.png'\n",
    "\n",
    "input = Image.open(input_path)\n",
    "output = remove(input)\n",
    "output.save(output_path)"
   ]
  },
  {
   "cell_type": "code",
   "execution_count": 326,
   "id": "dcc2427d",
   "metadata": {},
   "outputs": [],
   "source": [
    "from rembg.bg import remove\n",
    "from PIL import Image\n",
    "\n",
    "input_path = 'IMG_3992.jpg'\n",
    "output_path = '297.png'\n",
    "\n",
    "input = Image.open(input_path)\n",
    "output = remove(input)\n",
    "output.save(output_path)"
   ]
  },
  {
   "cell_type": "code",
   "execution_count": 327,
   "id": "bea38567",
   "metadata": {},
   "outputs": [],
   "source": [
    "from rembg.bg import remove\n",
    "from PIL import Image\n",
    "\n",
    "input_path = 'IMG_3993.jpg'\n",
    "output_path = '298.png'\n",
    "\n",
    "input = Image.open(input_path)\n",
    "output = remove(input)\n",
    "output.save(output_path)"
   ]
  },
  {
   "cell_type": "code",
   "execution_count": 328,
   "id": "73aea2d4",
   "metadata": {},
   "outputs": [],
   "source": [
    "from rembg.bg import remove\n",
    "from PIL import Image\n",
    "\n",
    "input_path = 'IMG_3994.jpg'\n",
    "output_path = '299.png'\n",
    "\n",
    "input = Image.open(input_path)\n",
    "output = remove(input)\n",
    "output.save(output_path)"
   ]
  },
  {
   "cell_type": "code",
   "execution_count": 329,
   "id": "b53c7b15",
   "metadata": {},
   "outputs": [],
   "source": [
    "from rembg.bg import remove\n",
    "from PIL import Image\n",
    "\n",
    "input_path = 'IMG_3995.jpg'\n",
    "output_path = '300.png'\n",
    "\n",
    "input = Image.open(input_path)\n",
    "output = remove(input)\n",
    "output.save(output_path)"
   ]
  },
  {
   "cell_type": "code",
   "execution_count": 330,
   "id": "c0de4055",
   "metadata": {},
   "outputs": [],
   "source": [
    "from rembg.bg import remove\n",
    "from PIL import Image\n",
    "\n",
    "input_path = 'IMG_3996.jpg'\n",
    "output_path = '301.png'\n",
    "\n",
    "input = Image.open(input_path)\n",
    "output = remove(input)\n",
    "output.save(output_path)"
   ]
  },
  {
   "cell_type": "code",
   "execution_count": 331,
   "id": "504c13e8",
   "metadata": {},
   "outputs": [],
   "source": [
    "from rembg.bg import remove\n",
    "from PIL import Image\n",
    "\n",
    "input_path = 'IMG_3997.jpg'\n",
    "output_path = '301.png'\n",
    "\n",
    "input = Image.open(input_path)\n",
    "output = remove(input)\n",
    "output.save(output_path)"
   ]
  },
  {
   "cell_type": "code",
   "execution_count": 332,
   "id": "01cd7559",
   "metadata": {},
   "outputs": [],
   "source": [
    "from rembg.bg import remove\n",
    "from PIL import Image\n",
    "\n",
    "input_path = 'IMG_3998.jpg'\n",
    "output_path = '302.png'\n",
    "\n",
    "input = Image.open(input_path)\n",
    "output = remove(input)\n",
    "output.save(output_path)"
   ]
  },
  {
   "cell_type": "code",
   "execution_count": 333,
   "id": "723a9d29",
   "metadata": {},
   "outputs": [],
   "source": [
    "from rembg.bg import remove\n",
    "from PIL import Image\n",
    "\n",
    "input_path = 'IMG_3999.jpg'\n",
    "output_path = '303.png'\n",
    "\n",
    "input = Image.open(input_path)\n",
    "output = remove(input)\n",
    "output.save(output_path)"
   ]
  },
  {
   "cell_type": "code",
   "execution_count": 334,
   "id": "ea4bbe99",
   "metadata": {},
   "outputs": [],
   "source": [
    "from rembg.bg import remove\n",
    "from PIL import Image\n",
    "\n",
    "input_path = 'IMG_4000.jpg'\n",
    "output_path = '304.png'\n",
    "\n",
    "input = Image.open(input_path)\n",
    "output = remove(input)\n",
    "output.save(output_path)"
   ]
  },
  {
   "cell_type": "code",
   "execution_count": 335,
   "id": "c44c340a",
   "metadata": {},
   "outputs": [],
   "source": [
    "from rembg.bg import remove\n",
    "from PIL import Image\n",
    "\n",
    "input_path = 'IMG_4001.jpg'\n",
    "output_path = '305.png'\n",
    "\n",
    "input = Image.open(input_path)\n",
    "output = remove(input)\n",
    "output.save(output_path)"
   ]
  },
  {
   "cell_type": "code",
   "execution_count": 336,
   "id": "3cbe9818",
   "metadata": {},
   "outputs": [],
   "source": [
    "from rembg.bg import remove\n",
    "from PIL import Image\n",
    "\n",
    "input_path = 'IMG_4002.jpg'\n",
    "output_path = '306.png'\n",
    "\n",
    "input = Image.open(input_path)\n",
    "output = remove(input)\n",
    "output.save(output_path)"
   ]
  },
  {
   "cell_type": "code",
   "execution_count": 337,
   "id": "ea0b4e1e",
   "metadata": {},
   "outputs": [],
   "source": [
    "from rembg.bg import remove\n",
    "from PIL import Image\n",
    "\n",
    "input_path = 'IMG_4003.jpg'\n",
    "output_path = '306.png'\n",
    "\n",
    "input = Image.open(input_path)\n",
    "output = remove(input)\n",
    "output.save(output_path)"
   ]
  },
  {
   "cell_type": "code",
   "execution_count": 338,
   "id": "28707202",
   "metadata": {},
   "outputs": [],
   "source": [
    "from rembg.bg import remove\n",
    "from PIL import Image\n",
    "\n",
    "input_path = 'IMG_4004.jpg'\n",
    "output_path = '307.png'\n",
    "\n",
    "input = Image.open(input_path)\n",
    "output = remove(input)\n",
    "output.save(output_path)"
   ]
  },
  {
   "cell_type": "code",
   "execution_count": 339,
   "id": "c9f9b57b",
   "metadata": {},
   "outputs": [],
   "source": [
    "from rembg.bg import remove\n",
    "from PIL import Image\n",
    "\n",
    "input_path = 'IMG_4005.jpg'\n",
    "output_path = '308.png'\n",
    "\n",
    "input = Image.open(input_path)\n",
    "output = remove(input)\n",
    "output.save(output_path)"
   ]
  },
  {
   "cell_type": "code",
   "execution_count": 340,
   "id": "e17a0d72",
   "metadata": {},
   "outputs": [],
   "source": [
    "from rembg.bg import remove\n",
    "from PIL import Image\n",
    "\n",
    "input_path = 'IMG_4006.jpg'\n",
    "output_path = '309.png'\n",
    "\n",
    "input = Image.open(input_path)\n",
    "output = remove(input)\n",
    "output.save(output_path)"
   ]
  },
  {
   "cell_type": "code",
   "execution_count": 341,
   "id": "13d5a7b9",
   "metadata": {},
   "outputs": [],
   "source": [
    "from rembg.bg import remove\n",
    "from PIL import Image\n",
    "\n",
    "input_path = 'IMG_4007.jpg'\n",
    "output_path = '310.png'\n",
    "\n",
    "input = Image.open(input_path)\n",
    "output = remove(input)\n",
    "output.save(output_path)"
   ]
  },
  {
   "cell_type": "code",
   "execution_count": 342,
   "id": "49f37d11",
   "metadata": {},
   "outputs": [],
   "source": [
    "from rembg.bg import remove\n",
    "from PIL import Image\n",
    "\n",
    "input_path = 'IMG_4008.jpg'\n",
    "output_path = '311.png'\n",
    "\n",
    "input = Image.open(input_path)\n",
    "output = remove(input)\n",
    "output.save(output_path)"
   ]
  },
  {
   "cell_type": "code",
   "execution_count": 343,
   "id": "1ce99499",
   "metadata": {},
   "outputs": [],
   "source": [
    "from rembg.bg import remove\n",
    "from PIL import Image\n",
    "\n",
    "input_path = 'IMG_4009.jpg'\n",
    "output_path = '312.png'\n",
    "\n",
    "input = Image.open(input_path)\n",
    "output = remove(input)\n",
    "output.save(output_path)"
   ]
  },
  {
   "cell_type": "code",
   "execution_count": 344,
   "id": "0ddc3fd5",
   "metadata": {},
   "outputs": [],
   "source": [
    "from rembg.bg import remove\n",
    "from PIL import Image\n",
    "\n",
    "input_path = 'IMG_4010.jpg'\n",
    "output_path = '313.png'\n",
    "\n",
    "input = Image.open(input_path)\n",
    "output = remove(input)\n",
    "output.save(output_path)"
   ]
  },
  {
   "cell_type": "code",
   "execution_count": 345,
   "id": "fe4b3bfa",
   "metadata": {},
   "outputs": [],
   "source": [
    "from rembg.bg import remove\n",
    "from PIL import Image\n",
    "\n",
    "input_path = 'IMG_4011.jpg'\n",
    "output_path = '314.png'\n",
    "\n",
    "input = Image.open(input_path)\n",
    "output = remove(input)\n",
    "output.save(output_path)"
   ]
  },
  {
   "cell_type": "code",
   "execution_count": 346,
   "id": "b9aedcd2",
   "metadata": {},
   "outputs": [],
   "source": [
    "from rembg.bg import remove\n",
    "from PIL import Image\n",
    "\n",
    "input_path = 'IMG_4012.jpg'\n",
    "output_path = '315.png'\n",
    "\n",
    "input = Image.open(input_path)\n",
    "output = remove(input)\n",
    "output.save(output_path)"
   ]
  },
  {
   "cell_type": "code",
   "execution_count": 347,
   "id": "b5e5bf46",
   "metadata": {},
   "outputs": [],
   "source": [
    "from rembg.bg import remove\n",
    "from PIL import Image\n",
    "\n",
    "input_path = 'IMG_4013.jpg'\n",
    "output_path = '316.png'\n",
    "\n",
    "input = Image.open(input_path)\n",
    "output = remove(input)\n",
    "output.save(output_path)"
   ]
  },
  {
   "cell_type": "code",
   "execution_count": 348,
   "id": "ef85f98a",
   "metadata": {},
   "outputs": [],
   "source": [
    "from rembg.bg import remove\n",
    "from PIL import Image\n",
    "\n",
    "input_path = 'IMG_4014.jpg'\n",
    "output_path = '317.png'\n",
    "\n",
    "input = Image.open(input_path)\n",
    "output = remove(input)\n",
    "output.save(output_path)"
   ]
  },
  {
   "cell_type": "code",
   "execution_count": 349,
   "id": "6e0c176c",
   "metadata": {},
   "outputs": [],
   "source": [
    "from rembg.bg import remove\n",
    "from PIL import Image\n",
    "\n",
    "input_path = 'IMG_4015.jpg'\n",
    "output_path = '318.png'\n",
    "\n",
    "input = Image.open(input_path)\n",
    "output = remove(input)\n",
    "output.save(output_path)"
   ]
  },
  {
   "cell_type": "code",
   "execution_count": 350,
   "id": "4f743dac",
   "metadata": {},
   "outputs": [],
   "source": [
    "from rembg.bg import remove\n",
    "from PIL import Image\n",
    "\n",
    "input_path = 'IMG_4016.jpg'\n",
    "output_path = '319.png'\n",
    "\n",
    "input = Image.open(input_path)\n",
    "output = remove(input)\n",
    "output.save(output_path)"
   ]
  },
  {
   "cell_type": "code",
   "execution_count": 351,
   "id": "6bf9056b",
   "metadata": {},
   "outputs": [],
   "source": [
    "from rembg.bg import remove\n",
    "from PIL import Image\n",
    "\n",
    "input_path = 'IMG_4017.jpg'\n",
    "output_path = '320.png'\n",
    "\n",
    "input = Image.open(input_path)\n",
    "output = remove(input)\n",
    "output.save(output_path)"
   ]
  },
  {
   "cell_type": "code",
   "execution_count": 352,
   "id": "a69e512a",
   "metadata": {},
   "outputs": [],
   "source": [
    "from rembg.bg import remove\n",
    "from PIL import Image\n",
    "\n",
    "input_path = 'IMG_4018.jpg'\n",
    "output_path = '321.png'\n",
    "\n",
    "input = Image.open(input_path)\n",
    "output = remove(input)\n",
    "output.save(output_path)"
   ]
  },
  {
   "cell_type": "code",
   "execution_count": 353,
   "id": "873eab92",
   "metadata": {},
   "outputs": [],
   "source": [
    "from rembg.bg import remove\n",
    "from PIL import Image\n",
    "\n",
    "input_path = 'IMG_4019.jpg'\n",
    "output_path = '322.png'\n",
    "\n",
    "input = Image.open(input_path)\n",
    "output = remove(input)\n",
    "output.save(output_path)"
   ]
  },
  {
   "cell_type": "code",
   "execution_count": 354,
   "id": "3b4e39cf",
   "metadata": {},
   "outputs": [],
   "source": [
    "from rembg.bg import remove\n",
    "from PIL import Image\n",
    "\n",
    "input_path = 'IMG_4020.jpg'\n",
    "output_path = '323.png'\n",
    "\n",
    "input = Image.open(input_path)\n",
    "output = remove(input)\n",
    "output.save(output_path)"
   ]
  },
  {
   "cell_type": "code",
   "execution_count": 355,
   "id": "071f2084",
   "metadata": {},
   "outputs": [],
   "source": [
    "from rembg.bg import remove\n",
    "from PIL import Image\n",
    "\n",
    "input_path = 'IMG_4021.jpg'\n",
    "output_path = '324.png'\n",
    "\n",
    "input = Image.open(input_path)\n",
    "output = remove(input)\n",
    "output.save(output_path)"
   ]
  },
  {
   "cell_type": "code",
   "execution_count": 356,
   "id": "139b896b",
   "metadata": {},
   "outputs": [],
   "source": [
    "from rembg.bg import remove\n",
    "from PIL import Image\n",
    "\n",
    "input_path = 'IMG_4022.jpg'\n",
    "output_path = '325.png'\n",
    "\n",
    "input = Image.open(input_path)\n",
    "output = remove(input)\n",
    "output.save(output_path)"
   ]
  },
  {
   "cell_type": "code",
   "execution_count": 357,
   "id": "75bb9c93",
   "metadata": {},
   "outputs": [],
   "source": [
    "from rembg.bg import remove\n",
    "from PIL import Image\n",
    "\n",
    "input_path = 'IMG_4023.jpg'\n",
    "output_path = '326.png'\n",
    "\n",
    "input = Image.open(input_path)\n",
    "output = remove(input)\n",
    "output.save(output_path)"
   ]
  },
  {
   "cell_type": "code",
   "execution_count": 358,
   "id": "5b93c170",
   "metadata": {},
   "outputs": [],
   "source": [
    "from rembg.bg import remove\n",
    "from PIL import Image\n",
    "\n",
    "input_path = 'IMG_4024.jpg'\n",
    "output_path = '327.png'\n",
    "\n",
    "input = Image.open(input_path)\n",
    "output = remove(input)\n",
    "output.save(output_path)"
   ]
  },
  {
   "cell_type": "code",
   "execution_count": 359,
   "id": "7c2b3c86",
   "metadata": {},
   "outputs": [],
   "source": [
    "from rembg.bg import remove\n",
    "from PIL import Image\n",
    "\n",
    "input_path = 'IMG_4025.jpg'\n",
    "output_path = '328.png'\n",
    "\n",
    "input = Image.open(input_path)\n",
    "output = remove(input)\n",
    "output.save(output_path)"
   ]
  },
  {
   "cell_type": "code",
   "execution_count": 360,
   "id": "e74de23a",
   "metadata": {},
   "outputs": [],
   "source": [
    "from rembg.bg import remove\n",
    "from PIL import Image\n",
    "\n",
    "input_path = 'IMG_4026.jpg'\n",
    "output_path = '329.png'\n",
    "\n",
    "input = Image.open(input_path)\n",
    "output = remove(input)\n",
    "output.save(output_path)"
   ]
  },
  {
   "cell_type": "code",
   "execution_count": 361,
   "id": "9655413c",
   "metadata": {},
   "outputs": [],
   "source": [
    "from rembg.bg import remove\n",
    "from PIL import Image\n",
    "\n",
    "input_path = 'IMG_4027.jpg'\n",
    "output_path = '330.png'\n",
    "\n",
    "input = Image.open(input_path)\n",
    "output = remove(input)\n",
    "output.save(output_path)"
   ]
  },
  {
   "cell_type": "code",
   "execution_count": 362,
   "id": "496e6a61",
   "metadata": {},
   "outputs": [],
   "source": [
    "from rembg.bg import remove\n",
    "from PIL import Image\n",
    "\n",
    "input_path = 'IMG_4028.jpg'\n",
    "output_path = '331.png'\n",
    "\n",
    "input = Image.open(input_path)\n",
    "output = remove(input)\n",
    "output.save(output_path)"
   ]
  },
  {
   "cell_type": "code",
   "execution_count": 363,
   "id": "fc5346cc",
   "metadata": {},
   "outputs": [],
   "source": [
    "from rembg.bg import remove\n",
    "from PIL import Image\n",
    "\n",
    "input_path = 'IMG_4029.jpg'\n",
    "output_path = '332.png'\n",
    "\n",
    "input = Image.open(input_path)\n",
    "output = remove(input)\n",
    "output.save(output_path)"
   ]
  },
  {
   "cell_type": "code",
   "execution_count": 364,
   "id": "1a94c5e6",
   "metadata": {},
   "outputs": [],
   "source": [
    "from rembg.bg import remove\n",
    "from PIL import Image\n",
    "\n",
    "input_path = 'IMG_4030.jpg'\n",
    "output_path = '333.png'\n",
    "\n",
    "input = Image.open(input_path)\n",
    "output = remove(input)\n",
    "output.save(output_path)"
   ]
  },
  {
   "cell_type": "code",
   "execution_count": 365,
   "id": "d79bcde4",
   "metadata": {},
   "outputs": [],
   "source": [
    "from rembg.bg import remove\n",
    "from PIL import Image\n",
    "\n",
    "input_path = 'IMG_4031.jpg'\n",
    "output_path = '334.png'\n",
    "\n",
    "input = Image.open(input_path)\n",
    "output = remove(input)\n",
    "output.save(output_path)"
   ]
  },
  {
   "cell_type": "code",
   "execution_count": 366,
   "id": "1b0a01ca",
   "metadata": {},
   "outputs": [],
   "source": [
    "from rembg.bg import remove\n",
    "from PIL import Image\n",
    "\n",
    "input_path = 'IMG_4032.jpg'\n",
    "output_path = '335.png'\n",
    "\n",
    "input = Image.open(input_path)\n",
    "output = remove(input)\n",
    "output.save(output_path)"
   ]
  },
  {
   "cell_type": "code",
   "execution_count": 367,
   "id": "297d7a9a",
   "metadata": {},
   "outputs": [],
   "source": [
    "from rembg.bg import remove\n",
    "from PIL import Image\n",
    "\n",
    "input_path = 'IMG_4033.jpg'\n",
    "output_path = '336.png'\n",
    "\n",
    "input = Image.open(input_path)\n",
    "output = remove(input)\n",
    "output.save(output_path)"
   ]
  },
  {
   "cell_type": "code",
   "execution_count": 368,
   "id": "d52f5d29",
   "metadata": {},
   "outputs": [],
   "source": [
    "from rembg.bg import remove\n",
    "from PIL import Image\n",
    "\n",
    "input_path = 'IMG_4034.jpg'\n",
    "output_path = '337.png'\n",
    "\n",
    "input = Image.open(input_path)\n",
    "output = remove(input)\n",
    "output.save(output_path)"
   ]
  },
  {
   "cell_type": "code",
   "execution_count": 369,
   "id": "9bbfe241",
   "metadata": {},
   "outputs": [],
   "source": [
    "from rembg.bg import remove\n",
    "from PIL import Image\n",
    "\n",
    "input_path = 'IMG_4035.jpg'\n",
    "output_path = '338.png'\n",
    "\n",
    "input = Image.open(input_path)\n",
    "output = remove(input)\n",
    "output.save(output_path)"
   ]
  },
  {
   "cell_type": "code",
   "execution_count": 370,
   "id": "19282c3c",
   "metadata": {},
   "outputs": [],
   "source": [
    "from rembg.bg import remove\n",
    "from PIL import Image\n",
    "\n",
    "input_path = 'IMG_4036.jpg'\n",
    "output_path = '339.png'\n",
    "\n",
    "input = Image.open(input_path)\n",
    "output = remove(input)\n",
    "output.save(output_path)"
   ]
  },
  {
   "cell_type": "code",
   "execution_count": 371,
   "id": "3107a002",
   "metadata": {},
   "outputs": [],
   "source": [
    "from rembg.bg import remove\n",
    "from PIL import Image\n",
    "\n",
    "input_path = 'IMG_4037.jpg'\n",
    "output_path = '340.png'\n",
    "\n",
    "input = Image.open(input_path)\n",
    "output = remove(input)\n",
    "output.save(output_path)"
   ]
  },
  {
   "cell_type": "code",
   "execution_count": 372,
   "id": "c5001218",
   "metadata": {},
   "outputs": [],
   "source": [
    "from rembg.bg import remove\n",
    "from PIL import Image\n",
    "\n",
    "input_path = 'IMG_4038.jpg'\n",
    "output_path = '341.png'\n",
    "\n",
    "input = Image.open(input_path)\n",
    "output = remove(input)\n",
    "output.save(output_path)"
   ]
  },
  {
   "cell_type": "code",
   "execution_count": 373,
   "id": "42a6a020",
   "metadata": {},
   "outputs": [],
   "source": [
    "from rembg.bg import remove\n",
    "from PIL import Image\n",
    "\n",
    "input_path = 'IMG_4039.jpg'\n",
    "output_path = '342.png'\n",
    "\n",
    "input = Image.open(input_path)\n",
    "output = remove(input)\n",
    "output.save(output_path)"
   ]
  },
  {
   "cell_type": "code",
   "execution_count": 374,
   "id": "d68d580d",
   "metadata": {},
   "outputs": [],
   "source": [
    "from rembg.bg import remove\n",
    "from PIL import Image\n",
    "\n",
    "input_path = 'IMG_4040.jpg'\n",
    "output_path = '343.png'\n",
    "\n",
    "input = Image.open(input_path)\n",
    "output = remove(input)\n",
    "output.save(output_path)"
   ]
  },
  {
   "cell_type": "code",
   "execution_count": 375,
   "id": "ffae32ad",
   "metadata": {},
   "outputs": [],
   "source": [
    "from rembg.bg import remove\n",
    "from PIL import Image\n",
    "\n",
    "input_path = 'IMG_4041.jpg'\n",
    "output_path = '344.png'\n",
    "\n",
    "input = Image.open(input_path)\n",
    "output = remove(input)\n",
    "output.save(output_path)"
   ]
  },
  {
   "cell_type": "code",
   "execution_count": 376,
   "id": "4a327e58",
   "metadata": {},
   "outputs": [],
   "source": [
    "from rembg.bg import remove\n",
    "from PIL import Image\n",
    "\n",
    "input_path = 'IMG_4042.jpg'\n",
    "output_path = '345.png'\n",
    "\n",
    "input = Image.open(input_path)\n",
    "output = remove(input)\n",
    "output.save(output_path)"
   ]
  },
  {
   "cell_type": "code",
   "execution_count": 377,
   "id": "e7feeda5",
   "metadata": {},
   "outputs": [],
   "source": [
    "from rembg.bg import remove\n",
    "from PIL import Image\n",
    "\n",
    "input_path = 'IMG_4043.jpg'\n",
    "output_path = '346.png'\n",
    "\n",
    "input = Image.open(input_path)\n",
    "output = remove(input)\n",
    "output.save(output_path)"
   ]
  },
  {
   "cell_type": "code",
   "execution_count": 378,
   "id": "0e83a135",
   "metadata": {},
   "outputs": [],
   "source": [
    "from rembg.bg import remove\n",
    "from PIL import Image\n",
    "\n",
    "input_path = 'IMG_4044.jpg'\n",
    "output_path = '347.png'\n",
    "\n",
    "input = Image.open(input_path)\n",
    "output = remove(input)\n",
    "output.save(output_path)"
   ]
  },
  {
   "cell_type": "code",
   "execution_count": 379,
   "id": "8a552fe4",
   "metadata": {},
   "outputs": [],
   "source": [
    "from rembg.bg import remove\n",
    "from PIL import Image\n",
    "\n",
    "input_path = 'IMG_4045.jpg'\n",
    "output_path = '348.png'\n",
    "\n",
    "input = Image.open(input_path)\n",
    "output = remove(input)\n",
    "output.save(output_path)"
   ]
  },
  {
   "cell_type": "code",
   "execution_count": 380,
   "id": "a6678677",
   "metadata": {},
   "outputs": [],
   "source": [
    "from rembg.bg import remove\n",
    "from PIL import Image\n",
    "\n",
    "input_path = 'IMG_4046.jpg'\n",
    "output_path = '349.png'\n",
    "\n",
    "input = Image.open(input_path)\n",
    "output = remove(input)\n",
    "output.save(output_path)"
   ]
  },
  {
   "cell_type": "code",
   "execution_count": 381,
   "id": "7138470a",
   "metadata": {},
   "outputs": [],
   "source": [
    "from rembg.bg import remove\n",
    "from PIL import Image\n",
    "\n",
    "input_path = 'IMG_4047.jpg'\n",
    "output_path = '350.png'\n",
    "\n",
    "input = Image.open(input_path)\n",
    "output = remove(input)\n",
    "output.save(output_path)"
   ]
  },
  {
   "cell_type": "code",
   "execution_count": 382,
   "id": "81a78b67",
   "metadata": {},
   "outputs": [],
   "source": [
    "from rembg.bg import remove\n",
    "from PIL import Image\n",
    "\n",
    "input_path = 'IMG_4048.jpg'\n",
    "output_path = '351.png'\n",
    "\n",
    "input = Image.open(input_path)\n",
    "output = remove(input)\n",
    "output.save(output_path)"
   ]
  },
  {
   "cell_type": "code",
   "execution_count": 383,
   "id": "ebe6a535",
   "metadata": {},
   "outputs": [],
   "source": [
    "from rembg.bg import remove\n",
    "from PIL import Image\n",
    "\n",
    "input_path = 'IMG_4049.jpg'\n",
    "output_path = '352.png'\n",
    "\n",
    "input = Image.open(input_path)\n",
    "output = remove(input)\n",
    "output.save(output_path)"
   ]
  },
  {
   "cell_type": "code",
   "execution_count": 384,
   "id": "c6e90945",
   "metadata": {},
   "outputs": [],
   "source": [
    "from rembg.bg import remove\n",
    "from PIL import Image\n",
    "\n",
    "input_path = 'IMG_4050.jpg'\n",
    "output_path = '353.png'\n",
    "\n",
    "input = Image.open(input_path)\n",
    "output = remove(input)\n",
    "output.save(output_path)"
   ]
  },
  {
   "cell_type": "code",
   "execution_count": 385,
   "id": "f8f1ff4f",
   "metadata": {},
   "outputs": [],
   "source": [
    "from rembg.bg import remove\n",
    "from PIL import Image\n",
    "\n",
    "input_path = 'IMG_4051.jpg'\n",
    "output_path = '354.png'\n",
    "\n",
    "input = Image.open(input_path)\n",
    "output = remove(input)\n",
    "output.save(output_path)"
   ]
  },
  {
   "cell_type": "code",
   "execution_count": 386,
   "id": "bbb6d049",
   "metadata": {},
   "outputs": [],
   "source": [
    "from rembg.bg import remove\n",
    "from PIL import Image\n",
    "\n",
    "input_path = 'IMG_4052.jpg'\n",
    "output_path = '355.png'\n",
    "\n",
    "input = Image.open(input_path)\n",
    "output = remove(input)\n",
    "output.save(output_path)"
   ]
  },
  {
   "cell_type": "code",
   "execution_count": 387,
   "id": "fc4ab61b",
   "metadata": {},
   "outputs": [],
   "source": [
    "from rembg.bg import remove\n",
    "from PIL import Image\n",
    "\n",
    "input_path = 'IMG_4053.jpg'\n",
    "output_path = '356.png'\n",
    "\n",
    "input = Image.open(input_path)\n",
    "output = remove(input)\n",
    "output.save(output_path)"
   ]
  },
  {
   "cell_type": "code",
   "execution_count": 388,
   "id": "c04804ec",
   "metadata": {},
   "outputs": [],
   "source": [
    "from rembg.bg import remove\n",
    "from PIL import Image\n",
    "\n",
    "input_path = 'IMG_4054.jpg'\n",
    "output_path = '357.png'\n",
    "\n",
    "input = Image.open(input_path)\n",
    "output = remove(input)\n",
    "output.save(output_path)"
   ]
  },
  {
   "cell_type": "code",
   "execution_count": 389,
   "id": "5cf6f76d",
   "metadata": {},
   "outputs": [],
   "source": [
    "from rembg.bg import remove\n",
    "from PIL import Image\n",
    "\n",
    "input_path = 'IMG_4055.jpg'\n",
    "output_path = '358.png'\n",
    "\n",
    "input = Image.open(input_path)\n",
    "output = remove(input)\n",
    "output.save(output_path)"
   ]
  },
  {
   "cell_type": "code",
   "execution_count": 390,
   "id": "31a92f48",
   "metadata": {},
   "outputs": [],
   "source": [
    "from rembg.bg import remove\n",
    "from PIL import Image\n",
    "\n",
    "input_path = 'IMG_4056.jpg'\n",
    "output_path = '359.png'\n",
    "\n",
    "input = Image.open(input_path)\n",
    "output = remove(input)\n",
    "output.save(output_path)"
   ]
  },
  {
   "cell_type": "code",
   "execution_count": 391,
   "id": "f140ef43",
   "metadata": {},
   "outputs": [],
   "source": [
    "from rembg.bg import remove\n",
    "from PIL import Image\n",
    "\n",
    "input_path = 'IMG_4057.jpg'\n",
    "output_path = '360.png'\n",
    "\n",
    "input = Image.open(input_path)\n",
    "output = remove(input)\n",
    "output.save(output_path)"
   ]
  },
  {
   "cell_type": "code",
   "execution_count": 392,
   "id": "3328ba3c",
   "metadata": {},
   "outputs": [],
   "source": [
    "from rembg.bg import remove\n",
    "from PIL import Image\n",
    "\n",
    "input_path = 'IMG_4058.jpg'\n",
    "output_path = '361.png'\n",
    "\n",
    "input = Image.open(input_path)\n",
    "output = remove(input)\n",
    "output.save(output_path)"
   ]
  },
  {
   "cell_type": "code",
   "execution_count": 393,
   "id": "ea2810fc",
   "metadata": {},
   "outputs": [],
   "source": [
    "from rembg.bg import remove\n",
    "from PIL import Image\n",
    "\n",
    "input_path = 'IMG_4059.jpg'\n",
    "output_path = '362.png'\n",
    "\n",
    "input = Image.open(input_path)\n",
    "output = remove(input)\n",
    "output.save(output_path)"
   ]
  },
  {
   "cell_type": "code",
   "execution_count": 394,
   "id": "e5b641b8",
   "metadata": {},
   "outputs": [],
   "source": [
    "from rembg.bg import remove\n",
    "from PIL import Image\n",
    "\n",
    "input_path = 'IMG_4060.jpg'\n",
    "output_path = '363.png'\n",
    "\n",
    "input = Image.open(input_path)\n",
    "output = remove(input)\n",
    "output.save(output_path)"
   ]
  },
  {
   "cell_type": "code",
   "execution_count": 395,
   "id": "924e684f",
   "metadata": {},
   "outputs": [],
   "source": [
    "from rembg.bg import remove\n",
    "from PIL import Image\n",
    "\n",
    "input_path = 'IMG_4061.jpg'\n",
    "output_path = '364.png'\n",
    "\n",
    "input = Image.open(input_path)\n",
    "output = remove(input)\n",
    "output.save(output_path)"
   ]
  },
  {
   "cell_type": "code",
   "execution_count": 396,
   "id": "e79da708",
   "metadata": {},
   "outputs": [],
   "source": [
    "from rembg.bg import remove\n",
    "from PIL import Image\n",
    "\n",
    "input_path = 'IMG_4062.jpg'\n",
    "output_path = '365.png'\n",
    "\n",
    "input = Image.open(input_path)\n",
    "output = remove(input)\n",
    "output.save(output_path)"
   ]
  },
  {
   "cell_type": "code",
   "execution_count": 397,
   "id": "d438be34",
   "metadata": {},
   "outputs": [],
   "source": [
    "from rembg.bg import remove\n",
    "from PIL import Image\n",
    "\n",
    "input_path = 'IMG_4063.jpg'\n",
    "output_path = '366.png'\n",
    "\n",
    "input = Image.open(input_path)\n",
    "output = remove(input)\n",
    "output.save(output_path)"
   ]
  },
  {
   "cell_type": "code",
   "execution_count": 398,
   "id": "eaf62959",
   "metadata": {},
   "outputs": [],
   "source": [
    "from rembg.bg import remove\n",
    "from PIL import Image\n",
    "\n",
    "input_path = 'IMG_4064.jpg'\n",
    "output_path = '367.png'\n",
    "\n",
    "input = Image.open(input_path)\n",
    "output = remove(input)\n",
    "output.save(output_path)"
   ]
  },
  {
   "cell_type": "code",
   "execution_count": 399,
   "id": "66851bff",
   "metadata": {},
   "outputs": [],
   "source": [
    "from rembg.bg import remove\n",
    "from PIL import Image\n",
    "\n",
    "input_path = 'IMG_4065.jpg'\n",
    "output_path = '368.png'\n",
    "\n",
    "input = Image.open(input_path)\n",
    "output = remove(input)\n",
    "output.save(output_path)"
   ]
  },
  {
   "cell_type": "code",
   "execution_count": 400,
   "id": "39e26184",
   "metadata": {},
   "outputs": [],
   "source": [
    "from rembg.bg import remove\n",
    "from PIL import Image\n",
    "\n",
    "input_path = 'IMG_4066.jpg'\n",
    "output_path = '369.png'\n",
    "\n",
    "input = Image.open(input_path)\n",
    "output = remove(input)\n",
    "output.save(output_path)"
   ]
  },
  {
   "cell_type": "code",
   "execution_count": 401,
   "id": "9d7f4c11",
   "metadata": {},
   "outputs": [],
   "source": [
    "from rembg.bg import remove\n",
    "from PIL import Image\n",
    "\n",
    "input_path = 'IMG_4067.jpg'\n",
    "output_path = '370.png'\n",
    "\n",
    "input = Image.open(input_path)\n",
    "output = remove(input)\n",
    "output.save(output_path)"
   ]
  },
  {
   "cell_type": "code",
   "execution_count": 402,
   "id": "09236ea7",
   "metadata": {},
   "outputs": [],
   "source": [
    "from rembg.bg import remove\n",
    "from PIL import Image\n",
    "\n",
    "input_path = 'IMG_4068.jpg'\n",
    "output_path = '371.png'\n",
    "\n",
    "input = Image.open(input_path)\n",
    "output = remove(input)\n",
    "output.save(output_path)"
   ]
  },
  {
   "cell_type": "code",
   "execution_count": 403,
   "id": "9be3f73b",
   "metadata": {},
   "outputs": [],
   "source": [
    "from rembg.bg import remove\n",
    "from PIL import Image\n",
    "\n",
    "input_path = 'IMG_4069.jpg'\n",
    "output_path = '372.png'\n",
    "\n",
    "input = Image.open(input_path)\n",
    "output = remove(input)\n",
    "output.save(output_path)"
   ]
  },
  {
   "cell_type": "code",
   "execution_count": 404,
   "id": "abb271f5",
   "metadata": {},
   "outputs": [],
   "source": [
    "from rembg.bg import remove\n",
    "from PIL import Image\n",
    "\n",
    "input_path = 'IMG_4070.jpg'\n",
    "output_path = '373.png'\n",
    "\n",
    "input = Image.open(input_path)\n",
    "output = remove(input)\n",
    "output.save(output_path)"
   ]
  },
  {
   "cell_type": "code",
   "execution_count": 405,
   "id": "7b8d0f57",
   "metadata": {},
   "outputs": [],
   "source": [
    "from rembg.bg import remove\n",
    "from PIL import Image\n",
    "\n",
    "input_path = 'IMG_4071.jpg'\n",
    "output_path = '374.png'\n",
    "\n",
    "input = Image.open(input_path)\n",
    "output = remove(input)\n",
    "output.save(output_path)"
   ]
  },
  {
   "cell_type": "code",
   "execution_count": 406,
   "id": "62de6772",
   "metadata": {},
   "outputs": [],
   "source": [
    "from rembg.bg import remove\n",
    "from PIL import Image\n",
    "\n",
    "input_path = 'IMG_4072.jpg'\n",
    "output_path = '375.png'\n",
    "\n",
    "input = Image.open(input_path)\n",
    "output = remove(input)\n",
    "output.save(output_path)"
   ]
  },
  {
   "cell_type": "code",
   "execution_count": 407,
   "id": "ed3c87f1",
   "metadata": {},
   "outputs": [],
   "source": [
    "from rembg.bg import remove\n",
    "from PIL import Image\n",
    "\n",
    "input_path = 'IMG_4073.jpg'\n",
    "output_path = '376.png'\n",
    "\n",
    "input = Image.open(input_path)\n",
    "output = remove(input)\n",
    "output.save(output_path)"
   ]
  },
  {
   "cell_type": "code",
   "execution_count": 408,
   "id": "956338cc",
   "metadata": {},
   "outputs": [],
   "source": [
    "from rembg.bg import remove\n",
    "from PIL import Image\n",
    "\n",
    "input_path = 'IMG_4074.jpg'\n",
    "output_path = '377.png'\n",
    "\n",
    "input = Image.open(input_path)\n",
    "output = remove(input)\n",
    "output.save(output_path)"
   ]
  },
  {
   "cell_type": "code",
   "execution_count": 409,
   "id": "b2114284",
   "metadata": {},
   "outputs": [],
   "source": [
    "from rembg.bg import remove\n",
    "from PIL import Image\n",
    "\n",
    "input_path = 'IMG_4075.jpg'\n",
    "output_path = '378.png'\n",
    "\n",
    "input = Image.open(input_path)\n",
    "output = remove(input)\n",
    "output.save(output_path)"
   ]
  },
  {
   "cell_type": "code",
   "execution_count": 410,
   "id": "196bb5e0",
   "metadata": {},
   "outputs": [],
   "source": [
    "from rembg.bg import remove\n",
    "from PIL import Image\n",
    "\n",
    "input_path = 'IMG_4076.jpg'\n",
    "output_path = '379.png'\n",
    "\n",
    "input = Image.open(input_path)\n",
    "output = remove(input)\n",
    "output.save(output_path)"
   ]
  },
  {
   "cell_type": "code",
   "execution_count": 411,
   "id": "c95738ba",
   "metadata": {},
   "outputs": [],
   "source": [
    "from rembg.bg import remove\n",
    "from PIL import Image\n",
    "\n",
    "input_path = 'IMG_4077.jpg'\n",
    "output_path = '380.png'\n",
    "\n",
    "input = Image.open(input_path)\n",
    "output = remove(input)\n",
    "output.save(output_path)"
   ]
  },
  {
   "cell_type": "code",
   "execution_count": 412,
   "id": "6c603fa2",
   "metadata": {},
   "outputs": [],
   "source": [
    "from rembg.bg import remove\n",
    "from PIL import Image\n",
    "\n",
    "input_path = 'IMG_4078.jpg'\n",
    "output_path = '381.png'\n",
    "\n",
    "input = Image.open(input_path)\n",
    "output = remove(input)\n",
    "output.save(output_path)"
   ]
  },
  {
   "cell_type": "code",
   "execution_count": 413,
   "id": "b7246614",
   "metadata": {},
   "outputs": [],
   "source": [
    "from rembg.bg import remove\n",
    "from PIL import Image\n",
    "\n",
    "input_path = 'IMG_4079.jpg'\n",
    "output_path = '382.png'\n",
    "\n",
    "input = Image.open(input_path)\n",
    "output = remove(input)\n",
    "output.save(output_path)"
   ]
  },
  {
   "cell_type": "code",
   "execution_count": 414,
   "id": "fb205691",
   "metadata": {},
   "outputs": [],
   "source": [
    "from rembg.bg import remove\n",
    "from PIL import Image\n",
    "\n",
    "input_path = 'IMG_4080.jpg'\n",
    "output_path = '383.png'\n",
    "\n",
    "input = Image.open(input_path)\n",
    "output = remove(input)\n",
    "output.save(output_path)"
   ]
  },
  {
   "cell_type": "code",
   "execution_count": 415,
   "id": "557d5982",
   "metadata": {},
   "outputs": [],
   "source": [
    "from rembg.bg import remove\n",
    "from PIL import Image\n",
    "\n",
    "input_path = 'IMG_4081.jpg'\n",
    "output_path = '384.png'\n",
    "\n",
    "input = Image.open(input_path)\n",
    "output = remove(input)\n",
    "output.save(output_path)"
   ]
  },
  {
   "cell_type": "code",
   "execution_count": 416,
   "id": "319f3bd0",
   "metadata": {},
   "outputs": [],
   "source": [
    "from rembg.bg import remove\n",
    "from PIL import Image\n",
    "\n",
    "input_path = 'IMG_4082.jpg'\n",
    "output_path = '385.png'\n",
    "\n",
    "input = Image.open(input_path)\n",
    "output = remove(input)\n",
    "output.save(output_path)"
   ]
  },
  {
   "cell_type": "code",
   "execution_count": 417,
   "id": "1d73a373",
   "metadata": {},
   "outputs": [],
   "source": [
    "from rembg.bg import remove\n",
    "from PIL import Image\n",
    "\n",
    "input_path = 'IMG_4083.jpg'\n",
    "output_path = '386.png'\n",
    "\n",
    "input = Image.open(input_path)\n",
    "output = remove(input)\n",
    "output.save(output_path)"
   ]
  },
  {
   "cell_type": "code",
   "execution_count": 418,
   "id": "2663228a",
   "metadata": {},
   "outputs": [],
   "source": [
    "from rembg.bg import remove\n",
    "from PIL import Image\n",
    "\n",
    "input_path = 'IMG_4084.jpg'\n",
    "output_path = '387.png'\n",
    "\n",
    "input = Image.open(input_path)\n",
    "output = remove(input)\n",
    "output.save(output_path)"
   ]
  },
  {
   "cell_type": "code",
   "execution_count": 419,
   "id": "75bf766d",
   "metadata": {},
   "outputs": [],
   "source": [
    "from rembg.bg import remove\n",
    "from PIL import Image\n",
    "\n",
    "input_path = 'IMG_4085.jpg'\n",
    "output_path = '388.png'\n",
    "\n",
    "input = Image.open(input_path)\n",
    "output = remove(input)\n",
    "output.save(output_path)"
   ]
  },
  {
   "cell_type": "code",
   "execution_count": 420,
   "id": "2863c111",
   "metadata": {},
   "outputs": [],
   "source": [
    "from rembg.bg import remove\n",
    "from PIL import Image\n",
    "\n",
    "input_path = 'IMG_4086.jpg'\n",
    "output_path = '389.png'\n",
    "\n",
    "input = Image.open(input_path)\n",
    "output = remove(input)\n",
    "output.save(output_path)"
   ]
  },
  {
   "cell_type": "code",
   "execution_count": 421,
   "id": "05e62a9f",
   "metadata": {},
   "outputs": [],
   "source": [
    "from rembg.bg import remove\n",
    "from PIL import Image\n",
    "\n",
    "input_path = 'IMG_4087.jpg'\n",
    "output_path = '390.png'\n",
    "\n",
    "input = Image.open(input_path)\n",
    "output = remove(input)\n",
    "output.save(output_path)"
   ]
  },
  {
   "cell_type": "code",
   "execution_count": 422,
   "id": "2abf9274",
   "metadata": {},
   "outputs": [],
   "source": [
    "from rembg.bg import remove\n",
    "from PIL import Image\n",
    "\n",
    "input_path = 'IMG_4088.jpg'\n",
    "output_path = '391.png'\n",
    "\n",
    "input = Image.open(input_path)\n",
    "output = remove(input)\n",
    "output.save(output_path)"
   ]
  },
  {
   "cell_type": "code",
   "execution_count": 423,
   "id": "d0356ffc",
   "metadata": {},
   "outputs": [],
   "source": [
    "from rembg.bg import remove\n",
    "from PIL import Image\n",
    "\n",
    "input_path = 'IMG_4089.jpg'\n",
    "output_path = '392.png'\n",
    "\n",
    "input = Image.open(input_path)\n",
    "output = remove(input)\n",
    "output.save(output_path)"
   ]
  },
  {
   "cell_type": "code",
   "execution_count": 424,
   "id": "05f2b565",
   "metadata": {},
   "outputs": [],
   "source": [
    "from rembg.bg import remove\n",
    "from PIL import Image\n",
    "\n",
    "input_path = 'IMG_4090.jpg'\n",
    "output_path = '393.png'\n",
    "\n",
    "input = Image.open(input_path)\n",
    "output = remove(input)\n",
    "output.save(output_path)"
   ]
  },
  {
   "cell_type": "code",
   "execution_count": 425,
   "id": "32a40a7e",
   "metadata": {},
   "outputs": [],
   "source": [
    "from rembg.bg import remove\n",
    "from PIL import Image\n",
    "\n",
    "input_path = 'IMG_4091.jpg'\n",
    "output_path = '394.png'\n",
    "\n",
    "input = Image.open(input_path)\n",
    "output = remove(input)\n",
    "output.save(output_path)"
   ]
  },
  {
   "cell_type": "code",
   "execution_count": 432,
   "id": "e3552aab",
   "metadata": {},
   "outputs": [],
   "source": [
    "from rembg.bg import remove\n",
    "from PIL import Image\n",
    "\n",
    "input_path = 'IMG_4092.jpg'\n",
    "output_path = '395.png'\n",
    "\n",
    "input = Image.open(input_path)\n",
    "output = remove(input)\n",
    "output.save(output_path)"
   ]
  },
  {
   "cell_type": "code",
   "execution_count": 433,
   "id": "1b8a5e9b",
   "metadata": {},
   "outputs": [],
   "source": [
    "from rembg.bg import remove\n",
    "from PIL import Image\n",
    "\n",
    "input_path = 'IMG_4093.jpg'\n",
    "output_path = '396.png'\n",
    "\n",
    "input = Image.open(input_path)\n",
    "output = remove(input)\n",
    "output.save(output_path)"
   ]
  },
  {
   "cell_type": "code",
   "execution_count": 434,
   "id": "e65b3c0b",
   "metadata": {},
   "outputs": [],
   "source": [
    "from rembg.bg import remove\n",
    "from PIL import Image\n",
    "\n",
    "input_path = 'IMG_4094.jpg'\n",
    "output_path = '397.png'\n",
    "\n",
    "input = Image.open(input_path)\n",
    "output = remove(input)\n",
    "output.save(output_path)"
   ]
  },
  {
   "cell_type": "code",
   "execution_count": 435,
   "id": "5348b9ca",
   "metadata": {},
   "outputs": [],
   "source": [
    "from rembg.bg import remove\n",
    "from PIL import Image\n",
    "\n",
    "input_path = 'IMG_4095.jpg'\n",
    "output_path = '398.png'\n",
    "\n",
    "input = Image.open(input_path)\n",
    "output = remove(input)\n",
    "output.save(output_path)"
   ]
  },
  {
   "cell_type": "code",
   "execution_count": 436,
   "id": "fe6913e9",
   "metadata": {},
   "outputs": [],
   "source": [
    "from rembg.bg import remove\n",
    "from PIL import Image\n",
    "\n",
    "input_path = 'IMG_4096.jpg'\n",
    "output_path = '399.png'\n",
    "\n",
    "input = Image.open(input_path)\n",
    "output = remove(input)\n",
    "output.save(output_path)"
   ]
  },
  {
   "cell_type": "code",
   "execution_count": 437,
   "id": "62639fdd",
   "metadata": {},
   "outputs": [],
   "source": [
    "from rembg.bg import remove\n",
    "from PIL import Image\n",
    "\n",
    "input_path = 'IMG_4097.jpg'\n",
    "output_path = '400.png'\n",
    "\n",
    "input = Image.open(input_path)\n",
    "output = remove(input)\n",
    "output.save(output_path)"
   ]
  },
  {
   "cell_type": "code",
   "execution_count": 438,
   "id": "71b47416",
   "metadata": {},
   "outputs": [],
   "source": [
    "from rembg.bg import remove\n",
    "from PIL import Image\n",
    "\n",
    "input_path = 'IMG_4098.jpg'\n",
    "output_path = '401.png'\n",
    "\n",
    "input = Image.open(input_path)\n",
    "output = remove(input)\n",
    "output.save(output_path)"
   ]
  },
  {
   "cell_type": "code",
   "execution_count": 439,
   "id": "10e68d02",
   "metadata": {},
   "outputs": [],
   "source": [
    "from rembg.bg import remove\n",
    "from PIL import Image\n",
    "\n",
    "input_path = 'IMG_4099.jpg'\n",
    "output_path = '402.png'\n",
    "\n",
    "input = Image.open(input_path)\n",
    "output = remove(input)\n",
    "output.save(output_path)"
   ]
  },
  {
   "cell_type": "code",
   "execution_count": 440,
   "id": "65cd82c7",
   "metadata": {},
   "outputs": [],
   "source": [
    "from rembg.bg import remove\n",
    "from PIL import Image\n",
    "\n",
    "input_path = 'IMG_4100.jpg'\n",
    "output_path = '403.png'\n",
    "\n",
    "input = Image.open(input_path)\n",
    "output = remove(input)\n",
    "output.save(output_path)"
   ]
  },
  {
   "cell_type": "code",
   "execution_count": 441,
   "id": "cc1de6ca",
   "metadata": {},
   "outputs": [],
   "source": [
    "from rembg.bg import remove\n",
    "from PIL import Image\n",
    "\n",
    "input_path = 'IMG_4101.jpg'\n",
    "output_path = '404.png'\n",
    "\n",
    "input = Image.open(input_path)\n",
    "output = remove(input)\n",
    "output.save(output_path)"
   ]
  },
  {
   "cell_type": "code",
   "execution_count": 442,
   "id": "ad93f1ab",
   "metadata": {},
   "outputs": [],
   "source": [
    "from rembg.bg import remove\n",
    "from PIL import Image\n",
    "\n",
    "input_path = 'IMG_4102.jpg'\n",
    "output_path = '405.png'\n",
    "\n",
    "input = Image.open(input_path)\n",
    "output = remove(input)\n",
    "output.save(output_path)"
   ]
  },
  {
   "cell_type": "code",
   "execution_count": 443,
   "id": "b5c97ed7",
   "metadata": {},
   "outputs": [],
   "source": [
    "from rembg.bg import remove\n",
    "from PIL import Image\n",
    "\n",
    "input_path = 'IMG_4103.jpg'\n",
    "output_path = '406.png'\n",
    "\n",
    "input = Image.open(input_path)\n",
    "output = remove(input)\n",
    "output.save(output_path)"
   ]
  },
  {
   "cell_type": "code",
   "execution_count": 444,
   "id": "cfd30430",
   "metadata": {},
   "outputs": [],
   "source": [
    "from rembg.bg import remove\n",
    "from PIL import Image\n",
    "\n",
    "input_path = 'IMG_4104.jpg'\n",
    "output_path = '407.png'\n",
    "\n",
    "input = Image.open(input_path)\n",
    "output = remove(input)\n",
    "output.save(output_path)"
   ]
  },
  {
   "cell_type": "code",
   "execution_count": 445,
   "id": "88c1b0f7",
   "metadata": {},
   "outputs": [],
   "source": [
    "from rembg.bg import remove\n",
    "from PIL import Image\n",
    "\n",
    "input_path = 'IMG_4105.jpg'\n",
    "output_path = '408.png'\n",
    "\n",
    "input = Image.open(input_path)\n",
    "output = remove(input)\n",
    "output.save(output_path)"
   ]
  },
  {
   "cell_type": "code",
   "execution_count": 446,
   "id": "d657f698",
   "metadata": {},
   "outputs": [],
   "source": [
    "from rembg.bg import remove\n",
    "from PIL import Image\n",
    "\n",
    "input_path = 'IMG_4106.jpg'\n",
    "output_path = '409.png'\n",
    "\n",
    "input = Image.open(input_path)\n",
    "output = remove(input)\n",
    "output.save(output_path)"
   ]
  },
  {
   "cell_type": "code",
   "execution_count": 447,
   "id": "9d5d0ba8",
   "metadata": {},
   "outputs": [],
   "source": [
    "from rembg.bg import remove\n",
    "from PIL import Image\n",
    "\n",
    "input_path = 'IMG_4107.jpg'\n",
    "output_path = '410.png'\n",
    "\n",
    "input = Image.open(input_path)\n",
    "output = remove(input)\n",
    "output.save(output_path)"
   ]
  },
  {
   "cell_type": "code",
   "execution_count": 448,
   "id": "1f08b0b7",
   "metadata": {},
   "outputs": [],
   "source": [
    "from rembg.bg import remove\n",
    "from PIL import Image\n",
    "\n",
    "input_path = 'IMG_4108.jpg'\n",
    "output_path = '411.png'\n",
    "\n",
    "input = Image.open(input_path)\n",
    "output = remove(input)\n",
    "output.save(output_path)"
   ]
  },
  {
   "cell_type": "code",
   "execution_count": 449,
   "id": "cd74cc3e",
   "metadata": {},
   "outputs": [],
   "source": [
    "from rembg.bg import remove\n",
    "from PIL import Image\n",
    "\n",
    "input_path = 'IMG_4109.jpg'\n",
    "output_path = '412.png'\n",
    "\n",
    "input = Image.open(input_path)\n",
    "output = remove(input)\n",
    "output.save(output_path)"
   ]
  },
  {
   "cell_type": "code",
   "execution_count": 450,
   "id": "5961e577",
   "metadata": {},
   "outputs": [],
   "source": [
    "from rembg.bg import remove\n",
    "from PIL import Image\n",
    "\n",
    "input_path = 'IMG_4110.jpg'\n",
    "output_path = '413.png'\n",
    "\n",
    "input = Image.open(input_path)\n",
    "output = remove(input)\n",
    "output.save(output_path)"
   ]
  },
  {
   "cell_type": "code",
   "execution_count": 451,
   "id": "de03dfcd",
   "metadata": {},
   "outputs": [],
   "source": [
    "from rembg.bg import remove\n",
    "from PIL import Image\n",
    "\n",
    "input_path = 'IMG_4111.jpg'\n",
    "output_path = '414.png'\n",
    "\n",
    "input = Image.open(input_path)\n",
    "output = remove(input)\n",
    "output.save(output_path)"
   ]
  },
  {
   "cell_type": "code",
   "execution_count": 452,
   "id": "5721c0af",
   "metadata": {},
   "outputs": [],
   "source": [
    "from rembg.bg import remove\n",
    "from PIL import Image\n",
    "\n",
    "input_path = 'IMG_4110.jpg'\n",
    "output_path = '413.png'\n",
    "\n",
    "input = Image.open(input_path)\n",
    "output = remove(input)\n",
    "output.save(output_path)"
   ]
  },
  {
   "cell_type": "code",
   "execution_count": 453,
   "id": "a3720a71",
   "metadata": {},
   "outputs": [],
   "source": [
    "from rembg.bg import remove\n",
    "from PIL import Image\n",
    "\n",
    "input_path = 'IMG_4111.jpg'\n",
    "output_path = '414.png'\n",
    "\n",
    "input = Image.open(input_path)\n",
    "output = remove(input)\n",
    "output.save(output_path)"
   ]
  },
  {
   "cell_type": "code",
   "execution_count": 455,
   "id": "409b1471",
   "metadata": {},
   "outputs": [],
   "source": [
    "from rembg.bg import remove\n",
    "from PIL import Image\n",
    "\n",
    "input_path = 'IMG_4112.jpg'\n",
    "output_path = '415.png'\n",
    "\n",
    "input = Image.open(input_path)\n",
    "output = remove(input)\n",
    "output.save(output_path)"
   ]
  },
  {
   "cell_type": "code",
   "execution_count": 456,
   "id": "04bce5d5",
   "metadata": {},
   "outputs": [],
   "source": [
    "from rembg.bg import remove\n",
    "from PIL import Image\n",
    "\n",
    "input_path = 'IMG_4113.jpg'\n",
    "output_path = '416.png'\n",
    "\n",
    "input = Image.open(input_path)\n",
    "output = remove(input)\n",
    "output.save(output_path)"
   ]
  },
  {
   "cell_type": "code",
   "execution_count": 457,
   "id": "8519dbe8",
   "metadata": {},
   "outputs": [],
   "source": [
    "from rembg.bg import remove\n",
    "from PIL import Image\n",
    "\n",
    "input_path = 'IMG_4114.jpg'\n",
    "output_path = '417.png'\n",
    "\n",
    "input = Image.open(input_path)\n",
    "output = remove(input)\n",
    "output.save(output_path)"
   ]
  },
  {
   "cell_type": "code",
   "execution_count": 458,
   "id": "73241e29",
   "metadata": {},
   "outputs": [],
   "source": [
    "from rembg.bg import remove\n",
    "from PIL import Image\n",
    "\n",
    "input_path = 'IMG_4115.jpg'\n",
    "output_path = '418.png'\n",
    "\n",
    "input = Image.open(input_path)\n",
    "output = remove(input)\n",
    "output.save(output_path)"
   ]
  },
  {
   "cell_type": "code",
   "execution_count": 459,
   "id": "413f4800",
   "metadata": {},
   "outputs": [],
   "source": [
    "from rembg.bg import remove\n",
    "from PIL import Image\n",
    "\n",
    "input_path = 'IMG_4116.jpg'\n",
    "output_path = '419.png'\n",
    "\n",
    "input = Image.open(input_path)\n",
    "output = remove(input)\n",
    "output.save(output_path)"
   ]
  },
  {
   "cell_type": "code",
   "execution_count": 460,
   "id": "8c577eb7",
   "metadata": {},
   "outputs": [],
   "source": [
    "from rembg.bg import remove\n",
    "from PIL import Image\n",
    "\n",
    "input_path = 'IMG_4117.jpg'\n",
    "output_path = '420.png'\n",
    "\n",
    "input = Image.open(input_path)\n",
    "output = remove(input)\n",
    "output.save(output_path)"
   ]
  },
  {
   "cell_type": "code",
   "execution_count": 461,
   "id": "b64f4195",
   "metadata": {},
   "outputs": [],
   "source": [
    "from rembg.bg import remove\n",
    "from PIL import Image\n",
    "\n",
    "input_path = 'IMG_4118.jpg'\n",
    "output_path = '421.png'\n",
    "\n",
    "input = Image.open(input_path)\n",
    "output = remove(input)\n",
    "output.save(output_path)"
   ]
  },
  {
   "cell_type": "code",
   "execution_count": 462,
   "id": "b89a4a75",
   "metadata": {},
   "outputs": [],
   "source": [
    "from rembg.bg import remove\n",
    "from PIL import Image\n",
    "\n",
    "input_path = 'IMG_4119.jpg'\n",
    "output_path = '422.png'\n",
    "\n",
    "input = Image.open(input_path)\n",
    "output = remove(input)\n",
    "output.save(output_path)"
   ]
  },
  {
   "cell_type": "code",
   "execution_count": 1,
   "id": "11545e6b",
   "metadata": {},
   "outputs": [],
   "source": [
    "from rembg.bg import remove\n",
    "from PIL import Image\n",
    "\n",
    "input_path = 'IMG_4120.jpg'\n",
    "output_path = '423.png'\n",
    "\n",
    "input = Image.open(input_path)\n",
    "output = remove(input)\n",
    "output.save(output_path)"
   ]
  },
  {
   "cell_type": "code",
   "execution_count": 1,
   "id": "d82cf4cb",
   "metadata": {},
   "outputs": [],
   "source": [
    "from rembg.bg import remove\n",
    "from PIL import Image\n",
    "\n",
    "input_path = 'IMG_4121.jpg'\n",
    "output_path = '424.png'\n",
    "\n",
    "input = Image.open(input_path)\n",
    "output = remove(input)\n",
    "output.save(output_path)"
   ]
  },
  {
   "cell_type": "code",
   "execution_count": 2,
   "id": "6230d76e",
   "metadata": {},
   "outputs": [],
   "source": [
    "from rembg.bg import remove\n",
    "from PIL import Image\n",
    "\n",
    "input_path = 'IMG_4122.jpg'\n",
    "output_path = '425.png'\n",
    "\n",
    "input = Image.open(input_path)\n",
    "output = remove(input)\n",
    "output.save(output_path)"
   ]
  },
  {
   "cell_type": "code",
   "execution_count": 3,
   "id": "d5292a20",
   "metadata": {},
   "outputs": [],
   "source": [
    "from rembg.bg import remove\n",
    "from PIL import Image\n",
    "\n",
    "input_path = 'IMG_4123.jpg'\n",
    "output_path = '426.png'\n",
    "\n",
    "input = Image.open(input_path)\n",
    "output = remove(input)\n",
    "output.save(output_path)"
   ]
  },
  {
   "cell_type": "code",
   "execution_count": 4,
   "id": "116d2f64",
   "metadata": {},
   "outputs": [],
   "source": [
    "from rembg.bg import remove\n",
    "from PIL import Image\n",
    "\n",
    "input_path = 'IMG_4124.jpg'\n",
    "output_path = '427.png'\n",
    "\n",
    "input = Image.open(input_path)\n",
    "output = remove(input)\n",
    "output.save(output_path)"
   ]
  },
  {
   "cell_type": "code",
   "execution_count": 5,
   "id": "bd91eb2b",
   "metadata": {},
   "outputs": [],
   "source": [
    "from rembg.bg import remove\n",
    "from PIL import Image\n",
    "\n",
    "input_path = 'IMG_4125.jpg'\n",
    "output_path = '428.png'\n",
    "\n",
    "input = Image.open(input_path)\n",
    "output = remove(input)\n",
    "output.save(output_path)"
   ]
  },
  {
   "cell_type": "code",
   "execution_count": 6,
   "id": "692c4dfc",
   "metadata": {},
   "outputs": [],
   "source": [
    "from rembg.bg import remove\n",
    "from PIL import Image\n",
    "\n",
    "input_path = 'IMG_4126.jpg'\n",
    "output_path = '429.png'\n",
    "\n",
    "input = Image.open(input_path)\n",
    "output = remove(input)\n",
    "output.save(output_path)"
   ]
  },
  {
   "cell_type": "code",
   "execution_count": 7,
   "id": "b85a32a3",
   "metadata": {},
   "outputs": [],
   "source": [
    "from rembg.bg import remove\n",
    "from PIL import Image\n",
    "\n",
    "input_path = 'IMG_4127.jpg'\n",
    "output_path = '430.png'\n",
    "\n",
    "input = Image.open(input_path)\n",
    "output = remove(input)\n",
    "output.save(output_path)"
   ]
  },
  {
   "cell_type": "code",
   "execution_count": 8,
   "id": "63c5a4d9",
   "metadata": {},
   "outputs": [],
   "source": [
    "from rembg.bg import remove\n",
    "from PIL import Image\n",
    "\n",
    "input_path = 'IMG_4128.jpg'\n",
    "output_path = '431.png'\n",
    "\n",
    "input = Image.open(input_path)\n",
    "output = remove(input)\n",
    "output.save(output_path)"
   ]
  },
  {
   "cell_type": "code",
   "execution_count": 9,
   "id": "8edd58f6",
   "metadata": {},
   "outputs": [],
   "source": [
    "from rembg.bg import remove\n",
    "from PIL import Image\n",
    "\n",
    "input_path = 'IMG_4129.jpg'\n",
    "output_path = '432.png'\n",
    "\n",
    "input = Image.open(input_path)\n",
    "output = remove(input)\n",
    "output.save(output_path)"
   ]
  },
  {
   "cell_type": "code",
   "execution_count": 10,
   "id": "c6959eb8",
   "metadata": {},
   "outputs": [],
   "source": [
    "from rembg.bg import remove\n",
    "from PIL import Image\n",
    "\n",
    "input_path = 'IMG_4130.jpg'\n",
    "output_path = '433.png'\n",
    "\n",
    "input = Image.open(input_path)\n",
    "output = remove(input)\n",
    "output.save(output_path)"
   ]
  },
  {
   "cell_type": "code",
   "execution_count": 11,
   "id": "5d857095",
   "metadata": {},
   "outputs": [],
   "source": [
    "from rembg.bg import remove\n",
    "from PIL import Image\n",
    "\n",
    "input_path = 'IMG_4131.jpg'\n",
    "output_path = '434.png'\n",
    "\n",
    "input = Image.open(input_path)\n",
    "output = remove(input)\n",
    "output.save(output_path)"
   ]
  },
  {
   "cell_type": "code",
   "execution_count": 12,
   "id": "b79c2439",
   "metadata": {},
   "outputs": [],
   "source": [
    "from rembg.bg import remove\n",
    "from PIL import Image\n",
    "\n",
    "input_path = 'IMG_4132.jpg'\n",
    "output_path = '435.png'\n",
    "\n",
    "input = Image.open(input_path)\n",
    "output = remove(input)\n",
    "output.save(output_path)"
   ]
  },
  {
   "cell_type": "code",
   "execution_count": 13,
   "id": "cfbf74c9",
   "metadata": {},
   "outputs": [],
   "source": [
    "from rembg.bg import remove\n",
    "from PIL import Image\n",
    "\n",
    "input_path = 'IMG_4133.jpg'\n",
    "output_path = '436.png'\n",
    "\n",
    "input = Image.open(input_path)\n",
    "output = remove(input)\n",
    "output.save(output_path)"
   ]
  },
  {
   "cell_type": "code",
   "execution_count": 14,
   "id": "6e0cca7d",
   "metadata": {},
   "outputs": [],
   "source": [
    "from rembg.bg import remove\n",
    "from PIL import Image\n",
    "\n",
    "input_path = 'IMG_4134.jpg'\n",
    "output_path = '437.png'\n",
    "\n",
    "input = Image.open(input_path)\n",
    "output = remove(input)\n",
    "output.save(output_path)"
   ]
  },
  {
   "cell_type": "code",
   "execution_count": 15,
   "id": "169e6f0f",
   "metadata": {},
   "outputs": [],
   "source": [
    "from rembg.bg import remove\n",
    "from PIL import Image\n",
    "\n",
    "input_path = 'IMG_4135.jpg'\n",
    "output_path = '438.png'\n",
    "\n",
    "input = Image.open(input_path)\n",
    "output = remove(input)\n",
    "output.save(output_path)"
   ]
  },
  {
   "cell_type": "code",
   "execution_count": 16,
   "id": "cd8d59f3",
   "metadata": {},
   "outputs": [],
   "source": [
    "from rembg.bg import remove\n",
    "from PIL import Image\n",
    "\n",
    "input_path = 'IMG_4136.jpg'\n",
    "output_path = '439.png'\n",
    "\n",
    "input = Image.open(input_path)\n",
    "output = remove(input)\n",
    "output.save(output_path)"
   ]
  },
  {
   "cell_type": "code",
   "execution_count": 17,
   "id": "c07d0da6",
   "metadata": {},
   "outputs": [],
   "source": [
    "from rembg.bg import remove\n",
    "from PIL import Image\n",
    "\n",
    "input_path = 'IMG_4137.jpg'\n",
    "output_path = '440.png'\n",
    "\n",
    "input = Image.open(input_path)\n",
    "output = remove(input)\n",
    "output.save(output_path)"
   ]
  },
  {
   "cell_type": "code",
   "execution_count": 18,
   "id": "325f95df",
   "metadata": {},
   "outputs": [],
   "source": [
    "from rembg.bg import remove\n",
    "from PIL import Image\n",
    "\n",
    "input_path = 'IMG_4138.jpg'\n",
    "output_path = '441.png'\n",
    "\n",
    "input = Image.open(input_path)\n",
    "output = remove(input)\n",
    "output.save(output_path)"
   ]
  },
  {
   "cell_type": "code",
   "execution_count": 19,
   "id": "487aa0cc",
   "metadata": {},
   "outputs": [],
   "source": [
    "from rembg.bg import remove\n",
    "from PIL import Image\n",
    "\n",
    "input_path = 'IMG_4139.jpg'\n",
    "output_path = '442.png'\n",
    "\n",
    "input = Image.open(input_path)\n",
    "output = remove(input)\n",
    "output.save(output_path)"
   ]
  },
  {
   "cell_type": "code",
   "execution_count": 20,
   "id": "2657e47c",
   "metadata": {},
   "outputs": [],
   "source": [
    "from rembg.bg import remove\n",
    "from PIL import Image\n",
    "\n",
    "input_path = 'IMG_4140.jpg'\n",
    "output_path = '443.png'\n",
    "\n",
    "input = Image.open(input_path)\n",
    "output = remove(input)\n",
    "output.save(output_path)"
   ]
  },
  {
   "cell_type": "code",
   "execution_count": 21,
   "id": "4e8c7f95",
   "metadata": {},
   "outputs": [],
   "source": [
    "from rembg.bg import remove\n",
    "from PIL import Image\n",
    "\n",
    "input_path = 'IMG_4141.jpg'\n",
    "output_path = '444.png'\n",
    "\n",
    "input = Image.open(input_path)\n",
    "output = remove(input)\n",
    "output.save(output_path)"
   ]
  },
  {
   "cell_type": "code",
   "execution_count": 22,
   "id": "a8f97fc2",
   "metadata": {},
   "outputs": [],
   "source": [
    "from rembg.bg import remove\n",
    "from PIL import Image\n",
    "\n",
    "input_path = 'IMG_4142.jpg'\n",
    "output_path = '445.png'\n",
    "\n",
    "input = Image.open(input_path)\n",
    "output = remove(input)\n",
    "output.save(output_path)"
   ]
  },
  {
   "cell_type": "code",
   "execution_count": 23,
   "id": "0e80ca6b",
   "metadata": {},
   "outputs": [],
   "source": [
    "from rembg.bg import remove\n",
    "from PIL import Image\n",
    "\n",
    "input_path = 'IMG_4143.jpg'\n",
    "output_path = '446.png'\n",
    "\n",
    "input = Image.open(input_path)\n",
    "output = remove(input)\n",
    "output.save(output_path)"
   ]
  },
  {
   "cell_type": "code",
   "execution_count": 24,
   "id": "a049c671",
   "metadata": {},
   "outputs": [],
   "source": [
    "from rembg.bg import remove\n",
    "from PIL import Image\n",
    "\n",
    "input_path = 'IMG_4144.jpg'\n",
    "output_path = '447.png'\n",
    "\n",
    "input = Image.open(input_path)\n",
    "output = remove(input)\n",
    "output.save(output_path)"
   ]
  },
  {
   "cell_type": "code",
   "execution_count": 25,
   "id": "7a2856b2",
   "metadata": {},
   "outputs": [],
   "source": [
    "from rembg.bg import remove\n",
    "from PIL import Image\n",
    "\n",
    "input_path = 'IMG_4145.jpg'\n",
    "output_path = '448.png'\n",
    "\n",
    "input = Image.open(input_path)\n",
    "output = remove(input)\n",
    "output.save(output_path)"
   ]
  },
  {
   "cell_type": "code",
   "execution_count": 26,
   "id": "263302a7",
   "metadata": {},
   "outputs": [],
   "source": [
    "from rembg.bg import remove\n",
    "from PIL import Image\n",
    "\n",
    "input_path = 'IMG_4146.jpg'\n",
    "output_path = '449.png'\n",
    "\n",
    "input = Image.open(input_path)\n",
    "output = remove(input)\n",
    "output.save(output_path)"
   ]
  },
  {
   "cell_type": "code",
   "execution_count": 27,
   "id": "af3a870e",
   "metadata": {},
   "outputs": [],
   "source": [
    "from rembg.bg import remove\n",
    "from PIL import Image\n",
    "\n",
    "input_path = 'IMG_4147.jpg'\n",
    "output_path = '450.png'\n",
    "\n",
    "input = Image.open(input_path)\n",
    "output = remove(input)\n",
    "output.save(output_path)"
   ]
  },
  {
   "cell_type": "code",
   "execution_count": 28,
   "id": "3050bf31",
   "metadata": {},
   "outputs": [],
   "source": [
    "from rembg.bg import remove\n",
    "from PIL import Image\n",
    "\n",
    "input_path = 'IMG_4148.jpg'\n",
    "output_path = '451.png'\n",
    "\n",
    "input = Image.open(input_path)\n",
    "output = remove(input)\n",
    "output.save(output_path)"
   ]
  },
  {
   "cell_type": "code",
   "execution_count": 29,
   "id": "c4a28958",
   "metadata": {},
   "outputs": [],
   "source": [
    "from rembg.bg import remove\n",
    "from PIL import Image\n",
    "\n",
    "input_path = 'IMG_4149.jpg'\n",
    "output_path = '452.png'\n",
    "\n",
    "input = Image.open(input_path)\n",
    "output = remove(input)\n",
    "output.save(output_path)"
   ]
  },
  {
   "cell_type": "code",
   "execution_count": 30,
   "id": "56638cea",
   "metadata": {},
   "outputs": [],
   "source": [
    "from rembg.bg import remove\n",
    "from PIL import Image\n",
    "\n",
    "input_path = 'IMG_4150.jpg'\n",
    "output_path = '453.png'\n",
    "\n",
    "input = Image.open(input_path)\n",
    "output = remove(input)\n",
    "output.save(output_path)"
   ]
  },
  {
   "cell_type": "code",
   "execution_count": 33,
   "id": "227bcb51",
   "metadata": {},
   "outputs": [],
   "source": [
    "from rembg.bg import remove\n",
    "from PIL import Image\n",
    "\n",
    "input_path = 'IMG_4151.jpg'\n",
    "output_path = '454.png'\n",
    "\n",
    "input = Image.open(input_path)\n",
    "output = remove(input)\n",
    "output.save(output_path)"
   ]
  },
  {
   "cell_type": "code",
   "execution_count": 34,
   "id": "df566325",
   "metadata": {},
   "outputs": [],
   "source": [
    "from rembg.bg import remove\n",
    "from PIL import Image\n",
    "\n",
    "input_path = 'IMG_4152.jpg'\n",
    "output_path = '455.png'\n",
    "\n",
    "input = Image.open(input_path)\n",
    "output = remove(input)\n",
    "output.save(output_path)"
   ]
  },
  {
   "cell_type": "code",
   "execution_count": 35,
   "id": "8d3f75b4",
   "metadata": {},
   "outputs": [],
   "source": [
    "from rembg.bg import remove\n",
    "from PIL import Image\n",
    "\n",
    "input_path = 'IMG_4153.jpg'\n",
    "output_path = '456.png'\n",
    "\n",
    "input = Image.open(input_path)\n",
    "output = remove(input)\n",
    "output.save(output_path)"
   ]
  },
  {
   "cell_type": "code",
   "execution_count": 36,
   "id": "35635e89",
   "metadata": {},
   "outputs": [],
   "source": [
    "from rembg.bg import remove\n",
    "from PIL import Image\n",
    "\n",
    "input_path = 'IMG_4154.jpg'\n",
    "output_path = '457.png'\n",
    "\n",
    "input = Image.open(input_path)\n",
    "output = remove(input)\n",
    "output.save(output_path)"
   ]
  },
  {
   "cell_type": "code",
   "execution_count": 37,
   "id": "1c5377cf",
   "metadata": {},
   "outputs": [],
   "source": [
    "from rembg.bg import remove\n",
    "from PIL import Image\n",
    "\n",
    "input_path = 'IMG_4155.jpg'\n",
    "output_path = '458.png'\n",
    "\n",
    "input = Image.open(input_path)\n",
    "output = remove(input)\n",
    "output.save(output_path)"
   ]
  },
  {
   "cell_type": "code",
   "execution_count": 38,
   "id": "0412636f",
   "metadata": {},
   "outputs": [],
   "source": [
    "from rembg.bg import remove\n",
    "from PIL import Image\n",
    "\n",
    "input_path = 'IMG_4156.jpg'\n",
    "output_path = '459.png'\n",
    "\n",
    "input = Image.open(input_path)\n",
    "output = remove(input)\n",
    "output.save(output_path)"
   ]
  },
  {
   "cell_type": "code",
   "execution_count": 39,
   "id": "ab1588d2",
   "metadata": {},
   "outputs": [],
   "source": [
    "from rembg.bg import remove\n",
    "from PIL import Image\n",
    "\n",
    "input_path = 'IMG_4157.jpg'\n",
    "output_path = '460.png'\n",
    "\n",
    "input = Image.open(input_path)\n",
    "output = remove(input)\n",
    "output.save(output_path)"
   ]
  },
  {
   "cell_type": "code",
   "execution_count": 40,
   "id": "7e7d6e1a",
   "metadata": {},
   "outputs": [],
   "source": [
    "from rembg.bg import remove\n",
    "from PIL import Image\n",
    "\n",
    "input_path = 'IMG_4158.jpg'\n",
    "output_path = '461.png'\n",
    "\n",
    "input = Image.open(input_path)\n",
    "output = remove(input)\n",
    "output.save(output_path)"
   ]
  },
  {
   "cell_type": "code",
   "execution_count": 41,
   "id": "90620aeb",
   "metadata": {},
   "outputs": [],
   "source": [
    "from rembg.bg import remove\n",
    "from PIL import Image\n",
    "\n",
    "input_path = 'IMG_4159.jpg'\n",
    "output_path = '462.png'\n",
    "\n",
    "input = Image.open(input_path)\n",
    "output = remove(input)\n",
    "output.save(output_path)"
   ]
  },
  {
   "cell_type": "code",
   "execution_count": 42,
   "id": "683cb597",
   "metadata": {},
   "outputs": [],
   "source": [
    "from rembg.bg import remove\n",
    "from PIL import Image\n",
    "\n",
    "input_path = 'IMG_4160.jpg'\n",
    "output_path = '463.png'\n",
    "\n",
    "input = Image.open(input_path)\n",
    "output = remove(input)\n",
    "output.save(output_path)"
   ]
  },
  {
   "cell_type": "code",
   "execution_count": 43,
   "id": "160c5089",
   "metadata": {},
   "outputs": [],
   "source": [
    "from rembg.bg import remove\n",
    "from PIL import Image\n",
    "\n",
    "input_path = 'IMG_4161.jpg'\n",
    "output_path = '464.png'\n",
    "\n",
    "input = Image.open(input_path)\n",
    "output = remove(input)\n",
    "output.save(output_path)"
   ]
  },
  {
   "cell_type": "code",
   "execution_count": 44,
   "id": "62e441ba",
   "metadata": {},
   "outputs": [],
   "source": [
    "from rembg.bg import remove\n",
    "from PIL import Image\n",
    "\n",
    "input_path = 'IMG_4162.jpg'\n",
    "output_path = '465.png'\n",
    "\n",
    "input = Image.open(input_path)\n",
    "output = remove(input)\n",
    "output.save(output_path)"
   ]
  },
  {
   "cell_type": "code",
   "execution_count": 45,
   "id": "f61d0619",
   "metadata": {},
   "outputs": [],
   "source": [
    "from rembg.bg import remove\n",
    "from PIL import Image\n",
    "\n",
    "input_path = 'IMG_4163.jpg'\n",
    "output_path = '466.png'\n",
    "\n",
    "input = Image.open(input_path)\n",
    "output = remove(input)\n",
    "output.save(output_path)"
   ]
  },
  {
   "cell_type": "code",
   "execution_count": 46,
   "id": "a7554488",
   "metadata": {},
   "outputs": [],
   "source": [
    "from rembg.bg import remove\n",
    "from PIL import Image\n",
    "\n",
    "input_path = 'IMG_4164.jpg'\n",
    "output_path = '467.png'\n",
    "\n",
    "input = Image.open(input_path)\n",
    "output = remove(input)\n",
    "output.save(output_path)"
   ]
  },
  {
   "cell_type": "code",
   "execution_count": 47,
   "id": "9ad1a96e",
   "metadata": {},
   "outputs": [],
   "source": [
    "from rembg.bg import remove\n",
    "from PIL import Image\n",
    "\n",
    "input_path = 'IMG_4165.jpg'\n",
    "output_path = '468.png'\n",
    "\n",
    "input = Image.open(input_path)\n",
    "output = remove(input)\n",
    "output.save(output_path)"
   ]
  },
  {
   "cell_type": "code",
   "execution_count": 48,
   "id": "d86cae20",
   "metadata": {},
   "outputs": [],
   "source": [
    "from rembg.bg import remove\n",
    "from PIL import Image\n",
    "\n",
    "input_path = 'IMG_4166.jpg'\n",
    "output_path = '469.png'\n",
    "\n",
    "input = Image.open(input_path)\n",
    "output = remove(input)\n",
    "output.save(output_path)"
   ]
  },
  {
   "cell_type": "code",
   "execution_count": 49,
   "id": "8f8f268f",
   "metadata": {},
   "outputs": [],
   "source": [
    "from rembg.bg import remove\n",
    "from PIL import Image\n",
    "\n",
    "input_path = 'IMG_4167.jpg'\n",
    "output_path = '470.png'\n",
    "\n",
    "input = Image.open(input_path)\n",
    "output = remove(input)\n",
    "output.save(output_path)"
   ]
  },
  {
   "cell_type": "code",
   "execution_count": 50,
   "id": "813d19cd",
   "metadata": {},
   "outputs": [],
   "source": [
    "from rembg.bg import remove\n",
    "from PIL import Image\n",
    "\n",
    "input_path = 'IMG_4168.jpg'\n",
    "output_path = '471.png'\n",
    "\n",
    "input = Image.open(input_path)\n",
    "output = remove(input)\n",
    "output.save(output_path)"
   ]
  },
  {
   "cell_type": "code",
   "execution_count": 51,
   "id": "0b35ecd2",
   "metadata": {},
   "outputs": [],
   "source": [
    "from rembg.bg import remove\n",
    "from PIL import Image\n",
    "\n",
    "input_path = 'IMG_4169.jpg'\n",
    "output_path = '472.png'\n",
    "\n",
    "input = Image.open(input_path)\n",
    "output = remove(input)\n",
    "output.save(output_path)"
   ]
  },
  {
   "cell_type": "code",
   "execution_count": 74,
   "id": "4450ecaf",
   "metadata": {},
   "outputs": [],
   "source": [
    "from rembg.bg import remove\n",
    "from PIL import Image\n",
    "\n",
    "input_path = 'IMG_4192.jpg'\n",
    "output_path = '473.png'\n",
    "\n",
    "input = Image.open(input_path)\n",
    "output = remove(input)\n",
    "output.save(output_path)"
   ]
  },
  {
   "cell_type": "code",
   "execution_count": 75,
   "id": "fc87a232",
   "metadata": {},
   "outputs": [],
   "source": [
    "from rembg.bg import remove\n",
    "from PIL import Image\n",
    "\n",
    "input_path = 'IMG_4193.jpg'\n",
    "output_path = '474.png'\n",
    "\n",
    "input = Image.open(input_path)\n",
    "output = remove(input)\n",
    "output.save(output_path)"
   ]
  },
  {
   "cell_type": "code",
   "execution_count": 76,
   "id": "10d5cdc3",
   "metadata": {},
   "outputs": [],
   "source": [
    "from rembg.bg import remove\n",
    "from PIL import Image\n",
    "\n",
    "input_path = 'IMG_4194.jpg'\n",
    "output_path = '475.png'\n",
    "\n",
    "input = Image.open(input_path)\n",
    "output = remove(input)\n",
    "output.save(output_path)"
   ]
  },
  {
   "cell_type": "code",
   "execution_count": 77,
   "id": "17b63321",
   "metadata": {},
   "outputs": [],
   "source": [
    "from rembg.bg import remove\n",
    "from PIL import Image\n",
    "\n",
    "input_path = 'IMG_4195.jpg'\n",
    "output_path = '476.png'\n",
    "\n",
    "input = Image.open(input_path)\n",
    "output = remove(input)\n",
    "output.save(output_path)"
   ]
  },
  {
   "cell_type": "code",
   "execution_count": 78,
   "id": "f905ec8b",
   "metadata": {},
   "outputs": [],
   "source": [
    "from rembg.bg import remove\n",
    "from PIL import Image\n",
    "\n",
    "input_path = 'IMG_4196.jpg'\n",
    "output_path = '477.png'\n",
    "\n",
    "input = Image.open(input_path)\n",
    "output = remove(input)\n",
    "output.save(output_path)"
   ]
  },
  {
   "cell_type": "code",
   "execution_count": 79,
   "id": "aa2eaf77",
   "metadata": {},
   "outputs": [],
   "source": [
    "from rembg.bg import remove\n",
    "from PIL import Image\n",
    "\n",
    "input_path = 'IMG_4197.jpg'\n",
    "output_path = '478.png'\n",
    "\n",
    "input = Image.open(input_path)\n",
    "output = remove(input)\n",
    "output.save(output_path)"
   ]
  },
  {
   "cell_type": "code",
   "execution_count": 80,
   "id": "6d2fcc26",
   "metadata": {},
   "outputs": [],
   "source": [
    "from rembg.bg import remove\n",
    "from PIL import Image\n",
    "\n",
    "input_path = 'IMG_4198.jpg'\n",
    "output_path = '479.png'\n",
    "\n",
    "input = Image.open(input_path)\n",
    "output = remove(input)\n",
    "output.save(output_path)"
   ]
  },
  {
   "cell_type": "code",
   "execution_count": 81,
   "id": "a8836e57",
   "metadata": {},
   "outputs": [],
   "source": [
    "from rembg.bg import remove\n",
    "from PIL import Image\n",
    "\n",
    "input_path = 'IMG_4199.jpg'\n",
    "output_path = '480.png'\n",
    "\n",
    "input = Image.open(input_path)\n",
    "output = remove(input)\n",
    "output.save(output_path)"
   ]
  },
  {
   "cell_type": "code",
   "execution_count": 82,
   "id": "84291206",
   "metadata": {},
   "outputs": [],
   "source": [
    "from rembg.bg import remove\n",
    "from PIL import Image\n",
    "\n",
    "input_path = 'IMG_4200.jpg'\n",
    "output_path = '481.png'\n",
    "\n",
    "input = Image.open(input_path)\n",
    "output = remove(input)\n",
    "output.save(output_path)"
   ]
  },
  {
   "cell_type": "code",
   "execution_count": 83,
   "id": "abcd8b24",
   "metadata": {},
   "outputs": [],
   "source": [
    "from rembg.bg import remove\n",
    "from PIL import Image\n",
    "\n",
    "input_path = 'IMG_4201.jpg'\n",
    "output_path = '482.png'\n",
    "\n",
    "input = Image.open(input_path)\n",
    "output = remove(input)\n",
    "output.save(output_path)"
   ]
  },
  {
   "cell_type": "code",
   "execution_count": 84,
   "id": "73770b42",
   "metadata": {},
   "outputs": [],
   "source": [
    "from rembg.bg import remove\n",
    "from PIL import Image\n",
    "\n",
    "input_path = 'IMG_4202.jpg'\n",
    "output_path = '483.png'\n",
    "\n",
    "input = Image.open(input_path)\n",
    "output = remove(input)\n",
    "output.save(output_path)"
   ]
  },
  {
   "cell_type": "code",
   "execution_count": 86,
   "id": "689ddee2",
   "metadata": {},
   "outputs": [],
   "source": [
    "from rembg.bg import remove\n",
    "from PIL import Image\n",
    "\n",
    "input_path = 'IMG_4204.jpg'\n",
    "output_path = '485.png'\n",
    "\n",
    "input = Image.open(input_path)\n",
    "output = remove(input)\n",
    "output.save(output_path)"
   ]
  },
  {
   "cell_type": "code",
   "execution_count": 87,
   "id": "bf05e2ed",
   "metadata": {},
   "outputs": [],
   "source": [
    "from rembg.bg import remove\n",
    "from PIL import Image\n",
    "\n",
    "input_path = 'IMG_4205.jpg'\n",
    "output_path = '486.png'\n",
    "\n",
    "input = Image.open(input_path)\n",
    "output = remove(input)\n",
    "output.save(output_path)"
   ]
  },
  {
   "cell_type": "code",
   "execution_count": 88,
   "id": "754e3390",
   "metadata": {},
   "outputs": [],
   "source": [
    "from rembg.bg import remove\n",
    "from PIL import Image\n",
    "\n",
    "input_path = 'IMG_4206.jpg'\n",
    "output_path = '487.png'\n",
    "\n",
    "input = Image.open(input_path)\n",
    "output = remove(input)\n",
    "output.save(output_path)"
   ]
  },
  {
   "cell_type": "code",
   "execution_count": 90,
   "id": "034aca3f",
   "metadata": {},
   "outputs": [],
   "source": [
    "from rembg.bg import remove\n",
    "from PIL import Image\n",
    "\n",
    "input_path = 'IMG_4207.jpg'\n",
    "output_path = '488.png'\n",
    "\n",
    "input = Image.open(input_path)\n",
    "output = remove(input)\n",
    "output.save(output_path)"
   ]
  },
  {
   "cell_type": "code",
   "execution_count": 91,
   "id": "f256db96",
   "metadata": {},
   "outputs": [],
   "source": [
    "from rembg.bg import remove\n",
    "from PIL import Image\n",
    "\n",
    "input_path = 'IMG_4208.jpg'\n",
    "output_path = '489.png'\n",
    "\n",
    "input = Image.open(input_path)\n",
    "output = remove(input)\n",
    "output.save(output_path)"
   ]
  },
  {
   "cell_type": "code",
   "execution_count": 92,
   "id": "aba2890c",
   "metadata": {},
   "outputs": [],
   "source": [
    "from rembg.bg import remove\n",
    "from PIL import Image\n",
    "\n",
    "input_path = 'IMG_4209.jpg'\n",
    "output_path = '490.png'\n",
    "\n",
    "input = Image.open(input_path)\n",
    "output = remove(input)\n",
    "output.save(output_path)"
   ]
  },
  {
   "cell_type": "code",
   "execution_count": 93,
   "id": "81d61c45",
   "metadata": {},
   "outputs": [],
   "source": [
    "from rembg.bg import remove\n",
    "from PIL import Image\n",
    "\n",
    "input_path = 'IMG_4210.jpg'\n",
    "output_path = '491.png'\n",
    "\n",
    "input = Image.open(input_path)\n",
    "output = remove(input)\n",
    "output.save(output_path)"
   ]
  },
  {
   "cell_type": "code",
   "execution_count": 94,
   "id": "62ec0d03",
   "metadata": {},
   "outputs": [],
   "source": [
    "from rembg.bg import remove\n",
    "from PIL import Image\n",
    "\n",
    "input_path = 'IMG_4211.jpg'\n",
    "output_path = '492.png'\n",
    "\n",
    "input = Image.open(input_path)\n",
    "output = remove(input)\n",
    "output.save(output_path)"
   ]
  },
  {
   "cell_type": "code",
   "execution_count": 95,
   "id": "ba5cccfb",
   "metadata": {},
   "outputs": [],
   "source": [
    "from rembg.bg import remove\n",
    "from PIL import Image\n",
    "\n",
    "input_path = 'IMG_4212.jpg'\n",
    "output_path = '493.png'\n",
    "\n",
    "input = Image.open(input_path)\n",
    "output = remove(input)\n",
    "output.save(output_path)"
   ]
  },
  {
   "cell_type": "code",
   "execution_count": 96,
   "id": "78aa7ffe",
   "metadata": {},
   "outputs": [],
   "source": [
    "from rembg.bg import remove\n",
    "from PIL import Image\n",
    "\n",
    "input_path = 'IMG_4213.jpg'\n",
    "output_path = '494.png'\n",
    "\n",
    "input = Image.open(input_path)\n",
    "output = remove(input)\n",
    "output.save(output_path)"
   ]
  },
  {
   "cell_type": "code",
   "execution_count": 97,
   "id": "361de94c",
   "metadata": {},
   "outputs": [],
   "source": [
    "from rembg.bg import remove\n",
    "from PIL import Image\n",
    "\n",
    "input_path = 'IMG_4214.jpg'\n",
    "output_path = '495.png'\n",
    "\n",
    "input = Image.open(input_path)\n",
    "output = remove(input)\n",
    "output.save(output_path)"
   ]
  },
  {
   "cell_type": "code",
   "execution_count": 98,
   "id": "bc35a848",
   "metadata": {},
   "outputs": [],
   "source": [
    "from rembg.bg import remove\n",
    "from PIL import Image\n",
    "\n",
    "input_path = 'IMG_4215.jpg'\n",
    "output_path = '496.png'\n",
    "\n",
    "input = Image.open(input_path)\n",
    "output = remove(input)\n",
    "output.save(output_path)"
   ]
  },
  {
   "cell_type": "code",
   "execution_count": 99,
   "id": "0972e6a9",
   "metadata": {},
   "outputs": [],
   "source": [
    "from rembg.bg import remove\n",
    "from PIL import Image\n",
    "\n",
    "input_path = 'IMG_4216.jpg'\n",
    "output_path = '497.png'\n",
    "\n",
    "input = Image.open(input_path)\n",
    "output = remove(input)\n",
    "output.save(output_path)"
   ]
  },
  {
   "cell_type": "code",
   "execution_count": 100,
   "id": "f87e6c7f",
   "metadata": {},
   "outputs": [],
   "source": [
    "from rembg.bg import remove\n",
    "from PIL import Image\n",
    "\n",
    "input_path = 'IMG_4217.jpg'\n",
    "output_path = '498.png'\n",
    "\n",
    "input = Image.open(input_path)\n",
    "output = remove(input)\n",
    "output.save(output_path)"
   ]
  },
  {
   "cell_type": "code",
   "execution_count": 101,
   "id": "9a61f180",
   "metadata": {},
   "outputs": [],
   "source": [
    "from rembg.bg import remove\n",
    "from PIL import Image\n",
    "\n",
    "input_path = 'IMG_4218.jpg'\n",
    "output_path = '499.png'\n",
    "\n",
    "input = Image.open(input_path)\n",
    "output = remove(input)\n",
    "output.save(output_path)"
   ]
  },
  {
   "cell_type": "code",
   "execution_count": 102,
   "id": "15cb8caf",
   "metadata": {},
   "outputs": [],
   "source": [
    "from rembg.bg import remove\n",
    "from PIL import Image\n",
    "\n",
    "input_path = 'IMG_4219.jpg'\n",
    "output_path = '500.png'\n",
    "\n",
    "input = Image.open(input_path)\n",
    "output = remove(input)\n",
    "output.save(output_path)"
   ]
  },
  {
   "cell_type": "code",
   "execution_count": 103,
   "id": "acb268f8",
   "metadata": {},
   "outputs": [],
   "source": [
    "from rembg.bg import remove\n",
    "from PIL import Image\n",
    "\n",
    "input_path = 'IMG_4220.jpg'\n",
    "output_path = '501.png'\n",
    "\n",
    "input = Image.open(input_path)\n",
    "output = remove(input)\n",
    "output.save(output_path)"
   ]
  },
  {
   "cell_type": "code",
   "execution_count": 104,
   "id": "c56e1cae",
   "metadata": {},
   "outputs": [],
   "source": [
    "from rembg.bg import remove\n",
    "from PIL import Image\n",
    "\n",
    "input_path = 'IMG_4221.jpg'\n",
    "output_path = '502.png'\n",
    "\n",
    "input = Image.open(input_path)\n",
    "output = remove(input)\n",
    "output.save(output_path)"
   ]
  },
  {
   "cell_type": "code",
   "execution_count": 105,
   "id": "814e5cea",
   "metadata": {},
   "outputs": [],
   "source": [
    "from rembg.bg import remove\n",
    "from PIL import Image\n",
    "\n",
    "input_path = 'IMG_4222.jpg'\n",
    "output_path = '503.png'\n",
    "\n",
    "input = Image.open(input_path)\n",
    "output = remove(input)\n",
    "output.save(output_path)"
   ]
  },
  {
   "cell_type": "code",
   "execution_count": 106,
   "id": "eb180907",
   "metadata": {},
   "outputs": [],
   "source": [
    "from rembg.bg import remove\n",
    "from PIL import Image\n",
    "\n",
    "input_path = 'IMG_4223.jpg'\n",
    "output_path = '504.png'\n",
    "\n",
    "input = Image.open(input_path)\n",
    "output = remove(input)\n",
    "output.save(output_path)"
   ]
  },
  {
   "cell_type": "code",
   "execution_count": 107,
   "id": "309bfbb2",
   "metadata": {},
   "outputs": [],
   "source": [
    "from rembg.bg import remove\n",
    "from PIL import Image\n",
    "\n",
    "input_path = 'IMG_4224.jpg'\n",
    "output_path = '505.png'\n",
    "\n",
    "input = Image.open(input_path)\n",
    "output = remove(input)\n",
    "output.save(output_path)"
   ]
  },
  {
   "cell_type": "code",
   "execution_count": 108,
   "id": "55a95910",
   "metadata": {},
   "outputs": [],
   "source": [
    "from rembg.bg import remove\n",
    "from PIL import Image\n",
    "\n",
    "input_path = 'IMG_4225.jpg'\n",
    "output_path = '506.png'\n",
    "\n",
    "input = Image.open(input_path)\n",
    "output = remove(input)\n",
    "output.save(output_path)"
   ]
  },
  {
   "cell_type": "code",
   "execution_count": 109,
   "id": "9c89b9b9",
   "metadata": {},
   "outputs": [],
   "source": [
    "from rembg.bg import remove\n",
    "from PIL import Image\n",
    "\n",
    "input_path = 'IMG_4226.jpg'\n",
    "output_path = '507.png'\n",
    "\n",
    "input = Image.open(input_path)\n",
    "output = remove(input)\n",
    "output.save(output_path)"
   ]
  },
  {
   "cell_type": "code",
   "execution_count": 110,
   "id": "d3362092",
   "metadata": {},
   "outputs": [],
   "source": [
    "from rembg.bg import remove\n",
    "from PIL import Image\n",
    "\n",
    "input_path = 'IMG_4227.jpg'\n",
    "output_path = '508.png'\n",
    "\n",
    "input = Image.open(input_path)\n",
    "output = remove(input)\n",
    "output.save(output_path)"
   ]
  },
  {
   "cell_type": "code",
   "execution_count": 111,
   "id": "4ce7428a",
   "metadata": {},
   "outputs": [],
   "source": [
    "from rembg.bg import remove\n",
    "from PIL import Image\n",
    "\n",
    "input_path = 'IMG_4228.jpg'\n",
    "output_path = '509.png'\n",
    "\n",
    "input = Image.open(input_path)\n",
    "output = remove(input)\n",
    "output.save(output_path)"
   ]
  },
  {
   "cell_type": "code",
   "execution_count": 112,
   "id": "8fd603be",
   "metadata": {},
   "outputs": [],
   "source": [
    "from rembg.bg import remove\n",
    "from PIL import Image\n",
    "\n",
    "input_path = 'IMG_4229.jpg'\n",
    "output_path = '510.png'\n",
    "\n",
    "input = Image.open(input_path)\n",
    "output = remove(input)\n",
    "output.save(output_path)"
   ]
  },
  {
   "cell_type": "code",
   "execution_count": 113,
   "id": "f783a25c",
   "metadata": {},
   "outputs": [],
   "source": [
    "from rembg.bg import remove\n",
    "from PIL import Image\n",
    "\n",
    "input_path = 'IMG_4230.jpg'\n",
    "output_path = '511.png'\n",
    "\n",
    "input = Image.open(input_path)\n",
    "output = remove(input)\n",
    "output.save(output_path)"
   ]
  },
  {
   "cell_type": "code",
   "execution_count": 114,
   "id": "5e836365",
   "metadata": {},
   "outputs": [],
   "source": [
    "from rembg.bg import remove\n",
    "from PIL import Image\n",
    "\n",
    "input_path = 'IMG_4231.jpg'\n",
    "output_path = '512.png'\n",
    "\n",
    "input = Image.open(input_path)\n",
    "output = remove(input)\n",
    "output.save(output_path)"
   ]
  },
  {
   "cell_type": "code",
   "execution_count": 115,
   "id": "e67de04a",
   "metadata": {},
   "outputs": [],
   "source": [
    "from rembg.bg import remove\n",
    "from PIL import Image\n",
    "\n",
    "input_path = 'IMG_4232.jpg'\n",
    "output_path = '513.png'\n",
    "\n",
    "input = Image.open(input_path)\n",
    "output = remove(input)\n",
    "output.save(output_path)"
   ]
  },
  {
   "cell_type": "code",
   "execution_count": 116,
   "id": "f1ffea10",
   "metadata": {},
   "outputs": [],
   "source": [
    "from rembg.bg import remove\n",
    "from PIL import Image\n",
    "\n",
    "input_path = 'IMG_4233.jpg'\n",
    "output_path = '514.png'\n",
    "\n",
    "input = Image.open(input_path)\n",
    "output = remove(input)\n",
    "output.save(output_path)"
   ]
  },
  {
   "cell_type": "code",
   "execution_count": 117,
   "id": "5411e84a",
   "metadata": {},
   "outputs": [],
   "source": [
    "from rembg.bg import remove\n",
    "from PIL import Image\n",
    "\n",
    "input_path = 'IMG_4234.jpg'\n",
    "output_path = '515.png'\n",
    "\n",
    "input = Image.open(input_path)\n",
    "output = remove(input)\n",
    "output.save(output_path)"
   ]
  },
  {
   "cell_type": "code",
   "execution_count": 118,
   "id": "d2babd68",
   "metadata": {},
   "outputs": [],
   "source": [
    "from rembg.bg import remove\n",
    "from PIL import Image\n",
    "\n",
    "input_path = 'IMG_4235.jpg'\n",
    "output_path = '516.png'\n",
    "\n",
    "input = Image.open(input_path)\n",
    "output = remove(input)\n",
    "output.save(output_path)"
   ]
  },
  {
   "cell_type": "code",
   "execution_count": 119,
   "id": "a34fc8fa",
   "metadata": {},
   "outputs": [],
   "source": [
    "from rembg.bg import remove\n",
    "from PIL import Image\n",
    "\n",
    "input_path = 'IMG_4236.jpg'\n",
    "output_path = '517.png'\n",
    "\n",
    "input = Image.open(input_path)\n",
    "output = remove(input)\n",
    "output.save(output_path)"
   ]
  },
  {
   "cell_type": "code",
   "execution_count": 120,
   "id": "4f75be26",
   "metadata": {},
   "outputs": [],
   "source": [
    "from rembg.bg import remove\n",
    "from PIL import Image\n",
    "\n",
    "input_path = 'IMG_4237.jpg'\n",
    "output_path = '518.png'\n",
    "\n",
    "input = Image.open(input_path)\n",
    "output = remove(input)\n",
    "output.save(output_path)"
   ]
  },
  {
   "cell_type": "code",
   "execution_count": 121,
   "id": "295711d8",
   "metadata": {},
   "outputs": [],
   "source": [
    "from rembg.bg import remove\n",
    "from PIL import Image\n",
    "\n",
    "input_path = 'IMG_4238.jpg'\n",
    "output_path = '519.png'\n",
    "\n",
    "input = Image.open(input_path)\n",
    "output = remove(input)\n",
    "output.save(output_path)"
   ]
  },
  {
   "cell_type": "code",
   "execution_count": 122,
   "id": "9337ee3a",
   "metadata": {},
   "outputs": [],
   "source": [
    "from rembg.bg import remove\n",
    "from PIL import Image\n",
    "\n",
    "input_path = 'IMG_4239.jpg'\n",
    "output_path = '520.png'\n",
    "\n",
    "input = Image.open(input_path)\n",
    "output = remove(input)\n",
    "output.save(output_path)"
   ]
  },
  {
   "cell_type": "code",
   "execution_count": 123,
   "id": "89050e04",
   "metadata": {},
   "outputs": [],
   "source": [
    "from rembg.bg import remove\n",
    "from PIL import Image\n",
    "\n",
    "input_path = 'IMG_4240.jpg'\n",
    "output_path = '521.png'\n",
    "\n",
    "input = Image.open(input_path)\n",
    "output = remove(input)\n",
    "output.save(output_path)"
   ]
  },
  {
   "cell_type": "code",
   "execution_count": 126,
   "id": "f7b0eb23",
   "metadata": {},
   "outputs": [],
   "source": [
    "from rembg.bg import remove\n",
    "from PIL import Image\n",
    "\n",
    "input_path = 'IMG_4241.jpg'\n",
    "output_path = '522.png'\n",
    "\n",
    "input = Image.open(input_path)\n",
    "output = remove(input)\n",
    "output.save(output_path)"
   ]
  },
  {
   "cell_type": "code",
   "execution_count": 127,
   "id": "52a3bc57",
   "metadata": {},
   "outputs": [],
   "source": [
    "from rembg.bg import remove\n",
    "from PIL import Image\n",
    "\n",
    "input_path = 'IMG_4242.jpg'\n",
    "output_path = '523.png'\n",
    "\n",
    "input = Image.open(input_path)\n",
    "output = remove(input)\n",
    "output.save(output_path)"
   ]
  },
  {
   "cell_type": "code",
   "execution_count": 128,
   "id": "8409080a",
   "metadata": {},
   "outputs": [],
   "source": [
    "from rembg.bg import remove\n",
    "from PIL import Image\n",
    "\n",
    "input_path = 'IMG_4243.jpg'\n",
    "output_path = '524.png'\n",
    "\n",
    "input = Image.open(input_path)\n",
    "output = remove(input)\n",
    "output.save(output_path)"
   ]
  },
  {
   "cell_type": "code",
   "execution_count": 129,
   "id": "e42a04b6",
   "metadata": {},
   "outputs": [],
   "source": [
    "from rembg.bg import remove\n",
    "from PIL import Image\n",
    "\n",
    "input_path = 'IMG_4244.jpg'\n",
    "output_path = '525.png'\n",
    "\n",
    "input = Image.open(input_path)\n",
    "output = remove(input)\n",
    "output.save(output_path)"
   ]
  },
  {
   "cell_type": "code",
   "execution_count": 130,
   "id": "917ced9d",
   "metadata": {},
   "outputs": [],
   "source": [
    "from rembg.bg import remove\n",
    "from PIL import Image\n",
    "\n",
    "input_path = 'IMG_4245.jpg'\n",
    "output_path = '526.png'\n",
    "\n",
    "input = Image.open(input_path)\n",
    "output = remove(input)\n",
    "output.save(output_path)"
   ]
  },
  {
   "cell_type": "code",
   "execution_count": 131,
   "id": "e9943cbf",
   "metadata": {},
   "outputs": [],
   "source": [
    "from rembg.bg import remove\n",
    "from PIL import Image\n",
    "\n",
    "input_path = 'IMG_4246.jpg'\n",
    "output_path = '527.png'\n",
    "\n",
    "input = Image.open(input_path)\n",
    "output = remove(input)\n",
    "output.save(output_path)"
   ]
  },
  {
   "cell_type": "code",
   "execution_count": 132,
   "id": "c5cf0bf6",
   "metadata": {},
   "outputs": [],
   "source": [
    "from rembg.bg import remove\n",
    "from PIL import Image\n",
    "\n",
    "input_path = 'IMG_4247.jpg'\n",
    "output_path = '528.png'\n",
    "\n",
    "input = Image.open(input_path)\n",
    "output = remove(input)\n",
    "output.save(output_path)"
   ]
  },
  {
   "cell_type": "code",
   "execution_count": 133,
   "id": "fe32fc30",
   "metadata": {},
   "outputs": [],
   "source": [
    "from rembg.bg import remove\n",
    "from PIL import Image\n",
    "\n",
    "input_path = 'IMG_4248.jpg'\n",
    "output_path = '529.png'\n",
    "\n",
    "input = Image.open(input_path)\n",
    "output = remove(input)\n",
    "output.save(output_path)"
   ]
  },
  {
   "cell_type": "code",
   "execution_count": 134,
   "id": "439bf5ed",
   "metadata": {},
   "outputs": [],
   "source": [
    "from rembg.bg import remove\n",
    "from PIL import Image\n",
    "\n",
    "input_path = 'IMG_4249.jpg'\n",
    "output_path = '530.png'\n",
    "\n",
    "input = Image.open(input_path)\n",
    "output = remove(input)\n",
    "output.save(output_path)"
   ]
  },
  {
   "cell_type": "code",
   "execution_count": 135,
   "id": "c1f94922",
   "metadata": {},
   "outputs": [],
   "source": [
    "from rembg.bg import remove\n",
    "from PIL import Image\n",
    "\n",
    "input_path = 'IMG_4250.jpg'\n",
    "output_path = '531.png'\n",
    "\n",
    "input = Image.open(input_path)\n",
    "output = remove(input)\n",
    "output.save(output_path)"
   ]
  },
  {
   "cell_type": "code",
   "execution_count": 136,
   "id": "c8ce5dd4",
   "metadata": {},
   "outputs": [],
   "source": [
    "from rembg.bg import remove\n",
    "from PIL import Image\n",
    "\n",
    "input_path = 'IMG_4251.jpg'\n",
    "output_path = '532.png'\n",
    "\n",
    "input = Image.open(input_path)\n",
    "output = remove(input)\n",
    "output.save(output_path)"
   ]
  },
  {
   "cell_type": "code",
   "execution_count": 137,
   "id": "470201f1",
   "metadata": {},
   "outputs": [],
   "source": [
    "from rembg.bg import remove\n",
    "from PIL import Image\n",
    "\n",
    "input_path = 'IMG_4252.jpg'\n",
    "output_path = '533.png'\n",
    "\n",
    "input = Image.open(input_path)\n",
    "output = remove(input)\n",
    "output.save(output_path)"
   ]
  },
  {
   "cell_type": "code",
   "execution_count": 138,
   "id": "3557f747",
   "metadata": {},
   "outputs": [],
   "source": [
    "from rembg.bg import remove\n",
    "from PIL import Image\n",
    "\n",
    "input_path = 'IMG_4253.jpg'\n",
    "output_path = '534.png'\n",
    "\n",
    "input = Image.open(input_path)\n",
    "output = remove(input)\n",
    "output.save(output_path)"
   ]
  },
  {
   "cell_type": "code",
   "execution_count": 139,
   "id": "c381c347",
   "metadata": {},
   "outputs": [],
   "source": [
    "from rembg.bg import remove\n",
    "from PIL import Image\n",
    "\n",
    "input_path = 'IMG_4254.jpg'\n",
    "output_path = '535.png'\n",
    "\n",
    "input = Image.open(input_path)\n",
    "output = remove(input)\n",
    "output.save(output_path)"
   ]
  },
  {
   "cell_type": "code",
   "execution_count": 140,
   "id": "49432d1d",
   "metadata": {},
   "outputs": [],
   "source": [
    "from rembg.bg import remove\n",
    "from PIL import Image\n",
    "\n",
    "input_path = 'IMG_4255.jpg'\n",
    "output_path = '536.png'\n",
    "\n",
    "input = Image.open(input_path)\n",
    "output = remove(input)\n",
    "output.save(output_path)"
   ]
  },
  {
   "cell_type": "code",
   "execution_count": 141,
   "id": "ed3b8c18",
   "metadata": {},
   "outputs": [],
   "source": [
    "from rembg.bg import remove\n",
    "from PIL import Image\n",
    "\n",
    "input_path = 'IMG_4256.jpg'\n",
    "output_path = '537.png'\n",
    "\n",
    "input = Image.open(input_path)\n",
    "output = remove(input)\n",
    "output.save(output_path)"
   ]
  },
  {
   "cell_type": "code",
   "execution_count": 142,
   "id": "200294e3",
   "metadata": {},
   "outputs": [],
   "source": [
    "from rembg.bg import remove\n",
    "from PIL import Image\n",
    "\n",
    "input_path = 'IMG_4257.jpg'\n",
    "output_path = '538.png'\n",
    "\n",
    "input = Image.open(input_path)\n",
    "output = remove(input)\n",
    "output.save(output_path)"
   ]
  },
  {
   "cell_type": "code",
   "execution_count": 143,
   "id": "058ed422",
   "metadata": {},
   "outputs": [],
   "source": [
    "from rembg.bg import remove\n",
    "from PIL import Image\n",
    "\n",
    "input_path = 'IMG_4258.jpg'\n",
    "output_path = '539.png'\n",
    "\n",
    "input = Image.open(input_path)\n",
    "output = remove(input)\n",
    "output.save(output_path)"
   ]
  },
  {
   "cell_type": "code",
   "execution_count": 144,
   "id": "1c965aaf",
   "metadata": {},
   "outputs": [],
   "source": [
    "from rembg.bg import remove\n",
    "from PIL import Image\n",
    "\n",
    "input_path = 'IMG_4259.jpg'\n",
    "output_path = '540.png'\n",
    "\n",
    "input = Image.open(input_path)\n",
    "output = remove(input)\n",
    "output.save(output_path)"
   ]
  },
  {
   "cell_type": "code",
   "execution_count": 145,
   "id": "d5827130",
   "metadata": {},
   "outputs": [],
   "source": [
    "from rembg.bg import remove\n",
    "from PIL import Image\n",
    "\n",
    "input_path = 'IMG_4260.jpg'\n",
    "output_path = '541.png'\n",
    "\n",
    "input = Image.open(input_path)\n",
    "output = remove(input)\n",
    "output.save(output_path)"
   ]
  },
  {
   "cell_type": "code",
   "execution_count": 146,
   "id": "bf0ff474",
   "metadata": {},
   "outputs": [],
   "source": [
    "from rembg.bg import remove\n",
    "from PIL import Image\n",
    "\n",
    "input_path = 'IMG_4261.jpg'\n",
    "output_path = '542.png'\n",
    "\n",
    "input = Image.open(input_path)\n",
    "output = remove(input)\n",
    "output.save(output_path)"
   ]
  },
  {
   "cell_type": "code",
   "execution_count": 147,
   "id": "c9588ecf",
   "metadata": {},
   "outputs": [],
   "source": [
    "from rembg.bg import remove\n",
    "from PIL import Image\n",
    "\n",
    "input_path = 'IMG_4262.jpg'\n",
    "output_path = '543.png'\n",
    "\n",
    "input = Image.open(input_path)\n",
    "output = remove(input)\n",
    "output.save(output_path)"
   ]
  },
  {
   "cell_type": "code",
   "execution_count": 148,
   "id": "7502ea06",
   "metadata": {},
   "outputs": [],
   "source": [
    "from rembg.bg import remove\n",
    "from PIL import Image\n",
    "\n",
    "input_path = 'IMG_4263.jpg'\n",
    "output_path = '544.png'\n",
    "\n",
    "input = Image.open(input_path)\n",
    "output = remove(input)\n",
    "output.save(output_path)"
   ]
  },
  {
   "cell_type": "code",
   "execution_count": 149,
   "id": "174fdf0a",
   "metadata": {},
   "outputs": [],
   "source": [
    "from rembg.bg import remove\n",
    "from PIL import Image\n",
    "\n",
    "input_path = 'IMG_4264.jpg'\n",
    "output_path = '545.png'\n",
    "\n",
    "input = Image.open(input_path)\n",
    "output = remove(input)\n",
    "output.save(output_path)"
   ]
  },
  {
   "cell_type": "code",
   "execution_count": 150,
   "id": "0b6388b1",
   "metadata": {},
   "outputs": [],
   "source": [
    "from rembg.bg import remove\n",
    "from PIL import Image\n",
    "\n",
    "input_path = 'IMG_4265.jpg'\n",
    "output_path = '546.png'\n",
    "\n",
    "input = Image.open(input_path)\n",
    "output = remove(input)\n",
    "output.save(output_path)"
   ]
  },
  {
   "cell_type": "code",
   "execution_count": 151,
   "id": "8bdde2b6",
   "metadata": {},
   "outputs": [],
   "source": [
    "from rembg.bg import remove\n",
    "from PIL import Image\n",
    "\n",
    "input_path = 'IMG_4266.jpg'\n",
    "output_path = '547.png'\n",
    "\n",
    "input = Image.open(input_path)\n",
    "output = remove(input)\n",
    "output.save(output_path)"
   ]
  },
  {
   "cell_type": "code",
   "execution_count": 152,
   "id": "c7ceab83",
   "metadata": {},
   "outputs": [],
   "source": [
    "from rembg.bg import remove\n",
    "from PIL import Image\n",
    "\n",
    "input_path = 'IMG_4267.jpg'\n",
    "output_path = '548.png'\n",
    "\n",
    "input = Image.open(input_path)\n",
    "output = remove(input)\n",
    "output.save(output_path)"
   ]
  },
  {
   "cell_type": "code",
   "execution_count": 153,
   "id": "1eb5d6e4",
   "metadata": {},
   "outputs": [],
   "source": [
    "from rembg.bg import remove\n",
    "from PIL import Image\n",
    "\n",
    "input_path = 'IMG_4268.jpg'\n",
    "output_path = '549.png'\n",
    "\n",
    "input = Image.open(input_path)\n",
    "output = remove(input)\n",
    "output.save(output_path)"
   ]
  },
  {
   "cell_type": "code",
   "execution_count": 154,
   "id": "88aef716",
   "metadata": {},
   "outputs": [],
   "source": [
    "from rembg.bg import remove\n",
    "from PIL import Image\n",
    "\n",
    "input_path = 'IMG_4269.jpg'\n",
    "output_path = '550.png'\n",
    "\n",
    "input = Image.open(input_path)\n",
    "output = remove(input)\n",
    "output.save(output_path)"
   ]
  },
  {
   "cell_type": "code",
   "execution_count": 155,
   "id": "4d9c26b1",
   "metadata": {},
   "outputs": [],
   "source": [
    "from rembg.bg import remove\n",
    "from PIL import Image\n",
    "\n",
    "input_path = 'IMG_4270.jpg'\n",
    "output_path = '551.png'\n",
    "\n",
    "input = Image.open(input_path)\n",
    "output = remove(input)\n",
    "output.save(output_path)"
   ]
  },
  {
   "cell_type": "code",
   "execution_count": 156,
   "id": "76f95c9a",
   "metadata": {},
   "outputs": [],
   "source": [
    "from rembg.bg import remove\n",
    "from PIL import Image\n",
    "\n",
    "input_path = 'IMG_4271.jpg'\n",
    "output_path = '552.png'\n",
    "\n",
    "input = Image.open(input_path)\n",
    "output = remove(input)\n",
    "output.save(output_path)"
   ]
  },
  {
   "cell_type": "code",
   "execution_count": 157,
   "id": "54e07d7c",
   "metadata": {},
   "outputs": [],
   "source": [
    "from rembg.bg import remove\n",
    "from PIL import Image\n",
    "\n",
    "input_path = 'IMG_4272.jpg'\n",
    "output_path = '553.png'\n",
    "\n",
    "input = Image.open(input_path)\n",
    "output = remove(input)\n",
    "output.save(output_path)"
   ]
  },
  {
   "cell_type": "code",
   "execution_count": 158,
   "id": "42d10179",
   "metadata": {},
   "outputs": [],
   "source": [
    "from rembg.bg import remove\n",
    "from PIL import Image\n",
    "\n",
    "input_path = 'IMG_4273.jpg'\n",
    "output_path = '554.png'\n",
    "\n",
    "input = Image.open(input_path)\n",
    "output = remove(input)\n",
    "output.save(output_path)"
   ]
  },
  {
   "cell_type": "code",
   "execution_count": 159,
   "id": "02a21c79",
   "metadata": {},
   "outputs": [],
   "source": [
    "from rembg.bg import remove\n",
    "from PIL import Image\n",
    "\n",
    "input_path = 'IMG_4274.jpg'\n",
    "output_path = '555.png'\n",
    "\n",
    "input = Image.open(input_path)\n",
    "output = remove(input)\n",
    "output.save(output_path)"
   ]
  },
  {
   "cell_type": "code",
   "execution_count": 160,
   "id": "9a6e7578",
   "metadata": {},
   "outputs": [],
   "source": [
    "from rembg.bg import remove\n",
    "from PIL import Image\n",
    "\n",
    "input_path = 'IMG_4275.jpg'\n",
    "output_path = '556.png'\n",
    "\n",
    "input = Image.open(input_path)\n",
    "output = remove(input)\n",
    "output.save(output_path)"
   ]
  },
  {
   "cell_type": "code",
   "execution_count": 161,
   "id": "bb3b680d",
   "metadata": {},
   "outputs": [],
   "source": [
    "from rembg.bg import remove\n",
    "from PIL import Image\n",
    "\n",
    "input_path = 'IMG_4276.jpg'\n",
    "output_path = '557.png'\n",
    "\n",
    "input = Image.open(input_path)\n",
    "output = remove(input)\n",
    "output.save(output_path)"
   ]
  },
  {
   "cell_type": "code",
   "execution_count": 162,
   "id": "de094bb9",
   "metadata": {},
   "outputs": [],
   "source": [
    "from rembg.bg import remove\n",
    "from PIL import Image\n",
    "\n",
    "input_path = 'IMG_4277.jpg'\n",
    "output_path = '558.png'\n",
    "\n",
    "input = Image.open(input_path)\n",
    "output = remove(input)\n",
    "output.save(output_path)"
   ]
  },
  {
   "cell_type": "code",
   "execution_count": 163,
   "id": "d6557802",
   "metadata": {},
   "outputs": [],
   "source": [
    "from rembg.bg import remove\n",
    "from PIL import Image\n",
    "\n",
    "input_path = 'IMG_4278.jpg'\n",
    "output_path = '559.png'\n",
    "\n",
    "input = Image.open(input_path)\n",
    "output = remove(input)\n",
    "output.save(output_path)"
   ]
  },
  {
   "cell_type": "code",
   "execution_count": 164,
   "id": "80302225",
   "metadata": {},
   "outputs": [],
   "source": [
    "from rembg.bg import remove\n",
    "from PIL import Image\n",
    "\n",
    "input_path = 'IMG_4279.jpg'\n",
    "output_path = '560.png'\n",
    "\n",
    "input = Image.open(input_path)\n",
    "output = remove(input)\n",
    "output.save(output_path)"
   ]
  },
  {
   "cell_type": "code",
   "execution_count": 165,
   "id": "dd335cd5",
   "metadata": {},
   "outputs": [],
   "source": [
    "from rembg.bg import remove\n",
    "from PIL import Image\n",
    "\n",
    "input_path = 'IMG_4280.jpg'\n",
    "output_path = '561.png'\n",
    "\n",
    "input = Image.open(input_path)\n",
    "output = remove(input)\n",
    "output.save(output_path)"
   ]
  },
  {
   "cell_type": "code",
   "execution_count": 166,
   "id": "4e212fe0",
   "metadata": {},
   "outputs": [],
   "source": [
    "from rembg.bg import remove\n",
    "from PIL import Image\n",
    "\n",
    "input_path = 'IMG_4281.jpg'\n",
    "output_path = '562.png'\n",
    "\n",
    "input = Image.open(input_path)\n",
    "output = remove(input)\n",
    "output.save(output_path)"
   ]
  },
  {
   "cell_type": "code",
   "execution_count": 167,
   "id": "bacc5989",
   "metadata": {},
   "outputs": [],
   "source": [
    "from rembg.bg import remove\n",
    "from PIL import Image\n",
    "\n",
    "input_path = 'IMG_4282.jpg'\n",
    "output_path = '563.png'\n",
    "\n",
    "input = Image.open(input_path)\n",
    "output = remove(input)\n",
    "output.save(output_path)"
   ]
  },
  {
   "cell_type": "code",
   "execution_count": 168,
   "id": "ff1c6ac9",
   "metadata": {},
   "outputs": [],
   "source": [
    "from rembg.bg import remove\n",
    "from PIL import Image\n",
    "\n",
    "input_path = 'IMG_4283.jpg'\n",
    "output_path = '564.png'\n",
    "\n",
    "input = Image.open(input_path)\n",
    "output = remove(input)\n",
    "output.save(output_path)"
   ]
  },
  {
   "cell_type": "code",
   "execution_count": 169,
   "id": "28fd738b",
   "metadata": {},
   "outputs": [],
   "source": [
    "from rembg.bg import remove\n",
    "from PIL import Image\n",
    "\n",
    "input_path = 'IMG_4284.jpg'\n",
    "output_path = '565.png'\n",
    "\n",
    "input = Image.open(input_path)\n",
    "output = remove(input)\n",
    "output.save(output_path)"
   ]
  },
  {
   "cell_type": "code",
   "execution_count": 174,
   "id": "904d9b74",
   "metadata": {},
   "outputs": [],
   "source": [
    "from rembg.bg import remove\n",
    "from PIL import Image\n",
    "\n",
    "input_path = 'IMG_4285.jpg'\n",
    "output_path = '566.png'\n",
    "\n",
    "input = Image.open(input_path)\n",
    "output = remove(input)\n",
    "output.save(output_path)"
   ]
  },
  {
   "cell_type": "code",
   "execution_count": 175,
   "id": "a5658378",
   "metadata": {},
   "outputs": [],
   "source": [
    "from rembg.bg import remove\n",
    "from PIL import Image\n",
    "\n",
    "input_path = 'IMG_4286.jpg'\n",
    "output_path = '567.png'\n",
    "\n",
    "input = Image.open(input_path)\n",
    "output = remove(input)\n",
    "output.save(output_path)"
   ]
  },
  {
   "cell_type": "code",
   "execution_count": 176,
   "id": "ebe489b4",
   "metadata": {},
   "outputs": [],
   "source": [
    "from rembg.bg import remove\n",
    "from PIL import Image\n",
    "\n",
    "input_path = 'IMG_4287.jpg'\n",
    "output_path = '568.png'\n",
    "\n",
    "input = Image.open(input_path)\n",
    "output = remove(input)\n",
    "output.save(output_path)"
   ]
  },
  {
   "cell_type": "code",
   "execution_count": 177,
   "id": "6a386834",
   "metadata": {},
   "outputs": [],
   "source": [
    "from rembg.bg import remove\n",
    "from PIL import Image\n",
    "\n",
    "input_path = 'IMG_4288.jpg'\n",
    "output_path = '569.png'\n",
    "\n",
    "input = Image.open(input_path)\n",
    "output = remove(input)\n",
    "output.save(output_path)"
   ]
  },
  {
   "cell_type": "code",
   "execution_count": 178,
   "id": "0e6848ce",
   "metadata": {},
   "outputs": [],
   "source": [
    "from rembg.bg import remove\n",
    "from PIL import Image\n",
    "\n",
    "input_path = 'IMG_4289.jpg'\n",
    "output_path = '570.png'\n",
    "\n",
    "input = Image.open(input_path)\n",
    "output = remove(input)\n",
    "output.save(output_path)"
   ]
  },
  {
   "cell_type": "code",
   "execution_count": 179,
   "id": "0fe3c792",
   "metadata": {},
   "outputs": [],
   "source": [
    "from rembg.bg import remove\n",
    "from PIL import Image\n",
    "\n",
    "input_path = 'IMG_4290.jpg'\n",
    "output_path = '571.png'\n",
    "\n",
    "input = Image.open(input_path)\n",
    "output = remove(input)\n",
    "output.save(output_path)"
   ]
  },
  {
   "cell_type": "code",
   "execution_count": 180,
   "id": "aef1bfed",
   "metadata": {},
   "outputs": [],
   "source": [
    "from rembg.bg import remove\n",
    "from PIL import Image\n",
    "\n",
    "input_path = 'IMG_4291.jpg'\n",
    "output_path = '572.png'\n",
    "\n",
    "input = Image.open(input_path)\n",
    "output = remove(input)\n",
    "output.save(output_path)"
   ]
  },
  {
   "cell_type": "code",
   "execution_count": 181,
   "id": "0b350af2",
   "metadata": {},
   "outputs": [],
   "source": [
    "from rembg.bg import remove\n",
    "from PIL import Image\n",
    "\n",
    "input_path = 'IMG_4292.jpg'\n",
    "output_path = '573.png'\n",
    "\n",
    "input = Image.open(input_path)\n",
    "output = remove(input)\n",
    "output.save(output_path)"
   ]
  },
  {
   "cell_type": "code",
   "execution_count": 182,
   "id": "d105de74",
   "metadata": {},
   "outputs": [],
   "source": [
    "from rembg.bg import remove\n",
    "from PIL import Image\n",
    "\n",
    "input_path = 'IMG_4293.jpg'\n",
    "output_path = '574.png'\n",
    "\n",
    "input = Image.open(input_path)\n",
    "output = remove(input)\n",
    "output.save(output_path)"
   ]
  },
  {
   "cell_type": "code",
   "execution_count": 183,
   "id": "3eb8783e",
   "metadata": {},
   "outputs": [],
   "source": [
    "from rembg.bg import remove\n",
    "from PIL import Image\n",
    "\n",
    "input_path = 'IMG_4294.jpg'\n",
    "output_path = '575.png'\n",
    "\n",
    "input = Image.open(input_path)\n",
    "output = remove(input)\n",
    "output.save(output_path)"
   ]
  },
  {
   "cell_type": "code",
   "execution_count": 184,
   "id": "c3cf08fe",
   "metadata": {},
   "outputs": [],
   "source": [
    "from rembg.bg import remove\n",
    "from PIL import Image\n",
    "\n",
    "input_path = 'IMG_4295.jpg'\n",
    "output_path = '576.png'\n",
    "\n",
    "input = Image.open(input_path)\n",
    "output = remove(input)\n",
    "output.save(output_path)"
   ]
  },
  {
   "cell_type": "code",
   "execution_count": 185,
   "id": "b1a29553",
   "metadata": {},
   "outputs": [],
   "source": [
    "from rembg.bg import remove\n",
    "from PIL import Image\n",
    "\n",
    "input_path = 'IMG_4296.jpg'\n",
    "output_path = '577.png'\n",
    "\n",
    "input = Image.open(input_path)\n",
    "output = remove(input)\n",
    "output.save(output_path)"
   ]
  },
  {
   "cell_type": "code",
   "execution_count": 186,
   "id": "7ffb3641",
   "metadata": {},
   "outputs": [],
   "source": [
    "from rembg.bg import remove\n",
    "from PIL import Image\n",
    "\n",
    "input_path = 'IMG_4297.jpg'\n",
    "output_path = '578.png'\n",
    "\n",
    "input = Image.open(input_path)\n",
    "output = remove(input)\n",
    "output.save(output_path)"
   ]
  },
  {
   "cell_type": "code",
   "execution_count": 188,
   "id": "f23ca6c0",
   "metadata": {},
   "outputs": [],
   "source": [
    "from rembg.bg import remove\n",
    "from PIL import Image\n",
    "\n",
    "input_path = 'IMG_4298.jpg'\n",
    "output_path = '579.png'\n",
    "\n",
    "input = Image.open(input_path)\n",
    "output = remove(input)\n",
    "output.save(output_path)"
   ]
  },
  {
   "cell_type": "code",
   "execution_count": 189,
   "id": "5ea9b706",
   "metadata": {},
   "outputs": [],
   "source": [
    "from rembg.bg import remove\n",
    "from PIL import Image\n",
    "\n",
    "input_path = 'IMG_4299.jpg'\n",
    "output_path = '580.png'\n",
    "\n",
    "input = Image.open(input_path)\n",
    "output = remove(input)\n",
    "output.save(output_path)"
   ]
  },
  {
   "cell_type": "code",
   "execution_count": 190,
   "id": "4fa04c73",
   "metadata": {},
   "outputs": [],
   "source": [
    "from rembg.bg import remove\n",
    "from PIL import Image\n",
    "\n",
    "input_path = 'IMG_4300.jpg'\n",
    "output_path = '581.png'\n",
    "\n",
    "input = Image.open(input_path)\n",
    "output = remove(input)\n",
    "output.save(output_path)"
   ]
  },
  {
   "cell_type": "code",
   "execution_count": 191,
   "id": "e2a7a99c",
   "metadata": {},
   "outputs": [],
   "source": [
    "from rembg.bg import remove\n",
    "from PIL import Image\n",
    "\n",
    "input_path = 'IMG_4301.jpg'\n",
    "output_path = '582.png'\n",
    "\n",
    "input = Image.open(input_path)\n",
    "output = remove(input)\n",
    "output.save(output_path)"
   ]
  },
  {
   "cell_type": "code",
   "execution_count": 192,
   "id": "4cc2c0cd",
   "metadata": {},
   "outputs": [],
   "source": [
    "from rembg.bg import remove\n",
    "from PIL import Image\n",
    "\n",
    "input_path = 'IMG_4302.jpg'\n",
    "output_path = '583.png'\n",
    "\n",
    "input = Image.open(input_path)\n",
    "output = remove(input)\n",
    "output.save(output_path)"
   ]
  },
  {
   "cell_type": "code",
   "execution_count": 193,
   "id": "11141e56",
   "metadata": {},
   "outputs": [],
   "source": [
    "from rembg.bg import remove\n",
    "from PIL import Image\n",
    "\n",
    "input_path = 'IMG_4303.jpg'\n",
    "output_path = '584.png'\n",
    "\n",
    "input = Image.open(input_path)\n",
    "output = remove(input)\n",
    "output.save(output_path)"
   ]
  },
  {
   "cell_type": "code",
   "execution_count": 194,
   "id": "bccfcce5",
   "metadata": {},
   "outputs": [],
   "source": [
    "from rembg.bg import remove\n",
    "from PIL import Image\n",
    "\n",
    "input_path = 'IMG_4304.jpg'\n",
    "output_path = '585.png'\n",
    "\n",
    "input = Image.open(input_path)\n",
    "output = remove(input)\n",
    "output.save(output_path)"
   ]
  },
  {
   "cell_type": "code",
   "execution_count": 195,
   "id": "b3e12f41",
   "metadata": {},
   "outputs": [],
   "source": [
    "from rembg.bg import remove\n",
    "from PIL import Image\n",
    "\n",
    "input_path = 'IMG_4305.jpg'\n",
    "output_path = '586.png'\n",
    "\n",
    "input = Image.open(input_path)\n",
    "output = remove(input)\n",
    "output.save(output_path)"
   ]
  },
  {
   "cell_type": "code",
   "execution_count": 196,
   "id": "f3e2dbec",
   "metadata": {},
   "outputs": [],
   "source": [
    "from rembg.bg import remove\n",
    "from PIL import Image\n",
    "\n",
    "input_path = 'IMG_4306.jpg'\n",
    "output_path = '587.png'\n",
    "\n",
    "input = Image.open(input_path)\n",
    "output = remove(input)\n",
    "output.save(output_path)"
   ]
  },
  {
   "cell_type": "code",
   "execution_count": 197,
   "id": "d87b97fe",
   "metadata": {},
   "outputs": [],
   "source": [
    "from rembg.bg import remove\n",
    "from PIL import Image\n",
    "\n",
    "input_path = 'IMG_4307.jpg'\n",
    "output_path = '588.png'\n",
    "\n",
    "input = Image.open(input_path)\n",
    "output = remove(input)\n",
    "output.save(output_path)"
   ]
  },
  {
   "cell_type": "code",
   "execution_count": 198,
   "id": "04b8f11b",
   "metadata": {},
   "outputs": [],
   "source": [
    "from rembg.bg import remove\n",
    "from PIL import Image\n",
    "\n",
    "input_path = 'IMG_4308.jpg'\n",
    "output_path = '589.png'\n",
    "\n",
    "input = Image.open(input_path)\n",
    "output = remove(input)\n",
    "output.save(output_path)"
   ]
  },
  {
   "cell_type": "code",
   "execution_count": 199,
   "id": "cb1a2f1f",
   "metadata": {},
   "outputs": [],
   "source": [
    "from rembg.bg import remove\n",
    "from PIL import Image\n",
    "\n",
    "input_path = 'IMG_4309.jpg'\n",
    "output_path = '590.png'\n",
    "\n",
    "input = Image.open(input_path)\n",
    "output = remove(input)\n",
    "output.save(output_path)"
   ]
  },
  {
   "cell_type": "code",
   "execution_count": 200,
   "id": "3f43dd09",
   "metadata": {},
   "outputs": [],
   "source": [
    "from rembg.bg import remove\n",
    "from PIL import Image\n",
    "\n",
    "input_path = 'IMG_4310.jpg'\n",
    "output_path = '591.png'\n",
    "\n",
    "input = Image.open(input_path)\n",
    "output = remove(input)\n",
    "output.save(output_path)"
   ]
  },
  {
   "cell_type": "code",
   "execution_count": 201,
   "id": "c2ed5d78",
   "metadata": {},
   "outputs": [],
   "source": [
    "from rembg.bg import remove\n",
    "from PIL import Image\n",
    "\n",
    "input_path = 'IMG_4311.jpg'\n",
    "output_path = '592.png'\n",
    "\n",
    "input = Image.open(input_path)\n",
    "output = remove(input)\n",
    "output.save(output_path)"
   ]
  },
  {
   "cell_type": "code",
   "execution_count": 202,
   "id": "b329e513",
   "metadata": {},
   "outputs": [],
   "source": [
    "from rembg.bg import remove\n",
    "from PIL import Image\n",
    "\n",
    "input_path = 'IMG_4312.jpg'\n",
    "output_path = '593.png'\n",
    "\n",
    "input = Image.open(input_path)\n",
    "output = remove(input)\n",
    "output.save(output_path)"
   ]
  },
  {
   "cell_type": "code",
   "execution_count": 203,
   "id": "3fdb0092",
   "metadata": {},
   "outputs": [],
   "source": [
    "from rembg.bg import remove\n",
    "from PIL import Image\n",
    "\n",
    "input_path = 'IMG_4313.jpg'\n",
    "output_path = '594.png'\n",
    "\n",
    "input = Image.open(input_path)\n",
    "output = remove(input)\n",
    "output.save(output_path)"
   ]
  },
  {
   "cell_type": "code",
   "execution_count": 204,
   "id": "b7c50020",
   "metadata": {},
   "outputs": [],
   "source": [
    "from rembg.bg import remove\n",
    "from PIL import Image\n",
    "\n",
    "input_path = 'IMG_4314.jpg'\n",
    "output_path = '595.png'\n",
    "\n",
    "input = Image.open(input_path)\n",
    "output = remove(input)\n",
    "output.save(output_path)"
   ]
  },
  {
   "cell_type": "code",
   "execution_count": 205,
   "id": "03eec463",
   "metadata": {},
   "outputs": [],
   "source": [
    "from rembg.bg import remove\n",
    "from PIL import Image\n",
    "\n",
    "input_path = 'IMG_4315.jpg'\n",
    "output_path = '596.png'\n",
    "\n",
    "input = Image.open(input_path)\n",
    "output = remove(input)\n",
    "output.save(output_path)"
   ]
  },
  {
   "cell_type": "code",
   "execution_count": 206,
   "id": "34e534c9",
   "metadata": {},
   "outputs": [],
   "source": [
    "from rembg.bg import remove\n",
    "from PIL import Image\n",
    "\n",
    "input_path = 'IMG_4316.jpg'\n",
    "output_path = '597.png'\n",
    "\n",
    "input = Image.open(input_path)\n",
    "output = remove(input)\n",
    "output.save(output_path)"
   ]
  },
  {
   "cell_type": "code",
   "execution_count": 207,
   "id": "bf585d6a",
   "metadata": {},
   "outputs": [],
   "source": [
    "from rembg.bg import remove\n",
    "from PIL import Image\n",
    "\n",
    "input_path = 'IMG_4317.jpg'\n",
    "output_path = '598.png'\n",
    "\n",
    "input = Image.open(input_path)\n",
    "output = remove(input)\n",
    "output.save(output_path)"
   ]
  },
  {
   "cell_type": "code",
   "execution_count": 208,
   "id": "5e4303ee",
   "metadata": {},
   "outputs": [],
   "source": [
    "from rembg.bg import remove\n",
    "from PIL import Image\n",
    "\n",
    "input_path = 'IMG_4318.jpg'\n",
    "output_path = '599.png'\n",
    "\n",
    "input = Image.open(input_path)\n",
    "output = remove(input)\n",
    "output.save(output_path)"
   ]
  },
  {
   "cell_type": "code",
   "execution_count": 209,
   "id": "48f914a1",
   "metadata": {},
   "outputs": [],
   "source": [
    "from rembg.bg import remove\n",
    "from PIL import Image\n",
    "\n",
    "input_path = 'IMG_4319.jpg'\n",
    "output_path = '600.png'\n",
    "\n",
    "input = Image.open(input_path)\n",
    "output = remove(input)\n",
    "output.save(output_path)"
   ]
  },
  {
   "cell_type": "code",
   "execution_count": 210,
   "id": "1dbc8d9d",
   "metadata": {},
   "outputs": [],
   "source": [
    "from rembg.bg import remove\n",
    "from PIL import Image\n",
    "\n",
    "input_path = 'IMG_4320.jpg'\n",
    "output_path = '601.png'\n",
    "\n",
    "input = Image.open(input_path)\n",
    "output = remove(input)\n",
    "output.save(output_path)"
   ]
  },
  {
   "cell_type": "code",
   "execution_count": 211,
   "id": "1b83eefe",
   "metadata": {},
   "outputs": [],
   "source": [
    "from rembg.bg import remove\n",
    "from PIL import Image\n",
    "\n",
    "input_path = 'IMG_4321.jpg'\n",
    "output_path = '602.png'\n",
    "\n",
    "input = Image.open(input_path)\n",
    "output = remove(input)\n",
    "output.save(output_path)"
   ]
  },
  {
   "cell_type": "code",
   "execution_count": 212,
   "id": "343b166b",
   "metadata": {},
   "outputs": [],
   "source": [
    "from rembg.bg import remove\n",
    "from PIL import Image\n",
    "\n",
    "input_path = 'IMG_4322.jpg'\n",
    "output_path = '603.png'\n",
    "\n",
    "input = Image.open(input_path)\n",
    "output = remove(input)\n",
    "output.save(output_path)"
   ]
  },
  {
   "cell_type": "code",
   "execution_count": 213,
   "id": "29951bd2",
   "metadata": {},
   "outputs": [],
   "source": [
    "from rembg.bg import remove\n",
    "from PIL import Image\n",
    "\n",
    "input_path = 'IMG_4323.jpg'\n",
    "output_path = '604.png'\n",
    "\n",
    "input = Image.open(input_path)\n",
    "output = remove(input)\n",
    "output.save(output_path)"
   ]
  },
  {
   "cell_type": "code",
   "execution_count": 214,
   "id": "ee36e467",
   "metadata": {},
   "outputs": [],
   "source": [
    "from rembg.bg import remove\n",
    "from PIL import Image\n",
    "\n",
    "input_path = 'IMG_4324.jpg'\n",
    "output_path = '605.png'\n",
    "\n",
    "input = Image.open(input_path)\n",
    "output = remove(input)\n",
    "output.save(output_path)"
   ]
  },
  {
   "cell_type": "code",
   "execution_count": 215,
   "id": "b2854f74",
   "metadata": {},
   "outputs": [],
   "source": [
    "from rembg.bg import remove\n",
    "from PIL import Image\n",
    "\n",
    "input_path = 'IMG_4325.jpg'\n",
    "output_path = '606.png'\n",
    "\n",
    "input = Image.open(input_path)\n",
    "output = remove(input)\n",
    "output.save(output_path)"
   ]
  },
  {
   "cell_type": "code",
   "execution_count": 216,
   "id": "439fbc95",
   "metadata": {},
   "outputs": [],
   "source": [
    "from rembg.bg import remove\n",
    "from PIL import Image\n",
    "\n",
    "input_path = 'IMG_4326.jpg'\n",
    "output_path = '607.png'\n",
    "\n",
    "input = Image.open(input_path)\n",
    "output = remove(input)\n",
    "output.save(output_path)"
   ]
  },
  {
   "cell_type": "code",
   "execution_count": 217,
   "id": "c720a785",
   "metadata": {},
   "outputs": [],
   "source": [
    "from rembg.bg import remove\n",
    "from PIL import Image\n",
    "\n",
    "input_path = 'IMG_4327.jpg'\n",
    "output_path = '608.png'\n",
    "\n",
    "input = Image.open(input_path)\n",
    "output = remove(input)\n",
    "output.save(output_path)"
   ]
  },
  {
   "cell_type": "code",
   "execution_count": 218,
   "id": "be93a8a1",
   "metadata": {},
   "outputs": [],
   "source": [
    "from rembg.bg import remove\n",
    "from PIL import Image\n",
    "\n",
    "input_path = 'IMG_4328.jpg'\n",
    "output_path = '609.png'\n",
    "\n",
    "input = Image.open(input_path)\n",
    "output = remove(input)\n",
    "output.save(output_path)"
   ]
  },
  {
   "cell_type": "code",
   "execution_count": 219,
   "id": "a32317bb",
   "metadata": {},
   "outputs": [],
   "source": [
    "from rembg.bg import remove\n",
    "from PIL import Image\n",
    "\n",
    "input_path = 'IMG_4329.jpg'\n",
    "output_path = '610.png'\n",
    "\n",
    "input = Image.open(input_path)\n",
    "output = remove(input)\n",
    "output.save(output_path)"
   ]
  },
  {
   "cell_type": "code",
   "execution_count": 1,
   "id": "67d97c1a",
   "metadata": {},
   "outputs": [],
   "source": [
    "from rembg.bg import remove\n",
    "from PIL import Image\n",
    "\n",
    "input_path = 'IMG_4330.jpg'\n",
    "output_path = '611.png'\n",
    "\n",
    "input = Image.open(input_path)\n",
    "output = remove(input)\n",
    "output.save(output_path)"
   ]
  },
  {
   "cell_type": "code",
   "execution_count": 2,
   "id": "7e7108c4",
   "metadata": {},
   "outputs": [],
   "source": [
    "from rembg.bg import remove\n",
    "from PIL import Image\n",
    "\n",
    "input_path = 'IMG_4331.jpg'\n",
    "output_path = '612.png'\n",
    "\n",
    "input = Image.open(input_path)\n",
    "output = remove(input)\n",
    "output.save(output_path)"
   ]
  },
  {
   "cell_type": "code",
   "execution_count": 3,
   "id": "f87a4695",
   "metadata": {},
   "outputs": [],
   "source": [
    "from rembg.bg import remove\n",
    "from PIL import Image\n",
    "\n",
    "input_path = 'IMG_4332.jpg'\n",
    "output_path = '613.png'\n",
    "\n",
    "input = Image.open(input_path)\n",
    "output = remove(input)\n",
    "output.save(output_path)"
   ]
  },
  {
   "cell_type": "code",
   "execution_count": 5,
   "id": "b66c03f9",
   "metadata": {},
   "outputs": [],
   "source": [
    "from rembg.bg import remove\n",
    "from PIL import Image\n",
    "\n",
    "input_path = 'IMG_4333.jpg'\n",
    "output_path = '614.png'\n",
    "\n",
    "input = Image.open(input_path)\n",
    "output = remove(input)\n",
    "output.save(output_path)"
   ]
  },
  {
   "cell_type": "code",
   "execution_count": 6,
   "id": "795f8d01",
   "metadata": {},
   "outputs": [],
   "source": [
    "from rembg.bg import remove\n",
    "from PIL import Image\n",
    "\n",
    "input_path = 'IMG_4334.jpg'\n",
    "output_path = '615.png'\n",
    "\n",
    "input = Image.open(input_path)\n",
    "output = remove(input)\n",
    "output.save(output_path)"
   ]
  },
  {
   "cell_type": "code",
   "execution_count": 7,
   "id": "bd8a37eb",
   "metadata": {},
   "outputs": [],
   "source": [
    "from rembg.bg import remove\n",
    "from PIL import Image\n",
    "\n",
    "input_path = 'IMG_4335.jpg'\n",
    "output_path = '616.png'\n",
    "\n",
    "input = Image.open(input_path)\n",
    "output = remove(input)\n",
    "output.save(output_path)"
   ]
  },
  {
   "cell_type": "code",
   "execution_count": 11,
   "id": "cc54f482",
   "metadata": {},
   "outputs": [],
   "source": [
    "from rembg.bg import remove\n",
    "from PIL import Image\n",
    "\n",
    "input_path = 'IMG_4339.jpg'\n",
    "output_path = '617.png'\n",
    "\n",
    "input = Image.open(input_path)\n",
    "output = remove(input)\n",
    "output.save(output_path)"
   ]
  },
  {
   "cell_type": "code",
   "execution_count": 12,
   "id": "988c44ed",
   "metadata": {},
   "outputs": [],
   "source": [
    "from rembg.bg import remove\n",
    "from PIL import Image\n",
    "\n",
    "input_path = 'IMG_4340.jpg'\n",
    "output_path = '618.png'\n",
    "\n",
    "input = Image.open(input_path)\n",
    "output = remove(input)\n",
    "output.save(output_path)"
   ]
  },
  {
   "cell_type": "code",
   "execution_count": 13,
   "id": "27ec6646",
   "metadata": {},
   "outputs": [],
   "source": [
    "from rembg.bg import remove\n",
    "from PIL import Image\n",
    "\n",
    "input_path = 'IMG_4341.jpg'\n",
    "output_path = '619.png'\n",
    "\n",
    "input = Image.open(input_path)\n",
    "output = remove(input)\n",
    "output.save(output_path)"
   ]
  },
  {
   "cell_type": "code",
   "execution_count": 14,
   "id": "2b1a2381",
   "metadata": {},
   "outputs": [],
   "source": [
    "from rembg.bg import remove\n",
    "from PIL import Image\n",
    "\n",
    "input_path = 'IMG_4342.jpg'\n",
    "output_path = '620.png'\n",
    "\n",
    "input = Image.open(input_path)\n",
    "output = remove(input)\n",
    "output.save(output_path)"
   ]
  },
  {
   "cell_type": "code",
   "execution_count": 15,
   "id": "bf509d91",
   "metadata": {},
   "outputs": [],
   "source": [
    "from rembg.bg import remove\n",
    "from PIL import Image\n",
    "\n",
    "input_path = 'IMG_4343.jpg'\n",
    "output_path = '621.png'\n",
    "\n",
    "input = Image.open(input_path)\n",
    "output = remove(input)\n",
    "output.save(output_path)"
   ]
  },
  {
   "cell_type": "code",
   "execution_count": 16,
   "id": "36623230",
   "metadata": {},
   "outputs": [],
   "source": [
    "from rembg.bg import remove\n",
    "from PIL import Image\n",
    "\n",
    "input_path = 'IMG_4344.jpg'\n",
    "output_path = '622.png'\n",
    "\n",
    "input = Image.open(input_path)\n",
    "output = remove(input)\n",
    "output.save(output_path)"
   ]
  },
  {
   "cell_type": "code",
   "execution_count": 17,
   "id": "53361361",
   "metadata": {},
   "outputs": [],
   "source": [
    "from rembg.bg import remove\n",
    "from PIL import Image\n",
    "\n",
    "input_path = 'IMG_4345.jpg'\n",
    "output_path = '623.png'\n",
    "\n",
    "input = Image.open(input_path)\n",
    "output = remove(input)\n",
    "output.save(output_path)"
   ]
  },
  {
   "cell_type": "code",
   "execution_count": 18,
   "id": "8ccd7a68",
   "metadata": {},
   "outputs": [],
   "source": [
    "from rembg.bg import remove\n",
    "from PIL import Image\n",
    "\n",
    "input_path = 'IMG_4346.jpg'\n",
    "output_path = '624.png'\n",
    "\n",
    "input = Image.open(input_path)\n",
    "output = remove(input)\n",
    "output.save(output_path)"
   ]
  },
  {
   "cell_type": "code",
   "execution_count": 19,
   "id": "ca9d04c4",
   "metadata": {},
   "outputs": [],
   "source": [
    "from rembg.bg import remove\n",
    "from PIL import Image\n",
    "\n",
    "input_path = 'IMG_4347.jpg'\n",
    "output_path = '625.png'\n",
    "\n",
    "input = Image.open(input_path)\n",
    "output = remove(input)\n",
    "output.save(output_path)"
   ]
  },
  {
   "cell_type": "code",
   "execution_count": 20,
   "id": "2540884d",
   "metadata": {},
   "outputs": [],
   "source": [
    "from rembg.bg import remove\n",
    "from PIL import Image\n",
    "\n",
    "input_path = 'IMG_4348.jpg'\n",
    "output_path = '626.png'\n",
    "\n",
    "input = Image.open(input_path)\n",
    "output = remove(input)\n",
    "output.save(output_path)"
   ]
  },
  {
   "cell_type": "code",
   "execution_count": 21,
   "id": "7c69e290",
   "metadata": {},
   "outputs": [],
   "source": [
    "from rembg.bg import remove\n",
    "from PIL import Image\n",
    "\n",
    "input_path = 'IMG_4349.jpg'\n",
    "output_path = '627.png'\n",
    "\n",
    "input = Image.open(input_path)\n",
    "output = remove(input)\n",
    "output.save(output_path)"
   ]
  },
  {
   "cell_type": "code",
   "execution_count": 23,
   "id": "f5b8e310",
   "metadata": {},
   "outputs": [],
   "source": [
    "from rembg.bg import remove\n",
    "from PIL import Image\n",
    "\n",
    "input_path = 'IMG_4351.jpg'\n",
    "output_path = '628.png'\n",
    "\n",
    "input = Image.open(input_path)\n",
    "output = remove(input)\n",
    "output.save(output_path)"
   ]
  },
  {
   "cell_type": "code",
   "execution_count": 24,
   "id": "2ad1cfd3",
   "metadata": {},
   "outputs": [],
   "source": [
    "from rembg.bg import remove\n",
    "from PIL import Image\n",
    "\n",
    "input_path = 'IMG_4352.jpg'\n",
    "output_path = '629.png'\n",
    "\n",
    "input = Image.open(input_path)\n",
    "output = remove(input)\n",
    "output.save(output_path)"
   ]
  },
  {
   "cell_type": "code",
   "execution_count": 25,
   "id": "28e465cb",
   "metadata": {},
   "outputs": [],
   "source": [
    "from rembg.bg import remove\n",
    "from PIL import Image\n",
    "\n",
    "input_path = 'IMG_4353.jpg'\n",
    "output_path = '630.png'\n",
    "\n",
    "input = Image.open(input_path)\n",
    "output = remove(input)\n",
    "output.save(output_path)"
   ]
  },
  {
   "cell_type": "code",
   "execution_count": 26,
   "id": "c5bcdc93",
   "metadata": {},
   "outputs": [],
   "source": [
    "from rembg.bg import remove\n",
    "from PIL import Image\n",
    "\n",
    "input_path = 'IMG_4354.jpg'\n",
    "output_path = '631.png'\n",
    "\n",
    "input = Image.open(input_path)\n",
    "output = remove(input)\n",
    "output.save(output_path)"
   ]
  },
  {
   "cell_type": "code",
   "execution_count": 27,
   "id": "0c119ae1",
   "metadata": {},
   "outputs": [],
   "source": [
    "from rembg.bg import remove\n",
    "from PIL import Image\n",
    "\n",
    "input_path = 'IMG_4355.jpg'\n",
    "output_path = '632.png'\n",
    "\n",
    "input = Image.open(input_path)\n",
    "output = remove(input)\n",
    "output.save(output_path)"
   ]
  },
  {
   "cell_type": "code",
   "execution_count": 29,
   "id": "71612b29",
   "metadata": {},
   "outputs": [],
   "source": [
    "from rembg.bg import remove\n",
    "from PIL import Image\n",
    "\n",
    "input_path = 'IMG_4357.jpg'\n",
    "output_path = '633.png'\n",
    "\n",
    "input = Image.open(input_path)\n",
    "output = remove(input)\n",
    "output.save(output_path)"
   ]
  },
  {
   "cell_type": "code",
   "execution_count": 30,
   "id": "dea63014",
   "metadata": {},
   "outputs": [],
   "source": [
    "from rembg.bg import remove\n",
    "from PIL import Image\n",
    "\n",
    "input_path = 'IMG_4358.jpg'\n",
    "output_path = '634.png'\n",
    "\n",
    "input = Image.open(input_path)\n",
    "output = remove(input)\n",
    "output.save(output_path)"
   ]
  },
  {
   "cell_type": "code",
   "execution_count": 31,
   "id": "54bcc0f1",
   "metadata": {},
   "outputs": [],
   "source": [
    "from rembg.bg import remove\n",
    "from PIL import Image\n",
    "\n",
    "input_path = 'IMG_4359.jpg'\n",
    "output_path = '635.png'\n",
    "\n",
    "input = Image.open(input_path)\n",
    "output = remove(input)\n",
    "output.save(output_path)"
   ]
  },
  {
   "cell_type": "code",
   "execution_count": 32,
   "id": "9107991d",
   "metadata": {},
   "outputs": [],
   "source": [
    "from rembg.bg import remove\n",
    "from PIL import Image\n",
    "\n",
    "input_path = 'IMG_4360.jpg'\n",
    "output_path = '636.png'\n",
    "\n",
    "input = Image.open(input_path)\n",
    "output = remove(input)\n",
    "output.save(output_path)"
   ]
  },
  {
   "cell_type": "code",
   "execution_count": 34,
   "id": "e47c9789",
   "metadata": {},
   "outputs": [],
   "source": [
    "from rembg.bg import remove\n",
    "from PIL import Image\n",
    "\n",
    "input_path = 'IMG_4362.jpg'\n",
    "output_path = '637.png'\n",
    "\n",
    "input = Image.open(input_path)\n",
    "output = remove(input)\n",
    "output.save(output_path)"
   ]
  },
  {
   "cell_type": "code",
   "execution_count": 35,
   "id": "cd11f707",
   "metadata": {},
   "outputs": [],
   "source": [
    "from rembg.bg import remove\n",
    "from PIL import Image\n",
    "\n",
    "input_path = 'IMG_4363.jpg'\n",
    "output_path = '638.png'\n",
    "\n",
    "input = Image.open(input_path)\n",
    "output = remove(input)\n",
    "output.save(output_path)"
   ]
  },
  {
   "cell_type": "code",
   "execution_count": 36,
   "id": "a743fc46",
   "metadata": {},
   "outputs": [],
   "source": [
    "from rembg.bg import remove\n",
    "from PIL import Image\n",
    "\n",
    "input_path = 'IMG_4364.jpg'\n",
    "output_path = '639.png'\n",
    "\n",
    "input = Image.open(input_path)\n",
    "output = remove(input)\n",
    "output.save(output_path)"
   ]
  },
  {
   "cell_type": "code",
   "execution_count": 37,
   "id": "a424b607",
   "metadata": {},
   "outputs": [],
   "source": [
    "from rembg.bg import remove\n",
    "from PIL import Image\n",
    "\n",
    "input_path = 'IMG_4365.jpg'\n",
    "output_path = '640.png'\n",
    "\n",
    "input = Image.open(input_path)\n",
    "output = remove(input)\n",
    "output.save(output_path)"
   ]
  },
  {
   "cell_type": "code",
   "execution_count": 38,
   "id": "853f8e60",
   "metadata": {},
   "outputs": [],
   "source": [
    "from rembg.bg import remove\n",
    "from PIL import Image\n",
    "\n",
    "input_path = 'IMG_4366.jpg'\n",
    "output_path = '641.png'\n",
    "\n",
    "input = Image.open(input_path)\n",
    "output = remove(input)\n",
    "output.save(output_path)"
   ]
  },
  {
   "cell_type": "code",
   "execution_count": 39,
   "id": "2a828145",
   "metadata": {},
   "outputs": [],
   "source": [
    "from rembg.bg import remove\n",
    "from PIL import Image\n",
    "\n",
    "input_path = 'IMG_4367.jpg'\n",
    "output_path = '642.png'\n",
    "\n",
    "input = Image.open(input_path)\n",
    "output = remove(input)\n",
    "output.save(output_path)"
   ]
  },
  {
   "cell_type": "code",
   "execution_count": 40,
   "id": "308460d5",
   "metadata": {},
   "outputs": [],
   "source": [
    "from rembg.bg import remove\n",
    "from PIL import Image\n",
    "\n",
    "input_path = 'IMG_4368.jpg'\n",
    "output_path = '643.png'\n",
    "\n",
    "input = Image.open(input_path)\n",
    "output = remove(input)\n",
    "output.save(output_path)"
   ]
  },
  {
   "cell_type": "code",
   "execution_count": 41,
   "id": "6fa255cc",
   "metadata": {},
   "outputs": [],
   "source": [
    "from rembg.bg import remove\n",
    "from PIL import Image\n",
    "\n",
    "input_path = 'IMG_4369.jpg'\n",
    "output_path = '644.png'\n",
    "\n",
    "input = Image.open(input_path)\n",
    "output = remove(input)\n",
    "output.save(output_path)"
   ]
  },
  {
   "cell_type": "code",
   "execution_count": 42,
   "id": "bfad0607",
   "metadata": {},
   "outputs": [],
   "source": [
    "from rembg.bg import remove\n",
    "from PIL import Image\n",
    "\n",
    "input_path = 'IMG_4370.jpg'\n",
    "output_path = '645.png'\n",
    "\n",
    "input = Image.open(input_path)\n",
    "output = remove(input)\n",
    "output.save(output_path)"
   ]
  },
  {
   "cell_type": "code",
   "execution_count": 43,
   "id": "8ad943c4",
   "metadata": {},
   "outputs": [],
   "source": [
    "from rembg.bg import remove\n",
    "from PIL import Image\n",
    "\n",
    "input_path = 'IMG_4371.jpg'\n",
    "output_path = '646.png'\n",
    "\n",
    "input = Image.open(input_path)\n",
    "output = remove(input)\n",
    "output.save(output_path)"
   ]
  },
  {
   "cell_type": "code",
   "execution_count": 44,
   "id": "ca972ee4",
   "metadata": {},
   "outputs": [],
   "source": [
    "from rembg.bg import remove\n",
    "from PIL import Image\n",
    "\n",
    "input_path = 'IMG_4372.jpg'\n",
    "output_path = '647.png'\n",
    "\n",
    "input = Image.open(input_path)\n",
    "output = remove(input)\n",
    "output.save(output_path)"
   ]
  },
  {
   "cell_type": "code",
   "execution_count": 45,
   "id": "e0821505",
   "metadata": {},
   "outputs": [],
   "source": [
    "from rembg.bg import remove\n",
    "from PIL import Image\n",
    "\n",
    "input_path = 'IMG_4373.jpg'\n",
    "output_path = '648.png'\n",
    "\n",
    "input = Image.open(input_path)\n",
    "output = remove(input)\n",
    "output.save(output_path)"
   ]
  },
  {
   "cell_type": "code",
   "execution_count": 46,
   "id": "c81a77b1",
   "metadata": {},
   "outputs": [],
   "source": [
    "from rembg.bg import remove\n",
    "from PIL import Image\n",
    "\n",
    "input_path = 'IMG_4374.jpg'\n",
    "output_path = '649.png'\n",
    "\n",
    "input = Image.open(input_path)\n",
    "output = remove(input)\n",
    "output.save(output_path)"
   ]
  },
  {
   "cell_type": "code",
   "execution_count": 47,
   "id": "ead49d57",
   "metadata": {},
   "outputs": [],
   "source": [
    "from rembg.bg import remove\n",
    "from PIL import Image\n",
    "\n",
    "input_path = 'IMG_4375.jpg'\n",
    "output_path = '650.png'\n",
    "\n",
    "input = Image.open(input_path)\n",
    "output = remove(input)\n",
    "output.save(output_path)"
   ]
  },
  {
   "cell_type": "code",
   "execution_count": 48,
   "id": "36a792d0",
   "metadata": {},
   "outputs": [],
   "source": [
    "from rembg.bg import remove\n",
    "from PIL import Image\n",
    "\n",
    "input_path = 'IMG_4376.jpg'\n",
    "output_path = '651.png'\n",
    "\n",
    "input = Image.open(input_path)\n",
    "output = remove(input)\n",
    "output.save(output_path)"
   ]
  },
  {
   "cell_type": "code",
   "execution_count": 49,
   "id": "bc41d0a9",
   "metadata": {},
   "outputs": [],
   "source": [
    "from rembg.bg import remove\n",
    "from PIL import Image\n",
    "\n",
    "input_path = 'IMG_4377.jpg'\n",
    "output_path = '652.png'\n",
    "\n",
    "input = Image.open(input_path)\n",
    "output = remove(input)\n",
    "output.save(output_path)"
   ]
  },
  {
   "cell_type": "code",
   "execution_count": 50,
   "id": "77e72ff0",
   "metadata": {},
   "outputs": [],
   "source": [
    "from rembg.bg import remove\n",
    "from PIL import Image\n",
    "\n",
    "input_path = 'IMG_4378.jpg'\n",
    "output_path = '653.png'\n",
    "\n",
    "input = Image.open(input_path)\n",
    "output = remove(input)\n",
    "output.save(output_path)"
   ]
  },
  {
   "cell_type": "code",
   "execution_count": 52,
   "id": "68bcc889",
   "metadata": {},
   "outputs": [],
   "source": [
    "from rembg.bg import remove\n",
    "from PIL import Image\n",
    "\n",
    "input_path = 'IMG_4379.jpg'\n",
    "output_path = '654.png'\n",
    "\n",
    "input = Image.open(input_path)\n",
    "output = remove(input)\n",
    "output.save(output_path)"
   ]
  },
  {
   "cell_type": "code",
   "execution_count": 53,
   "id": "980665cf",
   "metadata": {},
   "outputs": [],
   "source": [
    "from rembg.bg import remove\n",
    "from PIL import Image\n",
    "\n",
    "input_path = 'IMG_4380.jpg'\n",
    "output_path = '655.png'\n",
    "\n",
    "input = Image.open(input_path)\n",
    "output = remove(input)\n",
    "output.save(output_path)"
   ]
  },
  {
   "cell_type": "code",
   "execution_count": 54,
   "id": "86401eb1",
   "metadata": {},
   "outputs": [],
   "source": [
    "from rembg.bg import remove\n",
    "from PIL import Image\n",
    "\n",
    "input_path = 'IMG_4381.jpg'\n",
    "output_path = '656.png'\n",
    "\n",
    "input = Image.open(input_path)\n",
    "output = remove(input)\n",
    "output.save(output_path)"
   ]
  },
  {
   "cell_type": "code",
   "execution_count": 55,
   "id": "8ffeca43",
   "metadata": {},
   "outputs": [],
   "source": [
    "from rembg.bg import remove\n",
    "from PIL import Image\n",
    "\n",
    "input_path = 'IMG_4382.jpg'\n",
    "output_path = '657.png'\n",
    "\n",
    "input = Image.open(input_path)\n",
    "output = remove(input)\n",
    "output.save(output_path)"
   ]
  },
  {
   "cell_type": "code",
   "execution_count": 56,
   "id": "15b4dda0",
   "metadata": {},
   "outputs": [],
   "source": [
    "from rembg.bg import remove\n",
    "from PIL import Image\n",
    "\n",
    "input_path = 'IMG_4383.jpg'\n",
    "output_path = '658.png'\n",
    "\n",
    "input = Image.open(input_path)\n",
    "output = remove(input)\n",
    "output.save(output_path)"
   ]
  },
  {
   "cell_type": "code",
   "execution_count": 57,
   "id": "c920ada5",
   "metadata": {},
   "outputs": [],
   "source": [
    "from rembg.bg import remove\n",
    "from PIL import Image\n",
    "\n",
    "input_path = 'IMG_4384.jpg'\n",
    "output_path = '659.png'\n",
    "\n",
    "input = Image.open(input_path)\n",
    "output = remove(input)\n",
    "output.save(output_path)"
   ]
  },
  {
   "cell_type": "code",
   "execution_count": 59,
   "id": "5d2e8504",
   "metadata": {},
   "outputs": [],
   "source": [
    "from rembg.bg import remove\n",
    "from PIL import Image\n",
    "\n",
    "input_path = 'IMG_4385.jpg'\n",
    "output_path = '660.png'\n",
    "\n",
    "input = Image.open(input_path)\n",
    "output = remove(input)\n",
    "output.save(output_path)"
   ]
  },
  {
   "cell_type": "code",
   "execution_count": 60,
   "id": "5d96edb5",
   "metadata": {},
   "outputs": [],
   "source": [
    "from rembg.bg import remove\n",
    "from PIL import Image\n",
    "\n",
    "input_path = 'IMG_4386.jpg'\n",
    "output_path = '661.png'\n",
    "\n",
    "input = Image.open(input_path)\n",
    "output = remove(input)\n",
    "output.save(output_path)"
   ]
  },
  {
   "cell_type": "code",
   "execution_count": 61,
   "id": "87dd65d6",
   "metadata": {},
   "outputs": [],
   "source": [
    "from rembg.bg import remove\n",
    "from PIL import Image\n",
    "\n",
    "input_path = 'IMG_4387.jpg'\n",
    "output_path = '662.png'\n",
    "\n",
    "input = Image.open(input_path)\n",
    "output = remove(input)\n",
    "output.save(output_path)"
   ]
  },
  {
   "cell_type": "code",
   "execution_count": 62,
   "id": "f599f379",
   "metadata": {},
   "outputs": [],
   "source": [
    "from rembg.bg import remove\n",
    "from PIL import Image\n",
    "\n",
    "input_path = 'IMG_4388.jpg'\n",
    "output_path = '663.png'\n",
    "\n",
    "input = Image.open(input_path)\n",
    "output = remove(input)\n",
    "output.save(output_path)"
   ]
  },
  {
   "cell_type": "code",
   "execution_count": 63,
   "id": "2024b1a1",
   "metadata": {},
   "outputs": [],
   "source": [
    "from rembg.bg import remove\n",
    "from PIL import Image\n",
    "\n",
    "input_path = 'IMG_4389.jpg'\n",
    "output_path = '664.png'\n",
    "\n",
    "input = Image.open(input_path)\n",
    "output = remove(input)\n",
    "output.save(output_path)"
   ]
  },
  {
   "cell_type": "code",
   "execution_count": 64,
   "id": "e086a294",
   "metadata": {},
   "outputs": [],
   "source": [
    "from rembg.bg import remove\n",
    "from PIL import Image\n",
    "\n",
    "input_path = 'IMG_4390.jpg'\n",
    "output_path = '665.png'\n",
    "\n",
    "input = Image.open(input_path)\n",
    "output = remove(input)\n",
    "output.save(output_path)"
   ]
  },
  {
   "cell_type": "code",
   "execution_count": 65,
   "id": "1d50591d",
   "metadata": {},
   "outputs": [],
   "source": [
    "from rembg.bg import remove\n",
    "from PIL import Image\n",
    "\n",
    "input_path = 'IMG_4391.jpg'\n",
    "output_path = '666.png'\n",
    "\n",
    "input = Image.open(input_path)\n",
    "output = remove(input)\n",
    "output.save(output_path)"
   ]
  },
  {
   "cell_type": "code",
   "execution_count": 66,
   "id": "3c4c5a60",
   "metadata": {},
   "outputs": [],
   "source": [
    "from rembg.bg import remove\n",
    "from PIL import Image\n",
    "\n",
    "input_path = 'IMG_4392.jpg'\n",
    "output_path = '667.png'\n",
    "\n",
    "input = Image.open(input_path)\n",
    "output = remove(input)\n",
    "output.save(output_path)"
   ]
  },
  {
   "cell_type": "code",
   "execution_count": 67,
   "id": "49daf5be",
   "metadata": {},
   "outputs": [],
   "source": [
    "from rembg.bg import remove\n",
    "from PIL import Image\n",
    "\n",
    "input_path = 'IMG_4393.jpg'\n",
    "output_path = '668.png'\n",
    "\n",
    "input = Image.open(input_path)\n",
    "output = remove(input)\n",
    "output.save(output_path)"
   ]
  },
  {
   "cell_type": "code",
   "execution_count": 68,
   "id": "7ba27ca0",
   "metadata": {},
   "outputs": [],
   "source": [
    "from rembg.bg import remove\n",
    "from PIL import Image\n",
    "\n",
    "input_path = 'IMG_4394.jpg'\n",
    "output_path = '669.png'\n",
    "\n",
    "input = Image.open(input_path)\n",
    "output = remove(input)\n",
    "output.save(output_path)"
   ]
  },
  {
   "cell_type": "code",
   "execution_count": 69,
   "id": "7dac2af1",
   "metadata": {},
   "outputs": [],
   "source": [
    "from rembg.bg import remove\n",
    "from PIL import Image\n",
    "\n",
    "input_path = 'IMG_4395.jpg'\n",
    "output_path = '670.png'\n",
    "\n",
    "input = Image.open(input_path)\n",
    "output = remove(input)\n",
    "output.save(output_path)"
   ]
  },
  {
   "cell_type": "code",
   "execution_count": 70,
   "id": "bd9b6405",
   "metadata": {},
   "outputs": [],
   "source": [
    "from rembg.bg import remove\n",
    "from PIL import Image\n",
    "\n",
    "input_path = 'IMG_4396.jpg'\n",
    "output_path = '671.png'\n",
    "\n",
    "input = Image.open(input_path)\n",
    "output = remove(input)\n",
    "output.save(output_path)"
   ]
  },
  {
   "cell_type": "code",
   "execution_count": 71,
   "id": "3dadf37e",
   "metadata": {},
   "outputs": [],
   "source": [
    "from rembg.bg import remove\n",
    "from PIL import Image\n",
    "\n",
    "input_path = 'IMG_4397.jpg'\n",
    "output_path = '672.png'\n",
    "\n",
    "input = Image.open(input_path)\n",
    "output = remove(input)\n",
    "output.save(output_path)"
   ]
  },
  {
   "cell_type": "code",
   "execution_count": 72,
   "id": "ac91cec1",
   "metadata": {},
   "outputs": [],
   "source": [
    "from rembg.bg import remove\n",
    "from PIL import Image\n",
    "\n",
    "input_path = 'IMG_4398.jpg'\n",
    "output_path = '673.png'\n",
    "\n",
    "input = Image.open(input_path)\n",
    "output = remove(input)\n",
    "output.save(output_path)"
   ]
  },
  {
   "cell_type": "code",
   "execution_count": 73,
   "id": "698a0955",
   "metadata": {},
   "outputs": [],
   "source": [
    "from rembg.bg import remove\n",
    "from PIL import Image\n",
    "\n",
    "input_path = 'IMG_4399.jpg'\n",
    "output_path = '674.png'\n",
    "\n",
    "input = Image.open(input_path)\n",
    "output = remove(input)\n",
    "output.save(output_path)"
   ]
  },
  {
   "cell_type": "code",
   "execution_count": 74,
   "id": "718abc52",
   "metadata": {},
   "outputs": [],
   "source": [
    "from rembg.bg import remove\n",
    "from PIL import Image\n",
    "\n",
    "input_path = 'IMG_4400.jpg'\n",
    "output_path = '675.png'\n",
    "\n",
    "input = Image.open(input_path)\n",
    "output = remove(input)\n",
    "output.save(output_path)"
   ]
  },
  {
   "cell_type": "code",
   "execution_count": 75,
   "id": "047021e9",
   "metadata": {},
   "outputs": [],
   "source": [
    "from rembg.bg import remove\n",
    "from PIL import Image\n",
    "\n",
    "input_path = 'IMG_4401.jpg'\n",
    "output_path = '676.png'\n",
    "\n",
    "input = Image.open(input_path)\n",
    "output = remove(input)\n",
    "output.save(output_path)"
   ]
  },
  {
   "cell_type": "code",
   "execution_count": 76,
   "id": "a202e35f",
   "metadata": {},
   "outputs": [],
   "source": [
    "from rembg.bg import remove\n",
    "from PIL import Image\n",
    "\n",
    "input_path = 'IMG_4402.jpg'\n",
    "output_path = '677.png'\n",
    "\n",
    "input = Image.open(input_path)\n",
    "output = remove(input)\n",
    "output.save(output_path)"
   ]
  },
  {
   "cell_type": "code",
   "execution_count": 77,
   "id": "b4764fdf",
   "metadata": {},
   "outputs": [],
   "source": [
    "from rembg.bg import remove\n",
    "from PIL import Image\n",
    "\n",
    "input_path = 'IMG_4403.jpg'\n",
    "output_path = '678.png'\n",
    "\n",
    "input = Image.open(input_path)\n",
    "output = remove(input)\n",
    "output.save(output_path)"
   ]
  },
  {
   "cell_type": "code",
   "execution_count": 78,
   "id": "761b00ff",
   "metadata": {},
   "outputs": [],
   "source": [
    "\n",
    "from rembg.bg import remove\n",
    "from PIL import Image\n",
    "\n",
    "input_path = 'IMG_4404.jpg'\n",
    "output_path = '679.png'\n",
    "\n",
    "input = Image.open(input_path)\n",
    "output = remove(input)\n",
    "output.save(output_path)"
   ]
  },
  {
   "cell_type": "code",
   "execution_count": 79,
   "id": "e5413ff5",
   "metadata": {},
   "outputs": [],
   "source": [
    "from rembg.bg import remove\n",
    "from PIL import Image\n",
    "\n",
    "input_path = 'IMG_4405.jpg'\n",
    "output_path = '680.png'\n",
    "\n",
    "input = Image.open(input_path)\n",
    "output = remove(input)\n",
    "output.save(output_path)"
   ]
  },
  {
   "cell_type": "code",
   "execution_count": 80,
   "id": "3482de99",
   "metadata": {},
   "outputs": [],
   "source": [
    "from rembg.bg import remove\n",
    "from PIL import Image\n",
    "\n",
    "input_path = 'IMG_4406.jpg'\n",
    "output_path = '681.png'\n",
    "\n",
    "input = Image.open(input_path)\n",
    "output = remove(input)\n",
    "output.save(output_path)"
   ]
  },
  {
   "cell_type": "code",
   "execution_count": 81,
   "id": "3584c982",
   "metadata": {},
   "outputs": [],
   "source": [
    "from rembg.bg import remove\n",
    "from PIL import Image\n",
    "\n",
    "input_path = 'IMG_4407.jpg'\n",
    "output_path = '682.png'\n",
    "\n",
    "input = Image.open(input_path)\n",
    "output = remove(input)\n",
    "output.save(output_path)"
   ]
  },
  {
   "cell_type": "code",
   "execution_count": 82,
   "id": "88bb2753",
   "metadata": {},
   "outputs": [],
   "source": [
    "from rembg.bg import remove\n",
    "from PIL import Image\n",
    "\n",
    "input_path = 'IMG_4408.jpg'\n",
    "output_path = '683.png'\n",
    "\n",
    "input = Image.open(input_path)\n",
    "output = remove(input)\n",
    "output.save(output_path)"
   ]
  },
  {
   "cell_type": "code",
   "execution_count": 83,
   "id": "cfcf9e02",
   "metadata": {},
   "outputs": [],
   "source": [
    "from rembg.bg import remove\n",
    "from PIL import Image\n",
    "\n",
    "input_path = 'IMG_4409.jpg'\n",
    "output_path = '684.png'\n",
    "\n",
    "input = Image.open(input_path)\n",
    "output = remove(input)\n",
    "output.save(output_path)"
   ]
  },
  {
   "cell_type": "code",
   "execution_count": 84,
   "id": "169d6c18",
   "metadata": {},
   "outputs": [],
   "source": [
    "from rembg.bg import remove\n",
    "from PIL import Image\n",
    "\n",
    "input_path = 'IMG_4410.jpg'\n",
    "output_path = '685.png'\n",
    "\n",
    "input = Image.open(input_path)\n",
    "output = remove(input)\n",
    "output.save(output_path)"
   ]
  },
  {
   "cell_type": "code",
   "execution_count": 1,
   "id": "9c647c5c",
   "metadata": {},
   "outputs": [],
   "source": [
    "from rembg.bg import remove\n",
    "from PIL import Image\n",
    "\n",
    "input_path = 'IMG_4411.jpg'\n",
    "output_path = '686.png'\n",
    "\n",
    "input = Image.open(input_path)\n",
    "output = remove(input)\n",
    "output.save(output_path)"
   ]
  },
  {
   "cell_type": "code",
   "execution_count": 2,
   "id": "3c99ffef",
   "metadata": {},
   "outputs": [],
   "source": [
    "from rembg.bg import remove\n",
    "from PIL import Image\n",
    "\n",
    "input_path = 'IMG_4412.jpg'\n",
    "output_path = '687.png'\n",
    "\n",
    "input = Image.open(input_path)\n",
    "output = remove(input)\n",
    "output.save(output_path)"
   ]
  },
  {
   "cell_type": "code",
   "execution_count": 1,
   "id": "111883d5",
   "metadata": {},
   "outputs": [],
   "source": [
    "from rembg.bg import remove\n",
    "from PIL import Image\n",
    "\n",
    "input_path = 'IMG_4413.jpg'\n",
    "output_path = '688.png'\n",
    "\n",
    "input = Image.open(input_path)\n",
    "output = remove(input)\n",
    "output.save(output_path)"
   ]
  },
  {
   "cell_type": "code",
   "execution_count": 2,
   "id": "40e7d8ba",
   "metadata": {},
   "outputs": [],
   "source": [
    "from rembg.bg import remove\n",
    "from PIL import Image\n",
    "\n",
    "input_path = 'IMG_4414.jpg'\n",
    "output_path = '689.png'\n",
    "\n",
    "input = Image.open(input_path)\n",
    "output = remove(input)\n",
    "output.save(output_path)"
   ]
  },
  {
   "cell_type": "code",
   "execution_count": 3,
   "id": "2a736759",
   "metadata": {},
   "outputs": [],
   "source": [
    "from rembg.bg import remove\n",
    "from PIL import Image\n",
    "\n",
    "input_path = 'IMG_4415.jpg'\n",
    "output_path = '690.png'\n",
    "\n",
    "input = Image.open(input_path)\n",
    "output = remove(input)\n",
    "output.save(output_path)"
   ]
  },
  {
   "cell_type": "code",
   "execution_count": 4,
   "id": "278f62ea",
   "metadata": {},
   "outputs": [],
   "source": [
    "from rembg.bg import remove\n",
    "from PIL import Image\n",
    "\n",
    "input_path = 'IMG_4416.jpg'\n",
    "output_path = '691.png'\n",
    "\n",
    "input = Image.open(input_path)\n",
    "output = remove(input)\n",
    "output.save(output_path)"
   ]
  },
  {
   "cell_type": "code",
   "execution_count": 5,
   "id": "6c21c4a8",
   "metadata": {},
   "outputs": [],
   "source": [
    "from rembg.bg import remove\n",
    "from PIL import Image\n",
    "\n",
    "input_path = 'IMG_4417.jpg'\n",
    "output_path = '692.png'\n",
    "\n",
    "input = Image.open(input_path)\n",
    "output = remove(input)\n",
    "output.save(output_path)"
   ]
  },
  {
   "cell_type": "code",
   "execution_count": 6,
   "id": "623de097",
   "metadata": {},
   "outputs": [],
   "source": [
    "from rembg.bg import remove\n",
    "from PIL import Image\n",
    "\n",
    "input_path = 'IMG_4418.jpg'\n",
    "output_path = '693.png'\n",
    "\n",
    "input = Image.open(input_path)\n",
    "output = remove(input)\n",
    "output.save(output_path)"
   ]
  },
  {
   "cell_type": "code",
   "execution_count": 7,
   "id": "dda2041b",
   "metadata": {},
   "outputs": [],
   "source": [
    "from rembg.bg import remove\n",
    "from PIL import Image\n",
    "\n",
    "input_path = 'IMG_4419.jpg'\n",
    "output_path = '694.png'\n",
    "\n",
    "input = Image.open(input_path)\n",
    "output = remove(input)\n",
    "output.save(output_path)"
   ]
  },
  {
   "cell_type": "code",
   "execution_count": 8,
   "id": "920e8f97",
   "metadata": {},
   "outputs": [],
   "source": [
    "from rembg.bg import remove\n",
    "from PIL import Image\n",
    "\n",
    "input_path = 'IMG_4420.jpg'\n",
    "output_path = '695.png'\n",
    "\n",
    "input = Image.open(input_path)\n",
    "output = remove(input)\n",
    "output.save(output_path)"
   ]
  },
  {
   "cell_type": "code",
   "execution_count": 9,
   "id": "48d360cf",
   "metadata": {},
   "outputs": [],
   "source": [
    "from rembg.bg import remove\n",
    "from PIL import Image\n",
    "\n",
    "input_path = 'IMG_4421.jpg'\n",
    "output_path = '696.png'\n",
    "\n",
    "input = Image.open(input_path)\n",
    "output = remove(input)\n",
    "output.save(output_path)"
   ]
  },
  {
   "cell_type": "code",
   "execution_count": 10,
   "id": "9cc1df12",
   "metadata": {},
   "outputs": [],
   "source": [
    "from rembg.bg import remove\n",
    "from PIL import Image\n",
    "\n",
    "input_path = 'IMG_4422.jpg'\n",
    "output_path = '697.png'\n",
    "\n",
    "input = Image.open(input_path)\n",
    "output = remove(input)\n",
    "output.save(output_path)"
   ]
  },
  {
   "cell_type": "code",
   "execution_count": 11,
   "id": "e84bf70e",
   "metadata": {},
   "outputs": [],
   "source": [
    "from rembg.bg import remove\n",
    "from PIL import Image\n",
    "\n",
    "input_path = 'IMG_4423.jpg'\n",
    "output_path = '698.png'\n",
    "\n",
    "input = Image.open(input_path)\n",
    "output = remove(input)\n",
    "output.save(output_path)"
   ]
  },
  {
   "cell_type": "code",
   "execution_count": 12,
   "id": "f0c298f7",
   "metadata": {},
   "outputs": [],
   "source": [
    "from rembg.bg import remove\n",
    "from PIL import Image\n",
    "\n",
    "input_path = 'IMG_4424.jpg'\n",
    "output_path = '699.png'\n",
    "\n",
    "input = Image.open(input_path)\n",
    "output = remove(input)\n",
    "output.save(output_path)"
   ]
  },
  {
   "cell_type": "code",
   "execution_count": 13,
   "id": "d041253c",
   "metadata": {},
   "outputs": [],
   "source": [
    "from rembg.bg import remove\n",
    "from PIL import Image\n",
    "\n",
    "input_path = 'IMG_4425.jpg'\n",
    "output_path = '700.png'\n",
    "\n",
    "input = Image.open(input_path)\n",
    "output = remove(input)\n",
    "output.save(output_path)"
   ]
  },
  {
   "cell_type": "code",
   "execution_count": 14,
   "id": "fb7b0f4a",
   "metadata": {},
   "outputs": [],
   "source": [
    "from rembg.bg import remove\n",
    "from PIL import Image\n",
    "\n",
    "input_path = 'IMG_4426.jpg'\n",
    "output_path = '701.png'\n",
    "\n",
    "input = Image.open(input_path)\n",
    "output = remove(input)\n",
    "output.save(output_path)"
   ]
  },
  {
   "cell_type": "code",
   "execution_count": 15,
   "id": "00cf3536",
   "metadata": {},
   "outputs": [],
   "source": [
    "from rembg.bg import remove\n",
    "from PIL import Image\n",
    "\n",
    "input_path = 'IMG_4427.jpg'\n",
    "output_path = '702.png'\n",
    "\n",
    "input = Image.open(input_path)\n",
    "output = remove(input)\n",
    "output.save(output_path)"
   ]
  },
  {
   "cell_type": "code",
   "execution_count": 16,
   "id": "e147f7bf",
   "metadata": {},
   "outputs": [],
   "source": [
    "from rembg.bg import remove\n",
    "from PIL import Image\n",
    "\n",
    "input_path = 'IMG_4428.jpg'\n",
    "output_path = '703.png'\n",
    "\n",
    "input = Image.open(input_path)\n",
    "output = remove(input)\n",
    "output.save(output_path)"
   ]
  },
  {
   "cell_type": "code",
   "execution_count": 17,
   "id": "91eb902e",
   "metadata": {},
   "outputs": [],
   "source": [
    "from rembg.bg import remove\n",
    "from PIL import Image\n",
    "\n",
    "input_path = 'IMG_4429.jpg'\n",
    "output_path = '704.png'\n",
    "\n",
    "input = Image.open(input_path)\n",
    "output = remove(input)\n",
    "output.save(output_path)"
   ]
  },
  {
   "cell_type": "code",
   "execution_count": 18,
   "id": "9360eea7",
   "metadata": {},
   "outputs": [],
   "source": [
    "from rembg.bg import remove\n",
    "from PIL import Image\n",
    "\n",
    "input_path = 'IMG_4430.jpg'\n",
    "output_path = '705.png'\n",
    "\n",
    "input = Image.open(input_path)\n",
    "output = remove(input)\n",
    "output.save(output_path)"
   ]
  },
  {
   "cell_type": "code",
   "execution_count": 19,
   "id": "6d06b048",
   "metadata": {},
   "outputs": [],
   "source": [
    "from rembg.bg import remove\n",
    "from PIL import Image\n",
    "\n",
    "input_path = 'IMG_4431.jpg'\n",
    "output_path = '706.png'\n",
    "\n",
    "input = Image.open(input_path)\n",
    "output = remove(input)\n",
    "output.save(output_path)"
   ]
  },
  {
   "cell_type": "code",
   "execution_count": 20,
   "id": "8b34b26c",
   "metadata": {},
   "outputs": [],
   "source": [
    "from rembg.bg import remove\n",
    "from PIL import Image\n",
    "\n",
    "input_path = 'IMG_4432.jpg'\n",
    "output_path = '707.png'\n",
    "\n",
    "input = Image.open(input_path)\n",
    "output = remove(input)\n",
    "output.save(output_path)"
   ]
  },
  {
   "cell_type": "code",
   "execution_count": 21,
   "id": "e4c2310b",
   "metadata": {},
   "outputs": [],
   "source": [
    "from rembg.bg import remove\n",
    "from PIL import Image\n",
    "\n",
    "input_path = 'IMG_4433.jpg'\n",
    "output_path = '708.png'\n",
    "\n",
    "input = Image.open(input_path)\n",
    "output = remove(input)\n",
    "output.save(output_path)"
   ]
  },
  {
   "cell_type": "code",
   "execution_count": 22,
   "id": "255f7ae1",
   "metadata": {},
   "outputs": [],
   "source": [
    "from rembg.bg import remove\n",
    "from PIL import Image\n",
    "\n",
    "input_path = 'IMG_4434.jpg'\n",
    "output_path = '709.png'\n",
    "\n",
    "input = Image.open(input_path)\n",
    "output = remove(input)\n",
    "output.save(output_path)"
   ]
  },
  {
   "cell_type": "code",
   "execution_count": 23,
   "id": "b34de6ad",
   "metadata": {},
   "outputs": [],
   "source": [
    "from rembg.bg import remove\n",
    "from PIL import Image\n",
    "\n",
    "input_path = 'IMG_4435.jpg'\n",
    "output_path = '710.png'\n",
    "\n",
    "input = Image.open(input_path)\n",
    "output = remove(input)\n",
    "output.save(output_path)"
   ]
  },
  {
   "cell_type": "code",
   "execution_count": 24,
   "id": "e6c8316c",
   "metadata": {},
   "outputs": [],
   "source": [
    "from rembg.bg import remove\n",
    "from PIL import Image\n",
    "\n",
    "input_path = 'IMG_4436.jpg'\n",
    "output_path = '711.png'\n",
    "\n",
    "input = Image.open(input_path)\n",
    "output = remove(input)\n",
    "output.save(output_path)"
   ]
  },
  {
   "cell_type": "code",
   "execution_count": 25,
   "id": "d5102b7d",
   "metadata": {},
   "outputs": [],
   "source": [
    "from rembg.bg import remove\n",
    "from PIL import Image\n",
    "\n",
    "input_path = 'IMG_4437.jpg'\n",
    "output_path = '712.png'\n",
    "\n",
    "input = Image.open(input_path)\n",
    "output = remove(input)\n",
    "output.save(output_path)"
   ]
  },
  {
   "cell_type": "code",
   "execution_count": 26,
   "id": "3b8d394e",
   "metadata": {},
   "outputs": [],
   "source": [
    "from rembg.bg import remove\n",
    "from PIL import Image\n",
    "\n",
    "input_path = 'IMG_4438.jpg'\n",
    "output_path = '713.png'\n",
    "\n",
    "input = Image.open(input_path)\n",
    "output = remove(input)\n",
    "output.save(output_path)"
   ]
  },
  {
   "cell_type": "code",
   "execution_count": 27,
   "id": "04c257c4",
   "metadata": {},
   "outputs": [],
   "source": [
    "from rembg.bg import remove\n",
    "from PIL import Image\n",
    "\n",
    "input_path = 'IMG_4439.jpg'\n",
    "output_path = '714.png'\n",
    "\n",
    "input = Image.open(input_path)\n",
    "output = remove(input)\n",
    "output.save(output_path)"
   ]
  },
  {
   "cell_type": "code",
   "execution_count": 28,
   "id": "0ca7d9cd",
   "metadata": {},
   "outputs": [],
   "source": [
    "from rembg.bg import remove\n",
    "from PIL import Image\n",
    "\n",
    "input_path = 'IMG_4440.jpg'\n",
    "output_path = '715.png'\n",
    "\n",
    "input = Image.open(input_path)\n",
    "output = remove(input)\n",
    "output.save(output_path)"
   ]
  },
  {
   "cell_type": "code",
   "execution_count": 29,
   "id": "e8bfca90",
   "metadata": {},
   "outputs": [],
   "source": [
    "from rembg.bg import remove\n",
    "from PIL import Image\n",
    "\n",
    "input_path = 'IMG_4441.jpg'\n",
    "output_path = '716.png'\n",
    "\n",
    "input = Image.open(input_path)\n",
    "output = remove(input)\n",
    "output.save(output_path)"
   ]
  },
  {
   "cell_type": "code",
   "execution_count": 30,
   "id": "b4b3c966",
   "metadata": {},
   "outputs": [],
   "source": [
    "from rembg.bg import remove\n",
    "from PIL import Image\n",
    "\n",
    "input_path = 'IMG_4442.jpg'\n",
    "output_path = '717.png'\n",
    "\n",
    "input = Image.open(input_path)\n",
    "output = remove(input)\n",
    "output.save(output_path)"
   ]
  },
  {
   "cell_type": "code",
   "execution_count": 31,
   "id": "0e0dde35",
   "metadata": {},
   "outputs": [],
   "source": [
    "from rembg.bg import remove\n",
    "from PIL import Image\n",
    "\n",
    "input_path = 'IMG_4443.jpg'\n",
    "output_path = '718.png'\n",
    "\n",
    "input = Image.open(input_path)\n",
    "output = remove(input)\n",
    "output.save(output_path)"
   ]
  },
  {
   "cell_type": "code",
   "execution_count": 32,
   "id": "d1e907f1",
   "metadata": {},
   "outputs": [],
   "source": [
    "from rembg.bg import remove\n",
    "from PIL import Image\n",
    "\n",
    "input_path = 'IMG_4444.jpg'\n",
    "output_path = '719.png'\n",
    "\n",
    "input = Image.open(input_path)\n",
    "output = remove(input)\n",
    "output.save(output_path)"
   ]
  },
  {
   "cell_type": "code",
   "execution_count": 33,
   "id": "8e68eb46",
   "metadata": {},
   "outputs": [],
   "source": [
    "from rembg.bg import remove\n",
    "from PIL import Image\n",
    "\n",
    "input_path = 'IMG_4445.jpg'\n",
    "output_path = '720.png'\n",
    "\n",
    "input = Image.open(input_path)\n",
    "output = remove(input)\n",
    "output.save(output_path)"
   ]
  },
  {
   "cell_type": "code",
   "execution_count": 34,
   "id": "c2d3225d",
   "metadata": {},
   "outputs": [],
   "source": [
    "from rembg.bg import remove\n",
    "from PIL import Image\n",
    "\n",
    "input_path = 'IMG_4446.jpg'\n",
    "output_path = '721.png'\n",
    "\n",
    "input = Image.open(input_path)\n",
    "output = remove(input)\n",
    "output.save(output_path)"
   ]
  },
  {
   "cell_type": "code",
   "execution_count": 35,
   "id": "9601c3a2",
   "metadata": {},
   "outputs": [],
   "source": [
    "from rembg.bg import remove\n",
    "from PIL import Image\n",
    "\n",
    "input_path = 'IMG_4447.jpg'\n",
    "output_path = '722.png'\n",
    "\n",
    "input = Image.open(input_path)\n",
    "output = remove(input)\n",
    "output.save(output_path)"
   ]
  },
  {
   "cell_type": "code",
   "execution_count": 36,
   "id": "1207d451",
   "metadata": {},
   "outputs": [],
   "source": [
    "from rembg.bg import remove\n",
    "from PIL import Image\n",
    "\n",
    "input_path = 'IMG_4448.jpg'\n",
    "output_path = '723.png'\n",
    "\n",
    "input = Image.open(input_path)\n",
    "output = remove(input)\n",
    "output.save(output_path)"
   ]
  },
  {
   "cell_type": "code",
   "execution_count": 37,
   "id": "69dc1fc6",
   "metadata": {},
   "outputs": [],
   "source": [
    "from rembg.bg import remove\n",
    "from PIL import Image\n",
    "\n",
    "input_path = 'IMG_4449.jpg'\n",
    "output_path = '724.png'\n",
    "\n",
    "input = Image.open(input_path)\n",
    "output = remove(input)\n",
    "output.save(output_path)"
   ]
  },
  {
   "cell_type": "code",
   "execution_count": 38,
   "id": "f8f4938a",
   "metadata": {},
   "outputs": [],
   "source": [
    "from rembg.bg import remove\n",
    "from PIL import Image\n",
    "\n",
    "input_path = 'IMG_4450.jpg'\n",
    "output_path = '725.png'\n",
    "\n",
    "input = Image.open(input_path)\n",
    "output = remove(input)\n",
    "output.save(output_path)"
   ]
  },
  {
   "cell_type": "code",
   "execution_count": 39,
   "id": "59c58c4b",
   "metadata": {},
   "outputs": [],
   "source": [
    "from rembg.bg import remove\n",
    "from PIL import Image\n",
    "\n",
    "input_path = 'IMG_4451.jpg'\n",
    "output_path = '726.png'\n",
    "\n",
    "input = Image.open(input_path)\n",
    "output = remove(input)\n",
    "output.save(output_path)"
   ]
  },
  {
   "cell_type": "code",
   "execution_count": 40,
   "id": "0d28d73c",
   "metadata": {},
   "outputs": [],
   "source": [
    "from rembg.bg import remove\n",
    "from PIL import Image\n",
    "\n",
    "input_path = 'IMG_4452.jpg'\n",
    "output_path = '727.png'\n",
    "\n",
    "input = Image.open(input_path)\n",
    "output = remove(input)\n",
    "output.save(output_path)"
   ]
  },
  {
   "cell_type": "code",
   "execution_count": 41,
   "id": "c4d57371",
   "metadata": {},
   "outputs": [],
   "source": [
    "from rembg.bg import remove\n",
    "from PIL import Image\n",
    "\n",
    "input_path = 'IMG_4453.jpg'\n",
    "output_path = '728.png'\n",
    "\n",
    "input = Image.open(input_path)\n",
    "output = remove(input)\n",
    "output.save(output_path)"
   ]
  },
  {
   "cell_type": "code",
   "execution_count": 42,
   "id": "378224dc",
   "metadata": {},
   "outputs": [],
   "source": [
    "from rembg.bg import remove\n",
    "from PIL import Image\n",
    "\n",
    "input_path = 'IMG_4454.jpg'\n",
    "output_path = '729.png'\n",
    "\n",
    "input = Image.open(input_path)\n",
    "output = remove(input)\n",
    "output.save(output_path)"
   ]
  },
  {
   "cell_type": "code",
   "execution_count": 43,
   "id": "84bb637c",
   "metadata": {},
   "outputs": [],
   "source": [
    "from rembg.bg import remove\n",
    "from PIL import Image\n",
    "\n",
    "input_path = 'IMG_4455.jpg'\n",
    "output_path = '730.png'\n",
    "\n",
    "input = Image.open(input_path)\n",
    "output = remove(input)\n",
    "output.save(output_path)"
   ]
  },
  {
   "cell_type": "code",
   "execution_count": 44,
   "id": "71852d84",
   "metadata": {},
   "outputs": [],
   "source": [
    "from rembg.bg import remove\n",
    "from PIL import Image\n",
    "\n",
    "input_path = 'IMG_4456.jpg'\n",
    "output_path = '731.png'\n",
    "\n",
    "input = Image.open(input_path)\n",
    "output = remove(input)\n",
    "output.save(output_path)"
   ]
  },
  {
   "cell_type": "code",
   "execution_count": 45,
   "id": "d57cc52c",
   "metadata": {},
   "outputs": [],
   "source": [
    "from rembg.bg import remove\n",
    "from PIL import Image\n",
    "\n",
    "input_path = 'IMG_4457.jpg'\n",
    "output_path = '732.png'\n",
    "\n",
    "input = Image.open(input_path)\n",
    "output = remove(input)\n",
    "output.save(output_path)"
   ]
  },
  {
   "cell_type": "code",
   "execution_count": 46,
   "id": "2f7fa42a",
   "metadata": {},
   "outputs": [],
   "source": [
    "from rembg.bg import remove\n",
    "from PIL import Image\n",
    "\n",
    "input_path = 'IMG_4458.jpg'\n",
    "output_path = '733.png'\n",
    "\n",
    "input = Image.open(input_path)\n",
    "output = remove(input)\n",
    "output.save(output_path)"
   ]
  },
  {
   "cell_type": "code",
   "execution_count": 47,
   "id": "76a6c198",
   "metadata": {},
   "outputs": [],
   "source": [
    "from rembg.bg import remove\n",
    "from PIL import Image\n",
    "\n",
    "input_path = 'IMG_4459.jpg'\n",
    "output_path = '734.png'\n",
    "\n",
    "input = Image.open(input_path)\n",
    "output = remove(input)\n",
    "output.save(output_path)"
   ]
  },
  {
   "cell_type": "code",
   "execution_count": 48,
   "id": "57b072e2",
   "metadata": {},
   "outputs": [],
   "source": [
    "from rembg.bg import remove\n",
    "from PIL import Image\n",
    "\n",
    "input_path = 'IMG_4460.jpg'\n",
    "output_path = '735.png'\n",
    "\n",
    "input = Image.open(input_path)\n",
    "output = remove(input)\n",
    "output.save(output_path)"
   ]
  },
  {
   "cell_type": "code",
   "execution_count": 49,
   "id": "a17ed2f5",
   "metadata": {},
   "outputs": [],
   "source": [
    "from rembg.bg import remove\n",
    "from PIL import Image\n",
    "\n",
    "input_path = 'IMG_4461.jpg'\n",
    "output_path = '736.png'\n",
    "\n",
    "input = Image.open(input_path)\n",
    "output = remove(input)\n",
    "output.save(output_path)"
   ]
  },
  {
   "cell_type": "code",
   "execution_count": 50,
   "id": "e618bace",
   "metadata": {},
   "outputs": [],
   "source": [
    "from rembg.bg import remove\n",
    "from PIL import Image\n",
    "\n",
    "input_path = 'IMG_4462.jpg'\n",
    "output_path = '737.png'\n",
    "\n",
    "input = Image.open(input_path)\n",
    "output = remove(input)\n",
    "output.save(output_path)"
   ]
  },
  {
   "cell_type": "code",
   "execution_count": 51,
   "id": "8e009234",
   "metadata": {},
   "outputs": [],
   "source": [
    "from rembg.bg import remove\n",
    "from PIL import Image\n",
    "\n",
    "input_path = 'IMG_4463.jpg'\n",
    "output_path = '738.png'\n",
    "\n",
    "input = Image.open(input_path)\n",
    "output = remove(input)\n",
    "output.save(output_path)"
   ]
  },
  {
   "cell_type": "code",
   "execution_count": 52,
   "id": "a1f0a00f",
   "metadata": {},
   "outputs": [],
   "source": [
    "from rembg.bg import remove\n",
    "from PIL import Image\n",
    "\n",
    "input_path = 'IMG_4464.jpg'\n",
    "output_path = '739.png'\n",
    "\n",
    "input = Image.open(input_path)\n",
    "output = remove(input)\n",
    "output.save(output_path)"
   ]
  },
  {
   "cell_type": "code",
   "execution_count": 53,
   "id": "02dc6563",
   "metadata": {},
   "outputs": [],
   "source": [
    "from rembg.bg import remove\n",
    "from PIL import Image\n",
    "\n",
    "input_path = 'IMG_4465.jpg'\n",
    "output_path = '740.png'\n",
    "\n",
    "input = Image.open(input_path)\n",
    "output = remove(input)\n",
    "output.save(output_path)"
   ]
  },
  {
   "cell_type": "code",
   "execution_count": 54,
   "id": "ae182b14",
   "metadata": {},
   "outputs": [],
   "source": [
    "from rembg.bg import remove\n",
    "from PIL import Image\n",
    "\n",
    "input_path = 'IMG_4466.jpg'\n",
    "output_path = '741.png'\n",
    "\n",
    "input = Image.open(input_path)\n",
    "output = remove(input)\n",
    "output.save(output_path)"
   ]
  },
  {
   "cell_type": "code",
   "execution_count": 55,
   "id": "08762b61",
   "metadata": {},
   "outputs": [],
   "source": [
    "from rembg.bg import remove\n",
    "from PIL import Image\n",
    "\n",
    "input_path = 'IMG_4467.jpg'\n",
    "output_path = '742.png'\n",
    "\n",
    "input = Image.open(input_path)\n",
    "output = remove(input)\n",
    "output.save(output_path)"
   ]
  },
  {
   "cell_type": "code",
   "execution_count": 56,
   "id": "b99e6025",
   "metadata": {},
   "outputs": [],
   "source": [
    "from rembg.bg import remove\n",
    "from PIL import Image\n",
    "\n",
    "input_path = 'IMG_4468.jpg'\n",
    "output_path = '743.png'\n",
    "\n",
    "input = Image.open(input_path)\n",
    "output = remove(input)\n",
    "output.save(output_path)"
   ]
  },
  {
   "cell_type": "code",
   "execution_count": 57,
   "id": "8ddb2d35",
   "metadata": {},
   "outputs": [],
   "source": [
    "from rembg.bg import remove\n",
    "from PIL import Image\n",
    "\n",
    "input_path = 'IMG_4469.jpg'\n",
    "output_path = '744.png'\n",
    "\n",
    "input = Image.open(input_path)\n",
    "output = remove(input)\n",
    "output.save(output_path)"
   ]
  },
  {
   "cell_type": "code",
   "execution_count": 58,
   "id": "1b2b911f",
   "metadata": {},
   "outputs": [],
   "source": [
    "from rembg.bg import remove\n",
    "from PIL import Image\n",
    "\n",
    "input_path = 'IMG_4470.jpg'\n",
    "output_path = '745.png'\n",
    "\n",
    "input = Image.open(input_path)\n",
    "output = remove(input)\n",
    "output.save(output_path)"
   ]
  },
  {
   "cell_type": "code",
   "execution_count": 59,
   "id": "a04d8741",
   "metadata": {},
   "outputs": [],
   "source": [
    "from rembg.bg import remove\n",
    "from PIL import Image\n",
    "\n",
    "input_path = 'IMG_4471.jpg'\n",
    "output_path = '746.png'\n",
    "\n",
    "input = Image.open(input_path)\n",
    "output = remove(input)\n",
    "output.save(output_path)"
   ]
  },
  {
   "cell_type": "code",
   "execution_count": 60,
   "id": "4411cee2",
   "metadata": {},
   "outputs": [],
   "source": [
    "from rembg.bg import remove\n",
    "from PIL import Image\n",
    "\n",
    "input_path = 'IMG_4472.jpg'\n",
    "output_path = '747.png'\n",
    "\n",
    "input = Image.open(input_path)\n",
    "output = remove(input)\n",
    "output.save(output_path)"
   ]
  },
  {
   "cell_type": "code",
   "execution_count": 61,
   "id": "7f5b4f20",
   "metadata": {},
   "outputs": [],
   "source": [
    "from rembg.bg import remove\n",
    "from PIL import Image\n",
    "\n",
    "input_path = 'IMG_4473.jpg'\n",
    "output_path = '748.png'\n",
    "\n",
    "input = Image.open(input_path)\n",
    "output = remove(input)\n",
    "output.save(output_path)"
   ]
  },
  {
   "cell_type": "code",
   "execution_count": 62,
   "id": "1ed6dc61",
   "metadata": {},
   "outputs": [],
   "source": [
    "from rembg.bg import remove\n",
    "from PIL import Image\n",
    "\n",
    "input_path = 'IMG_4474.jpg'\n",
    "output_path = '749.png'\n",
    "\n",
    "input = Image.open(input_path)\n",
    "output = remove(input)\n",
    "output.save(output_path)"
   ]
  },
  {
   "cell_type": "code",
   "execution_count": 63,
   "id": "1484f0d0",
   "metadata": {},
   "outputs": [],
   "source": [
    "from rembg.bg import remove\n",
    "from PIL import Image\n",
    "\n",
    "input_path = 'IMG_4475.jpg'\n",
    "output_path = '750.png'\n",
    "\n",
    "input = Image.open(input_path)\n",
    "output = remove(input)\n",
    "output.save(output_path)"
   ]
  },
  {
   "cell_type": "code",
   "execution_count": 64,
   "id": "52789195",
   "metadata": {},
   "outputs": [],
   "source": [
    "from rembg.bg import remove\n",
    "from PIL import Image\n",
    "\n",
    "input_path = 'IMG_4476.jpg'\n",
    "output_path = '751.png'\n",
    "\n",
    "input = Image.open(input_path)\n",
    "output = remove(input)\n",
    "output.save(output_path)"
   ]
  },
  {
   "cell_type": "code",
   "execution_count": 65,
   "id": "bb53d941",
   "metadata": {},
   "outputs": [],
   "source": [
    "from rembg.bg import remove\n",
    "from PIL import Image\n",
    "\n",
    "input_path = 'IMG_4477.jpg'\n",
    "output_path = '752.png'\n",
    "\n",
    "input = Image.open(input_path)\n",
    "output = remove(input)\n",
    "output.save(output_path)"
   ]
  },
  {
   "cell_type": "code",
   "execution_count": 66,
   "id": "39b70a51",
   "metadata": {},
   "outputs": [],
   "source": [
    "from rembg.bg import remove\n",
    "from PIL import Image\n",
    "\n",
    "input_path = 'IMG_4478.jpg'\n",
    "output_path = '753.png'\n",
    "\n",
    "input = Image.open(input_path)\n",
    "output = remove(input)\n",
    "output.save(output_path)"
   ]
  },
  {
   "cell_type": "code",
   "execution_count": 67,
   "id": "a96e9997",
   "metadata": {},
   "outputs": [],
   "source": [
    "from rembg.bg import remove\n",
    "from PIL import Image\n",
    "\n",
    "input_path = 'IMG_4479.jpg'\n",
    "output_path = '754.png'\n",
    "\n",
    "input = Image.open(input_path)\n",
    "output = remove(input)\n",
    "output.save(output_path)"
   ]
  },
  {
   "cell_type": "code",
   "execution_count": 68,
   "id": "a4ba8ee9",
   "metadata": {},
   "outputs": [],
   "source": [
    "from rembg.bg import remove\n",
    "from PIL import Image\n",
    "\n",
    "input_path = 'IMG_4480.jpg'\n",
    "output_path = '755.png'\n",
    "\n",
    "input = Image.open(input_path)\n",
    "output = remove(input)\n",
    "output.save(output_path)"
   ]
  },
  {
   "cell_type": "code",
   "execution_count": 69,
   "id": "a6107e26",
   "metadata": {},
   "outputs": [],
   "source": [
    "from rembg.bg import remove\n",
    "from PIL import Image\n",
    "\n",
    "input_path = 'IMG_4481.jpg'\n",
    "output_path = '756.png'\n",
    "\n",
    "input = Image.open(input_path)\n",
    "output = remove(input)\n",
    "output.save(output_path)"
   ]
  },
  {
   "cell_type": "code",
   "execution_count": 70,
   "id": "2948e910",
   "metadata": {},
   "outputs": [],
   "source": [
    "from rembg.bg import remove\n",
    "from PIL import Image\n",
    "\n",
    "input_path = 'IMG_4482.jpg'\n",
    "output_path = '757.png'\n",
    "\n",
    "input = Image.open(input_path)\n",
    "output = remove(input)\n",
    "output.save(output_path)"
   ]
  },
  {
   "cell_type": "code",
   "execution_count": 71,
   "id": "d74eff59",
   "metadata": {},
   "outputs": [],
   "source": [
    "from rembg.bg import remove\n",
    "from PIL import Image\n",
    "\n",
    "input_path = 'IMG_4483.jpg'\n",
    "output_path = '758.png'\n",
    "\n",
    "input = Image.open(input_path)\n",
    "output = remove(input)\n",
    "output.save(output_path)"
   ]
  },
  {
   "cell_type": "code",
   "execution_count": 72,
   "id": "9f9467e3",
   "metadata": {},
   "outputs": [],
   "source": [
    "from rembg.bg import remove\n",
    "from PIL import Image\n",
    "\n",
    "input_path = 'IMG_4484.jpg'\n",
    "output_path = '759.png'\n",
    "\n",
    "input = Image.open(input_path)\n",
    "output = remove(input)\n",
    "output.save(output_path)"
   ]
  },
  {
   "cell_type": "code",
   "execution_count": 73,
   "id": "83506a63",
   "metadata": {},
   "outputs": [],
   "source": [
    "from rembg.bg import remove\n",
    "from PIL import Image\n",
    "\n",
    "input_path = 'IMG_4485.jpg'\n",
    "output_path = '760.png'\n",
    "\n",
    "input = Image.open(input_path)\n",
    "output = remove(input)\n",
    "output.save(output_path)"
   ]
  },
  {
   "cell_type": "code",
   "execution_count": 74,
   "id": "34317eb0",
   "metadata": {},
   "outputs": [],
   "source": [
    "from rembg.bg import remove\n",
    "from PIL import Image\n",
    "\n",
    "input_path = 'IMG_4486.jpg'\n",
    "output_path = '761.png'\n",
    "\n",
    "input = Image.open(input_path)\n",
    "output = remove(input)\n",
    "output.save(output_path)"
   ]
  },
  {
   "cell_type": "code",
   "execution_count": 75,
   "id": "46594227",
   "metadata": {},
   "outputs": [],
   "source": [
    "from rembg.bg import remove\n",
    "from PIL import Image\n",
    "\n",
    "input_path = 'IMG_4487.jpg'\n",
    "output_path = '762.png'\n",
    "\n",
    "input = Image.open(input_path)\n",
    "output = remove(input)\n",
    "output.save(output_path)"
   ]
  },
  {
   "cell_type": "code",
   "execution_count": 76,
   "id": "f1885494",
   "metadata": {},
   "outputs": [],
   "source": [
    "from rembg.bg import remove\n",
    "from PIL import Image\n",
    "\n",
    "input_path = 'IMG_4488.jpg'\n",
    "output_path = '763.png'\n",
    "\n",
    "input = Image.open(input_path)\n",
    "output = remove(input)\n",
    "output.save(output_path)"
   ]
  },
  {
   "cell_type": "code",
   "execution_count": 77,
   "id": "955baf5d",
   "metadata": {},
   "outputs": [],
   "source": [
    "from rembg.bg import remove\n",
    "from PIL import Image\n",
    "\n",
    "input_path = 'IMG_4489.jpg'\n",
    "output_path = '764.png'\n",
    "\n",
    "input = Image.open(input_path)\n",
    "output = remove(input)\n",
    "output.save(output_path)"
   ]
  },
  {
   "cell_type": "code",
   "execution_count": 78,
   "id": "24c80014",
   "metadata": {},
   "outputs": [],
   "source": [
    "from rembg.bg import remove\n",
    "from PIL import Image\n",
    "\n",
    "input_path = 'IMG_4490.jpg'\n",
    "output_path = '765.png'\n",
    "\n",
    "input = Image.open(input_path)\n",
    "output = remove(input)\n",
    "output.save(output_path)"
   ]
  },
  {
   "cell_type": "code",
   "execution_count": 79,
   "id": "e214ff4c",
   "metadata": {},
   "outputs": [],
   "source": [
    "from rembg.bg import remove\n",
    "from PIL import Image\n",
    "\n",
    "input_path = 'IMG_4491.jpg'\n",
    "output_path = '766.png'\n",
    "\n",
    "input = Image.open(input_path)\n",
    "output = remove(input)\n",
    "output.save(output_path)"
   ]
  },
  {
   "cell_type": "code",
   "execution_count": 80,
   "id": "04e5d456",
   "metadata": {},
   "outputs": [],
   "source": [
    "from rembg.bg import remove\n",
    "from PIL import Image\n",
    "\n",
    "input_path = 'IMG_4492.jpg'\n",
    "output_path = '767.png'\n",
    "\n",
    "input = Image.open(input_path)\n",
    "output = remove(input)\n",
    "output.save(output_path)"
   ]
  },
  {
   "cell_type": "code",
   "execution_count": 81,
   "id": "9f0040f8",
   "metadata": {},
   "outputs": [],
   "source": [
    "from rembg.bg import remove\n",
    "from PIL import Image\n",
    "\n",
    "input_path = 'IMG_4493.jpg'\n",
    "output_path = '768.png'\n",
    "\n",
    "input = Image.open(input_path)\n",
    "output = remove(input)\n",
    "output.save(output_path)"
   ]
  },
  {
   "cell_type": "code",
   "execution_count": 82,
   "id": "ebc998d1",
   "metadata": {},
   "outputs": [],
   "source": [
    "from rembg.bg import remove\n",
    "from PIL import Image\n",
    "\n",
    "input_path = 'IMG_4494.jpg'\n",
    "output_path = '769.png'\n",
    "\n",
    "input = Image.open(input_path)\n",
    "output = remove(input)\n",
    "output.save(output_path)"
   ]
  },
  {
   "cell_type": "code",
   "execution_count": 83,
   "id": "7fd3375f",
   "metadata": {},
   "outputs": [],
   "source": [
    "from rembg.bg import remove\n",
    "from PIL import Image\n",
    "\n",
    "input_path = 'IMG_4495.jpg'\n",
    "output_path = '770.png'\n",
    "\n",
    "input = Image.open(input_path)\n",
    "output = remove(input)\n",
    "output.save(output_path)"
   ]
  },
  {
   "cell_type": "code",
   "execution_count": 84,
   "id": "46b59db2",
   "metadata": {},
   "outputs": [],
   "source": [
    "from rembg.bg import remove\n",
    "from PIL import Image\n",
    "\n",
    "input_path = 'IMG_4496.jpg'\n",
    "output_path = '771.png'\n",
    "\n",
    "input = Image.open(input_path)\n",
    "output = remove(input)\n",
    "output.save(output_path)"
   ]
  },
  {
   "cell_type": "code",
   "execution_count": 85,
   "id": "e91c7263",
   "metadata": {},
   "outputs": [],
   "source": [
    "from rembg.bg import remove\n",
    "from PIL import Image\n",
    "\n",
    "input_path = 'IMG_4497.jpg'\n",
    "output_path = '772.png'\n",
    "\n",
    "input = Image.open(input_path)\n",
    "output = remove(input)\n",
    "output.save(output_path)"
   ]
  },
  {
   "cell_type": "code",
   "execution_count": 86,
   "id": "18e6f4a7",
   "metadata": {},
   "outputs": [],
   "source": [
    "from rembg.bg import remove\n",
    "from PIL import Image\n",
    "\n",
    "input_path = 'IMG_4498.jpg'\n",
    "output_path = '773.png'\n",
    "\n",
    "input = Image.open(input_path)\n",
    "output = remove(input)\n",
    "output.save(output_path)"
   ]
  },
  {
   "cell_type": "code",
   "execution_count": 87,
   "id": "06d9fbc3",
   "metadata": {},
   "outputs": [],
   "source": [
    "from rembg.bg import remove\n",
    "from PIL import Image\n",
    "\n",
    "input_path = 'IMG_4499.jpg'\n",
    "output_path = '774.png'\n",
    "\n",
    "input = Image.open(input_path)\n",
    "output = remove(input)\n",
    "output.save(output_path)"
   ]
  },
  {
   "cell_type": "code",
   "execution_count": 88,
   "id": "04b72cef",
   "metadata": {},
   "outputs": [],
   "source": [
    "from rembg.bg import remove\n",
    "from PIL import Image\n",
    "\n",
    "input_path = 'IMG_4500.jpg'\n",
    "output_path = '775.png'\n",
    "\n",
    "input = Image.open(input_path)\n",
    "output = remove(input)\n",
    "output.save(output_path)"
   ]
  },
  {
   "cell_type": "code",
   "execution_count": 89,
   "id": "3fd415d8",
   "metadata": {},
   "outputs": [],
   "source": [
    "from rembg.bg import remove\n",
    "from PIL import Image\n",
    "\n",
    "input_path = 'IMG_4501.jpg'\n",
    "output_path = '776.png'\n",
    "\n",
    "input = Image.open(input_path)\n",
    "output = remove(input)\n",
    "output.save(output_path)"
   ]
  },
  {
   "cell_type": "code",
   "execution_count": 90,
   "id": "63b2540c",
   "metadata": {},
   "outputs": [],
   "source": [
    "from rembg.bg import remove\n",
    "from PIL import Image\n",
    "\n",
    "input_path = 'IMG_4502.jpg'\n",
    "output_path = '777.png'\n",
    "\n",
    "input = Image.open(input_path)\n",
    "output = remove(input)\n",
    "output.save(output_path)"
   ]
  },
  {
   "cell_type": "code",
   "execution_count": 91,
   "id": "50ad661b",
   "metadata": {},
   "outputs": [],
   "source": [
    "from rembg.bg import remove\n",
    "from PIL import Image\n",
    "\n",
    "input_path = 'IMG_4503.jpg'\n",
    "output_path = '778.png'\n",
    "\n",
    "input = Image.open(input_path)\n",
    "output = remove(input)\n",
    "output.save(output_path)"
   ]
  },
  {
   "cell_type": "code",
   "execution_count": 98,
   "id": "f5d7523b",
   "metadata": {},
   "outputs": [],
   "source": [
    "from rembg.bg import remove\n",
    "from PIL import Image\n",
    "\n",
    "input_path = 'IMG_4504.jpg'\n",
    "output_path = '779.png'\n",
    "\n",
    "input = Image.open(input_path)\n",
    "output = remove(input)\n",
    "output.save(output_path)"
   ]
  },
  {
   "cell_type": "code",
   "execution_count": 99,
   "id": "eedfe327",
   "metadata": {},
   "outputs": [],
   "source": [
    "from rembg.bg import remove\n",
    "from PIL import Image\n",
    "\n",
    "input_path = 'IMG_4505.jpg'\n",
    "output_path = '780.png'\n",
    "\n",
    "input = Image.open(input_path)\n",
    "output = remove(input)\n",
    "output.save(output_path)"
   ]
  },
  {
   "cell_type": "code",
   "execution_count": 100,
   "id": "14c0ac6c",
   "metadata": {},
   "outputs": [],
   "source": [
    "from rembg.bg import remove\n",
    "from PIL import Image\n",
    "\n",
    "input_path = 'IMG_4506.jpg'\n",
    "output_path = '781.png'\n",
    "\n",
    "input = Image.open(input_path)\n",
    "output = remove(input)\n",
    "output.save(output_path)"
   ]
  },
  {
   "cell_type": "code",
   "execution_count": 101,
   "id": "7c7eb0fa",
   "metadata": {},
   "outputs": [],
   "source": [
    "from rembg.bg import remove\n",
    "from PIL import Image\n",
    "\n",
    "input_path = 'IMG_4507.jpg'\n",
    "output_path = '782.png'\n",
    "\n",
    "input = Image.open(input_path)\n",
    "output = remove(input)\n",
    "output.save(output_path)"
   ]
  },
  {
   "cell_type": "code",
   "execution_count": 102,
   "id": "6fb36b0b",
   "metadata": {},
   "outputs": [],
   "source": [
    "from rembg.bg import remove\n",
    "from PIL import Image\n",
    "\n",
    "input_path = 'IMG_4508.jpg'\n",
    "output_path = '783.png'\n",
    "\n",
    "input = Image.open(input_path)\n",
    "output = remove(input)\n",
    "output.save(output_path)"
   ]
  },
  {
   "cell_type": "code",
   "execution_count": 103,
   "id": "addab039",
   "metadata": {},
   "outputs": [],
   "source": [
    "from rembg.bg import remove\n",
    "from PIL import Image\n",
    "\n",
    "input_path = 'IMG_4509.jpg'\n",
    "output_path = '784.png'\n",
    "\n",
    "input = Image.open(input_path)\n",
    "output = remove(input)\n",
    "output.save(output_path)"
   ]
  },
  {
   "cell_type": "code",
   "execution_count": 104,
   "id": "5ce584cc",
   "metadata": {},
   "outputs": [],
   "source": [
    "from rembg.bg import remove\n",
    "from PIL import Image\n",
    "\n",
    "input_path = 'IMG_4510.jpg'\n",
    "output_path = '785.png'\n",
    "\n",
    "input = Image.open(input_path)\n",
    "output = remove(input)\n",
    "output.save(output_path)"
   ]
  },
  {
   "cell_type": "code",
   "execution_count": 105,
   "id": "3448c6b3",
   "metadata": {},
   "outputs": [],
   "source": [
    "from rembg.bg import remove\n",
    "from PIL import Image\n",
    "\n",
    "input_path = 'IMG_4511.jpg'\n",
    "output_path = '786.png'\n",
    "\n",
    "input = Image.open(input_path)\n",
    "output = remove(input)\n",
    "output.save(output_path)"
   ]
  },
  {
   "cell_type": "code",
   "execution_count": 106,
   "id": "311c32ef",
   "metadata": {},
   "outputs": [],
   "source": [
    "from rembg.bg import remove\n",
    "from PIL import Image\n",
    "\n",
    "input_path = 'IMG_4512.jpg'\n",
    "output_path = '787.png'\n",
    "\n",
    "input = Image.open(input_path)\n",
    "output = remove(input)\n",
    "output.save(output_path)"
   ]
  },
  {
   "cell_type": "code",
   "execution_count": 107,
   "id": "6b420921",
   "metadata": {},
   "outputs": [],
   "source": [
    "from rembg.bg import remove\n",
    "from PIL import Image\n",
    "\n",
    "input_path = 'IMG_4513.jpg'\n",
    "output_path = '788.png'\n",
    "\n",
    "input = Image.open(input_path)\n",
    "output = remove(input)\n",
    "output.save(output_path)"
   ]
  },
  {
   "cell_type": "code",
   "execution_count": 108,
   "id": "dcf92c49",
   "metadata": {},
   "outputs": [],
   "source": [
    "from rembg.bg import remove\n",
    "from PIL import Image\n",
    "\n",
    "input_path = 'IMG_4514.jpg'\n",
    "output_path = '789.png'\n",
    "\n",
    "input = Image.open(input_path)\n",
    "output = remove(input)\n",
    "output.save(output_path)"
   ]
  },
  {
   "cell_type": "code",
   "execution_count": 109,
   "id": "a89a132f",
   "metadata": {},
   "outputs": [],
   "source": [
    "from rembg.bg import remove\n",
    "from PIL import Image\n",
    "\n",
    "input_path = 'IMG_4515.jpg'\n",
    "output_path = '790.png'\n",
    "\n",
    "input = Image.open(input_path)\n",
    "output = remove(input)\n",
    "output.save(output_path)"
   ]
  },
  {
   "cell_type": "code",
   "execution_count": 110,
   "id": "f72ce871",
   "metadata": {},
   "outputs": [],
   "source": [
    "from rembg.bg import remove\n",
    "from PIL import Image\n",
    "\n",
    "input_path = 'IMG_4516.jpg'\n",
    "output_path = '791.png'\n",
    "\n",
    "input = Image.open(input_path)\n",
    "output = remove(input)\n",
    "output.save(output_path)"
   ]
  },
  {
   "cell_type": "code",
   "execution_count": 111,
   "id": "c4189163",
   "metadata": {},
   "outputs": [],
   "source": [
    "from rembg.bg import remove\n",
    "from PIL import Image\n",
    "\n",
    "input_path = 'IMG_4517.jpg'\n",
    "output_path = '792.png'\n",
    "\n",
    "input = Image.open(input_path)\n",
    "output = remove(input)\n",
    "output.save(output_path)"
   ]
  },
  {
   "cell_type": "code",
   "execution_count": 112,
   "id": "053da629",
   "metadata": {},
   "outputs": [],
   "source": [
    "from rembg.bg import remove\n",
    "from PIL import Image\n",
    "\n",
    "input_path = 'IMG_4518.jpg'\n",
    "output_path = '793.png'\n",
    "\n",
    "input = Image.open(input_path)\n",
    "output = remove(input)\n",
    "output.save(output_path)"
   ]
  },
  {
   "cell_type": "code",
   "execution_count": 113,
   "id": "c018f794",
   "metadata": {},
   "outputs": [],
   "source": [
    "from rembg.bg import remove\n",
    "from PIL import Image\n",
    "\n",
    "input_path = 'IMG_4519.jpg'\n",
    "output_path = '794.png'\n",
    "\n",
    "input = Image.open(input_path)\n",
    "output = remove(input)\n",
    "output.save(output_path)"
   ]
  },
  {
   "cell_type": "code",
   "execution_count": 114,
   "id": "80343ce7",
   "metadata": {},
   "outputs": [],
   "source": [
    "from rembg.bg import remove\n",
    "from PIL import Image\n",
    "\n",
    "input_path = 'IMG_4520.jpg'\n",
    "output_path = '795.png'\n",
    "\n",
    "input = Image.open(input_path)\n",
    "output = remove(input)\n",
    "output.save(output_path)"
   ]
  },
  {
   "cell_type": "code",
   "execution_count": 115,
   "id": "69612bf1",
   "metadata": {},
   "outputs": [],
   "source": [
    "from rembg.bg import remove\n",
    "from PIL import Image\n",
    "\n",
    "input_path = 'IMG_4521.jpg'\n",
    "output_path = '796.png'\n",
    "\n",
    "input = Image.open(input_path)\n",
    "output = remove(input)\n",
    "output.save(output_path)"
   ]
  },
  {
   "cell_type": "code",
   "execution_count": 116,
   "id": "39a14775",
   "metadata": {},
   "outputs": [],
   "source": [
    "from rembg.bg import remove\n",
    "from PIL import Image\n",
    "\n",
    "input_path = 'IMG_4522.jpg'\n",
    "output_path = '797.png'\n",
    "\n",
    "input = Image.open(input_path)\n",
    "output = remove(input)\n",
    "output.save(output_path)"
   ]
  },
  {
   "cell_type": "code",
   "execution_count": 117,
   "id": "874245cc",
   "metadata": {},
   "outputs": [],
   "source": [
    "from rembg.bg import remove\n",
    "from PIL import Image\n",
    "\n",
    "input_path = 'IMG_4523.jpg'\n",
    "output_path = '798.png'\n",
    "\n",
    "input = Image.open(input_path)\n",
    "output = remove(input)\n",
    "output.save(output_path)"
   ]
  },
  {
   "cell_type": "code",
   "execution_count": 118,
   "id": "6c88b847",
   "metadata": {},
   "outputs": [],
   "source": [
    "from rembg.bg import remove\n",
    "from PIL import Image\n",
    "\n",
    "input_path = 'IMG_4524.jpg'\n",
    "output_path = '799.png'\n",
    "\n",
    "input = Image.open(input_path)\n",
    "output = remove(input)\n",
    "output.save(output_path)"
   ]
  },
  {
   "cell_type": "code",
   "execution_count": 119,
   "id": "79b60fdf",
   "metadata": {},
   "outputs": [],
   "source": [
    "from rembg.bg import remove\n",
    "from PIL import Image\n",
    "\n",
    "input_path = 'IMG_4525.jpg'\n",
    "output_path = '800.png'\n",
    "\n",
    "input = Image.open(input_path)\n",
    "output = remove(input)\n",
    "output.save(output_path)"
   ]
  },
  {
   "cell_type": "code",
   "execution_count": 120,
   "id": "156f4896",
   "metadata": {},
   "outputs": [],
   "source": [
    "from rembg.bg import remove\n",
    "from PIL import Image\n",
    "\n",
    "input_path = 'IMG_4526.jpg'\n",
    "output_path = '801.png'\n",
    "\n",
    "input = Image.open(input_path)\n",
    "output = remove(input)\n",
    "output.save(output_path)"
   ]
  },
  {
   "cell_type": "code",
   "execution_count": 121,
   "id": "e6e80d17",
   "metadata": {},
   "outputs": [],
   "source": [
    "from rembg.bg import remove\n",
    "from PIL import Image\n",
    "\n",
    "input_path = 'IMG_4527.jpg'\n",
    "output_path = '802.png'\n",
    "\n",
    "input = Image.open(input_path)\n",
    "output = remove(input)\n",
    "output.save(output_path)"
   ]
  },
  {
   "cell_type": "code",
   "execution_count": 122,
   "id": "d83e666d",
   "metadata": {},
   "outputs": [],
   "source": [
    "from rembg.bg import remove\n",
    "from PIL import Image\n",
    "\n",
    "input_path = 'IMG_4528.jpg'\n",
    "output_path = '803.png'\n",
    "\n",
    "input = Image.open(input_path)\n",
    "output = remove(input)\n",
    "output.save(output_path)"
   ]
  },
  {
   "cell_type": "code",
   "execution_count": 123,
   "id": "b0d475e6",
   "metadata": {},
   "outputs": [],
   "source": [
    "from rembg.bg import remove\n",
    "from PIL import Image\n",
    "\n",
    "input_path = 'IMG_4529.jpg'\n",
    "output_path = '804.png'\n",
    "\n",
    "input = Image.open(input_path)\n",
    "output = remove(input)\n",
    "output.save(output_path)"
   ]
  },
  {
   "cell_type": "code",
   "execution_count": 124,
   "id": "9532e10b",
   "metadata": {},
   "outputs": [],
   "source": [
    "from rembg.bg import remove\n",
    "from PIL import Image\n",
    "\n",
    "input_path = 'IMG_4530.jpg'\n",
    "output_path = '805.png'\n",
    "\n",
    "input = Image.open(input_path)\n",
    "output = remove(input)\n",
    "output.save(output_path)"
   ]
  },
  {
   "cell_type": "code",
   "execution_count": 125,
   "id": "c57b2e50",
   "metadata": {},
   "outputs": [],
   "source": [
    "from rembg.bg import remove\n",
    "from PIL import Image\n",
    "\n",
    "input_path = 'IMG_4531.jpg'\n",
    "output_path = '806.png'\n",
    "\n",
    "input = Image.open(input_path)\n",
    "output = remove(input)\n",
    "output.save(output_path)"
   ]
  },
  {
   "cell_type": "code",
   "execution_count": 126,
   "id": "68d4f8e5",
   "metadata": {},
   "outputs": [],
   "source": [
    "from rembg.bg import remove\n",
    "from PIL import Image\n",
    "\n",
    "input_path = 'IMG_4532.jpg'\n",
    "output_path = '807.png'\n",
    "\n",
    "input = Image.open(input_path)\n",
    "output = remove(input)\n",
    "output.save(output_path)"
   ]
  },
  {
   "cell_type": "code",
   "execution_count": 127,
   "id": "9390c7e2",
   "metadata": {},
   "outputs": [],
   "source": [
    "from rembg.bg import remove\n",
    "from PIL import Image\n",
    "\n",
    "input_path = 'IMG_4533.jpg'\n",
    "output_path = '808.png'\n",
    "\n",
    "input = Image.open(input_path)\n",
    "output = remove(input)\n",
    "output.save(output_path)"
   ]
  },
  {
   "cell_type": "code",
   "execution_count": 128,
   "id": "a5a8c13a",
   "metadata": {},
   "outputs": [],
   "source": [
    "from rembg.bg import remove\n",
    "from PIL import Image\n",
    "\n",
    "input_path = 'IMG_4534.jpg'\n",
    "output_path = '809.png'\n",
    "\n",
    "input = Image.open(input_path)\n",
    "output = remove(input)\n",
    "output.save(output_path)"
   ]
  },
  {
   "cell_type": "code",
   "execution_count": 129,
   "id": "a9249cb6",
   "metadata": {},
   "outputs": [],
   "source": [
    "from rembg.bg import remove\n",
    "from PIL import Image\n",
    "\n",
    "input_path = 'IMG_4535.jpg'\n",
    "output_path = '810.png'\n",
    "\n",
    "input = Image.open(input_path)\n",
    "output = remove(input)\n",
    "output.save(output_path)"
   ]
  },
  {
   "cell_type": "code",
   "execution_count": 130,
   "id": "bf2a137d",
   "metadata": {},
   "outputs": [],
   "source": [
    "from rembg.bg import remove\n",
    "from PIL import Image\n",
    "\n",
    "input_path = 'IMG_4536.jpg'\n",
    "output_path = '811.png'\n",
    "\n",
    "input = Image.open(input_path)\n",
    "output = remove(input)\n",
    "output.save(output_path)"
   ]
  },
  {
   "cell_type": "code",
   "execution_count": 131,
   "id": "048c40c1",
   "metadata": {},
   "outputs": [],
   "source": [
    "from rembg.bg import remove\n",
    "from PIL import Image\n",
    "\n",
    "input_path = 'IMG_4537.jpg'\n",
    "output_path = '812.png'\n",
    "\n",
    "input = Image.open(input_path)\n",
    "output = remove(input)\n",
    "output.save(output_path)"
   ]
  },
  {
   "cell_type": "code",
   "execution_count": 132,
   "id": "4dc854a8",
   "metadata": {},
   "outputs": [],
   "source": [
    "from rembg.bg import remove\n",
    "from PIL import Image\n",
    "\n",
    "input_path = 'IMG_4538.jpg'\n",
    "output_path = '813.png'\n",
    "\n",
    "input = Image.open(input_path)\n",
    "output = remove(input)\n",
    "output.save(output_path)"
   ]
  },
  {
   "cell_type": "code",
   "execution_count": 133,
   "id": "c27ae960",
   "metadata": {},
   "outputs": [],
   "source": [
    "from rembg.bg import remove\n",
    "from PIL import Image\n",
    "\n",
    "input_path = 'IMG_4539.jpg'\n",
    "output_path = '814.png'\n",
    "\n",
    "input = Image.open(input_path)\n",
    "output = remove(input)\n",
    "output.save(output_path)"
   ]
  },
  {
   "cell_type": "code",
   "execution_count": 134,
   "id": "8c2c998a",
   "metadata": {},
   "outputs": [],
   "source": [
    "from rembg.bg import remove\n",
    "from PIL import Image\n",
    "\n",
    "input_path = 'IMG_4540.jpg'\n",
    "output_path = '815.png'\n",
    "\n",
    "input = Image.open(input_path)\n",
    "output = remove(input)\n",
    "output.save(output_path)"
   ]
  },
  {
   "cell_type": "code",
   "execution_count": 135,
   "id": "82b0c9c3",
   "metadata": {},
   "outputs": [],
   "source": [
    "from rembg.bg import remove\n",
    "from PIL import Image\n",
    "\n",
    "input_path = 'IMG_4541.jpg'\n",
    "output_path = '816.png'\n",
    "\n",
    "input = Image.open(input_path)\n",
    "output = remove(input)\n",
    "output.save(output_path)"
   ]
  },
  {
   "cell_type": "code",
   "execution_count": 136,
   "id": "4f824c43",
   "metadata": {},
   "outputs": [],
   "source": [
    "from rembg.bg import remove\n",
    "from PIL import Image\n",
    "\n",
    "input_path = 'IMG_4542.jpg'\n",
    "output_path = '817.png'\n",
    "\n",
    "input = Image.open(input_path)\n",
    "output = remove(input)\n",
    "output.save(output_path)"
   ]
  },
  {
   "cell_type": "code",
   "execution_count": 137,
   "id": "d154c1fa",
   "metadata": {},
   "outputs": [],
   "source": [
    "from rembg.bg import remove\n",
    "from PIL import Image\n",
    "\n",
    "input_path = 'IMG_4543.jpg'\n",
    "output_path = '818.png'\n",
    "\n",
    "input = Image.open(input_path)\n",
    "output = remove(input)\n",
    "output.save(output_path)"
   ]
  },
  {
   "cell_type": "code",
   "execution_count": 138,
   "id": "1339091c",
   "metadata": {},
   "outputs": [],
   "source": [
    "from rembg.bg import remove\n",
    "from PIL import Image\n",
    "\n",
    "input_path = 'IMG_4544.jpg'\n",
    "output_path = '819.png'\n",
    "\n",
    "input = Image.open(input_path)\n",
    "output = remove(input)\n",
    "output.save(output_path)"
   ]
  },
  {
   "cell_type": "code",
   "execution_count": 139,
   "id": "6ca54cbb",
   "metadata": {},
   "outputs": [],
   "source": [
    "from rembg.bg import remove\n",
    "from PIL import Image\n",
    "\n",
    "input_path = 'IMG_4545.jpg'\n",
    "output_path = '820.png'\n",
    "\n",
    "input = Image.open(input_path)\n",
    "output = remove(input)\n",
    "output.save(output_path)"
   ]
  },
  {
   "cell_type": "code",
   "execution_count": 140,
   "id": "d84ce616",
   "metadata": {},
   "outputs": [],
   "source": [
    "from rembg.bg import remove\n",
    "from PIL import Image\n",
    "\n",
    "input_path = 'IMG_4546.jpg'\n",
    "output_path = '821.png'\n",
    "\n",
    "input = Image.open(input_path)\n",
    "output = remove(input)\n",
    "output.save(output_path)"
   ]
  },
  {
   "cell_type": "code",
   "execution_count": 141,
   "id": "ea0254b9",
   "metadata": {},
   "outputs": [],
   "source": [
    "from rembg.bg import remove\n",
    "from PIL import Image\n",
    "\n",
    "input_path = 'IMG_4547.jpg'\n",
    "output_path = '822.png'\n",
    "\n",
    "input = Image.open(input_path)\n",
    "output = remove(input)\n",
    "output.save(output_path)"
   ]
  },
  {
   "cell_type": "code",
   "execution_count": 142,
   "id": "1ce814eb",
   "metadata": {},
   "outputs": [],
   "source": [
    "from rembg.bg import remove\n",
    "from PIL import Image\n",
    "\n",
    "input_path = 'IMG_4548.jpg'\n",
    "output_path = '823.png'\n",
    "\n",
    "input = Image.open(input_path)\n",
    "output = remove(input)\n",
    "output.save(output_path)"
   ]
  },
  {
   "cell_type": "code",
   "execution_count": 143,
   "id": "cc771f8e",
   "metadata": {},
   "outputs": [],
   "source": [
    "from rembg.bg import remove\n",
    "from PIL import Image\n",
    "\n",
    "input_path = 'IMG_4549.jpg'\n",
    "output_path = '824.png'\n",
    "\n",
    "input = Image.open(input_path)\n",
    "output = remove(input)\n",
    "output.save(output_path)"
   ]
  },
  {
   "cell_type": "code",
   "execution_count": 144,
   "id": "2dc2d9ed",
   "metadata": {},
   "outputs": [],
   "source": [
    "from rembg.bg import remove\n",
    "from PIL import Image\n",
    "\n",
    "input_path = 'IMG_4550.jpg'\n",
    "output_path = '825.png'\n",
    "\n",
    "input = Image.open(input_path)\n",
    "output = remove(input)\n",
    "output.save(output_path)"
   ]
  },
  {
   "cell_type": "code",
   "execution_count": 145,
   "id": "594464b7",
   "metadata": {},
   "outputs": [],
   "source": [
    "from rembg.bg import remove\n",
    "from PIL import Image\n",
    "\n",
    "input_path = 'IMG_4551.jpg'\n",
    "output_path = '826.png'\n",
    "\n",
    "input = Image.open(input_path)\n",
    "output = remove(input)\n",
    "output.save(output_path)"
   ]
  },
  {
   "cell_type": "code",
   "execution_count": 146,
   "id": "773c2954",
   "metadata": {},
   "outputs": [],
   "source": [
    "from rembg.bg import remove\n",
    "from PIL import Image\n",
    "\n",
    "input_path = 'IMG_4552.jpg'\n",
    "output_path = '827.png'\n",
    "\n",
    "input = Image.open(input_path)\n",
    "output = remove(input)\n",
    "output.save(output_path)"
   ]
  },
  {
   "cell_type": "code",
   "execution_count": 147,
   "id": "a5d2b6a5",
   "metadata": {},
   "outputs": [],
   "source": [
    "from rembg.bg import remove\n",
    "from PIL import Image\n",
    "\n",
    "input_path = 'IMG_4553.jpg'\n",
    "output_path = '828.png'\n",
    "\n",
    "input = Image.open(input_path)\n",
    "output = remove(input)\n",
    "output.save(output_path)"
   ]
  },
  {
   "cell_type": "code",
   "execution_count": 148,
   "id": "a44a2c96",
   "metadata": {},
   "outputs": [],
   "source": [
    "from rembg.bg import remove\n",
    "from PIL import Image\n",
    "\n",
    "input_path = 'IMG_4554.jpg'\n",
    "output_path = '829.png'\n",
    "\n",
    "input = Image.open(input_path)\n",
    "output = remove(input)\n",
    "output.save(output_path)"
   ]
  },
  {
   "cell_type": "code",
   "execution_count": 149,
   "id": "ffe8a2e6",
   "metadata": {},
   "outputs": [],
   "source": [
    "from rembg.bg import remove\n",
    "from PIL import Image\n",
    "\n",
    "input_path = 'IMG_4555.jpg'\n",
    "output_path = '830.png'\n",
    "\n",
    "input = Image.open(input_path)\n",
    "output = remove(input)\n",
    "output.save(output_path)"
   ]
  },
  {
   "cell_type": "code",
   "execution_count": 150,
   "id": "31225b81",
   "metadata": {},
   "outputs": [],
   "source": [
    "from rembg.bg import remove\n",
    "from PIL import Image\n",
    "\n",
    "input_path = 'IMG_4556.jpg'\n",
    "output_path = '831.png'\n",
    "\n",
    "input = Image.open(input_path)\n",
    "output = remove(input)\n",
    "output.save(output_path)"
   ]
  },
  {
   "cell_type": "code",
   "execution_count": 151,
   "id": "64de570b",
   "metadata": {},
   "outputs": [],
   "source": [
    "from rembg.bg import remove\n",
    "from PIL import Image\n",
    "\n",
    "input_path = 'IMG_4557.jpg'\n",
    "output_path = '832.png'\n",
    "\n",
    "input = Image.open(input_path)\n",
    "output = remove(input)\n",
    "output.save(output_path)"
   ]
  },
  {
   "cell_type": "code",
   "execution_count": 152,
   "id": "c9c6b9ac",
   "metadata": {},
   "outputs": [],
   "source": [
    "from rembg.bg import remove\n",
    "from PIL import Image\n",
    "\n",
    "input_path = 'IMG_4558.jpg'\n",
    "output_path = '833.png'\n",
    "\n",
    "input = Image.open(input_path)\n",
    "output = remove(input)\n",
    "output.save(output_path)"
   ]
  },
  {
   "cell_type": "code",
   "execution_count": 153,
   "id": "474b1d13",
   "metadata": {},
   "outputs": [],
   "source": [
    "from rembg.bg import remove\n",
    "from PIL import Image\n",
    "\n",
    "input_path = 'IMG_4559.jpg'\n",
    "output_path = '834.png'\n",
    "\n",
    "input = Image.open(input_path)\n",
    "output = remove(input)\n",
    "output.save(output_path)"
   ]
  },
  {
   "cell_type": "code",
   "execution_count": 154,
   "id": "3bfbb682",
   "metadata": {},
   "outputs": [],
   "source": [
    "from rembg.bg import remove\n",
    "from PIL import Image\n",
    "\n",
    "input_path = 'IMG_4560.jpg'\n",
    "output_path = '835.png'\n",
    "\n",
    "input = Image.open(input_path)\n",
    "output = remove(input)\n",
    "output.save(output_path)"
   ]
  },
  {
   "cell_type": "code",
   "execution_count": 155,
   "id": "e489bb19",
   "metadata": {},
   "outputs": [],
   "source": [
    "from rembg.bg import remove\n",
    "from PIL import Image\n",
    "\n",
    "input_path = 'IMG_4561.jpg'\n",
    "output_path = '836.png'\n",
    "\n",
    "input = Image.open(input_path)\n",
    "output = remove(input)\n",
    "output.save(output_path)"
   ]
  },
  {
   "cell_type": "code",
   "execution_count": 156,
   "id": "636eaaaf",
   "metadata": {},
   "outputs": [],
   "source": [
    "from rembg.bg import remove\n",
    "from PIL import Image\n",
    "\n",
    "input_path = 'IMG_4562.jpg'\n",
    "output_path = '837.png'\n",
    "\n",
    "input = Image.open(input_path)\n",
    "output = remove(input)\n",
    "output.save(output_path)"
   ]
  },
  {
   "cell_type": "code",
   "execution_count": 157,
   "id": "98db0a21",
   "metadata": {},
   "outputs": [],
   "source": [
    "from rembg.bg import remove\n",
    "from PIL import Image\n",
    "\n",
    "input_path = 'IMG_4563.jpg'\n",
    "output_path = '838.png'\n",
    "\n",
    "input = Image.open(input_path)\n",
    "output = remove(input)\n",
    "output.save(output_path)"
   ]
  },
  {
   "cell_type": "code",
   "execution_count": 158,
   "id": "12d5a92d",
   "metadata": {},
   "outputs": [],
   "source": [
    "from rembg.bg import remove\n",
    "from PIL import Image\n",
    "\n",
    "input_path = 'IMG_4564.jpg'\n",
    "output_path = '839.png'\n",
    "\n",
    "input = Image.open(input_path)\n",
    "output = remove(input)\n",
    "output.save(output_path)"
   ]
  },
  {
   "cell_type": "code",
   "execution_count": 159,
   "id": "e3228e8a",
   "metadata": {},
   "outputs": [],
   "source": [
    "from rembg.bg import remove\n",
    "from PIL import Image\n",
    "\n",
    "input_path = 'IMG_4565.jpg'\n",
    "output_path = '840.png'\n",
    "\n",
    "input = Image.open(input_path)\n",
    "output = remove(input)\n",
    "output.save(output_path)"
   ]
  },
  {
   "cell_type": "code",
   "execution_count": 160,
   "id": "b9d54c07",
   "metadata": {},
   "outputs": [],
   "source": [
    "from rembg.bg import remove\n",
    "from PIL import Image\n",
    "\n",
    "input_path = 'IMG_4566.jpg'\n",
    "output_path = '841.png'\n",
    "\n",
    "input = Image.open(input_path)\n",
    "output = remove(input)\n",
    "output.save(output_path)"
   ]
  },
  {
   "cell_type": "code",
   "execution_count": 161,
   "id": "50869b76",
   "metadata": {},
   "outputs": [],
   "source": [
    "from rembg.bg import remove\n",
    "from PIL import Image\n",
    "\n",
    "input_path = 'IMG_4567.jpg'\n",
    "output_path = '842.png'\n",
    "\n",
    "input = Image.open(input_path)\n",
    "output = remove(input)\n",
    "output.save(output_path)"
   ]
  },
  {
   "cell_type": "code",
   "execution_count": 162,
   "id": "53acd209",
   "metadata": {},
   "outputs": [],
   "source": [
    "from rembg.bg import remove\n",
    "from PIL import Image\n",
    "\n",
    "input_path = 'IMG_4568.jpg'\n",
    "output_path = '843.png'\n",
    "\n",
    "input = Image.open(input_path)\n",
    "output = remove(input)\n",
    "output.save(output_path)"
   ]
  },
  {
   "cell_type": "code",
   "execution_count": 163,
   "id": "f773a955",
   "metadata": {},
   "outputs": [],
   "source": [
    "from rembg.bg import remove\n",
    "from PIL import Image\n",
    "\n",
    "input_path = 'IMG_4569.jpg'\n",
    "output_path = '844.png'\n",
    "\n",
    "input = Image.open(input_path)\n",
    "output = remove(input)\n",
    "output.save(output_path)"
   ]
  },
  {
   "cell_type": "code",
   "execution_count": 164,
   "id": "2ba99b92",
   "metadata": {},
   "outputs": [],
   "source": [
    "from rembg.bg import remove\n",
    "from PIL import Image\n",
    "\n",
    "input_path = 'IMG_4570.jpg'\n",
    "output_path = '845.png'\n",
    "\n",
    "input = Image.open(input_path)\n",
    "output = remove(input)\n",
    "output.save(output_path)"
   ]
  },
  {
   "cell_type": "code",
   "execution_count": 165,
   "id": "7109615c",
   "metadata": {},
   "outputs": [],
   "source": [
    "from rembg.bg import remove\n",
    "from PIL import Image\n",
    "\n",
    "input_path = 'IMG_4571.jpg'\n",
    "output_path = '846.png'\n",
    "\n",
    "input = Image.open(input_path)\n",
    "output = remove(input)\n",
    "output.save(output_path)"
   ]
  },
  {
   "cell_type": "code",
   "execution_count": 166,
   "id": "59d715f1",
   "metadata": {},
   "outputs": [],
   "source": [
    "from rembg.bg import remove\n",
    "from PIL import Image\n",
    "\n",
    "input_path = 'IMG_4572.jpg'\n",
    "output_path = '847.png'\n",
    "\n",
    "input = Image.open(input_path)\n",
    "output = remove(input)\n",
    "output.save(output_path)"
   ]
  },
  {
   "cell_type": "code",
   "execution_count": 167,
   "id": "3d657782",
   "metadata": {},
   "outputs": [],
   "source": [
    "from rembg.bg import remove\n",
    "from PIL import Image\n",
    "\n",
    "input_path = 'IMG_4573.jpg'\n",
    "output_path = '848.png'\n",
    "\n",
    "input = Image.open(input_path)\n",
    "output = remove(input)\n",
    "output.save(output_path)"
   ]
  },
  {
   "cell_type": "code",
   "execution_count": 168,
   "id": "21208829",
   "metadata": {},
   "outputs": [],
   "source": [
    "from rembg.bg import remove\n",
    "from PIL import Image\n",
    "\n",
    "input_path = 'IMG_4574.jpg'\n",
    "output_path = '849.png'\n",
    "\n",
    "input = Image.open(input_path)\n",
    "output = remove(input)\n",
    "output.save(output_path)"
   ]
  },
  {
   "cell_type": "code",
   "execution_count": 169,
   "id": "df2d7333",
   "metadata": {},
   "outputs": [],
   "source": [
    "from rembg.bg import remove\n",
    "from PIL import Image\n",
    "\n",
    "input_path = 'IMG_4575.jpg'\n",
    "output_path = '850.png'\n",
    "\n",
    "input = Image.open(input_path)\n",
    "output = remove(input)\n",
    "output.save(output_path)"
   ]
  },
  {
   "cell_type": "code",
   "execution_count": 170,
   "id": "31c96253",
   "metadata": {},
   "outputs": [],
   "source": [
    "from rembg.bg import remove\n",
    "from PIL import Image\n",
    "\n",
    "input_path = 'IMG_4576.jpg'\n",
    "output_path = '851.png'\n",
    "\n",
    "input = Image.open(input_path)\n",
    "output = remove(input)\n",
    "output.save(output_path)"
   ]
  },
  {
   "cell_type": "code",
   "execution_count": 171,
   "id": "213b7a54",
   "metadata": {},
   "outputs": [],
   "source": [
    "from rembg.bg import remove\n",
    "from PIL import Image\n",
    "\n",
    "input_path = 'IMG_4577.jpg'\n",
    "output_path = '852.png'\n",
    "\n",
    "input = Image.open(input_path)\n",
    "output = remove(input)\n",
    "output.save(output_path)"
   ]
  },
  {
   "cell_type": "code",
   "execution_count": 172,
   "id": "19b170fa",
   "metadata": {},
   "outputs": [],
   "source": [
    "from rembg.bg import remove\n",
    "from PIL import Image\n",
    "\n",
    "input_path = 'IMG_4578.jpg'\n",
    "output_path = '853.png'\n",
    "\n",
    "input = Image.open(input_path)\n",
    "output = remove(input)\n",
    "output.save(output_path)"
   ]
  },
  {
   "cell_type": "code",
   "execution_count": 173,
   "id": "01352047",
   "metadata": {},
   "outputs": [],
   "source": [
    "from rembg.bg import remove\n",
    "from PIL import Image\n",
    "\n",
    "input_path = 'IMG_4579.jpg'\n",
    "output_path = '854.png'\n",
    "\n",
    "input = Image.open(input_path)\n",
    "output = remove(input)\n",
    "output.save(output_path)"
   ]
  },
  {
   "cell_type": "code",
   "execution_count": 180,
   "id": "62ffaba0",
   "metadata": {},
   "outputs": [],
   "source": [
    "from rembg.bg import remove\n",
    "from PIL import Image\n",
    "\n",
    "input_path = 'IMG_4582.jpg'\n",
    "output_path = '855.png'\n",
    "\n",
    "input = Image.open(input_path)\n",
    "output = remove(input)\n",
    "output.save(output_path)"
   ]
  },
  {
   "cell_type": "code",
   "execution_count": 181,
   "id": "adfa9deb",
   "metadata": {},
   "outputs": [],
   "source": [
    "from rembg.bg import remove\n",
    "from PIL import Image\n",
    "\n",
    "input_path = 'IMG_4583.jpg'\n",
    "output_path = '856.png'\n",
    "\n",
    "input = Image.open(input_path)\n",
    "output = remove(input)\n",
    "output.save(output_path)"
   ]
  },
  {
   "cell_type": "code",
   "execution_count": 182,
   "id": "9429a60a",
   "metadata": {},
   "outputs": [],
   "source": [
    "from rembg.bg import remove\n",
    "from PIL import Image\n",
    "\n",
    "input_path = 'IMG_4584.jpg'\n",
    "output_path = '857.png'\n",
    "\n",
    "input = Image.open(input_path)\n",
    "output = remove(input)\n",
    "output.save(output_path)"
   ]
  },
  {
   "cell_type": "code",
   "execution_count": 183,
   "id": "4ad26622",
   "metadata": {},
   "outputs": [],
   "source": [
    "from rembg.bg import remove\n",
    "from PIL import Image\n",
    "\n",
    "input_path = 'IMG_4585.jpg'\n",
    "output_path = '858.png'\n",
    "\n",
    "input = Image.open(input_path)\n",
    "output = remove(input)\n",
    "output.save(output_path)"
   ]
  },
  {
   "cell_type": "code",
   "execution_count": 184,
   "id": "49effd60",
   "metadata": {},
   "outputs": [],
   "source": [
    "from rembg.bg import remove\n",
    "from PIL import Image\n",
    "\n",
    "input_path = 'IMG_4586.jpg'\n",
    "output_path = '859.png'\n",
    "\n",
    "input = Image.open(input_path)\n",
    "output = remove(input)\n",
    "output.save(output_path)"
   ]
  },
  {
   "cell_type": "code",
   "execution_count": 185,
   "id": "47642437",
   "metadata": {},
   "outputs": [],
   "source": [
    "from rembg.bg import remove\n",
    "from PIL import Image\n",
    "\n",
    "input_path = 'IMG_4587.jpg'\n",
    "output_path = '860.png'\n",
    "\n",
    "input = Image.open(input_path)\n",
    "output = remove(input)\n",
    "output.save(output_path)"
   ]
  },
  {
   "cell_type": "code",
   "execution_count": 186,
   "id": "63ef76b5",
   "metadata": {},
   "outputs": [],
   "source": [
    "from rembg.bg import remove\n",
    "from PIL import Image\n",
    "\n",
    "input_path = 'IMG_4588.jpg'\n",
    "output_path = '861.png'\n",
    "\n",
    "input = Image.open(input_path)\n",
    "output = remove(input)\n",
    "output.save(output_path)"
   ]
  },
  {
   "cell_type": "code",
   "execution_count": 187,
   "id": "2836808f",
   "metadata": {},
   "outputs": [],
   "source": [
    "from rembg.bg import remove\n",
    "from PIL import Image\n",
    "\n",
    "input_path = 'IMG_4589.jpg'\n",
    "output_path = '862.png'\n",
    "\n",
    "input = Image.open(input_path)\n",
    "output = remove(input)\n",
    "output.save(output_path)"
   ]
  },
  {
   "cell_type": "code",
   "execution_count": 188,
   "id": "eff0b64e",
   "metadata": {},
   "outputs": [],
   "source": [
    "from rembg.bg import remove\n",
    "from PIL import Image\n",
    "\n",
    "input_path = 'IMG_4590.jpg'\n",
    "output_path = '863.png'\n",
    "\n",
    "input = Image.open(input_path)\n",
    "output = remove(input)\n",
    "output.save(output_path)"
   ]
  },
  {
   "cell_type": "code",
   "execution_count": 189,
   "id": "b0fbc00f",
   "metadata": {},
   "outputs": [],
   "source": [
    "from rembg.bg import remove\n",
    "from PIL import Image\n",
    "\n",
    "input_path = 'IMG_4591.jpg'\n",
    "output_path = '864.png'\n",
    "\n",
    "input = Image.open(input_path)\n",
    "output = remove(input)\n",
    "output.save(output_path)"
   ]
  },
  {
   "cell_type": "code",
   "execution_count": 190,
   "id": "00aa5036",
   "metadata": {},
   "outputs": [],
   "source": [
    "from rembg.bg import remove\n",
    "from PIL import Image\n",
    "\n",
    "input_path = 'IMG_4592.jpg'\n",
    "output_path = '865.png'\n",
    "\n",
    "input = Image.open(input_path)\n",
    "output = remove(input)\n",
    "output.save(output_path)"
   ]
  },
  {
   "cell_type": "code",
   "execution_count": 191,
   "id": "57131d06",
   "metadata": {},
   "outputs": [],
   "source": [
    "from rembg.bg import remove\n",
    "from PIL import Image\n",
    "\n",
    "input_path = 'IMG_4593.jpg'\n",
    "output_path = '866.png'\n",
    "\n",
    "input = Image.open(input_path)\n",
    "output = remove(input)\n",
    "output.save(output_path)"
   ]
  },
  {
   "cell_type": "code",
   "execution_count": 192,
   "id": "48a497d1",
   "metadata": {},
   "outputs": [],
   "source": [
    "from rembg.bg import remove\n",
    "from PIL import Image\n",
    "\n",
    "input_path = 'IMG_4594.jpg'\n",
    "output_path = '867.png'\n",
    "\n",
    "input = Image.open(input_path)\n",
    "output = remove(input)\n",
    "output.save(output_path)"
   ]
  },
  {
   "cell_type": "code",
   "execution_count": 193,
   "id": "cf4564b0",
   "metadata": {},
   "outputs": [],
   "source": [
    "from rembg.bg import remove\n",
    "from PIL import Image\n",
    "\n",
    "input_path = 'IMG_4595.jpg'\n",
    "output_path = '868.png'\n",
    "\n",
    "input = Image.open(input_path)\n",
    "output = remove(input)\n",
    "output.save(output_path)"
   ]
  },
  {
   "cell_type": "code",
   "execution_count": 194,
   "id": "8fd5d740",
   "metadata": {},
   "outputs": [],
   "source": [
    "from rembg.bg import remove\n",
    "from PIL import Image\n",
    "\n",
    "input_path = 'IMG_4596.jpg'\n",
    "output_path = '869.png'\n",
    "\n",
    "input = Image.open(input_path)\n",
    "output = remove(input)\n",
    "output.save(output_path)"
   ]
  },
  {
   "cell_type": "code",
   "execution_count": 195,
   "id": "1bf06006",
   "metadata": {},
   "outputs": [],
   "source": [
    "from rembg.bg import remove\n",
    "from PIL import Image\n",
    "\n",
    "input_path = 'IMG_4597.jpg'\n",
    "output_path = '870.png'\n",
    "\n",
    "input = Image.open(input_path)\n",
    "output = remove(input)\n",
    "output.save(output_path)"
   ]
  },
  {
   "cell_type": "code",
   "execution_count": 196,
   "id": "a169908a",
   "metadata": {},
   "outputs": [],
   "source": [
    "from rembg.bg import remove\n",
    "from PIL import Image\n",
    "\n",
    "input_path = 'IMG_4598.jpg'\n",
    "output_path = '871.png'\n",
    "\n",
    "input = Image.open(input_path)\n",
    "output = remove(input)\n",
    "output.save(output_path)"
   ]
  },
  {
   "cell_type": "code",
   "execution_count": 197,
   "id": "06ad7d6a",
   "metadata": {},
   "outputs": [],
   "source": [
    "from rembg.bg import remove\n",
    "from PIL import Image\n",
    "\n",
    "input_path = 'IMG_4599.jpg'\n",
    "output_path = '872.png'\n",
    "\n",
    "input = Image.open(input_path)\n",
    "output = remove(input)\n",
    "output.save(output_path)"
   ]
  },
  {
   "cell_type": "code",
   "execution_count": 198,
   "id": "1bfa8d30",
   "metadata": {},
   "outputs": [],
   "source": [
    "from rembg.bg import remove\n",
    "from PIL import Image\n",
    "\n",
    "input_path = 'IMG_4600.jpg'\n",
    "output_path = '873.png'\n",
    "\n",
    "input = Image.open(input_path)\n",
    "output = remove(input)\n",
    "output.save(output_path)"
   ]
  },
  {
   "cell_type": "code",
   "execution_count": 199,
   "id": "58d2e4fb",
   "metadata": {},
   "outputs": [],
   "source": [
    "from rembg.bg import remove\n",
    "from PIL import Image\n",
    "\n",
    "input_path = 'IMG_4601.jpg'\n",
    "output_path = '874.png'\n",
    "\n",
    "input = Image.open(input_path)\n",
    "output = remove(input)\n",
    "output.save(output_path)"
   ]
  },
  {
   "cell_type": "code",
   "execution_count": 200,
   "id": "61c942e4",
   "metadata": {},
   "outputs": [],
   "source": [
    "from rembg.bg import remove\n",
    "from PIL import Image\n",
    "\n",
    "input_path = 'IMG_4602.jpg'\n",
    "output_path = '875.png'\n",
    "\n",
    "input = Image.open(input_path)\n",
    "output = remove(input)\n",
    "output.save(output_path)"
   ]
  },
  {
   "cell_type": "code",
   "execution_count": 201,
   "id": "ee9488f8",
   "metadata": {},
   "outputs": [],
   "source": [
    "from rembg.bg import remove\n",
    "from PIL import Image\n",
    "\n",
    "input_path = 'IMG_4603.jpg'\n",
    "output_path = '876.png'\n",
    "\n",
    "input = Image.open(input_path)\n",
    "output = remove(input)\n",
    "output.save(output_path)"
   ]
  },
  {
   "cell_type": "code",
   "execution_count": 202,
   "id": "b5f1f62d",
   "metadata": {},
   "outputs": [],
   "source": [
    "from rembg.bg import remove\n",
    "from PIL import Image\n",
    "\n",
    "input_path = 'IMG_4604.jpg'\n",
    "output_path = '877.png'\n",
    "\n",
    "input = Image.open(input_path)\n",
    "output = remove(input)\n",
    "output.save(output_path)"
   ]
  },
  {
   "cell_type": "code",
   "execution_count": 203,
   "id": "4b547f45",
   "metadata": {},
   "outputs": [],
   "source": [
    "from rembg.bg import remove\n",
    "from PIL import Image\n",
    "\n",
    "input_path = 'IMG_4605.jpg'\n",
    "output_path = '878.png'\n",
    "\n",
    "input = Image.open(input_path)\n",
    "output = remove(input)\n",
    "output.save(output_path)"
   ]
  },
  {
   "cell_type": "code",
   "execution_count": 204,
   "id": "3289ef90",
   "metadata": {},
   "outputs": [],
   "source": [
    "from rembg.bg import remove\n",
    "from PIL import Image\n",
    "\n",
    "input_path = 'IMG_4606.jpg'\n",
    "output_path = '879.png'\n",
    "\n",
    "input = Image.open(input_path)\n",
    "output = remove(input)\n",
    "output.save(output_path)"
   ]
  },
  {
   "cell_type": "code",
   "execution_count": 205,
   "id": "edbc5658",
   "metadata": {},
   "outputs": [],
   "source": [
    "from rembg.bg import remove\n",
    "from PIL import Image\n",
    "\n",
    "input_path = 'IMG_4607.jpg'\n",
    "output_path = '880.png'\n",
    "\n",
    "input = Image.open(input_path)\n",
    "output = remove(input)\n",
    "output.save(output_path)"
   ]
  },
  {
   "cell_type": "code",
   "execution_count": 206,
   "id": "fe9a3cf2",
   "metadata": {},
   "outputs": [],
   "source": [
    "from rembg.bg import remove\n",
    "from PIL import Image\n",
    "\n",
    "input_path = 'IMG_4608.jpg'\n",
    "output_path = '881.png'\n",
    "\n",
    "input = Image.open(input_path)\n",
    "output = remove(input)\n",
    "output.save(output_path)"
   ]
  },
  {
   "cell_type": "code",
   "execution_count": 207,
   "id": "9e5ef555",
   "metadata": {},
   "outputs": [],
   "source": [
    "from rembg.bg import remove\n",
    "from PIL import Image\n",
    "\n",
    "input_path = 'IMG_4609.jpg'\n",
    "output_path = '882.png'\n",
    "\n",
    "input = Image.open(input_path)\n",
    "output = remove(input)\n",
    "output.save(output_path)"
   ]
  },
  {
   "cell_type": "code",
   "execution_count": 208,
   "id": "22310968",
   "metadata": {},
   "outputs": [],
   "source": [
    "from rembg.bg import remove\n",
    "from PIL import Image\n",
    "\n",
    "input_path = 'IMG_4610.jpg'\n",
    "output_path = '883.png'\n",
    "\n",
    "input = Image.open(input_path)\n",
    "output = remove(input)\n",
    "output.save(output_path)"
   ]
  },
  {
   "cell_type": "code",
   "execution_count": 209,
   "id": "b8476faa",
   "metadata": {},
   "outputs": [],
   "source": [
    "from rembg.bg import remove\n",
    "from PIL import Image\n",
    "\n",
    "input_path = 'IMG_4611.jpg'\n",
    "output_path = '884.png'\n",
    "\n",
    "input = Image.open(input_path)\n",
    "output = remove(input)\n",
    "output.save(output_path)"
   ]
  },
  {
   "cell_type": "code",
   "execution_count": 210,
   "id": "b64b9b62",
   "metadata": {},
   "outputs": [],
   "source": [
    "from rembg.bg import remove\n",
    "from PIL import Image\n",
    "\n",
    "input_path = 'IMG_4612.jpg'\n",
    "output_path = '885.png'\n",
    "\n",
    "input = Image.open(input_path)\n",
    "output = remove(input)\n",
    "output.save(output_path)"
   ]
  },
  {
   "cell_type": "code",
   "execution_count": 211,
   "id": "ac764b2d",
   "metadata": {},
   "outputs": [],
   "source": [
    "from rembg.bg import remove\n",
    "from PIL import Image\n",
    "\n",
    "input_path = 'IMG_4613.jpg'\n",
    "output_path = '886.png'\n",
    "\n",
    "input = Image.open(input_path)\n",
    "output = remove(input)\n",
    "output.save(output_path)"
   ]
  },
  {
   "cell_type": "code",
   "execution_count": 212,
   "id": "b48da75c",
   "metadata": {},
   "outputs": [],
   "source": [
    "from rembg.bg import remove\n",
    "from PIL import Image\n",
    "\n",
    "input_path = 'IMG_4614.jpg'\n",
    "output_path = '887.png'\n",
    "\n",
    "input = Image.open(input_path)\n",
    "output = remove(input)\n",
    "output.save(output_path)"
   ]
  },
  {
   "cell_type": "code",
   "execution_count": 213,
   "id": "b57faefc",
   "metadata": {},
   "outputs": [],
   "source": [
    "from rembg.bg import remove\n",
    "from PIL import Image\n",
    "\n",
    "input_path = 'IMG_4615.jpg'\n",
    "output_path = '888.png'\n",
    "\n",
    "input = Image.open(input_path)\n",
    "output = remove(input)\n",
    "output.save(output_path)"
   ]
  },
  {
   "cell_type": "code",
   "execution_count": 214,
   "id": "90e6b9b3",
   "metadata": {},
   "outputs": [],
   "source": [
    "from rembg.bg import remove\n",
    "from PIL import Image\n",
    "\n",
    "input_path = 'IMG_4616.jpg'\n",
    "output_path = '889.png'\n",
    "\n",
    "input = Image.open(input_path)\n",
    "output = remove(input)\n",
    "output.save(output_path)"
   ]
  },
  {
   "cell_type": "code",
   "execution_count": 215,
   "id": "30a2b305",
   "metadata": {},
   "outputs": [],
   "source": [
    "from rembg.bg import remove\n",
    "from PIL import Image\n",
    "\n",
    "input_path = 'IMG_4617.jpg'\n",
    "output_path = '890.png'\n",
    "\n",
    "input = Image.open(input_path)\n",
    "output = remove(input)\n",
    "output.save(output_path)"
   ]
  },
  {
   "cell_type": "code",
   "execution_count": 216,
   "id": "97f8884f",
   "metadata": {},
   "outputs": [],
   "source": [
    "from rembg.bg import remove\n",
    "from PIL import Image\n",
    "\n",
    "input_path = 'IMG_4618.jpg'\n",
    "output_path = '891.png'\n",
    "\n",
    "input = Image.open(input_path)\n",
    "output = remove(input)\n",
    "output.save(output_path)"
   ]
  },
  {
   "cell_type": "code",
   "execution_count": 217,
   "id": "7ac35b29",
   "metadata": {},
   "outputs": [],
   "source": [
    "from rembg.bg import remove\n",
    "from PIL import Image\n",
    "\n",
    "input_path = 'IMG_4619.jpg'\n",
    "output_path = '892.png'\n",
    "\n",
    "input = Image.open(input_path)\n",
    "output = remove(input)\n",
    "output.save(output_path)"
   ]
  },
  {
   "cell_type": "code",
   "execution_count": 218,
   "id": "97b8ae22",
   "metadata": {},
   "outputs": [],
   "source": [
    "from rembg.bg import remove\n",
    "from PIL import Image\n",
    "\n",
    "input_path = 'IMG_4620.jpg'\n",
    "output_path = '893.png'\n",
    "\n",
    "input = Image.open(input_path)\n",
    "output = remove(input)\n",
    "output.save(output_path)"
   ]
  },
  {
   "cell_type": "code",
   "execution_count": 219,
   "id": "81691ed4",
   "metadata": {},
   "outputs": [],
   "source": [
    "from rembg.bg import remove\n",
    "from PIL import Image\n",
    "\n",
    "input_path = 'IMG_4621.jpg'\n",
    "output_path = '894.png'\n",
    "\n",
    "input = Image.open(input_path)\n",
    "output = remove(input)\n",
    "output.save(output_path)"
   ]
  },
  {
   "cell_type": "code",
   "execution_count": 220,
   "id": "680d8f17",
   "metadata": {},
   "outputs": [],
   "source": [
    "from rembg.bg import remove\n",
    "from PIL import Image\n",
    "\n",
    "input_path = 'IMG_4622.jpg'\n",
    "output_path = '895.png'\n",
    "\n",
    "input = Image.open(input_path)\n",
    "output = remove(input)\n",
    "output.save(output_path)"
   ]
  },
  {
   "cell_type": "code",
   "execution_count": 221,
   "id": "e226ff2f",
   "metadata": {},
   "outputs": [],
   "source": [
    "from rembg.bg import remove\n",
    "from PIL import Image\n",
    "\n",
    "input_path = 'IMG_4623.jpg'\n",
    "output_path = '896.png'\n",
    "\n",
    "input = Image.open(input_path)\n",
    "output = remove(input)\n",
    "output.save(output_path)"
   ]
  },
  {
   "cell_type": "code",
   "execution_count": 222,
   "id": "c80b47ad",
   "metadata": {},
   "outputs": [],
   "source": [
    "from rembg.bg import remove\n",
    "from PIL import Image\n",
    "\n",
    "input_path = 'IMG_4624.jpg'\n",
    "output_path = '897.png'\n",
    "\n",
    "input = Image.open(input_path)\n",
    "output = remove(input)\n",
    "output.save(output_path)"
   ]
  },
  {
   "cell_type": "code",
   "execution_count": 223,
   "id": "3ed86765",
   "metadata": {},
   "outputs": [],
   "source": [
    "from rembg.bg import remove\n",
    "from PIL import Image\n",
    "\n",
    "input_path = 'IMG_4625.jpg'\n",
    "output_path = '898.png'\n",
    "\n",
    "input = Image.open(input_path)\n",
    "output = remove(input)\n",
    "output.save(output_path)"
   ]
  },
  {
   "cell_type": "code",
   "execution_count": 224,
   "id": "be906de9",
   "metadata": {},
   "outputs": [],
   "source": [
    "from rembg.bg import remove\n",
    "from PIL import Image\n",
    "\n",
    "input_path = 'IMG_4626.jpg'\n",
    "output_path = '899.png'\n",
    "\n",
    "input = Image.open(input_path)\n",
    "output = remove(input)\n",
    "output.save(output_path)"
   ]
  },
  {
   "cell_type": "code",
   "execution_count": 225,
   "id": "9d2dad7f",
   "metadata": {},
   "outputs": [],
   "source": [
    "from rembg.bg import remove\n",
    "from PIL import Image\n",
    "\n",
    "input_path = 'IMG_4627.jpg'\n",
    "output_path = '900.png'\n",
    "\n",
    "input = Image.open(input_path)\n",
    "output = remove(input)\n",
    "output.save(output_path)"
   ]
  },
  {
   "cell_type": "code",
   "execution_count": 226,
   "id": "0bf69911",
   "metadata": {},
   "outputs": [],
   "source": [
    "from rembg.bg import remove\n",
    "from PIL import Image\n",
    "\n",
    "input_path = 'IMG_4628.jpg'\n",
    "output_path = '901.png'\n",
    "\n",
    "input = Image.open(input_path)\n",
    "output = remove(input)\n",
    "output.save(output_path)"
   ]
  },
  {
   "cell_type": "code",
   "execution_count": 227,
   "id": "2431f814",
   "metadata": {},
   "outputs": [],
   "source": [
    "from rembg.bg import remove\n",
    "from PIL import Image\n",
    "\n",
    "input_path = 'IMG_4629.jpg'\n",
    "output_path = '902.png'\n",
    "\n",
    "input = Image.open(input_path)\n",
    "output = remove(input)\n",
    "output.save(output_path)"
   ]
  },
  {
   "cell_type": "code",
   "execution_count": 228,
   "id": "f1db1a4e",
   "metadata": {},
   "outputs": [],
   "source": [
    "from rembg.bg import remove\n",
    "from PIL import Image\n",
    "\n",
    "input_path = 'IMG_4630.jpg'\n",
    "output_path = '903.png'\n",
    "\n",
    "input = Image.open(input_path)\n",
    "output = remove(input)\n",
    "output.save(output_path)"
   ]
  },
  {
   "cell_type": "code",
   "execution_count": 229,
   "id": "057f1baa",
   "metadata": {},
   "outputs": [],
   "source": [
    "from rembg.bg import remove\n",
    "from PIL import Image\n",
    "\n",
    "input_path = 'IMG_4631.jpg'\n",
    "output_path = '904.png'\n",
    "\n",
    "input = Image.open(input_path)\n",
    "output = remove(input)\n",
    "output.save(output_path)"
   ]
  },
  {
   "cell_type": "code",
   "execution_count": 230,
   "id": "4d3cbfb7",
   "metadata": {},
   "outputs": [],
   "source": [
    "from rembg.bg import remove\n",
    "from PIL import Image\n",
    "\n",
    "input_path = 'IMG_4632.jpg'\n",
    "output_path = '905.png'\n",
    "\n",
    "input = Image.open(input_path)\n",
    "output = remove(input)\n",
    "output.save(output_path)"
   ]
  },
  {
   "cell_type": "code",
   "execution_count": 231,
   "id": "e0818201",
   "metadata": {},
   "outputs": [],
   "source": [
    "from rembg.bg import remove\n",
    "from PIL import Image\n",
    "\n",
    "input_path = 'IMG_4633.jpg'\n",
    "output_path = '906.png'\n",
    "\n",
    "input = Image.open(input_path)\n",
    "output = remove(input)\n",
    "output.save(output_path)"
   ]
  },
  {
   "cell_type": "code",
   "execution_count": 232,
   "id": "c733dea1",
   "metadata": {},
   "outputs": [],
   "source": [
    "from rembg.bg import remove\n",
    "from PIL import Image\n",
    "\n",
    "input_path = 'IMG_4634.jpg'\n",
    "output_path = '907.png'\n",
    "\n",
    "input = Image.open(input_path)\n",
    "output = remove(input)\n",
    "output.save(output_path)"
   ]
  },
  {
   "cell_type": "code",
   "execution_count": 233,
   "id": "6b47cf0f",
   "metadata": {},
   "outputs": [],
   "source": [
    "from rembg.bg import remove\n",
    "from PIL import Image\n",
    "\n",
    "input_path = 'IMG_4635.jpg'\n",
    "output_path = '908.png'\n",
    "\n",
    "input = Image.open(input_path)\n",
    "output = remove(input)\n",
    "output.save(output_path)"
   ]
  },
  {
   "cell_type": "code",
   "execution_count": 234,
   "id": "6e36280b",
   "metadata": {},
   "outputs": [],
   "source": [
    "from rembg.bg import remove\n",
    "from PIL import Image\n",
    "\n",
    "input_path = 'IMG_4636.jpg'\n",
    "output_path = '909.png'\n",
    "\n",
    "input = Image.open(input_path)\n",
    "output = remove(input)\n",
    "output.save(output_path)"
   ]
  },
  {
   "cell_type": "code",
   "execution_count": 235,
   "id": "8789f077",
   "metadata": {},
   "outputs": [],
   "source": [
    "from rembg.bg import remove\n",
    "from PIL import Image\n",
    "\n",
    "input_path = 'IMG_4637.jpg'\n",
    "output_path = '910.png'\n",
    "\n",
    "input = Image.open(input_path)\n",
    "output = remove(input)\n",
    "output.save(output_path)"
   ]
  },
  {
   "cell_type": "code",
   "execution_count": 236,
   "id": "7ef81638",
   "metadata": {},
   "outputs": [],
   "source": [
    "from rembg.bg import remove\n",
    "from PIL import Image\n",
    "\n",
    "input_path = 'IMG_4638.jpg'\n",
    "output_path = '911.png'\n",
    "\n",
    "input = Image.open(input_path)\n",
    "output = remove(input)\n",
    "output.save(output_path)"
   ]
  },
  {
   "cell_type": "code",
   "execution_count": 237,
   "id": "eb9fc9e2",
   "metadata": {},
   "outputs": [],
   "source": [
    "from rembg.bg import remove\n",
    "from PIL import Image\n",
    "\n",
    "input_path = 'IMG_4639.jpg'\n",
    "output_path = '912.png'\n",
    "\n",
    "input = Image.open(input_path)\n",
    "output = remove(input)\n",
    "output.save(output_path)"
   ]
  },
  {
   "cell_type": "code",
   "execution_count": 238,
   "id": "b3ace194",
   "metadata": {},
   "outputs": [],
   "source": [
    "from rembg.bg import remove\n",
    "from PIL import Image\n",
    "\n",
    "input_path = 'IMG_4640.jpg'\n",
    "output_path = '913.png'\n",
    "\n",
    "input = Image.open(input_path)\n",
    "output = remove(input)\n",
    "output.save(output_path)"
   ]
  },
  {
   "cell_type": "code",
   "execution_count": 239,
   "id": "d1ea13ac",
   "metadata": {},
   "outputs": [],
   "source": [
    "from rembg.bg import remove\n",
    "from PIL import Image\n",
    "\n",
    "input_path = 'IMG_4641.jpg'\n",
    "output_path = '914.png'\n",
    "\n",
    "input = Image.open(input_path)\n",
    "output = remove(input)\n",
    "output.save(output_path)"
   ]
  },
  {
   "cell_type": "code",
   "execution_count": 240,
   "id": "56c7c96c",
   "metadata": {},
   "outputs": [],
   "source": [
    "from rembg.bg import remove\n",
    "from PIL import Image\n",
    "\n",
    "input_path = 'IMG_4642.jpg'\n",
    "output_path = '915.png'\n",
    "\n",
    "input = Image.open(input_path)\n",
    "output = remove(input)\n",
    "output.save(output_path)"
   ]
  },
  {
   "cell_type": "code",
   "execution_count": 241,
   "id": "3eac3d85",
   "metadata": {},
   "outputs": [],
   "source": [
    "from rembg.bg import remove\n",
    "from PIL import Image\n",
    "\n",
    "input_path = 'IMG_4643.jpg'\n",
    "output_path = '916.png'\n",
    "\n",
    "input = Image.open(input_path)\n",
    "output = remove(input)\n",
    "output.save(output_path)"
   ]
  },
  {
   "cell_type": "code",
   "execution_count": 242,
   "id": "de867da0",
   "metadata": {},
   "outputs": [],
   "source": [
    "from rembg.bg import remove\n",
    "from PIL import Image\n",
    "\n",
    "input_path = 'IMG_4644.jpg'\n",
    "output_path = '917.png'\n",
    "\n",
    "input = Image.open(input_path)\n",
    "output = remove(input)\n",
    "output.save(output_path)"
   ]
  },
  {
   "cell_type": "code",
   "execution_count": 243,
   "id": "4607e9d0",
   "metadata": {},
   "outputs": [],
   "source": [
    "from rembg.bg import remove\n",
    "from PIL import Image\n",
    "\n",
    "input_path = 'IMG_4645.jpg'\n",
    "output_path = '918.png'\n",
    "\n",
    "input = Image.open(input_path)\n",
    "output = remove(input)\n",
    "output.save(output_path)"
   ]
  },
  {
   "cell_type": "code",
   "execution_count": 244,
   "id": "2dde63e8",
   "metadata": {},
   "outputs": [],
   "source": [
    "from rembg.bg import remove\n",
    "from PIL import Image\n",
    "\n",
    "input_path = 'IMG_4646.jpg'\n",
    "output_path = '919.png'\n",
    "\n",
    "input = Image.open(input_path)\n",
    "output = remove(input)\n",
    "output.save(output_path)"
   ]
  },
  {
   "cell_type": "code",
   "execution_count": 245,
   "id": "b63d4f34",
   "metadata": {},
   "outputs": [],
   "source": [
    "from rembg.bg import remove\n",
    "from PIL import Image\n",
    "\n",
    "input_path = 'IMG_4647.jpg'\n",
    "output_path = '920.png'\n",
    "\n",
    "input = Image.open(input_path)\n",
    "output = remove(input)\n",
    "output.save(output_path)"
   ]
  },
  {
   "cell_type": "code",
   "execution_count": 246,
   "id": "36494ce7",
   "metadata": {},
   "outputs": [],
   "source": [
    "from rembg.bg import remove\n",
    "from PIL import Image\n",
    "\n",
    "input_path = 'IMG_4648.jpg'\n",
    "output_path = '921.png'\n",
    "\n",
    "input = Image.open(input_path)\n",
    "output = remove(input)\n",
    "output.save(output_path)"
   ]
  },
  {
   "cell_type": "code",
   "execution_count": 247,
   "id": "29b6a259",
   "metadata": {},
   "outputs": [],
   "source": [
    "from rembg.bg import remove\n",
    "from PIL import Image\n",
    "\n",
    "input_path = 'IMG_4649.jpg'\n",
    "output_path = '922.png'\n",
    "\n",
    "input = Image.open(input_path)\n",
    "output = remove(input)\n",
    "output.save(output_path)"
   ]
  },
  {
   "cell_type": "code",
   "execution_count": 248,
   "id": "b57c0c53",
   "metadata": {},
   "outputs": [],
   "source": [
    "from rembg.bg import remove\n",
    "from PIL import Image\n",
    "\n",
    "input_path = 'IMG_4650.jpg'\n",
    "output_path = '923.png'\n",
    "\n",
    "input = Image.open(input_path)\n",
    "output = remove(input)\n",
    "output.save(output_path)"
   ]
  },
  {
   "cell_type": "code",
   "execution_count": 249,
   "id": "a6e8626c",
   "metadata": {},
   "outputs": [],
   "source": [
    "from rembg.bg import remove\n",
    "from PIL import Image\n",
    "\n",
    "input_path = 'IMG_4651.jpg'\n",
    "output_path = '924.png'\n",
    "\n",
    "input = Image.open(input_path)\n",
    "output = remove(input)\n",
    "output.save(output_path)"
   ]
  },
  {
   "cell_type": "code",
   "execution_count": 250,
   "id": "1f59ecf6",
   "metadata": {},
   "outputs": [],
   "source": [
    "from rembg.bg import remove\n",
    "from PIL import Image\n",
    "\n",
    "input_path = 'IMG_4652.jpg'\n",
    "output_path = '925.png'\n",
    "\n",
    "input = Image.open(input_path)\n",
    "output = remove(input)\n",
    "output.save(output_path)"
   ]
  },
  {
   "cell_type": "code",
   "execution_count": 251,
   "id": "fe0cfcd5",
   "metadata": {},
   "outputs": [],
   "source": [
    "from rembg.bg import remove\n",
    "from PIL import Image\n",
    "\n",
    "input_path = 'IMG_4653.jpg'\n",
    "output_path = '926.png'\n",
    "\n",
    "input = Image.open(input_path)\n",
    "output = remove(input)\n",
    "output.save(output_path)"
   ]
  },
  {
   "cell_type": "code",
   "execution_count": 252,
   "id": "6d64e7f9",
   "metadata": {},
   "outputs": [],
   "source": [
    "from rembg.bg import remove\n",
    "from PIL import Image\n",
    "\n",
    "input_path = 'IMG_4654.jpg'\n",
    "output_path = '927.png'\n",
    "\n",
    "input = Image.open(input_path)\n",
    "output = remove(input)\n",
    "output.save(output_path)"
   ]
  },
  {
   "cell_type": "code",
   "execution_count": 253,
   "id": "8c3f62ae",
   "metadata": {},
   "outputs": [],
   "source": [
    "from rembg.bg import remove\n",
    "from PIL import Image\n",
    "\n",
    "input_path = 'IMG_4655.jpg'\n",
    "output_path = '928.png'\n",
    "\n",
    "input = Image.open(input_path)\n",
    "output = remove(input)\n",
    "output.save(output_path)"
   ]
  },
  {
   "cell_type": "code",
   "execution_count": 254,
   "id": "8dd72e65",
   "metadata": {},
   "outputs": [],
   "source": [
    "from rembg.bg import remove\n",
    "from PIL import Image\n",
    "\n",
    "input_path = 'IMG_4656.jpg'\n",
    "output_path = '929.png'\n",
    "\n",
    "input = Image.open(input_path)\n",
    "output = remove(input)\n",
    "output.save(output_path)"
   ]
  },
  {
   "cell_type": "code",
   "execution_count": 255,
   "id": "0787f7bd",
   "metadata": {},
   "outputs": [],
   "source": [
    "from rembg.bg import remove\n",
    "from PIL import Image\n",
    "\n",
    "input_path = 'IMG_4657.jpg'\n",
    "output_path = '930.png'\n",
    "\n",
    "input = Image.open(input_path)\n",
    "output = remove(input)\n",
    "output.save(output_path)"
   ]
  },
  {
   "cell_type": "code",
   "execution_count": 256,
   "id": "f4a20f8d",
   "metadata": {},
   "outputs": [],
   "source": [
    "from rembg.bg import remove\n",
    "from PIL import Image\n",
    "\n",
    "input_path = 'IMG_4658.jpg'\n",
    "output_path = '931.png'\n",
    "\n",
    "input = Image.open(input_path)\n",
    "output = remove(input)\n",
    "output.save(output_path)"
   ]
  },
  {
   "cell_type": "code",
   "execution_count": 257,
   "id": "dc86a64e",
   "metadata": {},
   "outputs": [],
   "source": [
    "from rembg.bg import remove\n",
    "from PIL import Image\n",
    "\n",
    "input_path = 'IMG_4659.jpg'\n",
    "output_path = '932.png'\n",
    "\n",
    "input = Image.open(input_path)\n",
    "output = remove(input)\n",
    "output.save(output_path)"
   ]
  },
  {
   "cell_type": "code",
   "execution_count": 258,
   "id": "e7cf5af1",
   "metadata": {},
   "outputs": [],
   "source": [
    "from rembg.bg import remove\n",
    "from PIL import Image\n",
    "\n",
    "input_path = 'IMG_4660.jpg'\n",
    "output_path = '933.png'\n",
    "\n",
    "input = Image.open(input_path)\n",
    "output = remove(input)\n",
    "output.save(output_path)"
   ]
  },
  {
   "cell_type": "code",
   "execution_count": 259,
   "id": "50a3e6e0",
   "metadata": {},
   "outputs": [],
   "source": [
    "from rembg.bg import remove\n",
    "from PIL import Image\n",
    "\n",
    "input_path = 'IMG_4661.jpg'\n",
    "output_path = '934.png'\n",
    "\n",
    "input = Image.open(input_path)\n",
    "output = remove(input)\n",
    "output.save(output_path)"
   ]
  },
  {
   "cell_type": "code",
   "execution_count": 260,
   "id": "7c087454",
   "metadata": {},
   "outputs": [],
   "source": [
    "from rembg.bg import remove\n",
    "from PIL import Image\n",
    "\n",
    "input_path = 'IMG_4662.jpg'\n",
    "output_path = '935.png'\n",
    "\n",
    "input = Image.open(input_path)\n",
    "output = remove(input)\n",
    "output.save(output_path)"
   ]
  },
  {
   "cell_type": "code",
   "execution_count": 261,
   "id": "84d4e368",
   "metadata": {},
   "outputs": [],
   "source": [
    "from rembg.bg import remove\n",
    "from PIL import Image\n",
    "\n",
    "input_path = 'IMG_4663.jpg'\n",
    "output_path = '936.png'\n",
    "\n",
    "input = Image.open(input_path)\n",
    "output = remove(input)\n",
    "output.save(output_path)"
   ]
  },
  {
   "cell_type": "code",
   "execution_count": 262,
   "id": "d7650f3b",
   "metadata": {},
   "outputs": [],
   "source": [
    "from rembg.bg import remove\n",
    "from PIL import Image\n",
    "\n",
    "input_path = 'IMG_4664.jpg'\n",
    "output_path = '937.png'\n",
    "\n",
    "input = Image.open(input_path)\n",
    "output = remove(input)\n",
    "output.save(output_path)"
   ]
  },
  {
   "cell_type": "code",
   "execution_count": 263,
   "id": "49d869cc",
   "metadata": {},
   "outputs": [],
   "source": [
    "from rembg.bg import remove\n",
    "from PIL import Image\n",
    "\n",
    "input_path = 'IMG_4665.jpg'\n",
    "output_path = '938.png'\n",
    "\n",
    "input = Image.open(input_path)\n",
    "output = remove(input)\n",
    "output.save(output_path)"
   ]
  },
  {
   "cell_type": "code",
   "execution_count": 264,
   "id": "fe6a76cc",
   "metadata": {},
   "outputs": [],
   "source": [
    "from rembg.bg import remove\n",
    "from PIL import Image\n",
    "\n",
    "input_path = 'IMG_4666.jpg'\n",
    "output_path = '939.png'\n",
    "\n",
    "input = Image.open(input_path)\n",
    "output = remove(input)\n",
    "output.save(output_path)"
   ]
  },
  {
   "cell_type": "code",
   "execution_count": 265,
   "id": "b4b2d16f",
   "metadata": {},
   "outputs": [],
   "source": [
    "from rembg.bg import remove\n",
    "from PIL import Image\n",
    "\n",
    "input_path = 'IMG_4667.jpg'\n",
    "output_path = '940.png'\n",
    "\n",
    "input = Image.open(input_path)\n",
    "output = remove(input)\n",
    "output.save(output_path)"
   ]
  },
  {
   "cell_type": "code",
   "execution_count": 266,
   "id": "8d77cae9",
   "metadata": {},
   "outputs": [],
   "source": [
    "from rembg.bg import remove\n",
    "from PIL import Image\n",
    "\n",
    "input_path = 'IMG_4668.jpg'\n",
    "output_path = '941.png'\n",
    "\n",
    "input = Image.open(input_path)\n",
    "output = remove(input)\n",
    "output.save(output_path)"
   ]
  },
  {
   "cell_type": "code",
   "execution_count": 267,
   "id": "3e1cc4e0",
   "metadata": {},
   "outputs": [],
   "source": [
    "from rembg.bg import remove\n",
    "from PIL import Image\n",
    "\n",
    "input_path = 'IMG_4669.jpg'\n",
    "output_path = '942.png'\n",
    "\n",
    "input = Image.open(input_path)\n",
    "output = remove(input)\n",
    "output.save(output_path)"
   ]
  },
  {
   "cell_type": "code",
   "execution_count": 268,
   "id": "5342f568",
   "metadata": {},
   "outputs": [],
   "source": [
    "from rembg.bg import remove\n",
    "from PIL import Image\n",
    "\n",
    "input_path = 'IMG_4670.jpg'\n",
    "output_path = '943.png'\n",
    "\n",
    "input = Image.open(input_path)\n",
    "output = remove(input)\n",
    "output.save(output_path)"
   ]
  },
  {
   "cell_type": "code",
   "execution_count": 269,
   "id": "5c4c408f",
   "metadata": {},
   "outputs": [],
   "source": [
    "from rembg.bg import remove\n",
    "from PIL import Image\n",
    "\n",
    "input_path = 'IMG_4671.jpg'\n",
    "output_path = '944.png'\n",
    "\n",
    "input = Image.open(input_path)\n",
    "output = remove(input)\n",
    "output.save(output_path)"
   ]
  },
  {
   "cell_type": "code",
   "execution_count": 270,
   "id": "012a91ed",
   "metadata": {},
   "outputs": [],
   "source": [
    "from rembg.bg import remove\n",
    "from PIL import Image\n",
    "\n",
    "input_path = 'IMG_4672.jpg'\n",
    "output_path = '945.png'\n",
    "\n",
    "input = Image.open(input_path)\n",
    "output = remove(input)\n",
    "output.save(output_path)"
   ]
  },
  {
   "cell_type": "code",
   "execution_count": 271,
   "id": "d8fa92a0",
   "metadata": {},
   "outputs": [],
   "source": [
    "from rembg.bg import remove\n",
    "from PIL import Image\n",
    "\n",
    "input_path = 'IMG_4673.jpg'\n",
    "output_path = '946.png'\n",
    "\n",
    "input = Image.open(input_path)\n",
    "output = remove(input)\n",
    "output.save(output_path)"
   ]
  },
  {
   "cell_type": "code",
   "execution_count": 272,
   "id": "9ddda064",
   "metadata": {},
   "outputs": [],
   "source": [
    "from rembg.bg import remove\n",
    "from PIL import Image\n",
    "\n",
    "input_path = 'IMG_4674.jpg'\n",
    "output_path = '947.png'\n",
    "\n",
    "input = Image.open(input_path)\n",
    "output = remove(input)\n",
    "output.save(output_path)"
   ]
  },
  {
   "cell_type": "code",
   "execution_count": 273,
   "id": "268ce925",
   "metadata": {},
   "outputs": [],
   "source": [
    "from rembg.bg import remove\n",
    "from PIL import Image\n",
    "\n",
    "input_path = 'IMG_4675.jpg'\n",
    "output_path = '948.png'\n",
    "\n",
    "input = Image.open(input_path)\n",
    "output = remove(input)\n",
    "output.save(output_path)"
   ]
  },
  {
   "cell_type": "code",
   "execution_count": 274,
   "id": "5d2e8683",
   "metadata": {},
   "outputs": [],
   "source": [
    "from rembg.bg import remove\n",
    "from PIL import Image\n",
    "\n",
    "input_path = 'IMG_4676.jpg'\n",
    "output_path = '949.png'\n",
    "\n",
    "input = Image.open(input_path)\n",
    "output = remove(input)\n",
    "output.save(output_path)"
   ]
  },
  {
   "cell_type": "code",
   "execution_count": 275,
   "id": "e840ef45",
   "metadata": {},
   "outputs": [],
   "source": [
    "from rembg.bg import remove\n",
    "from PIL import Image\n",
    "\n",
    "input_path = 'IMG_4677.jpg'\n",
    "output_path = '950.png'\n",
    "\n",
    "input = Image.open(input_path)\n",
    "output = remove(input)\n",
    "output.save(output_path)"
   ]
  },
  {
   "cell_type": "code",
   "execution_count": 276,
   "id": "4651b79c",
   "metadata": {},
   "outputs": [],
   "source": [
    "from rembg.bg import remove\n",
    "from PIL import Image\n",
    "\n",
    "input_path = 'IMG_4678.jpg'\n",
    "output_path = '951.png'\n",
    "\n",
    "input = Image.open(input_path)\n",
    "output = remove(input)\n",
    "output.save(output_path)"
   ]
  },
  {
   "cell_type": "code",
   "execution_count": 277,
   "id": "311cf2b9",
   "metadata": {},
   "outputs": [],
   "source": [
    "from rembg.bg import remove\n",
    "from PIL import Image\n",
    "\n",
    "input_path = 'IMG_4679.jpg'\n",
    "output_path = '952.png'\n",
    "\n",
    "input = Image.open(input_path)\n",
    "output = remove(input)\n",
    "output.save(output_path)"
   ]
  },
  {
   "cell_type": "code",
   "execution_count": 278,
   "id": "fa653a8c",
   "metadata": {},
   "outputs": [],
   "source": [
    "from rembg.bg import remove\n",
    "from PIL import Image\n",
    "\n",
    "input_path = 'IMG_4680.jpg'\n",
    "output_path = '953.png'\n",
    "\n",
    "input = Image.open(input_path)\n",
    "output = remove(input)\n",
    "output.save(output_path)"
   ]
  },
  {
   "cell_type": "code",
   "execution_count": 279,
   "id": "9c9dcdd3",
   "metadata": {},
   "outputs": [],
   "source": [
    "from rembg.bg import remove\n",
    "from PIL import Image\n",
    "\n",
    "input_path = 'IMG_4681.jpg'\n",
    "output_path = '954.png'\n",
    "\n",
    "input = Image.open(input_path)\n",
    "output = remove(input)\n",
    "output.save(output_path)"
   ]
  },
  {
   "cell_type": "code",
   "execution_count": 280,
   "id": "40ef1e97",
   "metadata": {},
   "outputs": [],
   "source": [
    "from rembg.bg import remove\n",
    "from PIL import Image\n",
    "\n",
    "input_path = 'IMG_4682.jpg'\n",
    "output_path = '955.png'\n",
    "\n",
    "input = Image.open(input_path)\n",
    "output = remove(input)\n",
    "output.save(output_path)"
   ]
  },
  {
   "cell_type": "code",
   "execution_count": 281,
   "id": "e504e9b2",
   "metadata": {},
   "outputs": [],
   "source": [
    "from rembg.bg import remove\n",
    "from PIL import Image\n",
    "\n",
    "input_path = 'IMG_4683.jpg'\n",
    "output_path = '956.png'\n",
    "\n",
    "input = Image.open(input_path)\n",
    "output = remove(input)\n",
    "output.save(output_path)"
   ]
  },
  {
   "cell_type": "code",
   "execution_count": 282,
   "id": "d41bf2ae",
   "metadata": {},
   "outputs": [],
   "source": [
    "from rembg.bg import remove\n",
    "from PIL import Image\n",
    "\n",
    "input_path = 'IMG_4684.jpg'\n",
    "output_path = '957.png'\n",
    "\n",
    "input = Image.open(input_path)\n",
    "output = remove(input)\n",
    "output.save(output_path)"
   ]
  },
  {
   "cell_type": "code",
   "execution_count": 283,
   "id": "27a74d3e",
   "metadata": {},
   "outputs": [],
   "source": [
    "from rembg.bg import remove\n",
    "from PIL import Image\n",
    "\n",
    "input_path = 'IMG_4685.jpg'\n",
    "output_path = '958.png'\n",
    "\n",
    "input = Image.open(input_path)\n",
    "output = remove(input)\n",
    "output.save(output_path)"
   ]
  },
  {
   "cell_type": "code",
   "execution_count": 284,
   "id": "51175955",
   "metadata": {},
   "outputs": [],
   "source": [
    "from rembg.bg import remove\n",
    "from PIL import Image\n",
    "\n",
    "input_path = 'IMG_4686.jpg'\n",
    "output_path = '959.png'\n",
    "\n",
    "input = Image.open(input_path)\n",
    "output = remove(input)\n",
    "output.save(output_path)"
   ]
  },
  {
   "cell_type": "code",
   "execution_count": 285,
   "id": "e0958b71",
   "metadata": {},
   "outputs": [],
   "source": [
    "from rembg.bg import remove\n",
    "from PIL import Image\n",
    "\n",
    "input_path = 'IMG_4687.jpg'\n",
    "output_path = '960.png'\n",
    "\n",
    "input = Image.open(input_path)\n",
    "output = remove(input)\n",
    "output.save(output_path)"
   ]
  },
  {
   "cell_type": "code",
   "execution_count": 286,
   "id": "d3e90490",
   "metadata": {},
   "outputs": [],
   "source": [
    "from rembg.bg import remove\n",
    "from PIL import Image\n",
    "\n",
    "input_path = 'IMG_4688.jpg'\n",
    "output_path = '961.png'\n",
    "\n",
    "input = Image.open(input_path)\n",
    "output = remove(input)\n",
    "output.save(output_path)"
   ]
  },
  {
   "cell_type": "code",
   "execution_count": 287,
   "id": "204c7bce",
   "metadata": {},
   "outputs": [],
   "source": [
    "from rembg.bg import remove\n",
    "from PIL import Image\n",
    "\n",
    "input_path = 'IMG_4689.jpg'\n",
    "output_path = '962.png'\n",
    "\n",
    "input = Image.open(input_path)\n",
    "output = remove(input)\n",
    "output.save(output_path)"
   ]
  },
  {
   "cell_type": "code",
   "execution_count": 288,
   "id": "cc5abe8d",
   "metadata": {},
   "outputs": [],
   "source": [
    "from rembg.bg import remove\n",
    "from PIL import Image\n",
    "\n",
    "input_path = 'IMG_4690.jpg'\n",
    "output_path = '963.png'\n",
    "\n",
    "input = Image.open(input_path)\n",
    "output = remove(input)\n",
    "output.save(output_path)"
   ]
  },
  {
   "cell_type": "code",
   "execution_count": 289,
   "id": "cf1d89ad",
   "metadata": {},
   "outputs": [],
   "source": [
    "from rembg.bg import remove\n",
    "from PIL import Image\n",
    "\n",
    "input_path = 'IMG_4691.jpg'\n",
    "output_path = '964.png'\n",
    "\n",
    "input = Image.open(input_path)\n",
    "output = remove(input)\n",
    "output.save(output_path)"
   ]
  },
  {
   "cell_type": "code",
   "execution_count": 290,
   "id": "09fb22b5",
   "metadata": {},
   "outputs": [],
   "source": [
    "from rembg.bg import remove\n",
    "from PIL import Image\n",
    "\n",
    "input_path = 'IMG_4692.jpg'\n",
    "output_path = '965.png'\n",
    "\n",
    "input = Image.open(input_path)\n",
    "output = remove(input)\n",
    "output.save(output_path)"
   ]
  },
  {
   "cell_type": "code",
   "execution_count": 291,
   "id": "fa1fdd08",
   "metadata": {},
   "outputs": [],
   "source": [
    "from rembg.bg import remove\n",
    "from PIL import Image\n",
    "\n",
    "input_path = 'IMG_4693.jpg'\n",
    "output_path = '966.png'\n",
    "\n",
    "input = Image.open(input_path)\n",
    "output = remove(input)\n",
    "output.save(output_path)"
   ]
  },
  {
   "cell_type": "code",
   "execution_count": 292,
   "id": "a26a6b8c",
   "metadata": {},
   "outputs": [],
   "source": [
    "from rembg.bg import remove\n",
    "from PIL import Image\n",
    "\n",
    "input_path = 'IMG_4694.jpg'\n",
    "output_path = '967.png'\n",
    "\n",
    "input = Image.open(input_path)\n",
    "output = remove(input)\n",
    "output.save(output_path)"
   ]
  },
  {
   "cell_type": "code",
   "execution_count": 293,
   "id": "56d11055",
   "metadata": {},
   "outputs": [],
   "source": [
    "from rembg.bg import remove\n",
    "from PIL import Image\n",
    "\n",
    "input_path = 'IMG_4695.jpg'\n",
    "output_path = '968.png'\n",
    "\n",
    "input = Image.open(input_path)\n",
    "output = remove(input)\n",
    "output.save(output_path)"
   ]
  },
  {
   "cell_type": "code",
   "execution_count": 294,
   "id": "4ccc39d3",
   "metadata": {},
   "outputs": [],
   "source": [
    "from rembg.bg import remove\n",
    "from PIL import Image\n",
    "\n",
    "input_path = 'IMG_4696.jpg'\n",
    "output_path = '969.png'\n",
    "\n",
    "input = Image.open(input_path)\n",
    "output = remove(input)\n",
    "output.save(output_path)"
   ]
  },
  {
   "cell_type": "code",
   "execution_count": 295,
   "id": "3fcf4341",
   "metadata": {},
   "outputs": [],
   "source": [
    "from rembg.bg import remove\n",
    "from PIL import Image\n",
    "\n",
    "input_path = 'IMG_4697.jpg'\n",
    "output_path = '970.png'\n",
    "\n",
    "input = Image.open(input_path)\n",
    "output = remove(input)\n",
    "output.save(output_path)"
   ]
  },
  {
   "cell_type": "code",
   "execution_count": 296,
   "id": "6d7cd5f6",
   "metadata": {},
   "outputs": [],
   "source": [
    "from rembg.bg import remove\n",
    "from PIL import Image\n",
    "\n",
    "input_path = 'IMG_4698.jpg'\n",
    "output_path = '971.png'\n",
    "\n",
    "input = Image.open(input_path)\n",
    "output = remove(input)\n",
    "output.save(output_path)"
   ]
  },
  {
   "cell_type": "code",
   "execution_count": 297,
   "id": "e7086aa8",
   "metadata": {},
   "outputs": [],
   "source": [
    "from rembg.bg import remove\n",
    "from PIL import Image\n",
    "\n",
    "input_path = 'IMG_4699.jpg'\n",
    "output_path = '972.png'\n",
    "\n",
    "input = Image.open(input_path)\n",
    "output = remove(input)\n",
    "output.save(output_path)"
   ]
  },
  {
   "cell_type": "code",
   "execution_count": 298,
   "id": "04479f40",
   "metadata": {},
   "outputs": [],
   "source": [
    "from rembg.bg import remove\n",
    "from PIL import Image\n",
    "\n",
    "input_path = 'IMG_4700.jpg'\n",
    "output_path = '973.png'\n",
    "\n",
    "input = Image.open(input_path)\n",
    "output = remove(input)\n",
    "output.save(output_path)"
   ]
  },
  {
   "cell_type": "code",
   "execution_count": 299,
   "id": "22e628b0",
   "metadata": {},
   "outputs": [],
   "source": [
    "from rembg.bg import remove\n",
    "from PIL import Image\n",
    "\n",
    "input_path = 'IMG_4701.jpg'\n",
    "output_path = '974.png'\n",
    "\n",
    "input = Image.open(input_path)\n",
    "output = remove(input)\n",
    "output.save(output_path)"
   ]
  },
  {
   "cell_type": "code",
   "execution_count": 300,
   "id": "617efe4b",
   "metadata": {},
   "outputs": [],
   "source": [
    "from rembg.bg import remove\n",
    "from PIL import Image\n",
    "\n",
    "input_path = 'IMG_4702.jpg'\n",
    "output_path = '975.png'\n",
    "\n",
    "input = Image.open(input_path)\n",
    "output = remove(input)\n",
    "output.save(output_path)"
   ]
  },
  {
   "cell_type": "code",
   "execution_count": 301,
   "id": "7c40257d",
   "metadata": {},
   "outputs": [],
   "source": [
    "from rembg.bg import remove\n",
    "from PIL import Image\n",
    "\n",
    "input_path = 'IMG_4703.jpg'\n",
    "output_path = '976.png'\n",
    "\n",
    "input = Image.open(input_path)\n",
    "output = remove(input)\n",
    "output.save(output_path)"
   ]
  },
  {
   "cell_type": "code",
   "execution_count": 302,
   "id": "313e6f2d",
   "metadata": {},
   "outputs": [],
   "source": [
    "from rembg.bg import remove\n",
    "from PIL import Image\n",
    "\n",
    "input_path = 'IMG_4704.jpg'\n",
    "output_path = '977.png'\n",
    "\n",
    "input = Image.open(input_path)\n",
    "output = remove(input)\n",
    "output.save(output_path)"
   ]
  },
  {
   "cell_type": "code",
   "execution_count": 303,
   "id": "96d44f6f",
   "metadata": {},
   "outputs": [],
   "source": [
    "from rembg.bg import remove\n",
    "from PIL import Image\n",
    "\n",
    "input_path = 'IMG_4705.jpg'\n",
    "output_path = '978.png'\n",
    "\n",
    "input = Image.open(input_path)\n",
    "output = remove(input)\n",
    "output.save(output_path)"
   ]
  },
  {
   "cell_type": "code",
   "execution_count": 304,
   "id": "aa8847a4",
   "metadata": {},
   "outputs": [],
   "source": [
    "from rembg.bg import remove\n",
    "from PIL import Image\n",
    "\n",
    "input_path = 'IMG_4706.jpg'\n",
    "output_path = '979.png'\n",
    "\n",
    "input = Image.open(input_path)\n",
    "output = remove(input)\n",
    "output.save(output_path)"
   ]
  },
  {
   "cell_type": "code",
   "execution_count": 305,
   "id": "cff1da4e",
   "metadata": {},
   "outputs": [],
   "source": [
    "from rembg.bg import remove\n",
    "from PIL import Image\n",
    "\n",
    "input_path = 'IMG_4707.jpg'\n",
    "output_path = '980.png'\n",
    "\n",
    "input = Image.open(input_path)\n",
    "output = remove(input)\n",
    "output.save(output_path)"
   ]
  },
  {
   "cell_type": "code",
   "execution_count": 306,
   "id": "cc69dbe9",
   "metadata": {},
   "outputs": [],
   "source": [
    "from rembg.bg import remove\n",
    "from PIL import Image\n",
    "\n",
    "input_path = 'IMG_4708.jpg'\n",
    "output_path = '981.png'\n",
    "\n",
    "input = Image.open(input_path)\n",
    "output = remove(input)\n",
    "output.save(output_path)"
   ]
  },
  {
   "cell_type": "code",
   "execution_count": 307,
   "id": "81dbf262",
   "metadata": {},
   "outputs": [],
   "source": [
    "from rembg.bg import remove\n",
    "from PIL import Image\n",
    "\n",
    "input_path = 'IMG_4709.jpg'\n",
    "output_path = '982.png'\n",
    "\n",
    "input = Image.open(input_path)\n",
    "output = remove(input)\n",
    "output.save(output_path)"
   ]
  },
  {
   "cell_type": "code",
   "execution_count": 308,
   "id": "7816fb57",
   "metadata": {},
   "outputs": [],
   "source": [
    "from rembg.bg import remove\n",
    "from PIL import Image\n",
    "\n",
    "input_path = 'IMG_4710.jpg'\n",
    "output_path = '983.png'\n",
    "\n",
    "input = Image.open(input_path)\n",
    "output = remove(input)\n",
    "output.save(output_path)"
   ]
  },
  {
   "cell_type": "code",
   "execution_count": 309,
   "id": "baf9bb35",
   "metadata": {},
   "outputs": [],
   "source": [
    "from rembg.bg import remove\n",
    "from PIL import Image\n",
    "\n",
    "input_path = 'IMG_4711.jpg'\n",
    "output_path = '984.png'\n",
    "\n",
    "input = Image.open(input_path)\n",
    "output = remove(input)\n",
    "output.save(output_path)"
   ]
  },
  {
   "cell_type": "code",
   "execution_count": 310,
   "id": "bc218f0c",
   "metadata": {},
   "outputs": [],
   "source": [
    "from rembg.bg import remove\n",
    "from PIL import Image\n",
    "\n",
    "input_path = 'IMG_4712.jpg'\n",
    "output_path = '985.png'\n",
    "\n",
    "input = Image.open(input_path)\n",
    "output = remove(input)\n",
    "output.save(output_path)"
   ]
  },
  {
   "cell_type": "code",
   "execution_count": 311,
   "id": "38fdffbd",
   "metadata": {},
   "outputs": [],
   "source": [
    "from rembg.bg import remove\n",
    "from PIL import Image\n",
    "\n",
    "input_path = 'IMG_4713.jpg'\n",
    "output_path = '986.png'\n",
    "\n",
    "input = Image.open(input_path)\n",
    "output = remove(input)\n",
    "output.save(output_path)"
   ]
  },
  {
   "cell_type": "code",
   "execution_count": 312,
   "id": "47ffde50",
   "metadata": {},
   "outputs": [],
   "source": [
    "from rembg.bg import remove\n",
    "from PIL import Image\n",
    "\n",
    "input_path = 'IMG_4714.jpg'\n",
    "output_path = '987.png'\n",
    "\n",
    "input = Image.open(input_path)\n",
    "output = remove(input)\n",
    "output.save(output_path)"
   ]
  },
  {
   "cell_type": "code",
   "execution_count": 313,
   "id": "390fba6e",
   "metadata": {},
   "outputs": [],
   "source": [
    "from rembg.bg import remove\n",
    "from PIL import Image\n",
    "\n",
    "input_path = 'IMG_4715.jpg'\n",
    "output_path = '988.png'\n",
    "\n",
    "input = Image.open(input_path)\n",
    "output = remove(input)\n",
    "output.save(output_path)"
   ]
  },
  {
   "cell_type": "code",
   "execution_count": 314,
   "id": "1735456f",
   "metadata": {},
   "outputs": [],
   "source": [
    "from rembg.bg import remove\n",
    "from PIL import Image\n",
    "\n",
    "input_path = 'IMG_4716.jpg'\n",
    "output_path = '989.png'\n",
    "\n",
    "input = Image.open(input_path)\n",
    "output = remove(input)\n",
    "output.save(output_path)"
   ]
  },
  {
   "cell_type": "code",
   "execution_count": 315,
   "id": "e85eb52d",
   "metadata": {},
   "outputs": [],
   "source": [
    "from rembg.bg import remove\n",
    "from PIL import Image\n",
    "\n",
    "input_path = 'IMG_4717.jpg'\n",
    "output_path = '990.png'\n",
    "\n",
    "input = Image.open(input_path)\n",
    "output = remove(input)\n",
    "output.save(output_path)"
   ]
  },
  {
   "cell_type": "code",
   "execution_count": 316,
   "id": "9984481c",
   "metadata": {},
   "outputs": [],
   "source": [
    "from rembg.bg import remove\n",
    "from PIL import Image\n",
    "\n",
    "input_path = 'IMG_4718.jpg'\n",
    "output_path = '991.png'\n",
    "\n",
    "input = Image.open(input_path)\n",
    "output = remove(input)\n",
    "output.save(output_path)"
   ]
  },
  {
   "cell_type": "code",
   "execution_count": 317,
   "id": "a4a9747f",
   "metadata": {},
   "outputs": [],
   "source": [
    "from rembg.bg import remove\n",
    "from PIL import Image\n",
    "\n",
    "input_path = 'IMG_4719.jpg'\n",
    "output_path = '992.png'\n",
    "\n",
    "input = Image.open(input_path)\n",
    "output = remove(input)\n",
    "output.save(output_path)"
   ]
  },
  {
   "cell_type": "code",
   "execution_count": 318,
   "id": "37ea6ae2",
   "metadata": {},
   "outputs": [],
   "source": [
    "from rembg.bg import remove\n",
    "from PIL import Image\n",
    "\n",
    "input_path = 'IMG_4720.jpg'\n",
    "output_path = '993.png'\n",
    "\n",
    "input = Image.open(input_path)\n",
    "output = remove(input)\n",
    "output.save(output_path)"
   ]
  },
  {
   "cell_type": "code",
   "execution_count": 319,
   "id": "8444612c",
   "metadata": {},
   "outputs": [],
   "source": [
    "from rembg.bg import remove\n",
    "from PIL import Image\n",
    "\n",
    "input_path = 'IMG_4721.jpg'\n",
    "output_path = '994.png'\n",
    "\n",
    "input = Image.open(input_path)\n",
    "output = remove(input)\n",
    "output.save(output_path)"
   ]
  },
  {
   "cell_type": "code",
   "execution_count": 320,
   "id": "f71f77ad",
   "metadata": {},
   "outputs": [],
   "source": [
    "from rembg.bg import remove\n",
    "from PIL import Image\n",
    "\n",
    "input_path = 'IMG_4722.jpg'\n",
    "output_path = '995.png'\n",
    "\n",
    "input = Image.open(input_path)\n",
    "output = remove(input)\n",
    "output.save(output_path)"
   ]
  },
  {
   "cell_type": "code",
   "execution_count": 321,
   "id": "54d86ee2",
   "metadata": {},
   "outputs": [],
   "source": [
    "from rembg.bg import remove\n",
    "from PIL import Image\n",
    "\n",
    "input_path = 'IMG_4723.jpg'\n",
    "output_path = '996.png'\n",
    "\n",
    "input = Image.open(input_path)\n",
    "output = remove(input)\n",
    "output.save(output_path)"
   ]
  },
  {
   "cell_type": "code",
   "execution_count": 322,
   "id": "f8040c2b",
   "metadata": {},
   "outputs": [],
   "source": [
    "from rembg.bg import remove\n",
    "from PIL import Image\n",
    "\n",
    "input_path = 'IMG_4724.jpg'\n",
    "output_path = '997.png'\n",
    "\n",
    "input = Image.open(input_path)\n",
    "output = remove(input)\n",
    "output.save(output_path)"
   ]
  },
  {
   "cell_type": "code",
   "execution_count": 323,
   "id": "b49f5b03",
   "metadata": {},
   "outputs": [],
   "source": [
    "from rembg.bg import remove\n",
    "from PIL import Image\n",
    "\n",
    "input_path = 'IMG_4725.jpg'\n",
    "output_path = '998.png'\n",
    "\n",
    "input = Image.open(input_path)\n",
    "output = remove(input)\n",
    "output.save(output_path)"
   ]
  },
  {
   "cell_type": "code",
   "execution_count": 324,
   "id": "dc0447f8",
   "metadata": {},
   "outputs": [],
   "source": [
    "from rembg.bg import remove\n",
    "from PIL import Image\n",
    "\n",
    "input_path = 'IMG_4726.jpg'\n",
    "output_path = '999.png'\n",
    "\n",
    "input = Image.open(input_path)\n",
    "output = remove(input)\n",
    "output.save(output_path)"
   ]
  },
  {
   "cell_type": "code",
   "execution_count": 325,
   "id": "a6f213d7",
   "metadata": {},
   "outputs": [],
   "source": [
    "from rembg.bg import remove\n",
    "from PIL import Image\n",
    "\n",
    "input_path = 'IMG_4727.jpg'\n",
    "output_path = '1000.png'\n",
    "\n",
    "input = Image.open(input_path)\n",
    "output = remove(input)\n",
    "output.save(output_path)"
   ]
  },
  {
   "cell_type": "code",
   "execution_count": 326,
   "id": "da758d83",
   "metadata": {},
   "outputs": [],
   "source": [
    "from rembg.bg import remove\n",
    "from PIL import Image\n",
    "\n",
    "input_path = 'IMG_4728.jpg'\n",
    "output_path = '1001.png'\n",
    "\n",
    "input = Image.open(input_path)\n",
    "output = remove(input)\n",
    "output.save(output_path)"
   ]
  },
  {
   "cell_type": "code",
   "execution_count": 327,
   "id": "6ba0681f",
   "metadata": {},
   "outputs": [],
   "source": [
    "from rembg.bg import remove\n",
    "from PIL import Image\n",
    "\n",
    "input_path = 'IMG_4729.jpg'\n",
    "output_path = '1002.png'\n",
    "\n",
    "input = Image.open(input_path)\n",
    "output = remove(input)\n",
    "output.save(output_path)"
   ]
  },
  {
   "cell_type": "code",
   "execution_count": 328,
   "id": "b2e460f2",
   "metadata": {},
   "outputs": [],
   "source": [
    "from rembg.bg import remove\n",
    "from PIL import Image\n",
    "\n",
    "input_path = 'IMG_4730.jpg'\n",
    "output_path = '1003.png'\n",
    "\n",
    "input = Image.open(input_path)\n",
    "output = remove(input)\n",
    "output.save(output_path)"
   ]
  },
  {
   "cell_type": "code",
   "execution_count": 329,
   "id": "a362cfe0",
   "metadata": {},
   "outputs": [],
   "source": [
    "from rembg.bg import remove\n",
    "from PIL import Image\n",
    "\n",
    "input_path = 'IMG_4731.jpg'\n",
    "output_path = '1004.png'\n",
    "\n",
    "input = Image.open(input_path)\n",
    "output = remove(input)\n",
    "output.save(output_path)"
   ]
  },
  {
   "cell_type": "code",
   "execution_count": 330,
   "id": "ecc36ef3",
   "metadata": {},
   "outputs": [],
   "source": [
    "from rembg.bg import remove\n",
    "from PIL import Image\n",
    "\n",
    "input_path = 'IMG_4732.jpg'\n",
    "output_path = '1005.png'\n",
    "\n",
    "input = Image.open(input_path)\n",
    "output = remove(input)\n",
    "output.save(output_path)"
   ]
  },
  {
   "cell_type": "code",
   "execution_count": 331,
   "id": "ebd546a8",
   "metadata": {},
   "outputs": [],
   "source": [
    "from rembg.bg import remove\n",
    "from PIL import Image\n",
    "\n",
    "input_path = 'IMG_4733.jpg'\n",
    "output_path = '1006.png'\n",
    "\n",
    "input = Image.open(input_path)\n",
    "output = remove(input)\n",
    "output.save(output_path)"
   ]
  },
  {
   "cell_type": "code",
   "execution_count": 332,
   "id": "db15dc6a",
   "metadata": {},
   "outputs": [],
   "source": [
    "from rembg.bg import remove\n",
    "from PIL import Image\n",
    "\n",
    "input_path = 'IMG_4734.jpg'\n",
    "output_path = '1007.png'\n",
    "\n",
    "input = Image.open(input_path)\n",
    "output = remove(input)\n",
    "output.save(output_path)"
   ]
  },
  {
   "cell_type": "code",
   "execution_count": 333,
   "id": "3fbe567a",
   "metadata": {},
   "outputs": [],
   "source": [
    "from rembg.bg import remove\n",
    "from PIL import Image\n",
    "\n",
    "input_path = 'IMG_4735.jpg'\n",
    "output_path = '1008.png'\n",
    "\n",
    "input = Image.open(input_path)\n",
    "output = remove(input)\n",
    "output.save(output_path)"
   ]
  },
  {
   "cell_type": "code",
   "execution_count": 334,
   "id": "0cc761eb",
   "metadata": {},
   "outputs": [],
   "source": [
    "from rembg.bg import remove\n",
    "from PIL import Image\n",
    "\n",
    "input_path = 'IMG_4736.jpg'\n",
    "output_path = '1009.png'\n",
    "\n",
    "input = Image.open(input_path)\n",
    "output = remove(input)\n",
    "output.save(output_path)"
   ]
  },
  {
   "cell_type": "code",
   "execution_count": 335,
   "id": "e04da5b0",
   "metadata": {},
   "outputs": [],
   "source": [
    "from rembg.bg import remove\n",
    "from PIL import Image\n",
    "\n",
    "input_path = 'IMG_4737.jpg'\n",
    "output_path = '1010.png'\n",
    "\n",
    "input = Image.open(input_path)\n",
    "output = remove(input)\n",
    "output.save(output_path)"
   ]
  },
  {
   "cell_type": "code",
   "execution_count": 336,
   "id": "a0a18dc4",
   "metadata": {},
   "outputs": [],
   "source": [
    "from rembg.bg import remove\n",
    "from PIL import Image\n",
    "\n",
    "input_path = 'IMG_4738.jpg'\n",
    "output_path = '1011.png'\n",
    "\n",
    "input = Image.open(input_path)\n",
    "output = remove(input)\n",
    "output.save(output_path)"
   ]
  },
  {
   "cell_type": "code",
   "execution_count": 337,
   "id": "6b969d04",
   "metadata": {},
   "outputs": [],
   "source": [
    "from rembg.bg import remove\n",
    "from PIL import Image\n",
    "\n",
    "input_path = 'IMG_4739.jpg'\n",
    "output_path = '1012.png'\n",
    "\n",
    "input = Image.open(input_path)\n",
    "output = remove(input)\n",
    "output.save(output_path)"
   ]
  },
  {
   "cell_type": "code",
   "execution_count": 338,
   "id": "2675bc07",
   "metadata": {},
   "outputs": [],
   "source": [
    "from rembg.bg import remove\n",
    "from PIL import Image\n",
    "\n",
    "input_path = 'IMG_4740.jpg'\n",
    "output_path = '1013.png'\n",
    "\n",
    "input = Image.open(input_path)\n",
    "output = remove(input)\n",
    "output.save(output_path)"
   ]
  },
  {
   "cell_type": "code",
   "execution_count": 339,
   "id": "c57338f9",
   "metadata": {},
   "outputs": [],
   "source": [
    "from rembg.bg import remove\n",
    "from PIL import Image\n",
    "\n",
    "input_path = 'IMG_4741.jpg'\n",
    "output_path = '1014.png'\n",
    "\n",
    "input = Image.open(input_path)\n",
    "output = remove(input)\n",
    "output.save(output_path)"
   ]
  },
  {
   "cell_type": "code",
   "execution_count": 340,
   "id": "ce6f0eb7",
   "metadata": {},
   "outputs": [],
   "source": [
    "from rembg.bg import remove\n",
    "from PIL import Image\n",
    "\n",
    "input_path = 'IMG_4742.jpg'\n",
    "output_path = '1015.png'\n",
    "\n",
    "input = Image.open(input_path)\n",
    "output = remove(input)\n",
    "output.save(output_path)"
   ]
  },
  {
   "cell_type": "code",
   "execution_count": 341,
   "id": "eb5baac5",
   "metadata": {},
   "outputs": [],
   "source": [
    "from rembg.bg import remove\n",
    "from PIL import Image\n",
    "\n",
    "input_path = 'IMG_4743.jpg'\n",
    "output_path = '1016.png'\n",
    "\n",
    "input = Image.open(input_path)\n",
    "output = remove(input)\n",
    "output.save(output_path)"
   ]
  },
  {
   "cell_type": "code",
   "execution_count": 342,
   "id": "9e998e0d",
   "metadata": {},
   "outputs": [],
   "source": [
    "from rembg.bg import remove\n",
    "from PIL import Image\n",
    "\n",
    "input_path = 'IMG_4744.jpg'\n",
    "output_path = '1017.png'\n",
    "\n",
    "input = Image.open(input_path)\n",
    "output = remove(input)\n",
    "output.save(output_path)"
   ]
  },
  {
   "cell_type": "code",
   "execution_count": 343,
   "id": "5f2fa0fe",
   "metadata": {},
   "outputs": [],
   "source": [
    "from rembg.bg import remove\n",
    "from PIL import Image\n",
    "\n",
    "input_path = 'IMG_4745.jpg'\n",
    "output_path = '1018.png'\n",
    "\n",
    "input = Image.open(input_path)\n",
    "output = remove(input)\n",
    "output.save(output_path)"
   ]
  },
  {
   "cell_type": "code",
   "execution_count": 344,
   "id": "90e2fdfe",
   "metadata": {},
   "outputs": [],
   "source": [
    "from rembg.bg import remove\n",
    "from PIL import Image\n",
    "\n",
    "input_path = 'IMG_4746.jpg'\n",
    "output_path = '1019.png'\n",
    "\n",
    "input = Image.open(input_path)\n",
    "output = remove(input)\n",
    "output.save(output_path)"
   ]
  },
  {
   "cell_type": "code",
   "execution_count": 345,
   "id": "c2e9ab30",
   "metadata": {},
   "outputs": [],
   "source": [
    "from rembg.bg import remove\n",
    "from PIL import Image\n",
    "\n",
    "input_path = 'IMG_4747.jpg'\n",
    "output_path = '1020.png'\n",
    "\n",
    "input = Image.open(input_path)\n",
    "output = remove(input)\n",
    "output.save(output_path)"
   ]
  },
  {
   "cell_type": "code",
   "execution_count": 346,
   "id": "f63fadd3",
   "metadata": {},
   "outputs": [],
   "source": [
    "from rembg.bg import remove\n",
    "from PIL import Image\n",
    "\n",
    "input_path = 'IMG_4748.jpg'\n",
    "output_path = '1021.png'\n",
    "\n",
    "input = Image.open(input_path)\n",
    "output = remove(input)\n",
    "output.save(output_path)"
   ]
  },
  {
   "cell_type": "code",
   "execution_count": 347,
   "id": "12dfca02",
   "metadata": {},
   "outputs": [],
   "source": [
    "from rembg.bg import remove\n",
    "from PIL import Image\n",
    "\n",
    "input_path = 'IMG_4749.jpg'\n",
    "output_path = '1022.png'\n",
    "\n",
    "input = Image.open(input_path)\n",
    "output = remove(input)\n",
    "output.save(output_path)"
   ]
  },
  {
   "cell_type": "code",
   "execution_count": 348,
   "id": "5c3e1653",
   "metadata": {},
   "outputs": [],
   "source": [
    "from rembg.bg import remove\n",
    "from PIL import Image\n",
    "\n",
    "input_path = 'IMG_4750.jpg'\n",
    "output_path = '1023.png'\n",
    "\n",
    "input = Image.open(input_path)\n",
    "output = remove(input)\n",
    "output.save(output_path)"
   ]
  },
  {
   "cell_type": "code",
   "execution_count": 349,
   "id": "efb3fd7c",
   "metadata": {},
   "outputs": [],
   "source": [
    "from rembg.bg import remove\n",
    "from PIL import Image\n",
    "\n",
    "input_path = 'IMG_4751.jpg'\n",
    "output_path = '1024.png'\n",
    "\n",
    "input = Image.open(input_path)\n",
    "output = remove(input)\n",
    "output.save(output_path)"
   ]
  },
  {
   "cell_type": "code",
   "execution_count": 350,
   "id": "90fb1b5a",
   "metadata": {},
   "outputs": [],
   "source": [
    "from rembg.bg import remove\n",
    "from PIL import Image\n",
    "\n",
    "input_path = 'IMG_4752.jpg'\n",
    "output_path = '1025.png'\n",
    "\n",
    "input = Image.open(input_path)\n",
    "output = remove(input)\n",
    "output.save(output_path)"
   ]
  },
  {
   "cell_type": "code",
   "execution_count": 351,
   "id": "1e957207",
   "metadata": {},
   "outputs": [],
   "source": [
    "from rembg.bg import remove\n",
    "from PIL import Image\n",
    "\n",
    "input_path = 'IMG_4753.jpg'\n",
    "output_path = '1026.png'\n",
    "\n",
    "input = Image.open(input_path)\n",
    "output = remove(input)\n",
    "output.save(output_path)"
   ]
  },
  {
   "cell_type": "code",
   "execution_count": 352,
   "id": "5e815729",
   "metadata": {},
   "outputs": [],
   "source": [
    "from rembg.bg import remove\n",
    "from PIL import Image\n",
    "\n",
    "input_path = 'IMG_4754.jpg'\n",
    "output_path = '1027.png'\n",
    "\n",
    "input = Image.open(input_path)\n",
    "output = remove(input)\n",
    "output.save(output_path)"
   ]
  },
  {
   "cell_type": "code",
   "execution_count": 353,
   "id": "452853ee",
   "metadata": {},
   "outputs": [],
   "source": [
    "from rembg.bg import remove\n",
    "from PIL import Image\n",
    "\n",
    "input_path = 'IMG_4755.jpg'\n",
    "output_path = '1028.png'\n",
    "\n",
    "input = Image.open(input_path)\n",
    "output = remove(input)\n",
    "output.save(output_path)"
   ]
  },
  {
   "cell_type": "code",
   "execution_count": 354,
   "id": "0ecd443f",
   "metadata": {},
   "outputs": [],
   "source": [
    "from rembg.bg import remove\n",
    "from PIL import Image\n",
    "\n",
    "input_path = 'IMG_4756.jpg'\n",
    "output_path = '1029.png'\n",
    "\n",
    "input = Image.open(input_path)\n",
    "output = remove(input)\n",
    "output.save(output_path)"
   ]
  },
  {
   "cell_type": "code",
   "execution_count": 355,
   "id": "45ae9108",
   "metadata": {},
   "outputs": [],
   "source": [
    "from rembg.bg import remove\n",
    "from PIL import Image\n",
    "\n",
    "input_path = 'IMG_4757.jpg'\n",
    "output_path = '1030.png'\n",
    "\n",
    "input = Image.open(input_path)\n",
    "output = remove(input)\n",
    "output.save(output_path)"
   ]
  },
  {
   "cell_type": "code",
   "execution_count": 356,
   "id": "80ef04d0",
   "metadata": {},
   "outputs": [],
   "source": [
    "from rembg.bg import remove\n",
    "from PIL import Image\n",
    "\n",
    "input_path = 'IMG_4758.jpg'\n",
    "output_path = '1031.png'\n",
    "\n",
    "input = Image.open(input_path)\n",
    "output = remove(input)\n",
    "output.save(output_path)"
   ]
  },
  {
   "cell_type": "code",
   "execution_count": 357,
   "id": "90c8c687",
   "metadata": {},
   "outputs": [],
   "source": [
    "from rembg.bg import remove\n",
    "from PIL import Image\n",
    "\n",
    "input_path = 'IMG_4759.jpg'\n",
    "output_path = '1032.png'\n",
    "\n",
    "input = Image.open(input_path)\n",
    "output = remove(input)\n",
    "output.save(output_path)"
   ]
  },
  {
   "cell_type": "code",
   "execution_count": 358,
   "id": "0f244e0d",
   "metadata": {},
   "outputs": [],
   "source": [
    "from rembg.bg import remove\n",
    "from PIL import Image\n",
    "\n",
    "input_path = 'IMG_4760.jpg'\n",
    "output_path = '1033.png'\n",
    "\n",
    "input = Image.open(input_path)\n",
    "output = remove(input)\n",
    "output.save(output_path)"
   ]
  },
  {
   "cell_type": "code",
   "execution_count": 359,
   "id": "d5abec05",
   "metadata": {},
   "outputs": [],
   "source": [
    "from rembg.bg import remove\n",
    "from PIL import Image\n",
    "\n",
    "input_path = 'IMG_4761.jpg'\n",
    "output_path = '1034.png'\n",
    "\n",
    "input = Image.open(input_path)\n",
    "output = remove(input)\n",
    "output.save(output_path)"
   ]
  },
  {
   "cell_type": "code",
   "execution_count": 360,
   "id": "cfbb5373",
   "metadata": {},
   "outputs": [],
   "source": [
    "from rembg.bg import remove\n",
    "from PIL import Image\n",
    "\n",
    "input_path = 'IMG_4762.jpg'\n",
    "output_path = '1035.png'\n",
    "\n",
    "input = Image.open(input_path)\n",
    "output = remove(input)\n",
    "output.save(output_path)"
   ]
  },
  {
   "cell_type": "code",
   "execution_count": 361,
   "id": "af15092a",
   "metadata": {},
   "outputs": [],
   "source": [
    "from rembg.bg import remove\n",
    "from PIL import Image\n",
    "\n",
    "input_path = 'IMG_4763.jpg'\n",
    "output_path = '1036.png'\n",
    "\n",
    "input = Image.open(input_path)\n",
    "output = remove(input)\n",
    "output.save(output_path)"
   ]
  },
  {
   "cell_type": "code",
   "execution_count": 362,
   "id": "7057fa39",
   "metadata": {},
   "outputs": [],
   "source": [
    "from rembg.bg import remove\n",
    "from PIL import Image\n",
    "\n",
    "input_path = 'IMG_4764.jpg'\n",
    "output_path = '1037.png'\n",
    "\n",
    "input = Image.open(input_path)\n",
    "output = remove(input)\n",
    "output.save(output_path)"
   ]
  },
  {
   "cell_type": "code",
   "execution_count": 363,
   "id": "99ce2b79",
   "metadata": {},
   "outputs": [],
   "source": [
    "from rembg.bg import remove\n",
    "from PIL import Image\n",
    "\n",
    "input_path = 'IMG_4765.jpg'\n",
    "output_path = '1038.png'\n",
    "\n",
    "input = Image.open(input_path)\n",
    "output = remove(input)\n",
    "output.save(output_path)"
   ]
  },
  {
   "cell_type": "code",
   "execution_count": 365,
   "id": "09d57b36",
   "metadata": {},
   "outputs": [],
   "source": [
    "from rembg.bg import remove\n",
    "from PIL import Image\n",
    "\n",
    "input_path = 'IMG_4766.jpg'\n",
    "output_path = '1039.png'\n",
    "\n",
    "input = Image.open(input_path)\n",
    "output = remove(input)\n",
    "output.save(output_path)"
   ]
  },
  {
   "cell_type": "code",
   "execution_count": 366,
   "id": "e8519f22",
   "metadata": {},
   "outputs": [],
   "source": [
    "from rembg.bg import remove\n",
    "from PIL import Image\n",
    "\n",
    "input_path = 'IMG_4767.jpg'\n",
    "output_path = '1040.png'\n",
    "\n",
    "input = Image.open(input_path)\n",
    "output = remove(input)\n",
    "output.save(output_path)"
   ]
  },
  {
   "cell_type": "code",
   "execution_count": 367,
   "id": "e72d0cdc",
   "metadata": {},
   "outputs": [],
   "source": [
    "from rembg.bg import remove\n",
    "from PIL import Image\n",
    "\n",
    "input_path = 'IMG_4768.jpg'\n",
    "output_path = '1041.png'\n",
    "\n",
    "input = Image.open(input_path)\n",
    "output = remove(input)\n",
    "output.save(output_path)"
   ]
  },
  {
   "cell_type": "code",
   "execution_count": 368,
   "id": "67767fb3",
   "metadata": {},
   "outputs": [],
   "source": [
    "from rembg.bg import remove\n",
    "from PIL import Image\n",
    "\n",
    "input_path = 'IMG_4769.jpg'\n",
    "output_path = '1042.png'\n",
    "\n",
    "input = Image.open(input_path)\n",
    "output = remove(input)\n",
    "output.save(output_path)"
   ]
  },
  {
   "cell_type": "code",
   "execution_count": 369,
   "id": "f021645a",
   "metadata": {},
   "outputs": [],
   "source": [
    "from rembg.bg import remove\n",
    "from PIL import Image\n",
    "\n",
    "input_path = 'IMG_4770.jpg'\n",
    "output_path = '1043.png'\n",
    "\n",
    "input = Image.open(input_path)\n",
    "output = remove(input)\n",
    "output.save(output_path)"
   ]
  },
  {
   "cell_type": "code",
   "execution_count": 370,
   "id": "c39760f1",
   "metadata": {},
   "outputs": [],
   "source": [
    "from rembg.bg import remove\n",
    "from PIL import Image\n",
    "\n",
    "input_path = 'IMG_4771.jpg'\n",
    "output_path = '1044.png'\n",
    "\n",
    "input = Image.open(input_path)\n",
    "output = remove(input)\n",
    "output.save(output_path)"
   ]
  },
  {
   "cell_type": "code",
   "execution_count": 371,
   "id": "5fc5a1d1",
   "metadata": {},
   "outputs": [],
   "source": [
    "from rembg.bg import remove\n",
    "from PIL import Image\n",
    "\n",
    "input_path = 'IMG_4772.jpg'\n",
    "output_path = '1045.png'\n",
    "\n",
    "input = Image.open(input_path)\n",
    "output = remove(input)\n",
    "output.save(output_path)"
   ]
  },
  {
   "cell_type": "code",
   "execution_count": 372,
   "id": "69fb8cc1",
   "metadata": {},
   "outputs": [],
   "source": [
    "from rembg.bg import remove\n",
    "from PIL import Image\n",
    "\n",
    "input_path = 'IMG_4773.jpg'\n",
    "output_path = '1046.png'\n",
    "\n",
    "input = Image.open(input_path)\n",
    "output = remove(input)\n",
    "output.save(output_path)"
   ]
  },
  {
   "cell_type": "code",
   "execution_count": 373,
   "id": "5acce285",
   "metadata": {},
   "outputs": [],
   "source": [
    "from rembg.bg import remove\n",
    "from PIL import Image\n",
    "\n",
    "input_path = 'IMG_4774.jpg'\n",
    "output_path = '1047.png'\n",
    "\n",
    "input = Image.open(input_path)\n",
    "output = remove(input)\n",
    "output.save(output_path)"
   ]
  },
  {
   "cell_type": "code",
   "execution_count": 374,
   "id": "ea2a9753",
   "metadata": {},
   "outputs": [],
   "source": [
    "from rembg.bg import remove\n",
    "from PIL import Image\n",
    "\n",
    "input_path = 'IMG_4775.jpg'\n",
    "output_path = '1048.png'\n",
    "\n",
    "input = Image.open(input_path)\n",
    "output = remove(input)\n",
    "output.save(output_path)"
   ]
  },
  {
   "cell_type": "code",
   "execution_count": 375,
   "id": "fc42ddca",
   "metadata": {},
   "outputs": [],
   "source": [
    "from rembg.bg import remove\n",
    "from PIL import Image\n",
    "\n",
    "input_path = 'IMG_4776.jpg'\n",
    "output_path = '1049.png'\n",
    "\n",
    "input = Image.open(input_path)\n",
    "output = remove(input)\n",
    "output.save(output_path)"
   ]
  },
  {
   "cell_type": "code",
   "execution_count": 376,
   "id": "8ec4a074",
   "metadata": {},
   "outputs": [],
   "source": [
    "from rembg.bg import remove\n",
    "from PIL import Image\n",
    "\n",
    "input_path = 'IMG_4777.jpg'\n",
    "output_path = '1050.png'\n",
    "\n",
    "input = Image.open(input_path)\n",
    "output = remove(input)\n",
    "output.save(output_path)"
   ]
  },
  {
   "cell_type": "code",
   "execution_count": 377,
   "id": "c0f70249",
   "metadata": {},
   "outputs": [],
   "source": [
    "from rembg.bg import remove\n",
    "from PIL import Image\n",
    "\n",
    "input_path = 'IMG_4778.jpg'\n",
    "output_path = '1051.png'\n",
    "\n",
    "input = Image.open(input_path)\n",
    "output = remove(input)\n",
    "output.save(output_path)"
   ]
  },
  {
   "cell_type": "code",
   "execution_count": 378,
   "id": "3ada3b75",
   "metadata": {},
   "outputs": [],
   "source": [
    "from rembg.bg import remove\n",
    "from PIL import Image\n",
    "\n",
    "input_path = 'IMG_4779.jpg'\n",
    "output_path = '1052.png'\n",
    "\n",
    "input = Image.open(input_path)\n",
    "output = remove(input)\n",
    "output.save(output_path)"
   ]
  },
  {
   "cell_type": "code",
   "execution_count": 379,
   "id": "b314515f",
   "metadata": {},
   "outputs": [],
   "source": [
    "from rembg.bg import remove\n",
    "from PIL import Image\n",
    "\n",
    "input_path = 'IMG_4780.jpg'\n",
    "output_path = '1053.png'\n",
    "\n",
    "input = Image.open(input_path)\n",
    "output = remove(input)\n",
    "output.save(output_path)"
   ]
  },
  {
   "cell_type": "code",
   "execution_count": 380,
   "id": "7d731cde",
   "metadata": {},
   "outputs": [],
   "source": [
    "from rembg.bg import remove\n",
    "from PIL import Image\n",
    "\n",
    "input_path = 'IMG_4781.jpg'\n",
    "output_path = '1054.png'\n",
    "\n",
    "input = Image.open(input_path)\n",
    "output = remove(input)\n",
    "output.save(output_path)"
   ]
  },
  {
   "cell_type": "code",
   "execution_count": 381,
   "id": "9e2d6a38",
   "metadata": {},
   "outputs": [],
   "source": [
    "from rembg.bg import remove\n",
    "from PIL import Image\n",
    "\n",
    "input_path = 'IMG_4782.jpg'\n",
    "output_path = '1055.png'\n",
    "\n",
    "input = Image.open(input_path)\n",
    "output = remove(input)\n",
    "output.save(output_path)"
   ]
  },
  {
   "cell_type": "code",
   "execution_count": 382,
   "id": "915782a0",
   "metadata": {},
   "outputs": [],
   "source": [
    "from rembg.bg import remove\n",
    "from PIL import Image\n",
    "\n",
    "input_path = 'IMG_4783.jpg'\n",
    "output_path = '1056.png'\n",
    "\n",
    "input = Image.open(input_path)\n",
    "output = remove(input)\n",
    "output.save(output_path)"
   ]
  },
  {
   "cell_type": "code",
   "execution_count": 383,
   "id": "8e543b48",
   "metadata": {},
   "outputs": [],
   "source": [
    "from rembg.bg import remove\n",
    "from PIL import Image\n",
    "\n",
    "input_path = 'IMG_4784.jpg'\n",
    "output_path = '1057.png'\n",
    "\n",
    "input = Image.open(input_path)\n",
    "output = remove(input)\n",
    "output.save(output_path)"
   ]
  },
  {
   "cell_type": "code",
   "execution_count": 384,
   "id": "b6d14828",
   "metadata": {},
   "outputs": [],
   "source": [
    "from rembg.bg import remove\n",
    "from PIL import Image\n",
    "\n",
    "input_path = 'IMG_4785.jpg'\n",
    "output_path = '1058.png'\n",
    "\n",
    "input = Image.open(input_path)\n",
    "output = remove(input)\n",
    "output.save(output_path)"
   ]
  },
  {
   "cell_type": "code",
   "execution_count": 385,
   "id": "566879cd",
   "metadata": {},
   "outputs": [],
   "source": [
    "from rembg.bg import remove\n",
    "from PIL import Image\n",
    "\n",
    "input_path = 'IMG_4786.jpg'\n",
    "output_path = '1059.png'\n",
    "\n",
    "input = Image.open(input_path)\n",
    "output = remove(input)\n",
    "output.save(output_path)"
   ]
  },
  {
   "cell_type": "code",
   "execution_count": 386,
   "id": "f85a556d",
   "metadata": {},
   "outputs": [],
   "source": [
    "from rembg.bg import remove\n",
    "from PIL import Image\n",
    "\n",
    "input_path = 'IMG_4787.jpg'\n",
    "output_path = '1060.png'\n",
    "\n",
    "input = Image.open(input_path)\n",
    "output = remove(input)\n",
    "output.save(output_path)"
   ]
  },
  {
   "cell_type": "code",
   "execution_count": 387,
   "id": "2b2b6fde",
   "metadata": {},
   "outputs": [],
   "source": [
    "from rembg.bg import remove\n",
    "from PIL import Image\n",
    "\n",
    "input_path = 'IMG_4788.jpg'\n",
    "output_path = '1061.png'\n",
    "\n",
    "input = Image.open(input_path)\n",
    "output = remove(input)\n",
    "output.save(output_path)"
   ]
  },
  {
   "cell_type": "code",
   "execution_count": 388,
   "id": "53d4e19f",
   "metadata": {},
   "outputs": [],
   "source": [
    "from rembg.bg import remove\n",
    "from PIL import Image\n",
    "\n",
    "input_path = 'IMG_4789.jpg'\n",
    "output_path = '1062.png'\n",
    "\n",
    "input = Image.open(input_path)\n",
    "output = remove(input)\n",
    "output.save(output_path)"
   ]
  },
  {
   "cell_type": "code",
   "execution_count": 389,
   "id": "e56cbefb",
   "metadata": {},
   "outputs": [],
   "source": [
    "from rembg.bg import remove\n",
    "from PIL import Image\n",
    "\n",
    "input_path = 'IMG_4790.jpg'\n",
    "output_path = '1063.png'\n",
    "\n",
    "input = Image.open(input_path)\n",
    "output = remove(input)\n",
    "output.save(output_path)"
   ]
  },
  {
   "cell_type": "code",
   "execution_count": 390,
   "id": "770ed0aa",
   "metadata": {},
   "outputs": [],
   "source": [
    "from rembg.bg import remove\n",
    "from PIL import Image\n",
    "\n",
    "input_path = 'IMG_4791.jpg'\n",
    "output_path = '1064.png'\n",
    "\n",
    "input = Image.open(input_path)\n",
    "output = remove(input)\n",
    "output.save(output_path)"
   ]
  },
  {
   "cell_type": "code",
   "execution_count": 391,
   "id": "d99de2dc",
   "metadata": {},
   "outputs": [],
   "source": [
    "from rembg.bg import remove\n",
    "from PIL import Image\n",
    "\n",
    "input_path = 'IMG_4792.jpg'\n",
    "output_path = '1065.png'\n",
    "\n",
    "input = Image.open(input_path)\n",
    "output = remove(input)\n",
    "output.save(output_path)"
   ]
  },
  {
   "cell_type": "code",
   "execution_count": 392,
   "id": "76de7722",
   "metadata": {},
   "outputs": [],
   "source": [
    "from rembg.bg import remove\n",
    "from PIL import Image\n",
    "\n",
    "input_path = 'IMG_4793.jpg'\n",
    "output_path = '1066.png'\n",
    "\n",
    "input = Image.open(input_path)\n",
    "output = remove(input)\n",
    "output.save(output_path)"
   ]
  },
  {
   "cell_type": "code",
   "execution_count": 393,
   "id": "2cadca35",
   "metadata": {},
   "outputs": [],
   "source": [
    "from rembg.bg import remove\n",
    "from PIL import Image\n",
    "\n",
    "input_path = 'IMG_4794.jpg'\n",
    "output_path = '1067.png'\n",
    "\n",
    "input = Image.open(input_path)\n",
    "output = remove(input)\n",
    "output.save(output_path)"
   ]
  },
  {
   "cell_type": "code",
   "execution_count": 394,
   "id": "fa06cbe2",
   "metadata": {},
   "outputs": [],
   "source": [
    "from rembg.bg import remove\n",
    "from PIL import Image\n",
    "\n",
    "input_path = 'IMG_4795.jpg'\n",
    "output_path = '1068.png'\n",
    "\n",
    "input = Image.open(input_path)\n",
    "output = remove(input)\n",
    "output.save(output_path)"
   ]
  },
  {
   "cell_type": "code",
   "execution_count": 395,
   "id": "2d94001a",
   "metadata": {},
   "outputs": [],
   "source": [
    "from rembg.bg import remove\n",
    "from PIL import Image\n",
    "\n",
    "input_path = 'IMG_4796.jpg'\n",
    "output_path = '1069.png'\n",
    "\n",
    "input = Image.open(input_path)\n",
    "output = remove(input)\n",
    "output.save(output_path)"
   ]
  },
  {
   "cell_type": "code",
   "execution_count": 396,
   "id": "53ac373c",
   "metadata": {},
   "outputs": [],
   "source": [
    "from rembg.bg import remove\n",
    "from PIL import Image\n",
    "\n",
    "input_path = 'IMG_4797.jpg'\n",
    "output_path = '1070.png'\n",
    "\n",
    "input = Image.open(input_path)\n",
    "output = remove(input)\n",
    "output.save(output_path)"
   ]
  },
  {
   "cell_type": "code",
   "execution_count": 397,
   "id": "f36933b3",
   "metadata": {},
   "outputs": [],
   "source": [
    "from rembg.bg import remove\n",
    "from PIL import Image\n",
    "\n",
    "input_path = 'IMG_4798.jpg'\n",
    "output_path = '1071.png'\n",
    "\n",
    "input = Image.open(input_path)\n",
    "output = remove(input)\n",
    "output.save(output_path)"
   ]
  },
  {
   "cell_type": "code",
   "execution_count": 398,
   "id": "86774b55",
   "metadata": {},
   "outputs": [],
   "source": [
    "from rembg.bg import remove\n",
    "from PIL import Image\n",
    "\n",
    "input_path = 'IMG_4799.jpg'\n",
    "output_path = '1072.png'\n",
    "\n",
    "input = Image.open(input_path)\n",
    "output = remove(input)\n",
    "output.save(output_path)"
   ]
  },
  {
   "cell_type": "code",
   "execution_count": 399,
   "id": "789fed60",
   "metadata": {},
   "outputs": [],
   "source": [
    "from rembg.bg import remove\n",
    "from PIL import Image\n",
    "\n",
    "input_path = 'IMG_4800.jpg'\n",
    "output_path = '1073.png'\n",
    "\n",
    "input = Image.open(input_path)\n",
    "output = remove(input)\n",
    "output.save(output_path)"
   ]
  },
  {
   "cell_type": "code",
   "execution_count": 400,
   "id": "f333f61a",
   "metadata": {},
   "outputs": [],
   "source": [
    "from rembg.bg import remove\n",
    "from PIL import Image\n",
    "\n",
    "input_path = 'IMG_4801.jpg'\n",
    "output_path = '1074.png'\n",
    "\n",
    "input = Image.open(input_path)\n",
    "output = remove(input)\n",
    "output.save(output_path)"
   ]
  },
  {
   "cell_type": "code",
   "execution_count": 401,
   "id": "7d79acb5",
   "metadata": {},
   "outputs": [],
   "source": [
    "from rembg.bg import remove\n",
    "from PIL import Image\n",
    "\n",
    "input_path = 'IMG_4802.jpg'\n",
    "output_path = '1075.png'\n",
    "\n",
    "input = Image.open(input_path)\n",
    "output = remove(input)\n",
    "output.save(output_path)"
   ]
  },
  {
   "cell_type": "code",
   "execution_count": 402,
   "id": "01fba1a1",
   "metadata": {},
   "outputs": [],
   "source": [
    "from rembg.bg import remove\n",
    "from PIL import Image\n",
    "\n",
    "input_path = 'IMG_4803.jpg'\n",
    "output_path = '1076.png'\n",
    "\n",
    "input = Image.open(input_path)\n",
    "output = remove(input)\n",
    "output.save(output_path)"
   ]
  },
  {
   "cell_type": "code",
   "execution_count": 403,
   "id": "3f02daf6",
   "metadata": {},
   "outputs": [],
   "source": [
    "from rembg.bg import remove\n",
    "from PIL import Image\n",
    "\n",
    "input_path = 'IMG_4804.jpg'\n",
    "output_path = '1077.png'\n",
    "\n",
    "input = Image.open(input_path)\n",
    "output = remove(input)\n",
    "output.save(output_path)"
   ]
  },
  {
   "cell_type": "code",
   "execution_count": 404,
   "id": "b98f7a87",
   "metadata": {},
   "outputs": [],
   "source": [
    "from rembg.bg import remove\n",
    "from PIL import Image\n",
    "\n",
    "input_path = 'IMG_4805.jpg'\n",
    "output_path = '1078.png'\n",
    "\n",
    "input = Image.open(input_path)\n",
    "output = remove(input)\n",
    "output.save(output_path)"
   ]
  },
  {
   "cell_type": "code",
   "execution_count": 405,
   "id": "6a6a6b25",
   "metadata": {},
   "outputs": [],
   "source": [
    "from rembg.bg import remove\n",
    "from PIL import Image\n",
    "\n",
    "input_path = 'IMG_4806.jpg'\n",
    "output_path = '1079.png'\n",
    "\n",
    "input = Image.open(input_path)\n",
    "output = remove(input)\n",
    "output.save(output_path)"
   ]
  },
  {
   "cell_type": "code",
   "execution_count": 406,
   "id": "4edec28d",
   "metadata": {},
   "outputs": [],
   "source": [
    "from rembg.bg import remove\n",
    "from PIL import Image\n",
    "\n",
    "input_path = 'IMG_4807.jpg'\n",
    "output_path = '1080.png'\n",
    "\n",
    "input = Image.open(input_path)\n",
    "output = remove(input)\n",
    "output.save(output_path)"
   ]
  },
  {
   "cell_type": "code",
   "execution_count": 407,
   "id": "1ff7b1e7",
   "metadata": {},
   "outputs": [],
   "source": [
    "from rembg.bg import remove\n",
    "from PIL import Image\n",
    "\n",
    "input_path = 'IMG_4808.jpg'\n",
    "output_path = '1081.png'\n",
    "\n",
    "input = Image.open(input_path)\n",
    "output = remove(input)\n",
    "output.save(output_path)"
   ]
  },
  {
   "cell_type": "code",
   "execution_count": 408,
   "id": "c8d53001",
   "metadata": {},
   "outputs": [],
   "source": [
    "from rembg.bg import remove\n",
    "from PIL import Image\n",
    "\n",
    "input_path = 'IMG_4809.jpg'\n",
    "output_path = '1082.png'\n",
    "\n",
    "input = Image.open(input_path)\n",
    "output = remove(input)\n",
    "output.save(output_path)"
   ]
  },
  {
   "cell_type": "code",
   "execution_count": 409,
   "id": "5277fcd2",
   "metadata": {},
   "outputs": [],
   "source": [
    "from rembg.bg import remove\n",
    "from PIL import Image\n",
    "\n",
    "input_path = 'IMG_4810.jpg'\n",
    "output_path = '1083.png'\n",
    "\n",
    "input = Image.open(input_path)\n",
    "output = remove(input)\n",
    "output.save(output_path)"
   ]
  },
  {
   "cell_type": "code",
   "execution_count": 410,
   "id": "83d348fb",
   "metadata": {},
   "outputs": [],
   "source": [
    "from rembg.bg import remove\n",
    "from PIL import Image\n",
    "\n",
    "input_path = 'IMG_4811.jpg'\n",
    "output_path = '1084.png'\n",
    "\n",
    "input = Image.open(input_path)\n",
    "output = remove(input)\n",
    "output.save(output_path)"
   ]
  },
  {
   "cell_type": "code",
   "execution_count": 411,
   "id": "ff2ad4ba",
   "metadata": {},
   "outputs": [],
   "source": [
    "from rembg.bg import remove\n",
    "from PIL import Image\n",
    "\n",
    "input_path = 'IMG_4812.jpg'\n",
    "output_path = '1085.png'\n",
    "\n",
    "input = Image.open(input_path)\n",
    "output = remove(input)\n",
    "output.save(output_path)"
   ]
  },
  {
   "cell_type": "code",
   "execution_count": 412,
   "id": "f32b1fb7",
   "metadata": {},
   "outputs": [],
   "source": [
    "from rembg.bg import remove\n",
    "from PIL import Image\n",
    "\n",
    "input_path = 'IMG_4813.jpg'\n",
    "output_path = '1086.png'\n",
    "\n",
    "input = Image.open(input_path)\n",
    "output = remove(input)\n",
    "output.save(output_path)"
   ]
  },
  {
   "cell_type": "code",
   "execution_count": 413,
   "id": "5f220e6f",
   "metadata": {},
   "outputs": [],
   "source": [
    "from rembg.bg import remove\n",
    "from PIL import Image\n",
    "\n",
    "input_path = 'IMG_4814.jpg'\n",
    "output_path = '1087.png'\n",
    "\n",
    "input = Image.open(input_path)\n",
    "output = remove(input)\n",
    "output.save(output_path)"
   ]
  },
  {
   "cell_type": "code",
   "execution_count": 414,
   "id": "4b0b45e8",
   "metadata": {},
   "outputs": [],
   "source": [
    "from rembg.bg import remove\n",
    "from PIL import Image\n",
    "\n",
    "input_path = 'IMG_4815.jpg'\n",
    "output_path = '1088.png'\n",
    "\n",
    "input = Image.open(input_path)\n",
    "output = remove(input)\n",
    "output.save(output_path)"
   ]
  },
  {
   "cell_type": "code",
   "execution_count": 415,
   "id": "ce31b420",
   "metadata": {},
   "outputs": [],
   "source": [
    "from rembg.bg import remove\n",
    "from PIL import Image\n",
    "\n",
    "input_path = 'IMG_4816.jpg'\n",
    "output_path = '1089.png'\n",
    "\n",
    "input = Image.open(input_path)\n",
    "output = remove(input)\n",
    "output.save(output_path)"
   ]
  },
  {
   "cell_type": "code",
   "execution_count": 416,
   "id": "8c7c0588",
   "metadata": {},
   "outputs": [],
   "source": [
    "from rembg.bg import remove\n",
    "from PIL import Image\n",
    "\n",
    "input_path = 'IMG_4817.jpg'\n",
    "output_path = '1090.png'\n",
    "\n",
    "input = Image.open(input_path)\n",
    "output = remove(input)\n",
    "output.save(output_path)"
   ]
  },
  {
   "cell_type": "code",
   "execution_count": 417,
   "id": "e49c598a",
   "metadata": {},
   "outputs": [],
   "source": [
    "from rembg.bg import remove\n",
    "from PIL import Image\n",
    "\n",
    "input_path = 'IMG_4818.jpg'\n",
    "output_path = '1091.png'\n",
    "\n",
    "input = Image.open(input_path)\n",
    "output = remove(input)\n",
    "output.save(output_path)"
   ]
  },
  {
   "cell_type": "code",
   "execution_count": 418,
   "id": "f738afc9",
   "metadata": {},
   "outputs": [],
   "source": [
    "from rembg.bg import remove\n",
    "from PIL import Image\n",
    "\n",
    "input_path = 'IMG_4819.jpg'\n",
    "output_path = '1092.png'\n",
    "\n",
    "input = Image.open(input_path)\n",
    "output = remove(input)\n",
    "output.save(output_path)"
   ]
  },
  {
   "cell_type": "code",
   "execution_count": 419,
   "id": "c508cb08",
   "metadata": {},
   "outputs": [],
   "source": [
    "from rembg.bg import remove\n",
    "from PIL import Image\n",
    "\n",
    "input_path = 'IMG_4820.jpg'\n",
    "output_path = '1093.png'\n",
    "\n",
    "input = Image.open(input_path)\n",
    "output = remove(input)\n",
    "output.save(output_path)"
   ]
  },
  {
   "cell_type": "code",
   "execution_count": 420,
   "id": "927d822c",
   "metadata": {},
   "outputs": [],
   "source": [
    "from rembg.bg import remove\n",
    "from PIL import Image\n",
    "\n",
    "input_path = 'IMG_4821.jpg'\n",
    "output_path = '1094.png'\n",
    "\n",
    "input = Image.open(input_path)\n",
    "output = remove(input)\n",
    "output.save(output_path)"
   ]
  },
  {
   "cell_type": "code",
   "execution_count": 421,
   "id": "d3d8708f",
   "metadata": {},
   "outputs": [],
   "source": [
    "from rembg.bg import remove\n",
    "from PIL import Image\n",
    "\n",
    "input_path = 'IMG_4822.jpg'\n",
    "output_path = '1095.png'\n",
    "\n",
    "input = Image.open(input_path)\n",
    "output = remove(input)\n",
    "output.save(output_path)"
   ]
  },
  {
   "cell_type": "code",
   "execution_count": 422,
   "id": "10a35746",
   "metadata": {},
   "outputs": [],
   "source": [
    "from rembg.bg import remove\n",
    "from PIL import Image\n",
    "\n",
    "input_path = 'IMG_4823.jpg'\n",
    "output_path = '1096.png'\n",
    "\n",
    "input = Image.open(input_path)\n",
    "output = remove(input)\n",
    "output.save(output_path)"
   ]
  },
  {
   "cell_type": "code",
   "execution_count": 423,
   "id": "a99c0b27",
   "metadata": {},
   "outputs": [],
   "source": [
    "from rembg.bg import remove\n",
    "from PIL import Image\n",
    "\n",
    "input_path = 'IMG_4824.jpg'\n",
    "output_path = '1097.png'\n",
    "\n",
    "input = Image.open(input_path)\n",
    "output = remove(input)\n",
    "output.save(output_path)"
   ]
  },
  {
   "cell_type": "code",
   "execution_count": 424,
   "id": "a9ed4dd9",
   "metadata": {},
   "outputs": [],
   "source": [
    "from rembg.bg import remove\n",
    "from PIL import Image\n",
    "\n",
    "input_path = 'IMG_4825.jpg'\n",
    "output_path = '1098.png'\n",
    "\n",
    "input = Image.open(input_path)\n",
    "output = remove(input)\n",
    "output.save(output_path)"
   ]
  },
  {
   "cell_type": "code",
   "execution_count": 425,
   "id": "4311c204",
   "metadata": {},
   "outputs": [],
   "source": [
    "from rembg.bg import remove\n",
    "from PIL import Image\n",
    "\n",
    "input_path = 'IMG_4826.jpg'\n",
    "output_path = '1099.png'\n",
    "\n",
    "input = Image.open(input_path)\n",
    "output = remove(input)\n",
    "output.save(output_path)"
   ]
  },
  {
   "cell_type": "code",
   "execution_count": 426,
   "id": "332db75f",
   "metadata": {},
   "outputs": [],
   "source": [
    "from rembg.bg import remove\n",
    "from PIL import Image\n",
    "\n",
    "input_path = 'IMG_4827.jpg'\n",
    "output_path = '1100.png'\n",
    "\n",
    "input = Image.open(input_path)\n",
    "output = remove(input)\n",
    "output.save(output_path)"
   ]
  },
  {
   "cell_type": "code",
   "execution_count": 427,
   "id": "7629eff2",
   "metadata": {},
   "outputs": [],
   "source": [
    "from rembg.bg import remove\n",
    "from PIL import Image\n",
    "\n",
    "input_path = 'IMG_4828.jpg'\n",
    "output_path = '1101.png'\n",
    "\n",
    "input = Image.open(input_path)\n",
    "output = remove(input)\n",
    "output.save(output_path)"
   ]
  },
  {
   "cell_type": "code",
   "execution_count": 428,
   "id": "8cd7d296",
   "metadata": {},
   "outputs": [],
   "source": [
    "from rembg.bg import remove\n",
    "from PIL import Image\n",
    "\n",
    "input_path = 'IMG_4829.jpg'\n",
    "output_path = '1102.png'\n",
    "\n",
    "input = Image.open(input_path)\n",
    "output = remove(input)\n",
    "output.save(output_path)"
   ]
  },
  {
   "cell_type": "code",
   "execution_count": null,
   "id": "1874cb30",
   "metadata": {},
   "outputs": [],
   "source": []
  }
 ],
 "metadata": {
  "kernelspec": {
   "display_name": "Python 3 (ipykernel)",
   "language": "python",
   "name": "python3"
  },
  "language_info": {
   "codemirror_mode": {
    "name": "ipython",
    "version": 3
   },
   "file_extension": ".py",
   "mimetype": "text/x-python",
   "name": "python",
   "nbconvert_exporter": "python",
   "pygments_lexer": "ipython3",
   "version": "3.9.11"
  }
 },
 "nbformat": 4,
 "nbformat_minor": 5
}
